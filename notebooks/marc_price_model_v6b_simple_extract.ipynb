{
  "cells": [
    {
      "cell_type": "code",
      "execution_count": 311,
      "id": "5ca5b624",
      "metadata": {
        "ExecuteTime": {
          "end_time": "2024-02-25T21:40:01.753212Z",
          "start_time": "2024-02-25T21:40:01.744333Z"
        },
        "id": "5ca5b624"
      },
      "outputs": [],
      "source": [
        "import pandas as pd\n",
        "import numpy as np\n",
        "import seaborn as sns\n",
        "from sklearn.preprocessing import OneHotEncoder"
      ]
    },
    {
      "cell_type": "code",
      "execution_count": 312,
      "id": "b1d64bcc",
      "metadata": {
        "ExecuteTime": {
          "end_time": "2024-02-25T21:40:02.096186Z",
          "start_time": "2024-02-25T21:40:01.763944Z"
        },
        "colab": {
          "base_uri": "https://localhost:8080/"
        },
        "id": "b1d64bcc",
        "outputId": "654df08a-3768-43e7-a3de-11cb4d41d9e1"
      },
      "outputs": [
        {
          "output_type": "stream",
          "name": "stdout",
          "text": [
            "/content\n"
          ]
        }
      ],
      "source": [
        "!pwd"
      ]
    },
    {
      "cell_type": "markdown",
      "id": "badafdf7",
      "metadata": {
        "ExecuteTime": {
          "end_time": "2024-02-07T18:04:14.917256Z",
          "start_time": "2024-02-07T18:04:12.942409Z"
        },
        "id": "badafdf7"
      },
      "source": [
        "# Creating the data frame"
      ]
    },
    {
      "cell_type": "code",
      "execution_count": 313,
      "id": "6023bc33",
      "metadata": {
        "ExecuteTime": {
          "end_time": "2024-02-25T23:15:50.206006Z",
          "start_time": "2024-02-25T23:15:49.610897Z"
        },
        "id": "6023bc33",
        "colab": {
          "base_uri": "https://localhost:8080/"
        },
        "outputId": "58be1a89-d3bb-46ce-e13a-7f7be64708d3"
      },
      "outputs": [
        {
          "output_type": "execute_result",
          "data": {
            "text/plain": [
              "car_code             20702\n",
              "car_manufacturer       106\n",
              "car_model             6375\n",
              "car_model_year          57\n",
              "Year                    20\n",
              "Price_YoY           101100\n",
              "calendar_year           57\n",
              "dtype: int64"
            ]
          },
          "metadata": {},
          "execution_count": 313
        }
      ],
      "source": [
        "price_df = pd.read_csv('/car_prices_yoy.csv')\n",
        "price_df.nunique()"
      ]
    },
    {
      "cell_type": "code",
      "execution_count": 314,
      "id": "868ede31",
      "metadata": {
        "ExecuteTime": {
          "end_time": "2024-02-25T21:48:44.601231Z",
          "start_time": "2024-02-25T21:48:44.309631Z"
        },
        "id": "868ede31"
      },
      "outputs": [],
      "source": [
        "#cluster_df = pd.read_csv('/scaled_cleaned_cluster.csv')"
      ]
    },
    {
      "cell_type": "code",
      "execution_count": 315,
      "id": "efb8b0a7",
      "metadata": {
        "ExecuteTime": {
          "end_time": "2024-02-25T23:16:03.550710Z",
          "start_time": "2024-02-25T23:16:03.524052Z"
        },
        "id": "efb8b0a7"
      },
      "outputs": [],
      "source": [
        "#cluster_df = cluster_df[[\"car_code\", \"cluster\"]]\n",
        "#cluster_df.nunique()"
      ]
    },
    {
      "cell_type": "code",
      "execution_count": 315,
      "id": "9a18ec2d",
      "metadata": {
        "id": "9a18ec2d"
      },
      "outputs": [],
      "source": []
    },
    {
      "cell_type": "code",
      "execution_count": 316,
      "id": "b6b7c657",
      "metadata": {
        "ExecuteTime": {
          "end_time": "2024-02-25T21:48:47.640943Z",
          "start_time": "2024-02-25T21:48:46.877806Z"
        },
        "id": "b6b7c657"
      },
      "outputs": [],
      "source": [
        "features_df = pd.read_csv('/scaled_cleaned.csv')"
      ]
    },
    {
      "cell_type": "code",
      "execution_count": 317,
      "id": "a496e538",
      "metadata": {
        "ExecuteTime": {
          "end_time": "2024-02-25T21:49:08.080882Z",
          "start_time": "2024-02-25T21:49:07.934319Z"
        },
        "id": "a496e538"
      },
      "outputs": [],
      "source": [
        "#features_df = pd.merge(features_df, cluster_df, on=\"car_code\", how=\"inner\")\n",
        "#features_df.nunique()"
      ]
    },
    {
      "cell_type": "markdown",
      "id": "6f02b36b",
      "metadata": {
        "ExecuteTime": {
          "end_time": "2024-02-07T18:54:32.874463Z",
          "start_time": "2024-02-07T18:54:32.865626Z"
        },
        "id": "6f02b36b"
      },
      "source": [
        "## Merging features and prices"
      ]
    },
    {
      "cell_type": "code",
      "execution_count": 318,
      "id": "297cad63",
      "metadata": {
        "ExecuteTime": {
          "end_time": "2024-02-25T21:54:13.538210Z",
          "start_time": "2024-02-25T21:54:13.072453Z"
        },
        "id": "297cad63",
        "colab": {
          "base_uri": "https://localhost:8080/",
          "height": 721
        },
        "outputId": "bfafcdd9-2421-46a8-a697-c58becd009fe"
      },
      "outputs": [
        {
          "output_type": "execute_result",
          "data": {
            "text/plain": [
              "        car_code car_manufacturer                        car_model  \\\n",
              "0              1      Lamborghini               Murcielago 6.2 V12   \n",
              "1              1      Lamborghini               Murcielago 6.2 V12   \n",
              "2              2             Fiat               Uno Mille Fire 1.0   \n",
              "3              2             Fiat               Uno Mille Fire 1.0   \n",
              "4              2             Fiat               Uno Mille Fire 1.0   \n",
              "...          ...              ...                              ...   \n",
              "108592     23884          Hyundai        HB20 Comfort 1.0 Turbo AT   \n",
              "108593     23885          Hyundai       HB20 Platinum 1.0 Turbo AT   \n",
              "108594     23893          Hyundai  HB20 Platinum Plus 1.0 Turbo AT   \n",
              "108595     23905              NaN                              NaN   \n",
              "108596     23906              NaN                              NaN   \n",
              "\n",
              "        car_model_year  Year_x  Price_YoY  calendar_year  \\\n",
              "0               2002.0    19.0   0.817728         2021.0   \n",
              "1               2002.0    20.0   1.016211         2022.0   \n",
              "2               2002.0    10.0   0.904178         2012.0   \n",
              "3               2002.0    11.0   0.852240         2013.0   \n",
              "4               2002.0    12.0   0.907692         2014.0   \n",
              "...                ...     ...        ...            ...   \n",
              "108592          2024.0     1.0        NaN         2025.0   \n",
              "108593          2024.0     1.0        NaN         2025.0   \n",
              "108594          2024.0     1.0        NaN         2025.0   \n",
              "108595             NaN     NaN        NaN            NaN   \n",
              "108596             NaN     NaN        NaN            NaN   \n",
              "\n",
              "        Propulsion_Combustion  Propulsion_Electric  Propulsion_Hybrid  ...  \\\n",
              "0                         1.0                  0.0                0.0  ...   \n",
              "1                         1.0                  0.0                0.0  ...   \n",
              "2                         1.0                  0.0                0.0  ...   \n",
              "3                         1.0                  0.0                0.0  ...   \n",
              "4                         1.0                  0.0                0.0  ...   \n",
              "...                       ...                  ...                ...  ...   \n",
              "108592                    1.0                  0.0                0.0  ...   \n",
              "108593                    1.0                  0.0                0.0  ...   \n",
              "108594                    1.0                  0.0                0.0  ...   \n",
              "108595                    1.0                  0.0                0.0  ...   \n",
              "108596                    1.0                  0.0                0.0  ...   \n",
              "\n",
              "        Maximum power  Unit displacement     Trunk  USB connection  \\\n",
              "0            0.302210           0.517060  0.003001             0.0   \n",
              "1            0.302210           0.517060  0.003001             0.0   \n",
              "2            0.012707           0.249986  0.019006             0.0   \n",
              "3            0.012707           0.249986  0.019006             0.0   \n",
              "4            0.012707           0.249986  0.019006             0.0   \n",
              "...               ...                ...       ...             ...   \n",
              "108592       0.048619           0.333321  0.019673             1.0   \n",
              "108593       0.048619           0.333321  0.019673             1.0   \n",
              "108594       0.048619           0.333321  0.019673             1.0   \n",
              "108595       0.059669           0.546177  0.766589             1.0   \n",
              "108596       0.059669           0.546177  0.866622             1.0   \n",
              "\n",
              "        Gear speed transmissions     Urban    Year_y  Radio  \\\n",
              "0                       0.545455  0.002481  0.607143    0.0   \n",
              "1                       0.545455  0.002481  0.607143    0.0   \n",
              "2                       0.454545  0.191067  0.607143    0.0   \n",
              "3                       0.454545  0.191067  0.607143    0.0   \n",
              "4                       0.454545  0.191067  0.607143    0.0   \n",
              "...                          ...       ...       ...    ...   \n",
              "108592                  0.545455  0.148883  1.000000    1.0   \n",
              "108593                  0.545455  0.148883  1.000000    1.0   \n",
              "108594                  0.545455  0.166253  1.000000    1.0   \n",
              "108595                  0.545455  0.191067  0.982143    1.0   \n",
              "108596                  0.545455  0.191067  0.982143    1.0   \n",
              "\n",
              "        Folding rear seat  Perimeter anti theft alarm  \n",
              "0                     0.0                         0.0  \n",
              "1                     0.0                         0.0  \n",
              "2                     0.0                         0.0  \n",
              "3                     0.0                         0.0  \n",
              "4                     0.0                         0.0  \n",
              "...                   ...                         ...  \n",
              "108592                1.0                         1.0  \n",
              "108593                1.0                         1.0  \n",
              "108594                1.0                         1.0  \n",
              "108595                0.0                         1.0  \n",
              "108596                0.0                         1.0  \n",
              "\n",
              "[108597 rows x 107 columns]"
            ],
            "text/html": [
              "\n",
              "  <div id=\"df-f71df258-1921-4419-bfde-2f9626929b30\" class=\"colab-df-container\">\n",
              "    <div>\n",
              "<style scoped>\n",
              "    .dataframe tbody tr th:only-of-type {\n",
              "        vertical-align: middle;\n",
              "    }\n",
              "\n",
              "    .dataframe tbody tr th {\n",
              "        vertical-align: top;\n",
              "    }\n",
              "\n",
              "    .dataframe thead th {\n",
              "        text-align: right;\n",
              "    }\n",
              "</style>\n",
              "<table border=\"1\" class=\"dataframe\">\n",
              "  <thead>\n",
              "    <tr style=\"text-align: right;\">\n",
              "      <th></th>\n",
              "      <th>car_code</th>\n",
              "      <th>car_manufacturer</th>\n",
              "      <th>car_model</th>\n",
              "      <th>car_model_year</th>\n",
              "      <th>Year_x</th>\n",
              "      <th>Price_YoY</th>\n",
              "      <th>calendar_year</th>\n",
              "      <th>Propulsion_Combustion</th>\n",
              "      <th>Propulsion_Electric</th>\n",
              "      <th>Propulsion_Hybrid</th>\n",
              "      <th>...</th>\n",
              "      <th>Maximum power</th>\n",
              "      <th>Unit displacement</th>\n",
              "      <th>Trunk</th>\n",
              "      <th>USB connection</th>\n",
              "      <th>Gear speed transmissions</th>\n",
              "      <th>Urban</th>\n",
              "      <th>Year_y</th>\n",
              "      <th>Radio</th>\n",
              "      <th>Folding rear seat</th>\n",
              "      <th>Perimeter anti theft alarm</th>\n",
              "    </tr>\n",
              "  </thead>\n",
              "  <tbody>\n",
              "    <tr>\n",
              "      <th>0</th>\n",
              "      <td>1</td>\n",
              "      <td>Lamborghini</td>\n",
              "      <td>Murcielago 6.2 V12</td>\n",
              "      <td>2002.0</td>\n",
              "      <td>19.0</td>\n",
              "      <td>0.817728</td>\n",
              "      <td>2021.0</td>\n",
              "      <td>1.0</td>\n",
              "      <td>0.0</td>\n",
              "      <td>0.0</td>\n",
              "      <td>...</td>\n",
              "      <td>0.302210</td>\n",
              "      <td>0.517060</td>\n",
              "      <td>0.003001</td>\n",
              "      <td>0.0</td>\n",
              "      <td>0.545455</td>\n",
              "      <td>0.002481</td>\n",
              "      <td>0.607143</td>\n",
              "      <td>0.0</td>\n",
              "      <td>0.0</td>\n",
              "      <td>0.0</td>\n",
              "    </tr>\n",
              "    <tr>\n",
              "      <th>1</th>\n",
              "      <td>1</td>\n",
              "      <td>Lamborghini</td>\n",
              "      <td>Murcielago 6.2 V12</td>\n",
              "      <td>2002.0</td>\n",
              "      <td>20.0</td>\n",
              "      <td>1.016211</td>\n",
              "      <td>2022.0</td>\n",
              "      <td>1.0</td>\n",
              "      <td>0.0</td>\n",
              "      <td>0.0</td>\n",
              "      <td>...</td>\n",
              "      <td>0.302210</td>\n",
              "      <td>0.517060</td>\n",
              "      <td>0.003001</td>\n",
              "      <td>0.0</td>\n",
              "      <td>0.545455</td>\n",
              "      <td>0.002481</td>\n",
              "      <td>0.607143</td>\n",
              "      <td>0.0</td>\n",
              "      <td>0.0</td>\n",
              "      <td>0.0</td>\n",
              "    </tr>\n",
              "    <tr>\n",
              "      <th>2</th>\n",
              "      <td>2</td>\n",
              "      <td>Fiat</td>\n",
              "      <td>Uno Mille Fire 1.0</td>\n",
              "      <td>2002.0</td>\n",
              "      <td>10.0</td>\n",
              "      <td>0.904178</td>\n",
              "      <td>2012.0</td>\n",
              "      <td>1.0</td>\n",
              "      <td>0.0</td>\n",
              "      <td>0.0</td>\n",
              "      <td>...</td>\n",
              "      <td>0.012707</td>\n",
              "      <td>0.249986</td>\n",
              "      <td>0.019006</td>\n",
              "      <td>0.0</td>\n",
              "      <td>0.454545</td>\n",
              "      <td>0.191067</td>\n",
              "      <td>0.607143</td>\n",
              "      <td>0.0</td>\n",
              "      <td>0.0</td>\n",
              "      <td>0.0</td>\n",
              "    </tr>\n",
              "    <tr>\n",
              "      <th>3</th>\n",
              "      <td>2</td>\n",
              "      <td>Fiat</td>\n",
              "      <td>Uno Mille Fire 1.0</td>\n",
              "      <td>2002.0</td>\n",
              "      <td>11.0</td>\n",
              "      <td>0.852240</td>\n",
              "      <td>2013.0</td>\n",
              "      <td>1.0</td>\n",
              "      <td>0.0</td>\n",
              "      <td>0.0</td>\n",
              "      <td>...</td>\n",
              "      <td>0.012707</td>\n",
              "      <td>0.249986</td>\n",
              "      <td>0.019006</td>\n",
              "      <td>0.0</td>\n",
              "      <td>0.454545</td>\n",
              "      <td>0.191067</td>\n",
              "      <td>0.607143</td>\n",
              "      <td>0.0</td>\n",
              "      <td>0.0</td>\n",
              "      <td>0.0</td>\n",
              "    </tr>\n",
              "    <tr>\n",
              "      <th>4</th>\n",
              "      <td>2</td>\n",
              "      <td>Fiat</td>\n",
              "      <td>Uno Mille Fire 1.0</td>\n",
              "      <td>2002.0</td>\n",
              "      <td>12.0</td>\n",
              "      <td>0.907692</td>\n",
              "      <td>2014.0</td>\n",
              "      <td>1.0</td>\n",
              "      <td>0.0</td>\n",
              "      <td>0.0</td>\n",
              "      <td>...</td>\n",
              "      <td>0.012707</td>\n",
              "      <td>0.249986</td>\n",
              "      <td>0.019006</td>\n",
              "      <td>0.0</td>\n",
              "      <td>0.454545</td>\n",
              "      <td>0.191067</td>\n",
              "      <td>0.607143</td>\n",
              "      <td>0.0</td>\n",
              "      <td>0.0</td>\n",
              "      <td>0.0</td>\n",
              "    </tr>\n",
              "    <tr>\n",
              "      <th>...</th>\n",
              "      <td>...</td>\n",
              "      <td>...</td>\n",
              "      <td>...</td>\n",
              "      <td>...</td>\n",
              "      <td>...</td>\n",
              "      <td>...</td>\n",
              "      <td>...</td>\n",
              "      <td>...</td>\n",
              "      <td>...</td>\n",
              "      <td>...</td>\n",
              "      <td>...</td>\n",
              "      <td>...</td>\n",
              "      <td>...</td>\n",
              "      <td>...</td>\n",
              "      <td>...</td>\n",
              "      <td>...</td>\n",
              "      <td>...</td>\n",
              "      <td>...</td>\n",
              "      <td>...</td>\n",
              "      <td>...</td>\n",
              "      <td>...</td>\n",
              "    </tr>\n",
              "    <tr>\n",
              "      <th>108592</th>\n",
              "      <td>23884</td>\n",
              "      <td>Hyundai</td>\n",
              "      <td>HB20 Comfort 1.0 Turbo AT</td>\n",
              "      <td>2024.0</td>\n",
              "      <td>1.0</td>\n",
              "      <td>NaN</td>\n",
              "      <td>2025.0</td>\n",
              "      <td>1.0</td>\n",
              "      <td>0.0</td>\n",
              "      <td>0.0</td>\n",
              "      <td>...</td>\n",
              "      <td>0.048619</td>\n",
              "      <td>0.333321</td>\n",
              "      <td>0.019673</td>\n",
              "      <td>1.0</td>\n",
              "      <td>0.545455</td>\n",
              "      <td>0.148883</td>\n",
              "      <td>1.000000</td>\n",
              "      <td>1.0</td>\n",
              "      <td>1.0</td>\n",
              "      <td>1.0</td>\n",
              "    </tr>\n",
              "    <tr>\n",
              "      <th>108593</th>\n",
              "      <td>23885</td>\n",
              "      <td>Hyundai</td>\n",
              "      <td>HB20 Platinum 1.0 Turbo AT</td>\n",
              "      <td>2024.0</td>\n",
              "      <td>1.0</td>\n",
              "      <td>NaN</td>\n",
              "      <td>2025.0</td>\n",
              "      <td>1.0</td>\n",
              "      <td>0.0</td>\n",
              "      <td>0.0</td>\n",
              "      <td>...</td>\n",
              "      <td>0.048619</td>\n",
              "      <td>0.333321</td>\n",
              "      <td>0.019673</td>\n",
              "      <td>1.0</td>\n",
              "      <td>0.545455</td>\n",
              "      <td>0.148883</td>\n",
              "      <td>1.000000</td>\n",
              "      <td>1.0</td>\n",
              "      <td>1.0</td>\n",
              "      <td>1.0</td>\n",
              "    </tr>\n",
              "    <tr>\n",
              "      <th>108594</th>\n",
              "      <td>23893</td>\n",
              "      <td>Hyundai</td>\n",
              "      <td>HB20 Platinum Plus 1.0 Turbo AT</td>\n",
              "      <td>2024.0</td>\n",
              "      <td>1.0</td>\n",
              "      <td>NaN</td>\n",
              "      <td>2025.0</td>\n",
              "      <td>1.0</td>\n",
              "      <td>0.0</td>\n",
              "      <td>0.0</td>\n",
              "      <td>...</td>\n",
              "      <td>0.048619</td>\n",
              "      <td>0.333321</td>\n",
              "      <td>0.019673</td>\n",
              "      <td>1.0</td>\n",
              "      <td>0.545455</td>\n",
              "      <td>0.166253</td>\n",
              "      <td>1.000000</td>\n",
              "      <td>1.0</td>\n",
              "      <td>1.0</td>\n",
              "      <td>1.0</td>\n",
              "    </tr>\n",
              "    <tr>\n",
              "      <th>108595</th>\n",
              "      <td>23905</td>\n",
              "      <td>NaN</td>\n",
              "      <td>NaN</td>\n",
              "      <td>NaN</td>\n",
              "      <td>NaN</td>\n",
              "      <td>NaN</td>\n",
              "      <td>NaN</td>\n",
              "      <td>1.0</td>\n",
              "      <td>0.0</td>\n",
              "      <td>0.0</td>\n",
              "      <td>...</td>\n",
              "      <td>0.059669</td>\n",
              "      <td>0.546177</td>\n",
              "      <td>0.766589</td>\n",
              "      <td>1.0</td>\n",
              "      <td>0.545455</td>\n",
              "      <td>0.191067</td>\n",
              "      <td>0.982143</td>\n",
              "      <td>1.0</td>\n",
              "      <td>0.0</td>\n",
              "      <td>1.0</td>\n",
              "    </tr>\n",
              "    <tr>\n",
              "      <th>108596</th>\n",
              "      <td>23906</td>\n",
              "      <td>NaN</td>\n",
              "      <td>NaN</td>\n",
              "      <td>NaN</td>\n",
              "      <td>NaN</td>\n",
              "      <td>NaN</td>\n",
              "      <td>NaN</td>\n",
              "      <td>1.0</td>\n",
              "      <td>0.0</td>\n",
              "      <td>0.0</td>\n",
              "      <td>...</td>\n",
              "      <td>0.059669</td>\n",
              "      <td>0.546177</td>\n",
              "      <td>0.866622</td>\n",
              "      <td>1.0</td>\n",
              "      <td>0.545455</td>\n",
              "      <td>0.191067</td>\n",
              "      <td>0.982143</td>\n",
              "      <td>1.0</td>\n",
              "      <td>0.0</td>\n",
              "      <td>1.0</td>\n",
              "    </tr>\n",
              "  </tbody>\n",
              "</table>\n",
              "<p>108597 rows × 107 columns</p>\n",
              "</div>\n",
              "    <div class=\"colab-df-buttons\">\n",
              "\n",
              "  <div class=\"colab-df-container\">\n",
              "    <button class=\"colab-df-convert\" onclick=\"convertToInteractive('df-f71df258-1921-4419-bfde-2f9626929b30')\"\n",
              "            title=\"Convert this dataframe to an interactive table.\"\n",
              "            style=\"display:none;\">\n",
              "\n",
              "  <svg xmlns=\"http://www.w3.org/2000/svg\" height=\"24px\" viewBox=\"0 -960 960 960\">\n",
              "    <path d=\"M120-120v-720h720v720H120Zm60-500h600v-160H180v160Zm220 220h160v-160H400v160Zm0 220h160v-160H400v160ZM180-400h160v-160H180v160Zm440 0h160v-160H620v160ZM180-180h160v-160H180v160Zm440 0h160v-160H620v160Z\"/>\n",
              "  </svg>\n",
              "    </button>\n",
              "\n",
              "  <style>\n",
              "    .colab-df-container {\n",
              "      display:flex;\n",
              "      gap: 12px;\n",
              "    }\n",
              "\n",
              "    .colab-df-convert {\n",
              "      background-color: #E8F0FE;\n",
              "      border: none;\n",
              "      border-radius: 50%;\n",
              "      cursor: pointer;\n",
              "      display: none;\n",
              "      fill: #1967D2;\n",
              "      height: 32px;\n",
              "      padding: 0 0 0 0;\n",
              "      width: 32px;\n",
              "    }\n",
              "\n",
              "    .colab-df-convert:hover {\n",
              "      background-color: #E2EBFA;\n",
              "      box-shadow: 0px 1px 2px rgba(60, 64, 67, 0.3), 0px 1px 3px 1px rgba(60, 64, 67, 0.15);\n",
              "      fill: #174EA6;\n",
              "    }\n",
              "\n",
              "    .colab-df-buttons div {\n",
              "      margin-bottom: 4px;\n",
              "    }\n",
              "\n",
              "    [theme=dark] .colab-df-convert {\n",
              "      background-color: #3B4455;\n",
              "      fill: #D2E3FC;\n",
              "    }\n",
              "\n",
              "    [theme=dark] .colab-df-convert:hover {\n",
              "      background-color: #434B5C;\n",
              "      box-shadow: 0px 1px 3px 1px rgba(0, 0, 0, 0.15);\n",
              "      filter: drop-shadow(0px 1px 2px rgba(0, 0, 0, 0.3));\n",
              "      fill: #FFFFFF;\n",
              "    }\n",
              "  </style>\n",
              "\n",
              "    <script>\n",
              "      const buttonEl =\n",
              "        document.querySelector('#df-f71df258-1921-4419-bfde-2f9626929b30 button.colab-df-convert');\n",
              "      buttonEl.style.display =\n",
              "        google.colab.kernel.accessAllowed ? 'block' : 'none';\n",
              "\n",
              "      async function convertToInteractive(key) {\n",
              "        const element = document.querySelector('#df-f71df258-1921-4419-bfde-2f9626929b30');\n",
              "        const dataTable =\n",
              "          await google.colab.kernel.invokeFunction('convertToInteractive',\n",
              "                                                    [key], {});\n",
              "        if (!dataTable) return;\n",
              "\n",
              "        const docLinkHtml = 'Like what you see? Visit the ' +\n",
              "          '<a target=\"_blank\" href=https://colab.research.google.com/notebooks/data_table.ipynb>data table notebook</a>'\n",
              "          + ' to learn more about interactive tables.';\n",
              "        element.innerHTML = '';\n",
              "        dataTable['output_type'] = 'display_data';\n",
              "        await google.colab.output.renderOutput(dataTable, element);\n",
              "        const docLink = document.createElement('div');\n",
              "        docLink.innerHTML = docLinkHtml;\n",
              "        element.appendChild(docLink);\n",
              "      }\n",
              "    </script>\n",
              "  </div>\n",
              "\n",
              "\n",
              "<div id=\"df-475dcf11-2839-443d-b73b-101fdca18290\">\n",
              "  <button class=\"colab-df-quickchart\" onclick=\"quickchart('df-475dcf11-2839-443d-b73b-101fdca18290')\"\n",
              "            title=\"Suggest charts\"\n",
              "            style=\"display:none;\">\n",
              "\n",
              "<svg xmlns=\"http://www.w3.org/2000/svg\" height=\"24px\"viewBox=\"0 0 24 24\"\n",
              "     width=\"24px\">\n",
              "    <g>\n",
              "        <path d=\"M19 3H5c-1.1 0-2 .9-2 2v14c0 1.1.9 2 2 2h14c1.1 0 2-.9 2-2V5c0-1.1-.9-2-2-2zM9 17H7v-7h2v7zm4 0h-2V7h2v10zm4 0h-2v-4h2v4z\"/>\n",
              "    </g>\n",
              "</svg>\n",
              "  </button>\n",
              "\n",
              "<style>\n",
              "  .colab-df-quickchart {\n",
              "      --bg-color: #E8F0FE;\n",
              "      --fill-color: #1967D2;\n",
              "      --hover-bg-color: #E2EBFA;\n",
              "      --hover-fill-color: #174EA6;\n",
              "      --disabled-fill-color: #AAA;\n",
              "      --disabled-bg-color: #DDD;\n",
              "  }\n",
              "\n",
              "  [theme=dark] .colab-df-quickchart {\n",
              "      --bg-color: #3B4455;\n",
              "      --fill-color: #D2E3FC;\n",
              "      --hover-bg-color: #434B5C;\n",
              "      --hover-fill-color: #FFFFFF;\n",
              "      --disabled-bg-color: #3B4455;\n",
              "      --disabled-fill-color: #666;\n",
              "  }\n",
              "\n",
              "  .colab-df-quickchart {\n",
              "    background-color: var(--bg-color);\n",
              "    border: none;\n",
              "    border-radius: 50%;\n",
              "    cursor: pointer;\n",
              "    display: none;\n",
              "    fill: var(--fill-color);\n",
              "    height: 32px;\n",
              "    padding: 0;\n",
              "    width: 32px;\n",
              "  }\n",
              "\n",
              "  .colab-df-quickchart:hover {\n",
              "    background-color: var(--hover-bg-color);\n",
              "    box-shadow: 0 1px 2px rgba(60, 64, 67, 0.3), 0 1px 3px 1px rgba(60, 64, 67, 0.15);\n",
              "    fill: var(--button-hover-fill-color);\n",
              "  }\n",
              "\n",
              "  .colab-df-quickchart-complete:disabled,\n",
              "  .colab-df-quickchart-complete:disabled:hover {\n",
              "    background-color: var(--disabled-bg-color);\n",
              "    fill: var(--disabled-fill-color);\n",
              "    box-shadow: none;\n",
              "  }\n",
              "\n",
              "  .colab-df-spinner {\n",
              "    border: 2px solid var(--fill-color);\n",
              "    border-color: transparent;\n",
              "    border-bottom-color: var(--fill-color);\n",
              "    animation:\n",
              "      spin 1s steps(1) infinite;\n",
              "  }\n",
              "\n",
              "  @keyframes spin {\n",
              "    0% {\n",
              "      border-color: transparent;\n",
              "      border-bottom-color: var(--fill-color);\n",
              "      border-left-color: var(--fill-color);\n",
              "    }\n",
              "    20% {\n",
              "      border-color: transparent;\n",
              "      border-left-color: var(--fill-color);\n",
              "      border-top-color: var(--fill-color);\n",
              "    }\n",
              "    30% {\n",
              "      border-color: transparent;\n",
              "      border-left-color: var(--fill-color);\n",
              "      border-top-color: var(--fill-color);\n",
              "      border-right-color: var(--fill-color);\n",
              "    }\n",
              "    40% {\n",
              "      border-color: transparent;\n",
              "      border-right-color: var(--fill-color);\n",
              "      border-top-color: var(--fill-color);\n",
              "    }\n",
              "    60% {\n",
              "      border-color: transparent;\n",
              "      border-right-color: var(--fill-color);\n",
              "    }\n",
              "    80% {\n",
              "      border-color: transparent;\n",
              "      border-right-color: var(--fill-color);\n",
              "      border-bottom-color: var(--fill-color);\n",
              "    }\n",
              "    90% {\n",
              "      border-color: transparent;\n",
              "      border-bottom-color: var(--fill-color);\n",
              "    }\n",
              "  }\n",
              "</style>\n",
              "\n",
              "  <script>\n",
              "    async function quickchart(key) {\n",
              "      const quickchartButtonEl =\n",
              "        document.querySelector('#' + key + ' button');\n",
              "      quickchartButtonEl.disabled = true;  // To prevent multiple clicks.\n",
              "      quickchartButtonEl.classList.add('colab-df-spinner');\n",
              "      try {\n",
              "        const charts = await google.colab.kernel.invokeFunction(\n",
              "            'suggestCharts', [key], {});\n",
              "      } catch (error) {\n",
              "        console.error('Error during call to suggestCharts:', error);\n",
              "      }\n",
              "      quickchartButtonEl.classList.remove('colab-df-spinner');\n",
              "      quickchartButtonEl.classList.add('colab-df-quickchart-complete');\n",
              "    }\n",
              "    (() => {\n",
              "      let quickchartButtonEl =\n",
              "        document.querySelector('#df-475dcf11-2839-443d-b73b-101fdca18290 button');\n",
              "      quickchartButtonEl.style.display =\n",
              "        google.colab.kernel.accessAllowed ? 'block' : 'none';\n",
              "    })();\n",
              "  </script>\n",
              "</div>\n",
              "    </div>\n",
              "  </div>\n"
            ],
            "application/vnd.google.colaboratory.intrinsic+json": {
              "type": "dataframe",
              "variable_name": "merged_df"
            }
          },
          "metadata": {},
          "execution_count": 318
        }
      ],
      "source": [
        "merged_df = pd.merge(price_df, features_df, left_on=\"car_code\", right_on=\"car_code\", how=\"right\")\n",
        "merged_df # [merged_df[\"calendar_year\"] > 2023][\"Price_YoY\"].nunique()"
      ]
    },
    {
      "cell_type": "code",
      "execution_count": 319,
      "id": "68e330b5",
      "metadata": {
        "ExecuteTime": {
          "end_time": "2024-02-25T21:54:59.789306Z",
          "start_time": "2024-02-25T21:54:59.778164Z"
        },
        "id": "68e330b5"
      },
      "outputs": [],
      "source": [
        "merged_df.rename(columns=lambda x: x.strip(), inplace=True)"
      ]
    },
    {
      "cell_type": "code",
      "execution_count": 319,
      "id": "dead1276",
      "metadata": {
        "ExecuteTime": {
          "end_time": "2024-02-25T21:58:06.597634Z",
          "start_time": "2024-02-25T21:58:05.439670Z"
        },
        "id": "dead1276"
      },
      "outputs": [],
      "source": []
    },
    {
      "cell_type": "markdown",
      "id": "20b77490",
      "metadata": {
        "id": "20b77490"
      },
      "source": [
        "### making model first name feature"
      ]
    },
    {
      "cell_type": "code",
      "execution_count": 319,
      "id": "1d61db71",
      "metadata": {
        "ExecuteTime": {
          "end_time": "2024-02-25T21:34:40.614248Z",
          "start_time": "2024-02-25T21:34:40.275198Z"
        },
        "id": "1d61db71"
      },
      "outputs": [],
      "source": []
    },
    {
      "cell_type": "code",
      "execution_count": 319,
      "id": "dhN8gQblT9r-",
      "metadata": {
        "ExecuteTime": {
          "end_time": "2024-02-25T21:34:41.096614Z",
          "start_time": "2024-02-25T21:34:40.643230Z"
        },
        "id": "dhN8gQblT9r-"
      },
      "outputs": [],
      "source": []
    },
    {
      "cell_type": "code",
      "execution_count": 319,
      "id": "DEzjWi6N8zUs",
      "metadata": {
        "ExecuteTime": {
          "end_time": "2024-02-25T21:34:41.117374Z",
          "start_time": "2024-02-25T21:34:41.106965Z"
        },
        "id": "DEzjWi6N8zUs"
      },
      "outputs": [],
      "source": []
    },
    {
      "cell_type": "code",
      "execution_count": 320,
      "id": "Tr4SmBX-Hrnl",
      "metadata": {
        "ExecuteTime": {
          "end_time": "2024-02-25T21:34:41.296748Z",
          "start_time": "2024-02-25T21:34:41.127679Z"
        },
        "colab": {
          "base_uri": "https://localhost:8080/",
          "height": 589
        },
        "id": "Tr4SmBX-Hrnl",
        "outputId": "b8864115-e70d-4ec2-e04d-35b140321ea5"
      },
      "outputs": [
        {
          "output_type": "execute_result",
          "data": {
            "text/plain": [
              "       car_code car_manufacturer              car_model  car_model_year  \\\n",
              "45833      5152       Volkswagen  Passat R-Line 2.0 TSi          2014.0   \n",
              "45834      5152       Volkswagen  Passat R-Line 2.0 TSi          2014.0   \n",
              "45835      5152       Volkswagen  Passat R-Line 2.0 TSi          2014.0   \n",
              "45836      5152       Volkswagen  Passat R-Line 2.0 TSi          2014.0   \n",
              "45837      5152       Volkswagen  Passat R-Line 2.0 TSi          2014.0   \n",
              "45838      5152       Volkswagen  Passat R-Line 2.0 TSi          2014.0   \n",
              "45839      5152       Volkswagen  Passat R-Line 2.0 TSi          2014.0   \n",
              "45840      5152       Volkswagen  Passat R-Line 2.0 TSi          2014.0   \n",
              "45841      5152       Volkswagen  Passat R-Line 2.0 TSi          2014.0   \n",
              "\n",
              "       Year_x  Price_YoY  calendar_year  Propulsion_Combustion  \\\n",
              "45833     1.0   0.789727         2015.0                    1.0   \n",
              "45834     2.0   0.933229         2016.0                    1.0   \n",
              "45835     3.0   0.921536         2017.0                    1.0   \n",
              "45836     4.0   0.953685         2018.0                    1.0   \n",
              "45837     5.0   0.884420         2019.0                    1.0   \n",
              "45838     6.0   0.918853         2020.0                    1.0   \n",
              "45839     7.0   0.765800         2021.0                    1.0   \n",
              "45840     8.0   1.027662         2022.0                    1.0   \n",
              "45841     9.0   0.951438         2023.0                    1.0   \n",
              "\n",
              "       Propulsion_Electric  Propulsion_Hybrid  ...  Maximum power  \\\n",
              "45833                  0.0                0.0  ...       0.098895   \n",
              "45834                  0.0                0.0  ...       0.098895   \n",
              "45835                  0.0                0.0  ...       0.098895   \n",
              "45836                  0.0                0.0  ...       0.098895   \n",
              "45837                  0.0                0.0  ...       0.098895   \n",
              "45838                  0.0                0.0  ...       0.098895   \n",
              "45839                  0.0                0.0  ...       0.098895   \n",
              "45840                  0.0                0.0  ...       0.098895   \n",
              "45841                  0.0                0.0  ...       0.098895   \n",
              "\n",
              "       Unit displacement     Trunk  USB connection  Gear speed transmissions  \\\n",
              "45833           0.496979  0.032011             1.0                  0.545455   \n",
              "45834           0.496979  0.032011             1.0                  0.545455   \n",
              "45835           0.496979  0.032011             1.0                  0.545455   \n",
              "45836           0.496979  0.032011             1.0                  0.545455   \n",
              "45837           0.496979  0.032011             1.0                  0.545455   \n",
              "45838           0.496979  0.032011             1.0                  0.545455   \n",
              "45839           0.496979  0.032011             1.0                  0.545455   \n",
              "45840           0.496979  0.032011             1.0                  0.545455   \n",
              "45841           0.496979  0.032011             1.0                  0.545455   \n",
              "\n",
              "          Urban    Year_y  Radio  Folding rear seat  \\\n",
              "45833  0.168734  0.821429    1.0                1.0   \n",
              "45834  0.168734  0.821429    1.0                1.0   \n",
              "45835  0.168734  0.821429    1.0                1.0   \n",
              "45836  0.168734  0.821429    1.0                1.0   \n",
              "45837  0.168734  0.821429    1.0                1.0   \n",
              "45838  0.168734  0.821429    1.0                1.0   \n",
              "45839  0.168734  0.821429    1.0                1.0   \n",
              "45840  0.168734  0.821429    1.0                1.0   \n",
              "45841  0.168734  0.821429    1.0                1.0   \n",
              "\n",
              "       Perimeter anti theft alarm  \n",
              "45833                         1.0  \n",
              "45834                         1.0  \n",
              "45835                         1.0  \n",
              "45836                         1.0  \n",
              "45837                         1.0  \n",
              "45838                         1.0  \n",
              "45839                         1.0  \n",
              "45840                         1.0  \n",
              "45841                         1.0  \n",
              "\n",
              "[9 rows x 107 columns]"
            ],
            "text/html": [
              "\n",
              "  <div id=\"df-d994d556-af26-4c40-81fd-91bbecabb98a\" class=\"colab-df-container\">\n",
              "    <div>\n",
              "<style scoped>\n",
              "    .dataframe tbody tr th:only-of-type {\n",
              "        vertical-align: middle;\n",
              "    }\n",
              "\n",
              "    .dataframe tbody tr th {\n",
              "        vertical-align: top;\n",
              "    }\n",
              "\n",
              "    .dataframe thead th {\n",
              "        text-align: right;\n",
              "    }\n",
              "</style>\n",
              "<table border=\"1\" class=\"dataframe\">\n",
              "  <thead>\n",
              "    <tr style=\"text-align: right;\">\n",
              "      <th></th>\n",
              "      <th>car_code</th>\n",
              "      <th>car_manufacturer</th>\n",
              "      <th>car_model</th>\n",
              "      <th>car_model_year</th>\n",
              "      <th>Year_x</th>\n",
              "      <th>Price_YoY</th>\n",
              "      <th>calendar_year</th>\n",
              "      <th>Propulsion_Combustion</th>\n",
              "      <th>Propulsion_Electric</th>\n",
              "      <th>Propulsion_Hybrid</th>\n",
              "      <th>...</th>\n",
              "      <th>Maximum power</th>\n",
              "      <th>Unit displacement</th>\n",
              "      <th>Trunk</th>\n",
              "      <th>USB connection</th>\n",
              "      <th>Gear speed transmissions</th>\n",
              "      <th>Urban</th>\n",
              "      <th>Year_y</th>\n",
              "      <th>Radio</th>\n",
              "      <th>Folding rear seat</th>\n",
              "      <th>Perimeter anti theft alarm</th>\n",
              "    </tr>\n",
              "  </thead>\n",
              "  <tbody>\n",
              "    <tr>\n",
              "      <th>45833</th>\n",
              "      <td>5152</td>\n",
              "      <td>Volkswagen</td>\n",
              "      <td>Passat R-Line 2.0 TSi</td>\n",
              "      <td>2014.0</td>\n",
              "      <td>1.0</td>\n",
              "      <td>0.789727</td>\n",
              "      <td>2015.0</td>\n",
              "      <td>1.0</td>\n",
              "      <td>0.0</td>\n",
              "      <td>0.0</td>\n",
              "      <td>...</td>\n",
              "      <td>0.098895</td>\n",
              "      <td>0.496979</td>\n",
              "      <td>0.032011</td>\n",
              "      <td>1.0</td>\n",
              "      <td>0.545455</td>\n",
              "      <td>0.168734</td>\n",
              "      <td>0.821429</td>\n",
              "      <td>1.0</td>\n",
              "      <td>1.0</td>\n",
              "      <td>1.0</td>\n",
              "    </tr>\n",
              "    <tr>\n",
              "      <th>45834</th>\n",
              "      <td>5152</td>\n",
              "      <td>Volkswagen</td>\n",
              "      <td>Passat R-Line 2.0 TSi</td>\n",
              "      <td>2014.0</td>\n",
              "      <td>2.0</td>\n",
              "      <td>0.933229</td>\n",
              "      <td>2016.0</td>\n",
              "      <td>1.0</td>\n",
              "      <td>0.0</td>\n",
              "      <td>0.0</td>\n",
              "      <td>...</td>\n",
              "      <td>0.098895</td>\n",
              "      <td>0.496979</td>\n",
              "      <td>0.032011</td>\n",
              "      <td>1.0</td>\n",
              "      <td>0.545455</td>\n",
              "      <td>0.168734</td>\n",
              "      <td>0.821429</td>\n",
              "      <td>1.0</td>\n",
              "      <td>1.0</td>\n",
              "      <td>1.0</td>\n",
              "    </tr>\n",
              "    <tr>\n",
              "      <th>45835</th>\n",
              "      <td>5152</td>\n",
              "      <td>Volkswagen</td>\n",
              "      <td>Passat R-Line 2.0 TSi</td>\n",
              "      <td>2014.0</td>\n",
              "      <td>3.0</td>\n",
              "      <td>0.921536</td>\n",
              "      <td>2017.0</td>\n",
              "      <td>1.0</td>\n",
              "      <td>0.0</td>\n",
              "      <td>0.0</td>\n",
              "      <td>...</td>\n",
              "      <td>0.098895</td>\n",
              "      <td>0.496979</td>\n",
              "      <td>0.032011</td>\n",
              "      <td>1.0</td>\n",
              "      <td>0.545455</td>\n",
              "      <td>0.168734</td>\n",
              "      <td>0.821429</td>\n",
              "      <td>1.0</td>\n",
              "      <td>1.0</td>\n",
              "      <td>1.0</td>\n",
              "    </tr>\n",
              "    <tr>\n",
              "      <th>45836</th>\n",
              "      <td>5152</td>\n",
              "      <td>Volkswagen</td>\n",
              "      <td>Passat R-Line 2.0 TSi</td>\n",
              "      <td>2014.0</td>\n",
              "      <td>4.0</td>\n",
              "      <td>0.953685</td>\n",
              "      <td>2018.0</td>\n",
              "      <td>1.0</td>\n",
              "      <td>0.0</td>\n",
              "      <td>0.0</td>\n",
              "      <td>...</td>\n",
              "      <td>0.098895</td>\n",
              "      <td>0.496979</td>\n",
              "      <td>0.032011</td>\n",
              "      <td>1.0</td>\n",
              "      <td>0.545455</td>\n",
              "      <td>0.168734</td>\n",
              "      <td>0.821429</td>\n",
              "      <td>1.0</td>\n",
              "      <td>1.0</td>\n",
              "      <td>1.0</td>\n",
              "    </tr>\n",
              "    <tr>\n",
              "      <th>45837</th>\n",
              "      <td>5152</td>\n",
              "      <td>Volkswagen</td>\n",
              "      <td>Passat R-Line 2.0 TSi</td>\n",
              "      <td>2014.0</td>\n",
              "      <td>5.0</td>\n",
              "      <td>0.884420</td>\n",
              "      <td>2019.0</td>\n",
              "      <td>1.0</td>\n",
              "      <td>0.0</td>\n",
              "      <td>0.0</td>\n",
              "      <td>...</td>\n",
              "      <td>0.098895</td>\n",
              "      <td>0.496979</td>\n",
              "      <td>0.032011</td>\n",
              "      <td>1.0</td>\n",
              "      <td>0.545455</td>\n",
              "      <td>0.168734</td>\n",
              "      <td>0.821429</td>\n",
              "      <td>1.0</td>\n",
              "      <td>1.0</td>\n",
              "      <td>1.0</td>\n",
              "    </tr>\n",
              "    <tr>\n",
              "      <th>45838</th>\n",
              "      <td>5152</td>\n",
              "      <td>Volkswagen</td>\n",
              "      <td>Passat R-Line 2.0 TSi</td>\n",
              "      <td>2014.0</td>\n",
              "      <td>6.0</td>\n",
              "      <td>0.918853</td>\n",
              "      <td>2020.0</td>\n",
              "      <td>1.0</td>\n",
              "      <td>0.0</td>\n",
              "      <td>0.0</td>\n",
              "      <td>...</td>\n",
              "      <td>0.098895</td>\n",
              "      <td>0.496979</td>\n",
              "      <td>0.032011</td>\n",
              "      <td>1.0</td>\n",
              "      <td>0.545455</td>\n",
              "      <td>0.168734</td>\n",
              "      <td>0.821429</td>\n",
              "      <td>1.0</td>\n",
              "      <td>1.0</td>\n",
              "      <td>1.0</td>\n",
              "    </tr>\n",
              "    <tr>\n",
              "      <th>45839</th>\n",
              "      <td>5152</td>\n",
              "      <td>Volkswagen</td>\n",
              "      <td>Passat R-Line 2.0 TSi</td>\n",
              "      <td>2014.0</td>\n",
              "      <td>7.0</td>\n",
              "      <td>0.765800</td>\n",
              "      <td>2021.0</td>\n",
              "      <td>1.0</td>\n",
              "      <td>0.0</td>\n",
              "      <td>0.0</td>\n",
              "      <td>...</td>\n",
              "      <td>0.098895</td>\n",
              "      <td>0.496979</td>\n",
              "      <td>0.032011</td>\n",
              "      <td>1.0</td>\n",
              "      <td>0.545455</td>\n",
              "      <td>0.168734</td>\n",
              "      <td>0.821429</td>\n",
              "      <td>1.0</td>\n",
              "      <td>1.0</td>\n",
              "      <td>1.0</td>\n",
              "    </tr>\n",
              "    <tr>\n",
              "      <th>45840</th>\n",
              "      <td>5152</td>\n",
              "      <td>Volkswagen</td>\n",
              "      <td>Passat R-Line 2.0 TSi</td>\n",
              "      <td>2014.0</td>\n",
              "      <td>8.0</td>\n",
              "      <td>1.027662</td>\n",
              "      <td>2022.0</td>\n",
              "      <td>1.0</td>\n",
              "      <td>0.0</td>\n",
              "      <td>0.0</td>\n",
              "      <td>...</td>\n",
              "      <td>0.098895</td>\n",
              "      <td>0.496979</td>\n",
              "      <td>0.032011</td>\n",
              "      <td>1.0</td>\n",
              "      <td>0.545455</td>\n",
              "      <td>0.168734</td>\n",
              "      <td>0.821429</td>\n",
              "      <td>1.0</td>\n",
              "      <td>1.0</td>\n",
              "      <td>1.0</td>\n",
              "    </tr>\n",
              "    <tr>\n",
              "      <th>45841</th>\n",
              "      <td>5152</td>\n",
              "      <td>Volkswagen</td>\n",
              "      <td>Passat R-Line 2.0 TSi</td>\n",
              "      <td>2014.0</td>\n",
              "      <td>9.0</td>\n",
              "      <td>0.951438</td>\n",
              "      <td>2023.0</td>\n",
              "      <td>1.0</td>\n",
              "      <td>0.0</td>\n",
              "      <td>0.0</td>\n",
              "      <td>...</td>\n",
              "      <td>0.098895</td>\n",
              "      <td>0.496979</td>\n",
              "      <td>0.032011</td>\n",
              "      <td>1.0</td>\n",
              "      <td>0.545455</td>\n",
              "      <td>0.168734</td>\n",
              "      <td>0.821429</td>\n",
              "      <td>1.0</td>\n",
              "      <td>1.0</td>\n",
              "      <td>1.0</td>\n",
              "    </tr>\n",
              "  </tbody>\n",
              "</table>\n",
              "<p>9 rows × 107 columns</p>\n",
              "</div>\n",
              "    <div class=\"colab-df-buttons\">\n",
              "\n",
              "  <div class=\"colab-df-container\">\n",
              "    <button class=\"colab-df-convert\" onclick=\"convertToInteractive('df-d994d556-af26-4c40-81fd-91bbecabb98a')\"\n",
              "            title=\"Convert this dataframe to an interactive table.\"\n",
              "            style=\"display:none;\">\n",
              "\n",
              "  <svg xmlns=\"http://www.w3.org/2000/svg\" height=\"24px\" viewBox=\"0 -960 960 960\">\n",
              "    <path d=\"M120-120v-720h720v720H120Zm60-500h600v-160H180v160Zm220 220h160v-160H400v160Zm0 220h160v-160H400v160ZM180-400h160v-160H180v160Zm440 0h160v-160H620v160ZM180-180h160v-160H180v160Zm440 0h160v-160H620v160Z\"/>\n",
              "  </svg>\n",
              "    </button>\n",
              "\n",
              "  <style>\n",
              "    .colab-df-container {\n",
              "      display:flex;\n",
              "      gap: 12px;\n",
              "    }\n",
              "\n",
              "    .colab-df-convert {\n",
              "      background-color: #E8F0FE;\n",
              "      border: none;\n",
              "      border-radius: 50%;\n",
              "      cursor: pointer;\n",
              "      display: none;\n",
              "      fill: #1967D2;\n",
              "      height: 32px;\n",
              "      padding: 0 0 0 0;\n",
              "      width: 32px;\n",
              "    }\n",
              "\n",
              "    .colab-df-convert:hover {\n",
              "      background-color: #E2EBFA;\n",
              "      box-shadow: 0px 1px 2px rgba(60, 64, 67, 0.3), 0px 1px 3px 1px rgba(60, 64, 67, 0.15);\n",
              "      fill: #174EA6;\n",
              "    }\n",
              "\n",
              "    .colab-df-buttons div {\n",
              "      margin-bottom: 4px;\n",
              "    }\n",
              "\n",
              "    [theme=dark] .colab-df-convert {\n",
              "      background-color: #3B4455;\n",
              "      fill: #D2E3FC;\n",
              "    }\n",
              "\n",
              "    [theme=dark] .colab-df-convert:hover {\n",
              "      background-color: #434B5C;\n",
              "      box-shadow: 0px 1px 3px 1px rgba(0, 0, 0, 0.15);\n",
              "      filter: drop-shadow(0px 1px 2px rgba(0, 0, 0, 0.3));\n",
              "      fill: #FFFFFF;\n",
              "    }\n",
              "  </style>\n",
              "\n",
              "    <script>\n",
              "      const buttonEl =\n",
              "        document.querySelector('#df-d994d556-af26-4c40-81fd-91bbecabb98a button.colab-df-convert');\n",
              "      buttonEl.style.display =\n",
              "        google.colab.kernel.accessAllowed ? 'block' : 'none';\n",
              "\n",
              "      async function convertToInteractive(key) {\n",
              "        const element = document.querySelector('#df-d994d556-af26-4c40-81fd-91bbecabb98a');\n",
              "        const dataTable =\n",
              "          await google.colab.kernel.invokeFunction('convertToInteractive',\n",
              "                                                    [key], {});\n",
              "        if (!dataTable) return;\n",
              "\n",
              "        const docLinkHtml = 'Like what you see? Visit the ' +\n",
              "          '<a target=\"_blank\" href=https://colab.research.google.com/notebooks/data_table.ipynb>data table notebook</a>'\n",
              "          + ' to learn more about interactive tables.';\n",
              "        element.innerHTML = '';\n",
              "        dataTable['output_type'] = 'display_data';\n",
              "        await google.colab.output.renderOutput(dataTable, element);\n",
              "        const docLink = document.createElement('div');\n",
              "        docLink.innerHTML = docLinkHtml;\n",
              "        element.appendChild(docLink);\n",
              "      }\n",
              "    </script>\n",
              "  </div>\n",
              "\n",
              "\n",
              "<div id=\"df-54ba0a99-9848-4ecb-95bd-16869568e1aa\">\n",
              "  <button class=\"colab-df-quickchart\" onclick=\"quickchart('df-54ba0a99-9848-4ecb-95bd-16869568e1aa')\"\n",
              "            title=\"Suggest charts\"\n",
              "            style=\"display:none;\">\n",
              "\n",
              "<svg xmlns=\"http://www.w3.org/2000/svg\" height=\"24px\"viewBox=\"0 0 24 24\"\n",
              "     width=\"24px\">\n",
              "    <g>\n",
              "        <path d=\"M19 3H5c-1.1 0-2 .9-2 2v14c0 1.1.9 2 2 2h14c1.1 0 2-.9 2-2V5c0-1.1-.9-2-2-2zM9 17H7v-7h2v7zm4 0h-2V7h2v10zm4 0h-2v-4h2v4z\"/>\n",
              "    </g>\n",
              "</svg>\n",
              "  </button>\n",
              "\n",
              "<style>\n",
              "  .colab-df-quickchart {\n",
              "      --bg-color: #E8F0FE;\n",
              "      --fill-color: #1967D2;\n",
              "      --hover-bg-color: #E2EBFA;\n",
              "      --hover-fill-color: #174EA6;\n",
              "      --disabled-fill-color: #AAA;\n",
              "      --disabled-bg-color: #DDD;\n",
              "  }\n",
              "\n",
              "  [theme=dark] .colab-df-quickchart {\n",
              "      --bg-color: #3B4455;\n",
              "      --fill-color: #D2E3FC;\n",
              "      --hover-bg-color: #434B5C;\n",
              "      --hover-fill-color: #FFFFFF;\n",
              "      --disabled-bg-color: #3B4455;\n",
              "      --disabled-fill-color: #666;\n",
              "  }\n",
              "\n",
              "  .colab-df-quickchart {\n",
              "    background-color: var(--bg-color);\n",
              "    border: none;\n",
              "    border-radius: 50%;\n",
              "    cursor: pointer;\n",
              "    display: none;\n",
              "    fill: var(--fill-color);\n",
              "    height: 32px;\n",
              "    padding: 0;\n",
              "    width: 32px;\n",
              "  }\n",
              "\n",
              "  .colab-df-quickchart:hover {\n",
              "    background-color: var(--hover-bg-color);\n",
              "    box-shadow: 0 1px 2px rgba(60, 64, 67, 0.3), 0 1px 3px 1px rgba(60, 64, 67, 0.15);\n",
              "    fill: var(--button-hover-fill-color);\n",
              "  }\n",
              "\n",
              "  .colab-df-quickchart-complete:disabled,\n",
              "  .colab-df-quickchart-complete:disabled:hover {\n",
              "    background-color: var(--disabled-bg-color);\n",
              "    fill: var(--disabled-fill-color);\n",
              "    box-shadow: none;\n",
              "  }\n",
              "\n",
              "  .colab-df-spinner {\n",
              "    border: 2px solid var(--fill-color);\n",
              "    border-color: transparent;\n",
              "    border-bottom-color: var(--fill-color);\n",
              "    animation:\n",
              "      spin 1s steps(1) infinite;\n",
              "  }\n",
              "\n",
              "  @keyframes spin {\n",
              "    0% {\n",
              "      border-color: transparent;\n",
              "      border-bottom-color: var(--fill-color);\n",
              "      border-left-color: var(--fill-color);\n",
              "    }\n",
              "    20% {\n",
              "      border-color: transparent;\n",
              "      border-left-color: var(--fill-color);\n",
              "      border-top-color: var(--fill-color);\n",
              "    }\n",
              "    30% {\n",
              "      border-color: transparent;\n",
              "      border-left-color: var(--fill-color);\n",
              "      border-top-color: var(--fill-color);\n",
              "      border-right-color: var(--fill-color);\n",
              "    }\n",
              "    40% {\n",
              "      border-color: transparent;\n",
              "      border-right-color: var(--fill-color);\n",
              "      border-top-color: var(--fill-color);\n",
              "    }\n",
              "    60% {\n",
              "      border-color: transparent;\n",
              "      border-right-color: var(--fill-color);\n",
              "    }\n",
              "    80% {\n",
              "      border-color: transparent;\n",
              "      border-right-color: var(--fill-color);\n",
              "      border-bottom-color: var(--fill-color);\n",
              "    }\n",
              "    90% {\n",
              "      border-color: transparent;\n",
              "      border-bottom-color: var(--fill-color);\n",
              "    }\n",
              "  }\n",
              "</style>\n",
              "\n",
              "  <script>\n",
              "    async function quickchart(key) {\n",
              "      const quickchartButtonEl =\n",
              "        document.querySelector('#' + key + ' button');\n",
              "      quickchartButtonEl.disabled = true;  // To prevent multiple clicks.\n",
              "      quickchartButtonEl.classList.add('colab-df-spinner');\n",
              "      try {\n",
              "        const charts = await google.colab.kernel.invokeFunction(\n",
              "            'suggestCharts', [key], {});\n",
              "      } catch (error) {\n",
              "        console.error('Error during call to suggestCharts:', error);\n",
              "      }\n",
              "      quickchartButtonEl.classList.remove('colab-df-spinner');\n",
              "      quickchartButtonEl.classList.add('colab-df-quickchart-complete');\n",
              "    }\n",
              "    (() => {\n",
              "      let quickchartButtonEl =\n",
              "        document.querySelector('#df-54ba0a99-9848-4ecb-95bd-16869568e1aa button');\n",
              "      quickchartButtonEl.style.display =\n",
              "        google.colab.kernel.accessAllowed ? 'block' : 'none';\n",
              "    })();\n",
              "  </script>\n",
              "</div>\n",
              "    </div>\n",
              "  </div>\n"
            ],
            "application/vnd.google.colaboratory.intrinsic+json": {
              "type": "dataframe"
            }
          },
          "metadata": {},
          "execution_count": 320
        }
      ],
      "source": [
        "merged_df[merged_df[\"car_code\"] == 5152].sort_values([\"car_code\",\"Year_x\"] )"
      ]
    },
    {
      "cell_type": "markdown",
      "id": "Wq6am9qP80Qz",
      "metadata": {
        "id": "Wq6am9qP80Qz"
      },
      "source": [
        "## Selected features"
      ]
    },
    {
      "cell_type": "code",
      "execution_count": 321,
      "id": "CLZUpnD59PWb",
      "metadata": {
        "ExecuteTime": {
          "end_time": "2024-02-25T21:34:41.330438Z",
          "start_time": "2024-02-25T21:34:41.307520Z"
        },
        "colab": {
          "base_uri": "https://localhost:8080/"
        },
        "id": "CLZUpnD59PWb",
        "outputId": "674c7549-3e8c-4c55-9d8b-e884be785030"
      },
      "outputs": [
        {
          "output_type": "execute_result",
          "data": {
            "text/plain": [
              "Index(['car_code', 'car_manufacturer', 'car_model', 'car_model_year', 'Year_x',\n",
              "       'Price_YoY', 'calendar_year', 'Propulsion_Combustion',\n",
              "       'Propulsion_Electric', 'Propulsion_Hybrid',\n",
              "       ...\n",
              "       'Maximum power', 'Unit displacement', 'Trunk', 'USB connection',\n",
              "       'Gear speed transmissions', 'Urban', 'Year_y', 'Radio',\n",
              "       'Folding rear seat', 'Perimeter anti theft alarm'],\n",
              "      dtype='object', length=107)"
            ]
          },
          "metadata": {},
          "execution_count": 321
        }
      ],
      "source": [
        "merged_df.columns"
      ]
    },
    {
      "cell_type": "code",
      "execution_count": 322,
      "id": "C95eqa9z_JVH",
      "metadata": {
        "ExecuteTime": {
          "end_time": "2024-02-25T21:34:41.361064Z",
          "start_time": "2024-02-25T21:34:41.340860Z"
        },
        "id": "C95eqa9z_JVH"
      },
      "outputs": [],
      "source": [
        "columns_to_correlate = [ 'car_model_year' , 'Year_x' , 'Price_YoY' ,\n",
        "                          'calendar_year' , 'Acceleration' , 'Length' , 'Maximum torque' , 'Width' ,\n",
        "                        'Compression ratio' , 'CNW Ranking' , 'Weight/Torque' , 'Guarantee' , 'Drag coefficient' , 'Height' , 'Valves per cylinder' ,\n",
        "                        'Specific torque' , 'Minimum height from the ground' , 'Piston course' , 'Weight' , 'Price R' , 'Front gauge' , 'Weight/power' ,\n",
        "                        'Displacement' , 'Max power regime.' , 'Turns diameter' , 'Cylinder diameter' , 'Rear gauge' , 'Length between the axis' , 'Maximum speed' ,\n",
        "                        'Fuel tank' , 'Devaluation' , 'Road consumption' , 'Max torque regime' , 'Car payload' , 'Specific power' , 'CNW Index' , 'Reader score' ,\n",
        "                        'Sidewall height' , 'Doors' , 'Maximum power' , 'Unit displacement' , 'Trunk' , 'Gear speed transmissions' , 'Urban' , 'Year_y' , 'car_model_small' , 'Next_Price_sd_scaled']"
      ]
    },
    {
      "cell_type": "code",
      "execution_count": 323,
      "id": "6RQg3_QG9g21",
      "metadata": {
        "ExecuteTime": {
          "end_time": "2024-02-25T21:34:41.704316Z",
          "start_time": "2024-02-25T21:34:41.375284Z"
        },
        "id": "6RQg3_QG9g21"
      },
      "outputs": [],
      "source": [
        "for column in merged_df.columns:\n",
        "  if merged_df[column].nunique() > 2:\n",
        "    #print(column)\n",
        "    pass"
      ]
    },
    {
      "cell_type": "code",
      "execution_count": 324,
      "id": "CMG4VUOm85XB",
      "metadata": {
        "ExecuteTime": {
          "end_time": "2024-02-25T21:34:45.712071Z",
          "start_time": "2024-02-25T21:34:41.711769Z"
        },
        "colab": {
          "base_uri": "https://localhost:8080/",
          "height": 669
        },
        "id": "CMG4VUOm85XB",
        "outputId": "0ef0353c-8517-420f-e322-743b1b57b28b"
      },
      "outputs": [
        {
          "output_type": "execute_result",
          "data": {
            "text/plain": [
              "<Axes: >"
            ]
          },
          "metadata": {},
          "execution_count": 324
        },
        {
          "output_type": "display_data",
          "data": {
            "text/plain": [
              "<Figure size 640x480 with 2 Axes>"
            ],
            "image/png": "[encoded data removed]"
          },
          "metadata": {}
        }
      ],
      "source": [
        "X_view = pd.DataFrame(merged_df, columns=columns_to_correlate)\n",
        "\n",
        "X_view\n",
        "sns.heatmap(pd.DataFrame(X_view).corr(), cmap='coolwarm')"
      ]
    },
    {
      "cell_type": "code",
      "execution_count": 325,
      "id": "6swEZXZSpRlk",
      "metadata": {
        "ExecuteTime": {
          "end_time": "2024-02-25T21:34:45.733135Z",
          "start_time": "2024-02-25T21:34:45.721133Z"
        },
        "id": "6swEZXZSpRlk"
      },
      "outputs": [],
      "source": [
        "columns_to_drop = ['Year_y',\n",
        "'Price_YoY',\n",
        "'Length between the axis',\n",
        "'Weight',\n",
        "'Maximum power',\n",
        "'Displacement',\n",
        "'Rear gauge',\n",
        "'Front gauge',\n",
        "'Unit displacement',\n",
        "\"Maximum torque\",\n",
        "\"Weight/power\",\n",
        "\"CNW Ranking\",\n",
        "\"CNW Index\",\n",
        "\"Maximum speed\" #we keep acceleration only\n",
        "]"
      ]
    },
    {
      "cell_type": "code",
      "execution_count": 325,
      "id": "G00GNO1BqDe4",
      "metadata": {
        "id": "G00GNO1BqDe4"
      },
      "outputs": [],
      "source": []
    },
    {
      "cell_type": "code",
      "execution_count": 326,
      "id": "x18Oe0yj_tFY",
      "metadata": {
        "ExecuteTime": {
          "end_time": "2024-02-25T21:34:46.611720Z",
          "start_time": "2024-02-25T21:34:45.740669Z"
        },
        "colab": {
          "base_uri": "https://localhost:8080/",
          "height": 241
        },
        "id": "x18Oe0yj_tFY",
        "outputId": "65db0bb3-f491-4670-80bf-a6b041ec3e3a"
      },
      "outputs": [
        {
          "output_type": "stream",
          "name": "stderr",
          "text": [
            "<ipython-input-326-0c3f657b22ae>:4: UserWarning: Boolean Series key will be reindexed to match DataFrame index.\n",
            "  melt = melt[melt[\"value\"] > 0.75][melt[\"value\"] < 1]\n"
          ]
        },
        {
          "output_type": "execute_result",
          "data": {
            "text/plain": [
              "                    Length     Width  Fuel tank  Road consumption     Urban\n",
              "Length            1.000000  0.757523   0.761866         -0.089329 -0.164645\n",
              "Width             0.757523  1.000000   0.769434         -0.158648 -0.213845\n",
              "Fuel tank         0.761866  0.769434   1.000000         -0.189576 -0.318986\n",
              "Road consumption -0.089329 -0.158648  -0.189576          1.000000  0.823733\n",
              "Urban            -0.164645 -0.213845  -0.318986          0.823733  1.000000"
            ],
            "text/html": [
              "\n",
              "  <div id=\"df-2cc4c500-01f2-4776-b1fd-a643cf6b5343\" class=\"colab-df-container\">\n",
              "    <div>\n",
              "<style scoped>\n",
              "    .dataframe tbody tr th:only-of-type {\n",
              "        vertical-align: middle;\n",
              "    }\n",
              "\n",
              "    .dataframe tbody tr th {\n",
              "        vertical-align: top;\n",
              "    }\n",
              "\n",
              "    .dataframe thead th {\n",
              "        text-align: right;\n",
              "    }\n",
              "</style>\n",
              "<table border=\"1\" class=\"dataframe\">\n",
              "  <thead>\n",
              "    <tr style=\"text-align: right;\">\n",
              "      <th></th>\n",
              "      <th>Length</th>\n",
              "      <th>Width</th>\n",
              "      <th>Fuel tank</th>\n",
              "      <th>Road consumption</th>\n",
              "      <th>Urban</th>\n",
              "    </tr>\n",
              "  </thead>\n",
              "  <tbody>\n",
              "    <tr>\n",
              "      <th>Length</th>\n",
              "      <td>1.000000</td>\n",
              "      <td>0.757523</td>\n",
              "      <td>0.761866</td>\n",
              "      <td>-0.089329</td>\n",
              "      <td>-0.164645</td>\n",
              "    </tr>\n",
              "    <tr>\n",
              "      <th>Width</th>\n",
              "      <td>0.757523</td>\n",
              "      <td>1.000000</td>\n",
              "      <td>0.769434</td>\n",
              "      <td>-0.158648</td>\n",
              "      <td>-0.213845</td>\n",
              "    </tr>\n",
              "    <tr>\n",
              "      <th>Fuel tank</th>\n",
              "      <td>0.761866</td>\n",
              "      <td>0.769434</td>\n",
              "      <td>1.000000</td>\n",
              "      <td>-0.189576</td>\n",
              "      <td>-0.318986</td>\n",
              "    </tr>\n",
              "    <tr>\n",
              "      <th>Road consumption</th>\n",
              "      <td>-0.089329</td>\n",
              "      <td>-0.158648</td>\n",
              "      <td>-0.189576</td>\n",
              "      <td>1.000000</td>\n",
              "      <td>0.823733</td>\n",
              "    </tr>\n",
              "    <tr>\n",
              "      <th>Urban</th>\n",
              "      <td>-0.164645</td>\n",
              "      <td>-0.213845</td>\n",
              "      <td>-0.318986</td>\n",
              "      <td>0.823733</td>\n",
              "      <td>1.000000</td>\n",
              "    </tr>\n",
              "  </tbody>\n",
              "</table>\n",
              "</div>\n",
              "    <div class=\"colab-df-buttons\">\n",
              "\n",
              "  <div class=\"colab-df-container\">\n",
              "    <button class=\"colab-df-convert\" onclick=\"convertToInteractive('df-2cc4c500-01f2-4776-b1fd-a643cf6b5343')\"\n",
              "            title=\"Convert this dataframe to an interactive table.\"\n",
              "            style=\"display:none;\">\n",
              "\n",
              "  <svg xmlns=\"http://www.w3.org/2000/svg\" height=\"24px\" viewBox=\"0 -960 960 960\">\n",
              "    <path d=\"M120-120v-720h720v720H120Zm60-500h600v-160H180v160Zm220 220h160v-160H400v160Zm0 220h160v-160H400v160ZM180-400h160v-160H180v160Zm440 0h160v-160H620v160ZM180-180h160v-160H180v160Zm440 0h160v-160H620v160Z\"/>\n",
              "  </svg>\n",
              "    </button>\n",
              "\n",
              "  <style>\n",
              "    .colab-df-container {\n",
              "      display:flex;\n",
              "      gap: 12px;\n",
              "    }\n",
              "\n",
              "    .colab-df-convert {\n",
              "      background-color: #E8F0FE;\n",
              "      border: none;\n",
              "      border-radius: 50%;\n",
              "      cursor: pointer;\n",
              "      display: none;\n",
              "      fill: #1967D2;\n",
              "      height: 32px;\n",
              "      padding: 0 0 0 0;\n",
              "      width: 32px;\n",
              "    }\n",
              "\n",
              "    .colab-df-convert:hover {\n",
              "      background-color: #E2EBFA;\n",
              "      box-shadow: 0px 1px 2px rgba(60, 64, 67, 0.3), 0px 1px 3px 1px rgba(60, 64, 67, 0.15);\n",
              "      fill: #174EA6;\n",
              "    }\n",
              "\n",
              "    .colab-df-buttons div {\n",
              "      margin-bottom: 4px;\n",
              "    }\n",
              "\n",
              "    [theme=dark] .colab-df-convert {\n",
              "      background-color: #3B4455;\n",
              "      fill: #D2E3FC;\n",
              "    }\n",
              "\n",
              "    [theme=dark] .colab-df-convert:hover {\n",
              "      background-color: #434B5C;\n",
              "      box-shadow: 0px 1px 3px 1px rgba(0, 0, 0, 0.15);\n",
              "      filter: drop-shadow(0px 1px 2px rgba(0, 0, 0, 0.3));\n",
              "      fill: #FFFFFF;\n",
              "    }\n",
              "  </style>\n",
              "\n",
              "    <script>\n",
              "      const buttonEl =\n",
              "        document.querySelector('#df-2cc4c500-01f2-4776-b1fd-a643cf6b5343 button.colab-df-convert');\n",
              "      buttonEl.style.display =\n",
              "        google.colab.kernel.accessAllowed ? 'block' : 'none';\n",
              "\n",
              "      async function convertToInteractive(key) {\n",
              "        const element = document.querySelector('#df-2cc4c500-01f2-4776-b1fd-a643cf6b5343');\n",
              "        const dataTable =\n",
              "          await google.colab.kernel.invokeFunction('convertToInteractive',\n",
              "                                                    [key], {});\n",
              "        if (!dataTable) return;\n",
              "\n",
              "        const docLinkHtml = 'Like what you see? Visit the ' +\n",
              "          '<a target=\"_blank\" href=https://colab.research.google.com/notebooks/data_table.ipynb>data table notebook</a>'\n",
              "          + ' to learn more about interactive tables.';\n",
              "        element.innerHTML = '';\n",
              "        dataTable['output_type'] = 'display_data';\n",
              "        await google.colab.output.renderOutput(dataTable, element);\n",
              "        const docLink = document.createElement('div');\n",
              "        docLink.innerHTML = docLinkHtml;\n",
              "        element.appendChild(docLink);\n",
              "      }\n",
              "    </script>\n",
              "  </div>\n",
              "\n",
              "\n",
              "<div id=\"df-27c2dc66-dafa-4892-b89c-f7e3b6ac622e\">\n",
              "  <button class=\"colab-df-quickchart\" onclick=\"quickchart('df-27c2dc66-dafa-4892-b89c-f7e3b6ac622e')\"\n",
              "            title=\"Suggest charts\"\n",
              "            style=\"display:none;\">\n",
              "\n",
              "<svg xmlns=\"http://www.w3.org/2000/svg\" height=\"24px\"viewBox=\"0 0 24 24\"\n",
              "     width=\"24px\">\n",
              "    <g>\n",
              "        <path d=\"M19 3H5c-1.1 0-2 .9-2 2v14c0 1.1.9 2 2 2h14c1.1 0 2-.9 2-2V5c0-1.1-.9-2-2-2zM9 17H7v-7h2v7zm4 0h-2V7h2v10zm4 0h-2v-4h2v4z\"/>\n",
              "    </g>\n",
              "</svg>\n",
              "  </button>\n",
              "\n",
              "<style>\n",
              "  .colab-df-quickchart {\n",
              "      --bg-color: #E8F0FE;\n",
              "      --fill-color: #1967D2;\n",
              "      --hover-bg-color: #E2EBFA;\n",
              "      --hover-fill-color: #174EA6;\n",
              "      --disabled-fill-color: #AAA;\n",
              "      --disabled-bg-color: #DDD;\n",
              "  }\n",
              "\n",
              "  [theme=dark] .colab-df-quickchart {\n",
              "      --bg-color: #3B4455;\n",
              "      --fill-color: #D2E3FC;\n",
              "      --hover-bg-color: #434B5C;\n",
              "      --hover-fill-color: #FFFFFF;\n",
              "      --disabled-bg-color: #3B4455;\n",
              "      --disabled-fill-color: #666;\n",
              "  }\n",
              "\n",
              "  .colab-df-quickchart {\n",
              "    background-color: var(--bg-color);\n",
              "    border: none;\n",
              "    border-radius: 50%;\n",
              "    cursor: pointer;\n",
              "    display: none;\n",
              "    fill: var(--fill-color);\n",
              "    height: 32px;\n",
              "    padding: 0;\n",
              "    width: 32px;\n",
              "  }\n",
              "\n",
              "  .colab-df-quickchart:hover {\n",
              "    background-color: var(--hover-bg-color);\n",
              "    box-shadow: 0 1px 2px rgba(60, 64, 67, 0.3), 0 1px 3px 1px rgba(60, 64, 67, 0.15);\n",
              "    fill: var(--button-hover-fill-color);\n",
              "  }\n",
              "\n",
              "  .colab-df-quickchart-complete:disabled,\n",
              "  .colab-df-quickchart-complete:disabled:hover {\n",
              "    background-color: var(--disabled-bg-color);\n",
              "    fill: var(--disabled-fill-color);\n",
              "    box-shadow: none;\n",
              "  }\n",
              "\n",
              "  .colab-df-spinner {\n",
              "    border: 2px solid var(--fill-color);\n",
              "    border-color: transparent;\n",
              "    border-bottom-color: var(--fill-color);\n",
              "    animation:\n",
              "      spin 1s steps(1) infinite;\n",
              "  }\n",
              "\n",
              "  @keyframes spin {\n",
              "    0% {\n",
              "      border-color: transparent;\n",
              "      border-bottom-color: var(--fill-color);\n",
              "      border-left-color: var(--fill-color);\n",
              "    }\n",
              "    20% {\n",
              "      border-color: transparent;\n",
              "      border-left-color: var(--fill-color);\n",
              "      border-top-color: var(--fill-color);\n",
              "    }\n",
              "    30% {\n",
              "      border-color: transparent;\n",
              "      border-left-color: var(--fill-color);\n",
              "      border-top-color: var(--fill-color);\n",
              "      border-right-color: var(--fill-color);\n",
              "    }\n",
              "    40% {\n",
              "      border-color: transparent;\n",
              "      border-right-color: var(--fill-color);\n",
              "      border-top-color: var(--fill-color);\n",
              "    }\n",
              "    60% {\n",
              "      border-color: transparent;\n",
              "      border-right-color: var(--fill-color);\n",
              "    }\n",
              "    80% {\n",
              "      border-color: transparent;\n",
              "      border-right-color: var(--fill-color);\n",
              "      border-bottom-color: var(--fill-color);\n",
              "    }\n",
              "    90% {\n",
              "      border-color: transparent;\n",
              "      border-bottom-color: var(--fill-color);\n",
              "    }\n",
              "  }\n",
              "</style>\n",
              "\n",
              "  <script>\n",
              "    async function quickchart(key) {\n",
              "      const quickchartButtonEl =\n",
              "        document.querySelector('#' + key + ' button');\n",
              "      quickchartButtonEl.disabled = true;  // To prevent multiple clicks.\n",
              "      quickchartButtonEl.classList.add('colab-df-spinner');\n",
              "      try {\n",
              "        const charts = await google.colab.kernel.invokeFunction(\n",
              "            'suggestCharts', [key], {});\n",
              "      } catch (error) {\n",
              "        console.error('Error during call to suggestCharts:', error);\n",
              "      }\n",
              "      quickchartButtonEl.classList.remove('colab-df-spinner');\n",
              "      quickchartButtonEl.classList.add('colab-df-quickchart-complete');\n",
              "    }\n",
              "    (() => {\n",
              "      let quickchartButtonEl =\n",
              "        document.querySelector('#df-27c2dc66-dafa-4892-b89c-f7e3b6ac622e button');\n",
              "      quickchartButtonEl.style.display =\n",
              "        google.colab.kernel.accessAllowed ? 'block' : 'none';\n",
              "    })();\n",
              "  </script>\n",
              "</div>\n",
              "    </div>\n",
              "  </div>\n"
            ],
            "application/vnd.google.colaboratory.intrinsic+json": {
              "type": "dataframe",
              "variable_name": "high_corr_matrix",
              "summary": "{\n  \"name\": \"high_corr_matrix\",\n  \"rows\": 5,\n  \"fields\": [\n    {\n      \"column\": \"Length\",\n      \"properties\": {\n        \"dtype\": \"number\",\n        \"std\": 0.5392003236841144,\n        \"min\": -0.16464512419239555,\n        \"max\": 1.0,\n        \"num_unique_values\": 5,\n        \"samples\": [\n          0.757523183600441,\n          -0.16464512419239555,\n          0.7618655726216425\n        ],\n        \"semantic_type\": \"\",\n        \"description\": \"\"\n      }\n    },\n    {\n      \"column\": \"Width\",\n      \"properties\": {\n        \"dtype\": \"number\",\n        \"std\": 0.5719320423255149,\n        \"min\": -0.21384493802375304,\n        \"max\": 1.0,\n        \"num_unique_values\": 5,\n        \"samples\": [\n          1.0,\n          -0.21384493802375304,\n          0.7694339563320707\n        ],\n        \"semantic_type\": \"\",\n        \"description\": \"\"\n      }\n    },\n    {\n      \"column\": \"Fuel tank\",\n      \"properties\": {\n        \"dtype\": \"number\",\n        \"std\": 0.6107097067540448,\n        \"min\": -0.3189855706405434,\n        \"max\": 1.0,\n        \"num_unique_values\": 5,\n        \"samples\": [\n          0.7694339563320707,\n          -0.3189855706405434,\n          1.0\n        ],\n        \"semantic_type\": \"\",\n        \"description\": \"\"\n      }\n    },\n    {\n      \"column\": \"Road consumption\",\n      \"properties\": {\n        \"dtype\": \"number\",\n        \"std\": 0.5838075673741188,\n        \"min\": -0.18957645052803668,\n        \"max\": 1.0,\n        \"num_unique_values\": 5,\n        \"samples\": [\n          -0.1586475007506644,\n          0.8237328612576691,\n          -0.18957645052803668\n        ],\n        \"semantic_type\": \"\",\n        \"description\": \"\"\n      }\n    },\n    {\n      \"column\": \"Urban\",\n      \"properties\": {\n        \"dtype\": \"number\",\n        \"std\": 0.6323437013456846,\n        \"min\": -0.3189855706405434,\n        \"max\": 1.0,\n        \"num_unique_values\": 5,\n        \"samples\": [\n          -0.21384493802375304,\n          1.0,\n          -0.3189855706405434\n        ],\n        \"semantic_type\": \"\",\n        \"description\": \"\"\n      }\n    }\n  ]\n}"
            }
          },
          "metadata": {},
          "execution_count": 326
        }
      ],
      "source": [
        "\n",
        "\n",
        "corr_matrix = pd.DataFrame(X_view.drop(columns=columns_to_drop)).corr()\n",
        "corr_matrix\n",
        "melt = corr_matrix.melt(id_vars=corr_matrix.index.name, value_vars =corr_matrix.index.name )\n",
        "melt = melt[melt[\"value\"] > 0.75][melt[\"value\"] < 1]\n",
        "high_corr = melt.variable.unique()\n",
        "\n",
        "high_corr_matrix = pd.DataFrame(X_view[high_corr]).corr()\n",
        "high_corr_matrix"
      ]
    },
    {
      "cell_type": "code",
      "execution_count": 327,
      "id": "lT5cKJI0q4US",
      "metadata": {
        "ExecuteTime": {
          "end_time": "2024-02-25T21:34:48.914410Z",
          "start_time": "2024-02-25T21:34:46.619022Z"
        },
        "colab": {
          "base_uri": "https://localhost:8080/",
          "height": 586
        },
        "id": "lT5cKJI0q4US",
        "outputId": "0f6eeb5f-6521-40f1-f3be-09bdbee3e3be"
      },
      "outputs": [
        {
          "output_type": "execute_result",
          "data": {
            "text/plain": [
              "<Axes: >"
            ]
          },
          "metadata": {},
          "execution_count": 327
        },
        {
          "output_type": "display_data",
          "data": {
            "text/plain": [
              "<Figure size 640x480 with 2 Axes>"
            ],
            "image/png": "[encoded data removed]"
          },
          "metadata": {}
        }
      ],
      "source": [
        "sns.heatmap(pd.DataFrame(X_view.drop(columns=columns_to_drop)).corr(), cmap='coolwarm')"
      ]
    },
    {
      "cell_type": "markdown",
      "id": "a9b85ea6",
      "metadata": {
        "ExecuteTime": {
          "end_time": "2024-02-07T12:19:07.061752Z",
          "start_time": "2024-02-07T12:19:07.053181Z"
        },
        "id": "a9b85ea6"
      },
      "source": [
        "# Model preprocessor"
      ]
    },
    {
      "cell_type": "code",
      "execution_count": 328,
      "id": "7dbcfedf",
      "metadata": {
        "ExecuteTime": {
          "end_time": "2024-02-25T21:34:48.935091Z",
          "start_time": "2024-02-25T21:34:48.923258Z"
        },
        "id": "7dbcfedf"
      },
      "outputs": [],
      "source": [
        "import numpy as np\n",
        "from sklearn.model_selection import train_test_split"
      ]
    },
    {
      "cell_type": "code",
      "execution_count": 329,
      "id": "c5eae425",
      "metadata": {
        "ExecuteTime": {
          "end_time": "2024-02-25T21:34:48.956582Z",
          "start_time": "2024-02-25T21:34:48.943378Z"
        },
        "id": "c5eae425"
      },
      "outputs": [],
      "source": [
        "from sklearn.compose import ColumnTransformer\n",
        "\n",
        "from sklearn.pipeline import Pipeline\n",
        "from sklearn.impute import SimpleImputer\n",
        "from sklearn.preprocessing import StandardScaler\n",
        "\n",
        "from sklearn.preprocessing import OneHotEncoder"
      ]
    },
    {
      "cell_type": "markdown",
      "id": "a0a402ff",
      "metadata": {
        "id": "a0a402ff"
      },
      "source": [
        "# Model X and y - train test validade sets"
      ]
    },
    {
      "cell_type": "code",
      "execution_count": 330,
      "id": "3715e05c",
      "metadata": {
        "ExecuteTime": {
          "end_time": "2024-02-25T21:35:31.105626Z",
          "start_time": "2024-02-25T21:35:30.789009Z"
        },
        "colab": {
          "base_uri": "https://localhost:8080/"
        },
        "id": "3715e05c",
        "outputId": "37e6bd62-bc79-41d9-bd31-33becee1e565"
      },
      "outputs": [
        {
          "output_type": "execute_result",
          "data": {
            "text/plain": [
              "car_code                      20708\n",
              "car_manufacturer                106\n",
              "car_model                      6373\n",
              "car_model_year                   57\n",
              "Year_x                           20\n",
              "                              ...  \n",
              "Urban                           164\n",
              "Year_y                           57\n",
              "Radio                             2\n",
              "Folding rear seat                 2\n",
              "Perimeter anti theft alarm        2\n",
              "Length: 107, dtype: int64"
            ]
          },
          "metadata": {},
          "execution_count": 330
        }
      ],
      "source": [
        "merged_df.nunique()"
      ]
    },
    {
      "cell_type": "code",
      "execution_count": 331,
      "id": "f3329e91",
      "metadata": {
        "ExecuteTime": {
          "end_time": "2024-02-25T21:22:39.563797Z",
          "start_time": "2024-02-25T21:22:39.386123Z"
        },
        "colab": {
          "base_uri": "https://localhost:8080/",
          "height": 687
        },
        "id": "f3329e91",
        "outputId": "3ec0d0a4-b8f6-4881-d691-32df65d171a3"
      },
      "outputs": [
        {
          "output_type": "execute_result",
          "data": {
            "text/plain": [
              "        car_code car_manufacturer                     car_model  \\\n",
              "2320         371       Volkswagen                      Polo 1.6   \n",
              "2333         372             Ford       Fiesta Supercharger 1.0   \n",
              "2376         376             Audi          S3 1.8 Turbo Quattro   \n",
              "2389         377       Alfa Romeo                    156 2.5 V6   \n",
              "2402         379       Volkswagen               Parati Tour 2.0   \n",
              "...          ...              ...                           ...   \n",
              "108395     22700            Lexus                  ES350 3.5 V6   \n",
              "108396     22706              Ram  3500 Yellowstone Edition 6.7   \n",
              "108513     23313              GMC           Hummer EV Edition 1   \n",
              "108548     23661          McLaren           765LT Spider 4.0 V8   \n",
              "108549     23668     Aston Martin      DBS Superleggera 5.2 V12   \n",
              "\n",
              "        car_model_year  Year_x  Price_YoY  calendar_year  \\\n",
              "2320            2003.0    20.0   1.022858         2023.0   \n",
              "2333            2003.0    20.0   1.052518         2023.0   \n",
              "2376            2003.0    20.0   1.095261         2023.0   \n",
              "2389            2003.0    20.0   0.990306         2023.0   \n",
              "2402            2003.0    20.0   0.936489         2023.0   \n",
              "...                ...     ...        ...            ...   \n",
              "108395          2011.0    12.0   0.954673         2023.0   \n",
              "108396          2022.0     1.0   0.883727         2023.0   \n",
              "108513          2022.0     1.0   1.105359         2023.0   \n",
              "108548          2022.0     1.0   0.926604         2023.0   \n",
              "108549          2022.0     1.0   0.896931         2023.0   \n",
              "\n",
              "        Propulsion_Combustion  Propulsion_Electric  Propulsion_Hybrid  ...  \\\n",
              "2320                      1.0                  0.0                0.0  ...   \n",
              "2333                      1.0                  0.0                0.0  ...   \n",
              "2376                      1.0                  0.0                0.0  ...   \n",
              "2389                      1.0                  0.0                0.0  ...   \n",
              "2402                      1.0                  0.0                0.0  ...   \n",
              "...                       ...                  ...                ...  ...   \n",
              "108395                    1.0                  0.0                0.0  ...   \n",
              "108396                    1.0                  0.0                0.0  ...   \n",
              "108513                    0.0                  1.0                0.0  ...   \n",
              "108548                    1.0                  0.0                0.0  ...   \n",
              "108549                    1.0                  0.0                0.0  ...   \n",
              "\n",
              "        Maximum power  Unit displacement     Trunk  USB connection  \\\n",
              "2320         0.038122           0.399588  0.017673             0.0   \n",
              "2333         0.034807           0.249986  0.020007             0.0   \n",
              "2376         0.106630           0.445773  0.017673             0.0   \n",
              "2389         0.087293           0.415652  0.024875             0.0   \n",
              "2402         0.044199           0.496979  0.028810             0.0   \n",
              "...               ...                ...       ...             ...   \n",
              "108395       0.139227           0.577302  0.027609             0.0   \n",
              "108396       0.190608           0.000097  0.026542             1.0   \n",
              "108513       0.055249           0.487943  0.026542             1.0   \n",
              "108548       0.404972           0.499991  0.009670             1.0   \n",
              "108549       0.382873           0.495975  0.017673             1.0   \n",
              "\n",
              "        Gear speed transmissions     Urban    Year_y  Radio  \\\n",
              "2320                    0.454545  0.151365  0.625000    0.0   \n",
              "2333                    0.454545  0.141439  0.625000    0.0   \n",
              "2376                    0.545455  0.106700  0.625000    0.0   \n",
              "2389                    0.363636  0.101737  0.625000    0.0   \n",
              "2402                    0.454545  0.106700  0.625000    0.0   \n",
              "...                          ...       ...       ...    ...   \n",
              "108395                  0.545455  0.079404  0.767857    0.0   \n",
              "108396                  0.545455  0.069479  0.964286    1.0   \n",
              "108513                  0.090909  0.131514  0.964286    1.0   \n",
              "108548                  0.636364  0.037221  0.964286    1.0   \n",
              "108549                  0.727273  0.037221  0.964286    1.0   \n",
              "\n",
              "        Folding rear seat  Perimeter anti theft alarm  \n",
              "2320                  0.0                         0.0  \n",
              "2333                  0.0                         0.0  \n",
              "2376                  0.0                         0.0  \n",
              "2389                  0.0                         0.0  \n",
              "2402                  0.0                         0.0  \n",
              "...                   ...                         ...  \n",
              "108395                0.0                         0.0  \n",
              "108396                1.0                         1.0  \n",
              "108513                1.0                         1.0  \n",
              "108548                0.0                         1.0  \n",
              "108549                0.0                         1.0  \n",
              "\n",
              "[14705 rows x 107 columns]"
            ],
            "text/html": [
              "\n",
              "  <div id=\"df-f2b2d19c-dc16-4680-88fd-93ca4c12db97\" class=\"colab-df-container\">\n",
              "    <div>\n",
              "<style scoped>\n",
              "    .dataframe tbody tr th:only-of-type {\n",
              "        vertical-align: middle;\n",
              "    }\n",
              "\n",
              "    .dataframe tbody tr th {\n",
              "        vertical-align: top;\n",
              "    }\n",
              "\n",
              "    .dataframe thead th {\n",
              "        text-align: right;\n",
              "    }\n",
              "</style>\n",
              "<table border=\"1\" class=\"dataframe\">\n",
              "  <thead>\n",
              "    <tr style=\"text-align: right;\">\n",
              "      <th></th>\n",
              "      <th>car_code</th>\n",
              "      <th>car_manufacturer</th>\n",
              "      <th>car_model</th>\n",
              "      <th>car_model_year</th>\n",
              "      <th>Year_x</th>\n",
              "      <th>Price_YoY</th>\n",
              "      <th>calendar_year</th>\n",
              "      <th>Propulsion_Combustion</th>\n",
              "      <th>Propulsion_Electric</th>\n",
              "      <th>Propulsion_Hybrid</th>\n",
              "      <th>...</th>\n",
              "      <th>Maximum power</th>\n",
              "      <th>Unit displacement</th>\n",
              "      <th>Trunk</th>\n",
              "      <th>USB connection</th>\n",
              "      <th>Gear speed transmissions</th>\n",
              "      <th>Urban</th>\n",
              "      <th>Year_y</th>\n",
              "      <th>Radio</th>\n",
              "      <th>Folding rear seat</th>\n",
              "      <th>Perimeter anti theft alarm</th>\n",
              "    </tr>\n",
              "  </thead>\n",
              "  <tbody>\n",
              "    <tr>\n",
              "      <th>2320</th>\n",
              "      <td>371</td>\n",
              "      <td>Volkswagen</td>\n",
              "      <td>Polo 1.6</td>\n",
              "      <td>2003.0</td>\n",
              "      <td>20.0</td>\n",
              "      <td>1.022858</td>\n",
              "      <td>2023.0</td>\n",
              "      <td>1.0</td>\n",
              "      <td>0.0</td>\n",
              "      <td>0.0</td>\n",
              "      <td>...</td>\n",
              "      <td>0.038122</td>\n",
              "      <td>0.399588</td>\n",
              "      <td>0.017673</td>\n",
              "      <td>0.0</td>\n",
              "      <td>0.454545</td>\n",
              "      <td>0.151365</td>\n",
              "      <td>0.625000</td>\n",
              "      <td>0.0</td>\n",
              "      <td>0.0</td>\n",
              "      <td>0.0</td>\n",
              "    </tr>\n",
              "    <tr>\n",
              "      <th>2333</th>\n",
              "      <td>372</td>\n",
              "      <td>Ford</td>\n",
              "      <td>Fiesta Supercharger 1.0</td>\n",
              "      <td>2003.0</td>\n",
              "      <td>20.0</td>\n",
              "      <td>1.052518</td>\n",
              "      <td>2023.0</td>\n",
              "      <td>1.0</td>\n",
              "      <td>0.0</td>\n",
              "      <td>0.0</td>\n",
              "      <td>...</td>\n",
              "      <td>0.034807</td>\n",
              "      <td>0.249986</td>\n",
              "      <td>0.020007</td>\n",
              "      <td>0.0</td>\n",
              "      <td>0.454545</td>\n",
              "      <td>0.141439</td>\n",
              "      <td>0.625000</td>\n",
              "      <td>0.0</td>\n",
              "      <td>0.0</td>\n",
              "      <td>0.0</td>\n",
              "    </tr>\n",
              "    <tr>\n",
              "      <th>2376</th>\n",
              "      <td>376</td>\n",
              "      <td>Audi</td>\n",
              "      <td>S3 1.8 Turbo Quattro</td>\n",
              "      <td>2003.0</td>\n",
              "      <td>20.0</td>\n",
              "      <td>1.095261</td>\n",
              "      <td>2023.0</td>\n",
              "      <td>1.0</td>\n",
              "      <td>0.0</td>\n",
              "      <td>0.0</td>\n",
              "      <td>...</td>\n",
              "      <td>0.106630</td>\n",
              "      <td>0.445773</td>\n",
              "      <td>0.017673</td>\n",
              "      <td>0.0</td>\n",
              "      <td>0.545455</td>\n",
              "      <td>0.106700</td>\n",
              "      <td>0.625000</td>\n",
              "      <td>0.0</td>\n",
              "      <td>0.0</td>\n",
              "      <td>0.0</td>\n",
              "    </tr>\n",
              "    <tr>\n",
              "      <th>2389</th>\n",
              "      <td>377</td>\n",
              "      <td>Alfa Romeo</td>\n",
              "      <td>156 2.5 V6</td>\n",
              "      <td>2003.0</td>\n",
              "      <td>20.0</td>\n",
              "      <td>0.990306</td>\n",
              "      <td>2023.0</td>\n",
              "      <td>1.0</td>\n",
              "      <td>0.0</td>\n",
              "      <td>0.0</td>\n",
              "      <td>...</td>\n",
              "      <td>0.087293</td>\n",
              "      <td>0.415652</td>\n",
              "      <td>0.024875</td>\n",
              "      <td>0.0</td>\n",
              "      <td>0.363636</td>\n",
              "      <td>0.101737</td>\n",
              "      <td>0.625000</td>\n",
              "      <td>0.0</td>\n",
              "      <td>0.0</td>\n",
              "      <td>0.0</td>\n",
              "    </tr>\n",
              "    <tr>\n",
              "      <th>2402</th>\n",
              "      <td>379</td>\n",
              "      <td>Volkswagen</td>\n",
              "      <td>Parati Tour 2.0</td>\n",
              "      <td>2003.0</td>\n",
              "      <td>20.0</td>\n",
              "      <td>0.936489</td>\n",
              "      <td>2023.0</td>\n",
              "      <td>1.0</td>\n",
              "      <td>0.0</td>\n",
              "      <td>0.0</td>\n",
              "      <td>...</td>\n",
              "      <td>0.044199</td>\n",
              "      <td>0.496979</td>\n",
              "      <td>0.028810</td>\n",
              "      <td>0.0</td>\n",
              "      <td>0.454545</td>\n",
              "      <td>0.106700</td>\n",
              "      <td>0.625000</td>\n",
              "      <td>0.0</td>\n",
              "      <td>0.0</td>\n",
              "      <td>0.0</td>\n",
              "    </tr>\n",
              "    <tr>\n",
              "      <th>...</th>\n",
              "      <td>...</td>\n",
              "      <td>...</td>\n",
              "      <td>...</td>\n",
              "      <td>...</td>\n",
              "      <td>...</td>\n",
              "      <td>...</td>\n",
              "      <td>...</td>\n",
              "      <td>...</td>\n",
              "      <td>...</td>\n",
              "      <td>...</td>\n",
              "      <td>...</td>\n",
              "      <td>...</td>\n",
              "      <td>...</td>\n",
              "      <td>...</td>\n",
              "      <td>...</td>\n",
              "      <td>...</td>\n",
              "      <td>...</td>\n",
              "      <td>...</td>\n",
              "      <td>...</td>\n",
              "      <td>...</td>\n",
              "      <td>...</td>\n",
              "    </tr>\n",
              "    <tr>\n",
              "      <th>108395</th>\n",
              "      <td>22700</td>\n",
              "      <td>Lexus</td>\n",
              "      <td>ES350 3.5 V6</td>\n",
              "      <td>2011.0</td>\n",
              "      <td>12.0</td>\n",
              "      <td>0.954673</td>\n",
              "      <td>2023.0</td>\n",
              "      <td>1.0</td>\n",
              "      <td>0.0</td>\n",
              "      <td>0.0</td>\n",
              "      <td>...</td>\n",
              "      <td>0.139227</td>\n",
              "      <td>0.577302</td>\n",
              "      <td>0.027609</td>\n",
              "      <td>0.0</td>\n",
              "      <td>0.545455</td>\n",
              "      <td>0.079404</td>\n",
              "      <td>0.767857</td>\n",
              "      <td>0.0</td>\n",
              "      <td>0.0</td>\n",
              "      <td>0.0</td>\n",
              "    </tr>\n",
              "    <tr>\n",
              "      <th>108396</th>\n",
              "      <td>22706</td>\n",
              "      <td>Ram</td>\n",
              "      <td>3500 Yellowstone Edition 6.7</td>\n",
              "      <td>2022.0</td>\n",
              "      <td>1.0</td>\n",
              "      <td>0.883727</td>\n",
              "      <td>2023.0</td>\n",
              "      <td>1.0</td>\n",
              "      <td>0.0</td>\n",
              "      <td>0.0</td>\n",
              "      <td>...</td>\n",
              "      <td>0.190608</td>\n",
              "      <td>0.000097</td>\n",
              "      <td>0.026542</td>\n",
              "      <td>1.0</td>\n",
              "      <td>0.545455</td>\n",
              "      <td>0.069479</td>\n",
              "      <td>0.964286</td>\n",
              "      <td>1.0</td>\n",
              "      <td>1.0</td>\n",
              "      <td>1.0</td>\n",
              "    </tr>\n",
              "    <tr>\n",
              "      <th>108513</th>\n",
              "      <td>23313</td>\n",
              "      <td>GMC</td>\n",
              "      <td>Hummer EV Edition 1</td>\n",
              "      <td>2022.0</td>\n",
              "      <td>1.0</td>\n",
              "      <td>1.105359</td>\n",
              "      <td>2023.0</td>\n",
              "      <td>0.0</td>\n",
              "      <td>1.0</td>\n",
              "      <td>0.0</td>\n",
              "      <td>...</td>\n",
              "      <td>0.055249</td>\n",
              "      <td>0.487943</td>\n",
              "      <td>0.026542</td>\n",
              "      <td>1.0</td>\n",
              "      <td>0.090909</td>\n",
              "      <td>0.131514</td>\n",
              "      <td>0.964286</td>\n",
              "      <td>1.0</td>\n",
              "      <td>1.0</td>\n",
              "      <td>1.0</td>\n",
              "    </tr>\n",
              "    <tr>\n",
              "      <th>108548</th>\n",
              "      <td>23661</td>\n",
              "      <td>McLaren</td>\n",
              "      <td>765LT Spider 4.0 V8</td>\n",
              "      <td>2022.0</td>\n",
              "      <td>1.0</td>\n",
              "      <td>0.926604</td>\n",
              "      <td>2023.0</td>\n",
              "      <td>1.0</td>\n",
              "      <td>0.0</td>\n",
              "      <td>0.0</td>\n",
              "      <td>...</td>\n",
              "      <td>0.404972</td>\n",
              "      <td>0.499991</td>\n",
              "      <td>0.009670</td>\n",
              "      <td>1.0</td>\n",
              "      <td>0.636364</td>\n",
              "      <td>0.037221</td>\n",
              "      <td>0.964286</td>\n",
              "      <td>1.0</td>\n",
              "      <td>0.0</td>\n",
              "      <td>1.0</td>\n",
              "    </tr>\n",
              "    <tr>\n",
              "      <th>108549</th>\n",
              "      <td>23668</td>\n",
              "      <td>Aston Martin</td>\n",
              "      <td>DBS Superleggera 5.2 V12</td>\n",
              "      <td>2022.0</td>\n",
              "      <td>1.0</td>\n",
              "      <td>0.896931</td>\n",
              "      <td>2023.0</td>\n",
              "      <td>1.0</td>\n",
              "      <td>0.0</td>\n",
              "      <td>0.0</td>\n",
              "      <td>...</td>\n",
              "      <td>0.382873</td>\n",
              "      <td>0.495975</td>\n",
              "      <td>0.017673</td>\n",
              "      <td>1.0</td>\n",
              "      <td>0.727273</td>\n",
              "      <td>0.037221</td>\n",
              "      <td>0.964286</td>\n",
              "      <td>1.0</td>\n",
              "      <td>0.0</td>\n",
              "      <td>1.0</td>\n",
              "    </tr>\n",
              "  </tbody>\n",
              "</table>\n",
              "<p>14705 rows × 107 columns</p>\n",
              "</div>\n",
              "    <div class=\"colab-df-buttons\">\n",
              "\n",
              "  <div class=\"colab-df-container\">\n",
              "    <button class=\"colab-df-convert\" onclick=\"convertToInteractive('df-f2b2d19c-dc16-4680-88fd-93ca4c12db97')\"\n",
              "            title=\"Convert this dataframe to an interactive table.\"\n",
              "            style=\"display:none;\">\n",
              "\n",
              "  <svg xmlns=\"http://www.w3.org/2000/svg\" height=\"24px\" viewBox=\"0 -960 960 960\">\n",
              "    <path d=\"M120-120v-720h720v720H120Zm60-500h600v-160H180v160Zm220 220h160v-160H400v160Zm0 220h160v-160H400v160ZM180-400h160v-160H180v160Zm440 0h160v-160H620v160ZM180-180h160v-160H180v160Zm440 0h160v-160H620v160Z\"/>\n",
              "  </svg>\n",
              "    </button>\n",
              "\n",
              "  <style>\n",
              "    .colab-df-container {\n",
              "      display:flex;\n",
              "      gap: 12px;\n",
              "    }\n",
              "\n",
              "    .colab-df-convert {\n",
              "      background-color: #E8F0FE;\n",
              "      border: none;\n",
              "      border-radius: 50%;\n",
              "      cursor: pointer;\n",
              "      display: none;\n",
              "      fill: #1967D2;\n",
              "      height: 32px;\n",
              "      padding: 0 0 0 0;\n",
              "      width: 32px;\n",
              "    }\n",
              "\n",
              "    .colab-df-convert:hover {\n",
              "      background-color: #E2EBFA;\n",
              "      box-shadow: 0px 1px 2px rgba(60, 64, 67, 0.3), 0px 1px 3px 1px rgba(60, 64, 67, 0.15);\n",
              "      fill: #174EA6;\n",
              "    }\n",
              "\n",
              "    .colab-df-buttons div {\n",
              "      margin-bottom: 4px;\n",
              "    }\n",
              "\n",
              "    [theme=dark] .colab-df-convert {\n",
              "      background-color: #3B4455;\n",
              "      fill: #D2E3FC;\n",
              "    }\n",
              "\n",
              "    [theme=dark] .colab-df-convert:hover {\n",
              "      background-color: #434B5C;\n",
              "      box-shadow: 0px 1px 3px 1px rgba(0, 0, 0, 0.15);\n",
              "      filter: drop-shadow(0px 1px 2px rgba(0, 0, 0, 0.3));\n",
              "      fill: #FFFFFF;\n",
              "    }\n",
              "  </style>\n",
              "\n",
              "    <script>\n",
              "      const buttonEl =\n",
              "        document.querySelector('#df-f2b2d19c-dc16-4680-88fd-93ca4c12db97 button.colab-df-convert');\n",
              "      buttonEl.style.display =\n",
              "        google.colab.kernel.accessAllowed ? 'block' : 'none';\n",
              "\n",
              "      async function convertToInteractive(key) {\n",
              "        const element = document.querySelector('#df-f2b2d19c-dc16-4680-88fd-93ca4c12db97');\n",
              "        const dataTable =\n",
              "          await google.colab.kernel.invokeFunction('convertToInteractive',\n",
              "                                                    [key], {});\n",
              "        if (!dataTable) return;\n",
              "\n",
              "        const docLinkHtml = 'Like what you see? Visit the ' +\n",
              "          '<a target=\"_blank\" href=https://colab.research.google.com/notebooks/data_table.ipynb>data table notebook</a>'\n",
              "          + ' to learn more about interactive tables.';\n",
              "        element.innerHTML = '';\n",
              "        dataTable['output_type'] = 'display_data';\n",
              "        await google.colab.output.renderOutput(dataTable, element);\n",
              "        const docLink = document.createElement('div');\n",
              "        docLink.innerHTML = docLinkHtml;\n",
              "        element.appendChild(docLink);\n",
              "      }\n",
              "    </script>\n",
              "  </div>\n",
              "\n",
              "\n",
              "<div id=\"df-fdfb3ba5-a193-4d98-8499-7c43d8d64b2c\">\n",
              "  <button class=\"colab-df-quickchart\" onclick=\"quickchart('df-fdfb3ba5-a193-4d98-8499-7c43d8d64b2c')\"\n",
              "            title=\"Suggest charts\"\n",
              "            style=\"display:none;\">\n",
              "\n",
              "<svg xmlns=\"http://www.w3.org/2000/svg\" height=\"24px\"viewBox=\"0 0 24 24\"\n",
              "     width=\"24px\">\n",
              "    <g>\n",
              "        <path d=\"M19 3H5c-1.1 0-2 .9-2 2v14c0 1.1.9 2 2 2h14c1.1 0 2-.9 2-2V5c0-1.1-.9-2-2-2zM9 17H7v-7h2v7zm4 0h-2V7h2v10zm4 0h-2v-4h2v4z\"/>\n",
              "    </g>\n",
              "</svg>\n",
              "  </button>\n",
              "\n",
              "<style>\n",
              "  .colab-df-quickchart {\n",
              "      --bg-color: #E8F0FE;\n",
              "      --fill-color: #1967D2;\n",
              "      --hover-bg-color: #E2EBFA;\n",
              "      --hover-fill-color: #174EA6;\n",
              "      --disabled-fill-color: #AAA;\n",
              "      --disabled-bg-color: #DDD;\n",
              "  }\n",
              "\n",
              "  [theme=dark] .colab-df-quickchart {\n",
              "      --bg-color: #3B4455;\n",
              "      --fill-color: #D2E3FC;\n",
              "      --hover-bg-color: #434B5C;\n",
              "      --hover-fill-color: #FFFFFF;\n",
              "      --disabled-bg-color: #3B4455;\n",
              "      --disabled-fill-color: #666;\n",
              "  }\n",
              "\n",
              "  .colab-df-quickchart {\n",
              "    background-color: var(--bg-color);\n",
              "    border: none;\n",
              "    border-radius: 50%;\n",
              "    cursor: pointer;\n",
              "    display: none;\n",
              "    fill: var(--fill-color);\n",
              "    height: 32px;\n",
              "    padding: 0;\n",
              "    width: 32px;\n",
              "  }\n",
              "\n",
              "  .colab-df-quickchart:hover {\n",
              "    background-color: var(--hover-bg-color);\n",
              "    box-shadow: 0 1px 2px rgba(60, 64, 67, 0.3), 0 1px 3px 1px rgba(60, 64, 67, 0.15);\n",
              "    fill: var(--button-hover-fill-color);\n",
              "  }\n",
              "\n",
              "  .colab-df-quickchart-complete:disabled,\n",
              "  .colab-df-quickchart-complete:disabled:hover {\n",
              "    background-color: var(--disabled-bg-color);\n",
              "    fill: var(--disabled-fill-color);\n",
              "    box-shadow: none;\n",
              "  }\n",
              "\n",
              "  .colab-df-spinner {\n",
              "    border: 2px solid var(--fill-color);\n",
              "    border-color: transparent;\n",
              "    border-bottom-color: var(--fill-color);\n",
              "    animation:\n",
              "      spin 1s steps(1) infinite;\n",
              "  }\n",
              "\n",
              "  @keyframes spin {\n",
              "    0% {\n",
              "      border-color: transparent;\n",
              "      border-bottom-color: var(--fill-color);\n",
              "      border-left-color: var(--fill-color);\n",
              "    }\n",
              "    20% {\n",
              "      border-color: transparent;\n",
              "      border-left-color: var(--fill-color);\n",
              "      border-top-color: var(--fill-color);\n",
              "    }\n",
              "    30% {\n",
              "      border-color: transparent;\n",
              "      border-left-color: var(--fill-color);\n",
              "      border-top-color: var(--fill-color);\n",
              "      border-right-color: var(--fill-color);\n",
              "    }\n",
              "    40% {\n",
              "      border-color: transparent;\n",
              "      border-right-color: var(--fill-color);\n",
              "      border-top-color: var(--fill-color);\n",
              "    }\n",
              "    60% {\n",
              "      border-color: transparent;\n",
              "      border-right-color: var(--fill-color);\n",
              "    }\n",
              "    80% {\n",
              "      border-color: transparent;\n",
              "      border-right-color: var(--fill-color);\n",
              "      border-bottom-color: var(--fill-color);\n",
              "    }\n",
              "    90% {\n",
              "      border-color: transparent;\n",
              "      border-bottom-color: var(--fill-color);\n",
              "    }\n",
              "  }\n",
              "</style>\n",
              "\n",
              "  <script>\n",
              "    async function quickchart(key) {\n",
              "      const quickchartButtonEl =\n",
              "        document.querySelector('#' + key + ' button');\n",
              "      quickchartButtonEl.disabled = true;  // To prevent multiple clicks.\n",
              "      quickchartButtonEl.classList.add('colab-df-spinner');\n",
              "      try {\n",
              "        const charts = await google.colab.kernel.invokeFunction(\n",
              "            'suggestCharts', [key], {});\n",
              "      } catch (error) {\n",
              "        console.error('Error during call to suggestCharts:', error);\n",
              "      }\n",
              "      quickchartButtonEl.classList.remove('colab-df-spinner');\n",
              "      quickchartButtonEl.classList.add('colab-df-quickchart-complete');\n",
              "    }\n",
              "    (() => {\n",
              "      let quickchartButtonEl =\n",
              "        document.querySelector('#df-fdfb3ba5-a193-4d98-8499-7c43d8d64b2c button');\n",
              "      quickchartButtonEl.style.display =\n",
              "        google.colab.kernel.accessAllowed ? 'block' : 'none';\n",
              "    })();\n",
              "  </script>\n",
              "</div>\n",
              "    </div>\n",
              "  </div>\n"
            ],
            "application/vnd.google.colaboratory.intrinsic+json": {
              "type": "dataframe"
            }
          },
          "metadata": {},
          "execution_count": 331
        }
      ],
      "source": [
        "merged_df[merged_df[\"calendar_year\"] == 2023 ] #Note : we take the last observation only years of 2024 and 2025 have no data"
      ]
    },
    {
      "cell_type": "code",
      "execution_count": 332,
      "id": "041b5678",
      "metadata": {
        "ExecuteTime": {
          "end_time": "2024-02-25T21:22:43.018750Z",
          "start_time": "2024-02-25T21:22:42.988861Z"
        },
        "colab": {
          "base_uri": "https://localhost:8080/"
        },
        "id": "041b5678",
        "outputId": "17768bf7-0fe5-4e4a-c3b5-43bd879ef6f7"
      },
      "outputs": [
        {
          "output_type": "stream",
          "name": "stderr",
          "text": [
            "<ipython-input-332-7c844bdc0e7e>:1: UserWarning: Boolean Series key will be reindexed to match DataFrame index.\n",
            "  X = merged_df[merged_df[\"calendar_year\"] <= 2023 ][merged_df[\"Price_YoY\"] > 0 ]  .drop( columns=['car_code' , 'car_model_year' ]) #, 'cluster'\n"
          ]
        },
        {
          "output_type": "execute_result",
          "data": {
            "text/plain": [
              "['Year_y',\n",
              " 'Price_YoY',\n",
              " 'Length between the axis',\n",
              " 'Weight',\n",
              " 'Maximum power',\n",
              " 'Displacement',\n",
              " 'Rear gauge',\n",
              " 'Front gauge',\n",
              " 'Unit displacement',\n",
              " 'Maximum torque',\n",
              " 'Weight/power',\n",
              " 'CNW Ranking',\n",
              " 'CNW Index',\n",
              " 'Maximum speed']"
            ]
          },
          "metadata": {},
          "execution_count": 332
        }
      ],
      "source": [
        "X = merged_df[merged_df[\"calendar_year\"] <= 2023 ][merged_df[\"Price_YoY\"] > 0 ]  .drop( columns=['car_code' , 'car_model_year' ]) #, 'cluster'\n",
        "X.columns\n",
        "columns_to_drop"
      ]
    },
    {
      "cell_type": "code",
      "execution_count": 333,
      "id": "a944ec45",
      "metadata": {
        "ExecuteTime": {
          "end_time": "2024-02-25T21:22:43.675265Z",
          "start_time": "2024-02-25T21:22:43.640077Z"
        },
        "id": "a944ec45"
      },
      "outputs": [],
      "source": [
        "X = X.drop(columns=columns_to_drop )\n",
        "\n"
      ]
    },
    {
      "cell_type": "code",
      "execution_count": 334,
      "id": "8m0Sdck0q5fw",
      "metadata": {
        "ExecuteTime": {
          "end_time": "2024-02-25T21:22:44.478025Z",
          "start_time": "2024-02-25T21:22:44.463959Z"
        },
        "colab": {
          "base_uri": "https://localhost:8080/"
        },
        "id": "8m0Sdck0q5fw",
        "outputId": "b76e4474-0aa5-4073-d7af-1d8d13083280"
      },
      "outputs": [
        {
          "output_type": "execute_result",
          "data": {
            "text/plain": [
              "(104048, 91)"
            ]
          },
          "metadata": {},
          "execution_count": 334
        }
      ],
      "source": [
        "X.shape"
      ]
    },
    {
      "cell_type": "code",
      "execution_count": 335,
      "id": "1a3d3b2b",
      "metadata": {
        "ExecuteTime": {
          "end_time": "2024-02-25T21:22:45.294125Z",
          "start_time": "2024-02-25T21:22:45.256544Z"
        },
        "id": "1a3d3b2b"
      },
      "outputs": [],
      "source": [
        "\n",
        "num_feat = [feature for feature in X.select_dtypes(include='number').columns.tolist() if feature not in [\"Year_x\", \"calendar_year\" , \"car_code\", \"car_model_year\" , \"CNW Index\", \"CNW Ranking\", \"CNW Ranking\", \"Devaluation\" ] ]\n",
        "#num_feat\n",
        "categorical_features = list(merged_df.select_dtypes(include='object').columns)\n",
        "categorical_features = [] # intentionaly removing these features ['car_manufacturer', 'car_model_small']\n",
        "year_features = [\"Year_x\" , \"calendar_year\" ]  #\n"
      ]
    },
    {
      "cell_type": "code",
      "execution_count": 335,
      "id": "oaH1dS3s0hxD",
      "metadata": {
        "id": "oaH1dS3s0hxD"
      },
      "outputs": [],
      "source": []
    },
    {
      "cell_type": "code",
      "execution_count": 336,
      "id": "2y9B1odq0iLK",
      "metadata": {
        "ExecuteTime": {
          "end_time": "2024-02-25T21:22:47.107891Z",
          "start_time": "2024-02-25T21:22:47.096461Z"
        },
        "id": "2y9B1odq0iLK"
      },
      "outputs": [],
      "source": [
        "#reiviewd after permutation analysis --> see heredown\n",
        "num_feat = ['Price R',\n",
        "#'Price_YoY', , #This is our target!\n",
        "'Car gearbox_Manual',\n",
        "'Length',\n",
        "'Settings_Pickup truck',\n",
        "'Width',\n",
        "'Sidewall height',\n",
        "'Car payload',\n",
        "'Height',\n",
        "'Doors',\n",
        "'Acceleration',\n",
        "'Trunk',\n",
        "'Specific power',\n",
        "'Cylinder diameter',\n",
        "'Fuel tank',\n",
        "'Weight/Torque',\n",
        "'Specific torque',\n",
        "'Max torque regime',\n",
        "'Piston course',\n",
        "'Fuel_Gasoline',\n",
        "'Provenance'\n",
        "]"
      ]
    },
    {
      "cell_type": "code",
      "execution_count": 337,
      "id": "20e7d5ca",
      "metadata": {
        "ExecuteTime": {
          "end_time": "2024-02-25T21:22:47.841081Z",
          "start_time": "2024-02-25T21:22:47.825306Z"
        },
        "id": "20e7d5ca"
      },
      "outputs": [],
      "source": [
        "\n",
        "# Impute then scale numerical values:\n",
        "num_inputer = Pipeline([\n",
        "    ('imputer', SimpleImputer(strategy=\"mean\"))\n",
        "    #('standard_scaler', StandardScaler())\n",
        "])\n",
        "\n",
        "standard_scaler = Pipeline([\n",
        "    #('imputer', SimpleImputer(strategy=\"mean\"))\n",
        "    ('standard_scaler', StandardScaler())\n",
        "])\n",
        "\n",
        "\n",
        "\n",
        "\n",
        "# Encode categorical values\n",
        "cat_transformer = OneHotEncoder(handle_unknown='ignore', sparse_output=False)\n",
        "\n",
        "\n",
        "\n",
        "\n",
        "# Parallelize \"num_transformer\" and \"cat_transfomer\"\n",
        "preprocessor = ColumnTransformer([\n",
        "    ('cat_transformer', cat_transformer, categorical_features ), #,\n",
        "    ('standard_scaler', standard_scaler, year_features ) ,\n",
        "    ('num_inputer', num_inputer, num_feat  )  #numerical_columns\n",
        "])\n"
      ]
    },
    {
      "cell_type": "code",
      "execution_count": 338,
      "id": "a69a02c2",
      "metadata": {
        "ExecuteTime": {
          "end_time": "2024-02-25T21:22:48.499981Z",
          "start_time": "2024-02-25T21:22:48.463171Z"
        },
        "id": "a69a02c2",
        "colab": {
          "base_uri": "https://localhost:8080/"
        },
        "outputId": "82cb736d-4f74-4c33-fd53-e52c449f4e9e"
      },
      "outputs": [
        {
          "output_type": "stream",
          "name": "stderr",
          "text": [
            "<ipython-input-338-59ad72174b8b>:1: UserWarning: Boolean Series key will be reindexed to match DataFrame index.\n",
            "  y = merged_df[merged_df[\"calendar_year\"] <= 2023 ][merged_df[\"Price_YoY\"] > 0 ] ['Price_YoY'] #[merged_df[\"cluster\"] == 0 ]\n"
          ]
        },
        {
          "output_type": "execute_result",
          "data": {
            "text/plain": [
              "0         0.817728\n",
              "1         1.016211\n",
              "2         0.904178\n",
              "3         0.852240\n",
              "4         0.907692\n",
              "            ...   \n",
              "108395    0.954673\n",
              "108396    0.883727\n",
              "108513    1.105359\n",
              "108548    0.926604\n",
              "108549    0.896931\n",
              "Name: Price_YoY, Length: 104048, dtype: float64"
            ]
          },
          "metadata": {},
          "execution_count": 338
        }
      ],
      "source": [
        "y = merged_df[merged_df[\"calendar_year\"] <= 2023 ][merged_df[\"Price_YoY\"] > 0 ] ['Price_YoY'] #[merged_df[\"cluster\"] == 0 ]\n",
        "y = y.fillna(0)\n",
        "y"
      ]
    },
    {
      "cell_type": "code",
      "execution_count": 338,
      "id": "949ce3ee",
      "metadata": {
        "ExecuteTime": {
          "end_time": "2024-02-25T19:42:28.041127Z",
          "start_time": "2024-02-25T19:42:28.023622Z"
        },
        "id": "949ce3ee"
      },
      "outputs": [],
      "source": []
    },
    {
      "cell_type": "code",
      "execution_count": 339,
      "id": "42212048",
      "metadata": {
        "ExecuteTime": {
          "end_time": "2024-02-25T21:22:50.084767Z",
          "start_time": "2024-02-25T21:22:50.001045Z"
        },
        "id": "42212048"
      },
      "outputs": [],
      "source": [
        "from sklearn.model_selection import train_test_split\n",
        "\n",
        "X = preprocessor.fit_transform(X)  #keep in mind, is not procedural good\n",
        "\n",
        "# Split data into train, test and validation sets\n",
        "X_train, X_test, y_train, y_test = train_test_split(\n",
        "    X, y, test_size = 0.3, random_state = 42  # TEST = 30%\n",
        ")\n",
        "\n",
        "# Use the same function above for the validation set\n",
        "X_test, X_val, y_test, y_val = train_test_split(\n",
        "    X_test, y_test, test_size = 0.5, random_state = 42  # TEST = 15%\n",
        ")"
      ]
    },
    {
      "cell_type": "markdown",
      "id": "5a742b6f",
      "metadata": {
        "ExecuteTime": {
          "end_time": "2024-02-08T12:38:58.342030Z",
          "start_time": "2024-02-08T12:38:58.321072Z"
        },
        "id": "5a742b6f"
      },
      "source": [
        "#  XG Boost Model"
      ]
    },
    {
      "cell_type": "code",
      "execution_count": 340,
      "id": "b480dff2",
      "metadata": {
        "ExecuteTime": {
          "end_time": "2024-02-25T21:22:51.292910Z",
          "start_time": "2024-02-25T21:22:51.284827Z"
        },
        "id": "b480dff2"
      },
      "outputs": [],
      "source": [
        "from xgboost import XGBRegressor"
      ]
    },
    {
      "cell_type": "code",
      "execution_count": 341,
      "id": "1f9f27cb",
      "metadata": {
        "ExecuteTime": {
          "end_time": "2024-02-25T21:22:52.130026Z",
          "start_time": "2024-02-25T21:22:52.116271Z"
        },
        "colab": {
          "base_uri": "https://localhost:8080/"
        },
        "id": "1f9f27cb",
        "outputId": "b9a26a7d-9eb1-45ee-a016-fe5321b4faa8"
      },
      "outputs": [
        {
          "output_type": "execute_result",
          "data": {
            "text/plain": [
              "(104048, 22)"
            ]
          },
          "metadata": {},
          "execution_count": 341
        }
      ],
      "source": [
        "\n",
        "#X_train_transformed = preprocessor.fit_transform(X_train)\n",
        "#X_val_transformed = preprocessor.transform(X_val)\n",
        "X.shape"
      ]
    },
    {
      "cell_type": "code",
      "execution_count": 342,
      "id": "f8dc6fa6",
      "metadata": {
        "ExecuteTime": {
          "end_time": "2024-02-25T21:22:53.117757Z",
          "start_time": "2024-02-25T21:22:53.103026Z"
        },
        "colab": {
          "base_uri": "https://localhost:8080/"
        },
        "id": "f8dc6fa6",
        "outputId": "0d05f3e0-15f1-4612-83e1-27101ea25de7"
      },
      "outputs": [
        {
          "output_type": "execute_result",
          "data": {
            "text/plain": [
              "(72833, 22)"
            ]
          },
          "metadata": {},
          "execution_count": 342
        }
      ],
      "source": [
        "X_train.shape\n",
        "#X_train.shape"
      ]
    },
    {
      "cell_type": "code",
      "execution_count": 343,
      "id": "34c0709a",
      "metadata": {
        "ExecuteTime": {
          "end_time": "2024-02-25T21:22:56.686685Z",
          "start_time": "2024-02-25T21:22:56.674407Z"
        },
        "colab": {
          "base_uri": "https://localhost:8080/"
        },
        "id": "34c0709a",
        "outputId": "bce6e897-4896-4bf9-e483-1d2b45268019"
      },
      "outputs": [
        {
          "output_type": "execute_result",
          "data": {
            "text/plain": [
              "(15608, 22)"
            ]
          },
          "metadata": {},
          "execution_count": 343
        }
      ],
      "source": [
        "X_val.shape\n",
        "#X_val.shape"
      ]
    },
    {
      "cell_type": "code",
      "execution_count": 343,
      "id": "e_VwEKJ9VV_P",
      "metadata": {
        "id": "e_VwEKJ9VV_P"
      },
      "outputs": [],
      "source": []
    },
    {
      "cell_type": "code",
      "execution_count": 344,
      "id": "YKADGXVRU8PY",
      "metadata": {
        "id": "YKADGXVRU8PY",
        "colab": {
          "base_uri": "https://localhost:8080/"
        },
        "outputId": "41420c7d-8cb0-4826-d789-c08830b66332"
      },
      "outputs": [
        {
          "output_type": "execute_result",
          "data": {
            "text/plain": [
              "array(['standard_scaler__Year_x', 'standard_scaler__calendar_year',\n",
              "       'num_inputer__Price R', 'num_inputer__Car gearbox_Manual',\n",
              "       'num_inputer__Length', 'num_inputer__Settings_Pickup truck',\n",
              "       'num_inputer__Width', 'num_inputer__Sidewall height',\n",
              "       'num_inputer__Car payload', 'num_inputer__Height',\n",
              "       'num_inputer__Doors', 'num_inputer__Acceleration',\n",
              "       'num_inputer__Trunk', 'num_inputer__Specific power',\n",
              "       'num_inputer__Cylinder diameter', 'num_inputer__Fuel tank',\n",
              "       'num_inputer__Weight/Torque', 'num_inputer__Specific torque',\n",
              "       'num_inputer__Max torque regime', 'num_inputer__Piston course',\n",
              "       'num_inputer__Fuel_Gasoline', 'num_inputer__Provenance'],\n",
              "      dtype=object)"
            ]
          },
          "metadata": {},
          "execution_count": 344
        }
      ],
      "source": [
        "preprocessor.get_feature_names_out()\n"
      ]
    },
    {
      "cell_type": "code",
      "execution_count": 345,
      "id": "yJnx04WWCRYa",
      "metadata": {
        "ExecuteTime": {
          "end_time": "2024-02-25T21:24:46.150782Z",
          "start_time": "2024-02-25T21:23:12.334225Z"
        },
        "colab": {
          "base_uri": "https://localhost:8080/",
          "height": 619
        },
        "id": "yJnx04WWCRYa",
        "outputId": "d05177c6-d2f6-4703-de91-e3c0ba8491ba"
      },
      "outputs": [
        {
          "output_type": "stream",
          "name": "stderr",
          "text": [
            "/usr/local/lib/python3.10/dist-packages/xgboost/sklearn.py:889: UserWarning: `eval_metric` in `fit` method is deprecated for better compatibility with scikit-learn, use `eval_metric` in constructor or`set_params` instead.\n",
            "  warnings.warn(\n"
          ]
        },
        {
          "output_type": "display_data",
          "data": {
            "text/plain": [
              "<Figure size 1000x600 with 1 Axes>"
            ],
            "image/png": "[encoded data removed]"
          },
          "metadata": {}
        }
      ],
      "source": [
        "import xgboost as xgb\n",
        "import matplotlib.pyplot as plt\n",
        "\n",
        "# Assuming you have your X_train, y_train, X_test, and y_test data prepared\n",
        "\n",
        "# Define the XGBoost regressor\n",
        "xgb_regressor = xgb.XGBRegressor(max_depth=12,  learning_rate=0.002 , n_estimators=2000 ) #  n_estimators=150 , scale_pos_weight = 1\n",
        "eval_set = [(X_train, y_train), (X_test, y_test)]\n",
        "\n",
        "# Fit the model with evaluation set\n",
        "xgb_regressor.fit(X_train, y_train, eval_set=eval_set, eval_metric=\"rmse\", verbose=False) #set verbose=True if you want to show al the results\n",
        "\n",
        "\n",
        "# Extract training and validation loss from the model's history\n",
        "results = xgb_regressor.evals_result()\n",
        "train_loss = results['validation_0']['rmse']\n",
        "test_loss = results['validation_1']['rmse']\n",
        "\n",
        "# Plot the train and test loss\n",
        "plt.figure(figsize=(10, 6))\n",
        "plt.plot(train_loss, label='Train Loss')\n",
        "plt.plot(test_loss, label='Test Loss')\n",
        "plt.xlabel('Number of iterations')\n",
        "plt.ylabel('Root Mean Squared Error')\n",
        "plt.title('Training and Test Loss (XGBoost)')\n",
        "plt.legend()\n",
        "plt.grid()\n",
        "plt.show()"
      ]
    },
    {
      "cell_type": "code",
      "execution_count": 345,
      "id": "SerwOOW-QvkP",
      "metadata": {
        "id": "SerwOOW-QvkP"
      },
      "outputs": [],
      "source": []
    },
    {
      "cell_type": "code",
      "execution_count": 345,
      "id": "63891e12",
      "metadata": {
        "ExecuteTime": {
          "end_time": "2024-02-08T16:59:34.983759Z",
          "start_time": "2024-02-08T16:59:34.929416Z"
        },
        "id": "63891e12"
      },
      "outputs": [],
      "source": []
    },
    {
      "cell_type": "code",
      "execution_count": 346,
      "id": "01036771",
      "metadata": {
        "ExecuteTime": {
          "end_time": "2024-02-25T21:21:05.301327Z",
          "start_time": "2024-02-25T21:21:05.301246Z"
        },
        "id": "01036771"
      },
      "outputs": [],
      "source": [
        "from sklearn.metrics import mean_squared_error"
      ]
    },
    {
      "cell_type": "code",
      "execution_count": 347,
      "id": "1728716c",
      "metadata": {
        "ExecuteTime": {
          "end_time": "2024-02-25T21:21:05.308630Z",
          "start_time": "2024-02-25T21:21:05.308542Z"
        },
        "id": "1728716c",
        "colab": {
          "base_uri": "https://localhost:8080/"
        },
        "outputId": "844e4215-a700-4c2e-8d58-277ea232901d"
      },
      "outputs": [
        {
          "output_type": "execute_result",
          "data": {
            "text/plain": [
              "array([0.9827785 , 0.8995768 , 0.8897646 , ..., 1.1394436 , 0.7879018 ,\n",
              "       0.86927736], dtype=float32)"
            ]
          },
          "metadata": {},
          "execution_count": 347
        }
      ],
      "source": [
        "y_pred = xgb_regressor.predict(X_test)\n",
        "#y_pred = model.predict(X_test)\n",
        "y_pred"
      ]
    },
    {
      "cell_type": "code",
      "execution_count": 347,
      "id": "_xZQYwnvnozG",
      "metadata": {
        "id": "_xZQYwnvnozG"
      },
      "outputs": [],
      "source": []
    },
    {
      "cell_type": "code",
      "execution_count": 348,
      "id": "ajm9YwZWz4Up",
      "metadata": {
        "ExecuteTime": {
          "end_time": "2024-02-25T21:21:05.332310Z",
          "start_time": "2024-02-25T21:21:05.332226Z"
        },
        "id": "ajm9YwZWz4Up",
        "colab": {
          "base_uri": "https://localhost:8080/",
          "height": 683
        },
        "outputId": "ec880c19-0d2b-4b31-9e10-841dc4e2802e"
      },
      "outputs": [
        {
          "output_type": "execute_result",
          "data": {
            "text/plain": [
              "<Axes: >"
            ]
          },
          "metadata": {},
          "execution_count": 348
        },
        {
          "output_type": "display_data",
          "data": {
            "text/plain": [
              "<Figure size 640x480 with 2 Axes>"
            ],
            "image/png": "[encoded data removed]"
          },
          "metadata": {}
        }
      ],
      "source": [
        "X_view = pd.DataFrame(X, columns=preprocessor.get_feature_names_out())\n",
        "X_view.drop(labels=\"num_inputer__Provenance\", axis=1, inplace=True)\n",
        "X_view.drop(labels=\"num_inputer__Settings_Pickup truck\", axis=1, inplace=True)\n",
        "\n",
        "X_view\n",
        "sns.heatmap(pd.DataFrame(X_view).corr(), cmap='coolwarm')"
      ]
    },
    {
      "cell_type": "markdown",
      "id": "b61f6922",
      "metadata": {
        "id": "b61f6922"
      },
      "source": [
        "## comparing model with naive model"
      ]
    },
    {
      "cell_type": "code",
      "execution_count": 349,
      "id": "O_JAUbXFmVEV",
      "metadata": {
        "ExecuteTime": {
          "end_time": "2024-02-25T21:27:06.177431Z",
          "start_time": "2024-02-25T21:27:06.163981Z"
        },
        "id": "O_JAUbXFmVEV"
      },
      "outputs": [],
      "source": [
        "from sklearn.metrics import mean_squared_error"
      ]
    },
    {
      "cell_type": "code",
      "execution_count": 350,
      "id": "_dumR2864FFH",
      "metadata": {
        "ExecuteTime": {
          "end_time": "2024-02-25T21:27:07.313914Z",
          "start_time": "2024-02-25T21:27:06.939576Z"
        },
        "colab": {
          "base_uri": "https://localhost:8080/"
        },
        "id": "_dumR2864FFH",
        "outputId": "55437d19-09f5-49b8-8930-685a9872bdad"
      },
      "outputs": [
        {
          "output_type": "execute_result",
          "data": {
            "text/plain": [
              "array([0.9827785 , 0.8995768 , 0.8897646 , ..., 1.1394436 , 0.7879018 ,\n",
              "       0.86927736], dtype=float32)"
            ]
          },
          "metadata": {},
          "execution_count": 350
        }
      ],
      "source": [
        "y_pred = xgb_regressor.predict(X_test)\n",
        "#y_pred = model.predict(X_test)\n",
        "y_pred"
      ]
    },
    {
      "cell_type": "code",
      "execution_count": 351,
      "id": "c7fb0e66",
      "metadata": {
        "ExecuteTime": {
          "end_time": "2024-02-25T21:27:09.953101Z",
          "start_time": "2024-02-25T21:27:09.936946Z"
        },
        "colab": {
          "base_uri": "https://localhost:8080/"
        },
        "id": "c7fb0e66",
        "outputId": "7fed096e-caac-4d2f-edc2-2c5b32e18016"
      },
      "outputs": [
        {
          "output_type": "execute_result",
          "data": {
            "text/plain": [
              "0.04881785547097161"
            ]
          },
          "metadata": {},
          "execution_count": 351
        }
      ],
      "source": [
        "mean_squared_error(y_test, y_pred) ** (0.5)   #model score: mean square error --> lower is better"
      ]
    },
    {
      "cell_type": "code",
      "execution_count": 352,
      "id": "18a12b78",
      "metadata": {
        "ExecuteTime": {
          "end_time": "2024-02-25T21:27:12.765430Z",
          "start_time": "2024-02-25T21:27:12.746168Z"
        },
        "colab": {
          "base_uri": "https://localhost:8080/"
        },
        "id": "18a12b78",
        "outputId": "b4a9e457-33c0-494e-8146-4fca33f73159"
      },
      "outputs": [
        {
          "output_type": "execute_result",
          "data": {
            "text/plain": [
              "0.11814408140946246"
            ]
          },
          "metadata": {},
          "execution_count": 352
        }
      ],
      "source": [
        "mean_squared_error(y_test, [y_test.mean()]*len(y_test)) ** (0.5)   #naive score: mean square error"
      ]
    },
    {
      "cell_type": "code",
      "execution_count": 353,
      "id": "a47f0701",
      "metadata": {
        "ExecuteTime": {
          "end_time": "2024-02-25T21:27:16.000308Z",
          "start_time": "2024-02-25T21:27:15.985638Z"
        },
        "colab": {
          "base_uri": "https://localhost:8080/"
        },
        "id": "a47f0701",
        "outputId": "a987a8f6-3de6-4f9e-e53b-8d84901a4434"
      },
      "outputs": [
        {
          "output_type": "execute_result",
          "data": {
            "text/plain": [
              "0.9346343800567612"
            ]
          },
          "metadata": {},
          "execution_count": 353
        }
      ],
      "source": [
        "y_test.mean()"
      ]
    },
    {
      "cell_type": "markdown",
      "id": "LxfGFipzuBWb",
      "metadata": {
        "id": "LxfGFipzuBWb"
      },
      "source": [
        "## Visualizing the errors"
      ]
    },
    {
      "cell_type": "code",
      "execution_count": 353,
      "id": "yhX1XgWmuAwy",
      "metadata": {
        "id": "yhX1XgWmuAwy"
      },
      "outputs": [],
      "source": []
    },
    {
      "cell_type": "code",
      "execution_count": 354,
      "id": "ed89592f",
      "metadata": {
        "ExecuteTime": {
          "end_time": "2024-02-25T21:27:25.679590Z",
          "start_time": "2024-02-25T21:27:24.709284Z"
        },
        "colab": {
          "base_uri": "https://localhost:8080/",
          "height": 467
        },
        "id": "ed89592f",
        "outputId": "f4848e13-eb61-4227-9624-ef0b09c52f94"
      },
      "outputs": [
        {
          "output_type": "execute_result",
          "data": {
            "text/plain": [
              "<Axes: xlabel='Price_YoY', ylabel='Count'>"
            ]
          },
          "metadata": {},
          "execution_count": 354
        },
        {
          "output_type": "display_data",
          "data": {
            "text/plain": [
              "<Figure size 640x480 with 1 Axes>"
            ],
            "image/png": "[encoded data removed]"
          },
          "metadata": {}
        }
      ],
      "source": [
        "sns.histplot(y_test)"
      ]
    },
    {
      "cell_type": "code",
      "execution_count": 355,
      "id": "Iw4fRg_D8io8",
      "metadata": {
        "ExecuteTime": {
          "end_time": "2024-02-25T21:27:27.725362Z",
          "start_time": "2024-02-25T21:27:26.762170Z"
        },
        "colab": {
          "base_uri": "https://localhost:8080/",
          "height": 447
        },
        "id": "Iw4fRg_D8io8",
        "outputId": "11e5e2d0-3528-47d4-9af0-a6b83fe11a78"
      },
      "outputs": [
        {
          "output_type": "execute_result",
          "data": {
            "text/plain": [
              "<Axes: ylabel='Count'>"
            ]
          },
          "metadata": {},
          "execution_count": 355
        },
        {
          "output_type": "display_data",
          "data": {
            "text/plain": [
              "<Figure size 640x480 with 1 Axes>"
            ],
            "image/png": "[encoded data removed]"
          },
          "metadata": {}
        }
      ],
      "source": [
        "sns.histplot(y_pred)"
      ]
    },
    {
      "cell_type": "code",
      "execution_count": 356,
      "id": "i-qAiNWNmnbr",
      "metadata": {
        "ExecuteTime": {
          "end_time": "2024-02-25T21:27:37.325271Z",
          "start_time": "2024-02-25T21:27:37.309605Z"
        },
        "id": "i-qAiNWNmnbr"
      },
      "outputs": [],
      "source": [
        "X_view = pd.DataFrame(X_test, columns=preprocessor.get_feature_names_out())\n"
      ]
    },
    {
      "cell_type": "code",
      "execution_count": 357,
      "id": "RgXDVpj7m2-k",
      "metadata": {
        "ExecuteTime": {
          "end_time": "2024-02-25T21:27:38.533464Z",
          "start_time": "2024-02-25T21:27:38.519665Z"
        },
        "id": "RgXDVpj7m2-k"
      },
      "outputs": [],
      "source": [
        "X_view[\"y_pred\"] = (y_pred)"
      ]
    },
    {
      "cell_type": "code",
      "execution_count": 358,
      "id": "sIifl4fnoZc4",
      "metadata": {
        "ExecuteTime": {
          "end_time": "2024-02-25T21:27:39.237385Z",
          "start_time": "2024-02-25T21:27:39.224990Z"
        },
        "id": "sIifl4fnoZc4"
      },
      "outputs": [],
      "source": [
        "X_view[\"y_test\"] = y_test.reset_index()[\"Price_YoY\"]"
      ]
    },
    {
      "cell_type": "code",
      "execution_count": 358,
      "id": "a6L2ILXF6RkZ",
      "metadata": {
        "id": "a6L2ILXF6RkZ"
      },
      "outputs": [],
      "source": []
    },
    {
      "cell_type": "code",
      "execution_count": 359,
      "id": "6PmGcm6FpKmL",
      "metadata": {
        "ExecuteTime": {
          "end_time": "2024-02-25T21:27:40.570623Z",
          "start_time": "2024-02-25T21:27:40.559903Z"
        },
        "id": "6PmGcm6FpKmL"
      },
      "outputs": [],
      "source": [
        "X_view[\"y_pred_error\"] = X_view[\"y_test\"] - X_view[\"y_pred\"]"
      ]
    },
    {
      "cell_type": "code",
      "execution_count": 360,
      "id": "xss7jleLn_M8",
      "metadata": {
        "ExecuteTime": {
          "end_time": "2024-02-25T21:27:43.725087Z",
          "start_time": "2024-02-25T21:27:41.367015Z"
        },
        "colab": {
          "base_uri": "https://localhost:8080/",
          "height": 467
        },
        "id": "xss7jleLn_M8",
        "outputId": "6dbec3e1-a662-474d-bea9-0c888706516e"
      },
      "outputs": [
        {
          "output_type": "execute_result",
          "data": {
            "text/plain": [
              "<Axes: xlabel='y_pred_error', ylabel='Count'>"
            ]
          },
          "metadata": {},
          "execution_count": 360
        },
        {
          "output_type": "display_data",
          "data": {
            "text/plain": [
              "<Figure size 640x480 with 1 Axes>"
            ],
            "image/png": "[encoded data removed]"
          },
          "metadata": {}
        }
      ],
      "source": [
        "sns.histplot(X_view[\"y_pred_error\"])"
      ]
    },
    {
      "cell_type": "code",
      "execution_count": 361,
      "id": "flgRhVWEytfO",
      "metadata": {
        "ExecuteTime": {
          "end_time": "2024-02-25T21:28:03.939670Z",
          "start_time": "2024-02-25T21:28:02.574960Z"
        },
        "colab": {
          "base_uri": "https://localhost:8080/",
          "height": 467
        },
        "id": "flgRhVWEytfO",
        "outputId": "4b69122b-c6a0-4f8c-e1b7-5d7721fb5b21"
      },
      "outputs": [
        {
          "output_type": "execute_result",
          "data": {
            "text/plain": [
              "<Axes: xlabel='standard_scaler__Year_x', ylabel='y_pred_error'>"
            ]
          },
          "metadata": {},
          "execution_count": 361
        },
        {
          "output_type": "display_data",
          "data": {
            "text/plain": [
              "<Figure size 640x480 with 1 Axes>"
            ],
            "image/png": "[encoded data removed]"
          },
          "metadata": {}
        }
      ],
      "source": [
        "sns.stripplot(data=X_view, x=\"standard_scaler__Year_x\", y=\"y_pred_error\")"
      ]
    },
    {
      "cell_type": "code",
      "execution_count": 362,
      "id": "9Wfu4zonnwWu",
      "metadata": {
        "ExecuteTime": {
          "end_time": "2024-02-25T21:28:12.896312Z",
          "start_time": "2024-02-25T21:28:12.880223Z"
        },
        "colab": {
          "base_uri": "https://localhost:8080/"
        },
        "id": "9Wfu4zonnwWu",
        "outputId": "0645c5f8-fa66-4b13-cb98-e599819d2511"
      },
      "outputs": [
        {
          "output_type": "execute_result",
          "data": {
            "text/plain": [
              "Index(['standard_scaler__Year_x', 'standard_scaler__calendar_year',\n",
              "       'num_inputer__Price R', 'num_inputer__Car gearbox_Manual',\n",
              "       'num_inputer__Length', 'num_inputer__Settings_Pickup truck',\n",
              "       'num_inputer__Width', 'num_inputer__Sidewall height',\n",
              "       'num_inputer__Car payload', 'num_inputer__Height', 'num_inputer__Doors',\n",
              "       'num_inputer__Acceleration', 'num_inputer__Trunk',\n",
              "       'num_inputer__Specific power', 'num_inputer__Cylinder diameter',\n",
              "       'num_inputer__Fuel tank', 'num_inputer__Weight/Torque',\n",
              "       'num_inputer__Specific torque', 'num_inputer__Max torque regime',\n",
              "       'num_inputer__Piston course', 'num_inputer__Fuel_Gasoline',\n",
              "       'num_inputer__Provenance', 'y_pred', 'y_test', 'y_pred_error'],\n",
              "      dtype='object')"
            ]
          },
          "metadata": {},
          "execution_count": 362
        }
      ],
      "source": [
        "X_view.columns #[\"standard_scaler__Year_x\"].nunique()"
      ]
    },
    {
      "cell_type": "markdown",
      "id": "rfYdfoVsCD9l",
      "metadata": {
        "id": "rfYdfoVsCD9l"
      },
      "source": [
        "## Saving the model for later usage"
      ]
    },
    {
      "cell_type": "code",
      "execution_count": 365,
      "id": "8e6972d6",
      "metadata": {
        "ExecuteTime": {
          "end_time": "2024-02-25T21:28:27.438152Z",
          "start_time": "2024-02-25T21:28:27.004962Z"
        },
        "id": "8e6972d6"
      },
      "outputs": [],
      "source": [
        "import pickle\n",
        "\n",
        "filename = 'xgb_reg_model_V2c_simple.sav'\n",
        "pickle.dump(xgb_regressor, open(filename, 'wb'))\n",
        "\n",
        "\n",
        "#xgb_reg.save('xgb.h5')"
      ]
    },
    {
      "cell_type": "code",
      "execution_count": 366,
      "id": "4ede70e4",
      "metadata": {
        "id": "4ede70e4"
      },
      "outputs": [],
      "source": [
        "filename = 'xgb_reg_preprocessor_simple.sav'\n",
        "pickle.dump(preprocessor, open(filename, 'wb'))"
      ]
    },
    {
      "cell_type": "code",
      "execution_count": 301,
      "id": "476d9ceb",
      "metadata": {
        "id": "476d9ceb"
      },
      "outputs": [],
      "source": []
    },
    {
      "cell_type": "code",
      "execution_count": 301,
      "id": "8f186b9f",
      "metadata": {
        "ExecuteTime": {
          "end_time": "2024-02-23T22:51:08.994287Z",
          "start_time": "2024-02-23T22:51:08.799372Z"
        },
        "id": "8f186b9f"
      },
      "outputs": [],
      "source": []
    },
    {
      "cell_type": "markdown",
      "id": "d486f621",
      "metadata": {
        "ExecuteTime": {
          "end_time": "2024-02-07T19:32:53.467318Z",
          "start_time": "2024-02-07T19:32:53.458406Z"
        },
        "id": "d486f621"
      },
      "source": [
        "# Simple tester"
      ]
    },
    {
      "cell_type": "code",
      "execution_count": 302,
      "id": "5fa6abe3",
      "metadata": {
        "ExecuteTime": {
          "end_time": "2024-02-25T21:29:51.794574Z",
          "start_time": "2024-02-25T21:29:51.671620Z"
        },
        "colab": {
          "base_uri": "https://localhost:8080/",
          "height": 200
        },
        "id": "5fa6abe3",
        "outputId": "e74b734e-3071-448b-ab14-66509447009a"
      },
      "outputs": [
        {
          "output_type": "execute_result",
          "data": {
            "text/plain": [
              "        car_code car_manufacturer        car_model  car_model_year  Year_x  \\\n",
              "108262     22458          Peugeot  3008 Griffe 1.6          2018.0     5.0   \n",
              "\n",
              "        Price_YoY  calendar_year  Propulsion_Combustion  Propulsion_Electric  \\\n",
              "108262   0.946044         2023.0                    1.0                  0.0   \n",
              "\n",
              "        Propulsion_Hybrid  ...  Maximum power  Unit displacement     Trunk  \\\n",
              "108262                0.0  ...       0.073481           0.400592  0.034345   \n",
              "\n",
              "        USB connection  Gear speed transmissions    Urban    Year_y  Radio  \\\n",
              "108262             1.0                  0.545455  0.17866  0.892857    1.0   \n",
              "\n",
              "        Folding rear seat  Perimeter anti theft alarm  \n",
              "108262                1.0                         1.0  \n",
              "\n",
              "[1 rows x 107 columns]"
            ],
            "text/html": [
              "\n",
              "  <div id=\"df-3524edb6-6f22-4d12-939d-f11efc681123\" class=\"colab-df-container\">\n",
              "    <div>\n",
              "<style scoped>\n",
              "    .dataframe tbody tr th:only-of-type {\n",
              "        vertical-align: middle;\n",
              "    }\n",
              "\n",
              "    .dataframe tbody tr th {\n",
              "        vertical-align: top;\n",
              "    }\n",
              "\n",
              "    .dataframe thead th {\n",
              "        text-align: right;\n",
              "    }\n",
              "</style>\n",
              "<table border=\"1\" class=\"dataframe\">\n",
              "  <thead>\n",
              "    <tr style=\"text-align: right;\">\n",
              "      <th></th>\n",
              "      <th>car_code</th>\n",
              "      <th>car_manufacturer</th>\n",
              "      <th>car_model</th>\n",
              "      <th>car_model_year</th>\n",
              "      <th>Year_x</th>\n",
              "      <th>Price_YoY</th>\n",
              "      <th>calendar_year</th>\n",
              "      <th>Propulsion_Combustion</th>\n",
              "      <th>Propulsion_Electric</th>\n",
              "      <th>Propulsion_Hybrid</th>\n",
              "      <th>...</th>\n",
              "      <th>Maximum power</th>\n",
              "      <th>Unit displacement</th>\n",
              "      <th>Trunk</th>\n",
              "      <th>USB connection</th>\n",
              "      <th>Gear speed transmissions</th>\n",
              "      <th>Urban</th>\n",
              "      <th>Year_y</th>\n",
              "      <th>Radio</th>\n",
              "      <th>Folding rear seat</th>\n",
              "      <th>Perimeter anti theft alarm</th>\n",
              "    </tr>\n",
              "  </thead>\n",
              "  <tbody>\n",
              "    <tr>\n",
              "      <th>108262</th>\n",
              "      <td>22458</td>\n",
              "      <td>Peugeot</td>\n",
              "      <td>3008 Griffe 1.6</td>\n",
              "      <td>2018.0</td>\n",
              "      <td>5.0</td>\n",
              "      <td>0.946044</td>\n",
              "      <td>2023.0</td>\n",
              "      <td>1.0</td>\n",
              "      <td>0.0</td>\n",
              "      <td>0.0</td>\n",
              "      <td>...</td>\n",
              "      <td>0.073481</td>\n",
              "      <td>0.400592</td>\n",
              "      <td>0.034345</td>\n",
              "      <td>1.0</td>\n",
              "      <td>0.545455</td>\n",
              "      <td>0.17866</td>\n",
              "      <td>0.892857</td>\n",
              "      <td>1.0</td>\n",
              "      <td>1.0</td>\n",
              "      <td>1.0</td>\n",
              "    </tr>\n",
              "  </tbody>\n",
              "</table>\n",
              "<p>1 rows × 107 columns</p>\n",
              "</div>\n",
              "    <div class=\"colab-df-buttons\">\n",
              "\n",
              "  <div class=\"colab-df-container\">\n",
              "    <button class=\"colab-df-convert\" onclick=\"convertToInteractive('df-3524edb6-6f22-4d12-939d-f11efc681123')\"\n",
              "            title=\"Convert this dataframe to an interactive table.\"\n",
              "            style=\"display:none;\">\n",
              "\n",
              "  <svg xmlns=\"http://www.w3.org/2000/svg\" height=\"24px\" viewBox=\"0 -960 960 960\">\n",
              "    <path d=\"M120-120v-720h720v720H120Zm60-500h600v-160H180v160Zm220 220h160v-160H400v160Zm0 220h160v-160H400v160ZM180-400h160v-160H180v160Zm440 0h160v-160H620v160ZM180-180h160v-160H180v160Zm440 0h160v-160H620v160Z\"/>\n",
              "  </svg>\n",
              "    </button>\n",
              "\n",
              "  <style>\n",
              "    .colab-df-container {\n",
              "      display:flex;\n",
              "      gap: 12px;\n",
              "    }\n",
              "\n",
              "    .colab-df-convert {\n",
              "      background-color: #E8F0FE;\n",
              "      border: none;\n",
              "      border-radius: 50%;\n",
              "      cursor: pointer;\n",
              "      display: none;\n",
              "      fill: #1967D2;\n",
              "      height: 32px;\n",
              "      padding: 0 0 0 0;\n",
              "      width: 32px;\n",
              "    }\n",
              "\n",
              "    .colab-df-convert:hover {\n",
              "      background-color: #E2EBFA;\n",
              "      box-shadow: 0px 1px 2px rgba(60, 64, 67, 0.3), 0px 1px 3px 1px rgba(60, 64, 67, 0.15);\n",
              "      fill: #174EA6;\n",
              "    }\n",
              "\n",
              "    .colab-df-buttons div {\n",
              "      margin-bottom: 4px;\n",
              "    }\n",
              "\n",
              "    [theme=dark] .colab-df-convert {\n",
              "      background-color: #3B4455;\n",
              "      fill: #D2E3FC;\n",
              "    }\n",
              "\n",
              "    [theme=dark] .colab-df-convert:hover {\n",
              "      background-color: #434B5C;\n",
              "      box-shadow: 0px 1px 3px 1px rgba(0, 0, 0, 0.15);\n",
              "      filter: drop-shadow(0px 1px 2px rgba(0, 0, 0, 0.3));\n",
              "      fill: #FFFFFF;\n",
              "    }\n",
              "  </style>\n",
              "\n",
              "    <script>\n",
              "      const buttonEl =\n",
              "        document.querySelector('#df-3524edb6-6f22-4d12-939d-f11efc681123 button.colab-df-convert');\n",
              "      buttonEl.style.display =\n",
              "        google.colab.kernel.accessAllowed ? 'block' : 'none';\n",
              "\n",
              "      async function convertToInteractive(key) {\n",
              "        const element = document.querySelector('#df-3524edb6-6f22-4d12-939d-f11efc681123');\n",
              "        const dataTable =\n",
              "          await google.colab.kernel.invokeFunction('convertToInteractive',\n",
              "                                                    [key], {});\n",
              "        if (!dataTable) return;\n",
              "\n",
              "        const docLinkHtml = 'Like what you see? Visit the ' +\n",
              "          '<a target=\"_blank\" href=https://colab.research.google.com/notebooks/data_table.ipynb>data table notebook</a>'\n",
              "          + ' to learn more about interactive tables.';\n",
              "        element.innerHTML = '';\n",
              "        dataTable['output_type'] = 'display_data';\n",
              "        await google.colab.output.renderOutput(dataTable, element);\n",
              "        const docLink = document.createElement('div');\n",
              "        docLink.innerHTML = docLinkHtml;\n",
              "        element.appendChild(docLink);\n",
              "      }\n",
              "    </script>\n",
              "  </div>\n",
              "\n",
              "    </div>\n",
              "  </div>\n"
            ],
            "application/vnd.google.colaboratory.intrinsic+json": {
              "type": "dataframe",
              "variable_name": "car"
            }
          },
          "metadata": {},
          "execution_count": 302
        }
      ],
      "source": [
        "car = merged_df[merged_df[\"calendar_year\"] == 2023]\n",
        "car = car[car[\"car_manufacturer\"]  == \"Peugeot\"]\n",
        "car = merged_df[merged_df.index == 108262 ]\n",
        "#car[\"Year_x\"] = 2\n",
        "#car[\"calendar_year\"] = 20\n",
        "#car[\"Price_YoY\"] = np.nan\n",
        "#car[\"Next_YoY_Price\"] = np.nan\n",
        "#car[\"prev_1_Price_YoY\"] = 1.046803\n",
        "#car[\"prev_2_Price_YoY\"] =  0.949971\n",
        "\n",
        "#car[[\"car_code\", \"car_manufacturer\", \"car_model_small\", \"Next_YoY_Price\" ]]\n",
        "car"
      ]
    },
    {
      "cell_type": "code",
      "execution_count": 303,
      "id": "d54f86ce",
      "metadata": {
        "ExecuteTime": {
          "end_time": "2024-02-25T21:29:54.616862Z",
          "start_time": "2024-02-25T21:29:54.525219Z"
        },
        "colab": {
          "base_uri": "https://localhost:8080/",
          "height": 200
        },
        "id": "d54f86ce",
        "outputId": "46e563c7-0a62-4756-a46b-ea7dae4e7d4b",
        "scrolled": true
      },
      "outputs": [
        {
          "output_type": "execute_result",
          "data": {
            "text/plain": [
              "       car_manufacturer        car_model  Year_x  calendar_year  \\\n",
              "108262          Peugeot  3008 Griffe 1.6     5.0         2023.0   \n",
              "\n",
              "        Propulsion_Combustion  Propulsion_Electric  Propulsion_Hybrid  \\\n",
              "108262                    1.0                  0.0                0.0   \n",
              "\n",
              "        Propulsion_Light Hybrid  Propulsion_Plug-in hybrid  \\\n",
              "108262                      0.0                        0.0   \n",
              "\n",
              "        Car gearbox_Automated  ...  Maximum power  Unit displacement  \\\n",
              "108262                    0.0  ...       0.073481           0.400592   \n",
              "\n",
              "           Trunk  USB connection  Gear speed transmissions    Urban    Year_y  \\\n",
              "108262  0.034345             1.0                  0.545455  0.17866  0.892857   \n",
              "\n",
              "        Radio  Folding rear seat  Perimeter anti theft alarm  \n",
              "108262    1.0                1.0                         1.0  \n",
              "\n",
              "[1 rows x 104 columns]"
            ],
            "text/html": [
              "\n",
              "  <div id=\"df-bf4f305e-980b-4fd8-8fdc-52303633589b\" class=\"colab-df-container\">\n",
              "    <div>\n",
              "<style scoped>\n",
              "    .dataframe tbody tr th:only-of-type {\n",
              "        vertical-align: middle;\n",
              "    }\n",
              "\n",
              "    .dataframe tbody tr th {\n",
              "        vertical-align: top;\n",
              "    }\n",
              "\n",
              "    .dataframe thead th {\n",
              "        text-align: right;\n",
              "    }\n",
              "</style>\n",
              "<table border=\"1\" class=\"dataframe\">\n",
              "  <thead>\n",
              "    <tr style=\"text-align: right;\">\n",
              "      <th></th>\n",
              "      <th>car_manufacturer</th>\n",
              "      <th>car_model</th>\n",
              "      <th>Year_x</th>\n",
              "      <th>calendar_year</th>\n",
              "      <th>Propulsion_Combustion</th>\n",
              "      <th>Propulsion_Electric</th>\n",
              "      <th>Propulsion_Hybrid</th>\n",
              "      <th>Propulsion_Light Hybrid</th>\n",
              "      <th>Propulsion_Plug-in hybrid</th>\n",
              "      <th>Car gearbox_Automated</th>\n",
              "      <th>...</th>\n",
              "      <th>Maximum power</th>\n",
              "      <th>Unit displacement</th>\n",
              "      <th>Trunk</th>\n",
              "      <th>USB connection</th>\n",
              "      <th>Gear speed transmissions</th>\n",
              "      <th>Urban</th>\n",
              "      <th>Year_y</th>\n",
              "      <th>Radio</th>\n",
              "      <th>Folding rear seat</th>\n",
              "      <th>Perimeter anti theft alarm</th>\n",
              "    </tr>\n",
              "  </thead>\n",
              "  <tbody>\n",
              "    <tr>\n",
              "      <th>108262</th>\n",
              "      <td>Peugeot</td>\n",
              "      <td>3008 Griffe 1.6</td>\n",
              "      <td>5.0</td>\n",
              "      <td>2023.0</td>\n",
              "      <td>1.0</td>\n",
              "      <td>0.0</td>\n",
              "      <td>0.0</td>\n",
              "      <td>0.0</td>\n",
              "      <td>0.0</td>\n",
              "      <td>0.0</td>\n",
              "      <td>...</td>\n",
              "      <td>0.073481</td>\n",
              "      <td>0.400592</td>\n",
              "      <td>0.034345</td>\n",
              "      <td>1.0</td>\n",
              "      <td>0.545455</td>\n",
              "      <td>0.17866</td>\n",
              "      <td>0.892857</td>\n",
              "      <td>1.0</td>\n",
              "      <td>1.0</td>\n",
              "      <td>1.0</td>\n",
              "    </tr>\n",
              "  </tbody>\n",
              "</table>\n",
              "<p>1 rows × 104 columns</p>\n",
              "</div>\n",
              "    <div class=\"colab-df-buttons\">\n",
              "\n",
              "  <div class=\"colab-df-container\">\n",
              "    <button class=\"colab-df-convert\" onclick=\"convertToInteractive('df-bf4f305e-980b-4fd8-8fdc-52303633589b')\"\n",
              "            title=\"Convert this dataframe to an interactive table.\"\n",
              "            style=\"display:none;\">\n",
              "\n",
              "  <svg xmlns=\"http://www.w3.org/2000/svg\" height=\"24px\" viewBox=\"0 -960 960 960\">\n",
              "    <path d=\"M120-120v-720h720v720H120Zm60-500h600v-160H180v160Zm220 220h160v-160H400v160Zm0 220h160v-160H400v160ZM180-400h160v-160H180v160Zm440 0h160v-160H620v160ZM180-180h160v-160H180v160Zm440 0h160v-160H620v160Z\"/>\n",
              "  </svg>\n",
              "    </button>\n",
              "\n",
              "  <style>\n",
              "    .colab-df-container {\n",
              "      display:flex;\n",
              "      gap: 12px;\n",
              "    }\n",
              "\n",
              "    .colab-df-convert {\n",
              "      background-color: #E8F0FE;\n",
              "      border: none;\n",
              "      border-radius: 50%;\n",
              "      cursor: pointer;\n",
              "      display: none;\n",
              "      fill: #1967D2;\n",
              "      height: 32px;\n",
              "      padding: 0 0 0 0;\n",
              "      width: 32px;\n",
              "    }\n",
              "\n",
              "    .colab-df-convert:hover {\n",
              "      background-color: #E2EBFA;\n",
              "      box-shadow: 0px 1px 2px rgba(60, 64, 67, 0.3), 0px 1px 3px 1px rgba(60, 64, 67, 0.15);\n",
              "      fill: #174EA6;\n",
              "    }\n",
              "\n",
              "    .colab-df-buttons div {\n",
              "      margin-bottom: 4px;\n",
              "    }\n",
              "\n",
              "    [theme=dark] .colab-df-convert {\n",
              "      background-color: #3B4455;\n",
              "      fill: #D2E3FC;\n",
              "    }\n",
              "\n",
              "    [theme=dark] .colab-df-convert:hover {\n",
              "      background-color: #434B5C;\n",
              "      box-shadow: 0px 1px 3px 1px rgba(0, 0, 0, 0.15);\n",
              "      filter: drop-shadow(0px 1px 2px rgba(0, 0, 0, 0.3));\n",
              "      fill: #FFFFFF;\n",
              "    }\n",
              "  </style>\n",
              "\n",
              "    <script>\n",
              "      const buttonEl =\n",
              "        document.querySelector('#df-bf4f305e-980b-4fd8-8fdc-52303633589b button.colab-df-convert');\n",
              "      buttonEl.style.display =\n",
              "        google.colab.kernel.accessAllowed ? 'block' : 'none';\n",
              "\n",
              "      async function convertToInteractive(key) {\n",
              "        const element = document.querySelector('#df-bf4f305e-980b-4fd8-8fdc-52303633589b');\n",
              "        const dataTable =\n",
              "          await google.colab.kernel.invokeFunction('convertToInteractive',\n",
              "                                                    [key], {});\n",
              "        if (!dataTable) return;\n",
              "\n",
              "        const docLinkHtml = 'Like what you see? Visit the ' +\n",
              "          '<a target=\"_blank\" href=https://colab.research.google.com/notebooks/data_table.ipynb>data table notebook</a>'\n",
              "          + ' to learn more about interactive tables.';\n",
              "        element.innerHTML = '';\n",
              "        dataTable['output_type'] = 'display_data';\n",
              "        await google.colab.output.renderOutput(dataTable, element);\n",
              "        const docLink = document.createElement('div');\n",
              "        docLink.innerHTML = docLinkHtml;\n",
              "        element.appendChild(docLink);\n",
              "      }\n",
              "    </script>\n",
              "  </div>\n",
              "\n",
              "    </div>\n",
              "  </div>\n"
            ],
            "application/vnd.google.colaboratory.intrinsic+json": {
              "type": "dataframe",
              "variable_name": "car"
            }
          },
          "metadata": {},
          "execution_count": 303
        }
      ],
      "source": [
        "car = car.drop( columns=['car_code' , 'car_model_year',  'Price_YoY' ])\n",
        "car"
      ]
    },
    {
      "cell_type": "code",
      "execution_count": 304,
      "id": "0b28e375",
      "metadata": {
        "ExecuteTime": {
          "end_time": "2024-02-25T21:29:54.707663Z",
          "start_time": "2024-02-25T21:29:54.678347Z"
        },
        "id": "0b28e375"
      },
      "outputs": [],
      "source": [
        "car_transformed = preprocessor.transform(car)"
      ]
    },
    {
      "cell_type": "code",
      "source": [
        "preprocessor.get_feature_names_out()"
      ],
      "metadata": {
        "colab": {
          "base_uri": "https://localhost:8080/"
        },
        "id": "kTkTtDtQt_aP",
        "outputId": "63999659-7c24-426f-8374-d5e64840c1b1"
      },
      "id": "kTkTtDtQt_aP",
      "execution_count": 305,
      "outputs": [
        {
          "output_type": "execute_result",
          "data": {
            "text/plain": [
              "array(['standard_scaler__Year_x', 'standard_scaler__calendar_year',\n",
              "       'num_inputer__Price R', 'num_inputer__Car gearbox_Manual',\n",
              "       'num_inputer__Length', 'num_inputer__Settings_Pickup truck',\n",
              "       'num_inputer__Width', 'num_inputer__Sidewall height',\n",
              "       'num_inputer__Car payload', 'num_inputer__Height',\n",
              "       'num_inputer__Doors', 'num_inputer__Acceleration',\n",
              "       'num_inputer__Trunk', 'num_inputer__Specific power',\n",
              "       'num_inputer__Cylinder diameter', 'num_inputer__Fuel tank',\n",
              "       'num_inputer__Weight/Torque', 'num_inputer__Specific torque',\n",
              "       'num_inputer__Max torque regime', 'num_inputer__Piston course',\n",
              "       'num_inputer__Fuel_Gasoline', 'num_inputer__Provenance'],\n",
              "      dtype=object)"
            ]
          },
          "metadata": {},
          "execution_count": 305
        }
      ]
    },
    {
      "cell_type": "code",
      "execution_count": 306,
      "id": "1cbb190a",
      "metadata": {
        "ExecuteTime": {
          "end_time": "2024-02-25T21:29:56.136396Z",
          "start_time": "2024-02-25T21:29:56.097601Z"
        },
        "colab": {
          "base_uri": "https://localhost:8080/"
        },
        "id": "1cbb190a",
        "outputId": "83caf1c1-3039-4329-b256-c610eed15bbc"
      },
      "outputs": [
        {
          "output_type": "execute_result",
          "data": {
            "text/plain": [
              "array([0.9089618], dtype=float32)"
            ]
          },
          "metadata": {},
          "execution_count": 306
        }
      ],
      "source": [
        "xgb_regressor.predict(car_transformed)"
      ]
    },
    {
      "cell_type": "code",
      "execution_count": 306,
      "id": "4b0dd28c",
      "metadata": {
        "ExecuteTime": {
          "end_time": "2024-02-25T21:31:11.785670Z",
          "start_time": "2024-02-25T21:31:11.610633Z"
        },
        "id": "4b0dd28c"
      },
      "outputs": [],
      "source": []
    },
    {
      "cell_type": "code",
      "execution_count": 306,
      "id": "198ace1e",
      "metadata": {
        "id": "198ace1e"
      },
      "outputs": [],
      "source": []
    },
    {
      "cell_type": "markdown",
      "id": "VWZUaGT3AqWZ",
      "metadata": {
        "id": "VWZUaGT3AqWZ"
      },
      "source": [
        "# Create Unique dataframe"
      ]
    },
    {
      "cell_type": "markdown",
      "id": "qtVQvP7zAz3A",
      "metadata": {
        "id": "qtVQvP7zAz3A"
      },
      "source": [
        "*The unique dataframe must have:\n",
        "- car code\n",
        "- car manufacturer\n",
        "- car model\n",
        "- car model year\n",
        "- expected price devaluation\n",
        "- car code"
      ]
    },
    {
      "cell_type": "code",
      "source": [],
      "metadata": {
        "id": "PMt5H6ZLgKGF"
      },
      "id": "PMt5H6ZLgKGF",
      "execution_count": 306,
      "outputs": []
    },
    {
      "cell_type": "code",
      "source": [],
      "metadata": {
        "id": "0ZMC5EqBf5G8"
      },
      "id": "0ZMC5EqBf5G8",
      "execution_count": 306,
      "outputs": []
    },
    {
      "cell_type": "code",
      "execution_count": 306,
      "id": "FvLb3Ch16xn6",
      "metadata": {
        "ExecuteTime": {
          "end_time": "2024-02-25T21:21:05.574930Z",
          "start_time": "2024-02-25T21:21:05.574850Z"
        },
        "id": "FvLb3Ch16xn6"
      },
      "outputs": [],
      "source": []
    },
    {
      "cell_type": "code",
      "execution_count": 306,
      "id": "UZI2auZM7NFj",
      "metadata": {
        "id": "UZI2auZM7NFj"
      },
      "outputs": [],
      "source": []
    },
    {
      "cell_type": "code",
      "execution_count": 309,
      "id": "nFT6YvPhC5aN",
      "metadata": {
        "id": "nFT6YvPhC5aN"
      },
      "outputs": [],
      "source": [
        "\n",
        "\n"
      ]
    },
    {
      "cell_type": "code",
      "execution_count": 367,
      "id": "oVL6wC9-DW-Q",
      "metadata": {
        "id": "oVL6wC9-DW-Q"
      },
      "outputs": [],
      "source": [
        "xgb_regressor  = pickle.load(open(\"/content/xgb_reg_model_V2c_simple.sav\", 'rb'))\n",
        "\n",
        "preprocessor =  pickle.load(open(\"/content/xgb_reg_preprocessor_simple.sav\", 'rb'))"
      ]
    },
    {
      "cell_type": "code",
      "execution_count": 368,
      "id": "Z_17OFUAAo3q",
      "metadata": {
        "ExecuteTime": {
          "end_time": "2024-02-25T21:21:05.460089Z",
          "start_time": "2024-02-25T21:21:05.460014Z"
        },
        "id": "Z_17OFUAAo3q"
      },
      "outputs": [],
      "source": [
        "\n",
        "car_features_df = pd.read_csv('/scaled_cleaned.csv')\n",
        "car_prices_yoy = pd.read_csv(\"/car_prices_yoy.csv\")\n",
        "car_model_and_years = car_prices_yoy[[\"car_code\", \"car_model\", \"car_manufacturer\" , \"car_model_year\" ]].drop_duplicates()\n",
        "car_model_and_years\n",
        "\n",
        "merged_car_price_yoy = car_features_df.merge(car_model_and_years, left_on=\"car_code\", right_on=\"car_code\", how=\"left\")\n",
        "\n",
        "cars_to_tranform_bis  = merged_car_price_yoy.copy()#.drop( columns=[\"car_code\", \"car_model_year\" ])#  , \"car_model_year\"  .rename(columns={\"Year\": \"Year_x\"})\n",
        "\n",
        "cars_to_tranform_bis[\"Year_x\"] = 2024 -  cars_to_tranform_bis[\"car_model_year\"]\n",
        "\n",
        "cars_to_tranform_bis[\"calendar_year\"] = 2019   #we consider we are in 2019  to avoid over pricing\n",
        "\n",
        "cars_to_tranform_bis = cars_to_tranform_bis.drop( columns=[\"car_code\", \"car_model_year\", \"Year\" ])\n",
        "\n",
        "car_prices_yoy_transformed = preprocessor.transform(cars_to_tranform_bis)\n",
        "\n",
        "cars_price_pred =   xgb_regressor.predict(car_prices_yoy_transformed)\n",
        "merged_car_price_yoy[\"price_pred\"] = cars_price_pred\n"
      ]
    },
    {
      "cell_type": "code",
      "source": [
        "merged_car_price_yoy#.to_csv(\"car_features_pr_pred_bis2.csv\", index=False)"
      ],
      "metadata": {
        "colab": {
          "base_uri": "https://localhost:8080/",
          "height": 721
        },
        "id": "2cyPlsOSh-BR",
        "outputId": "a53755c5-f628-4cd2-bf0b-e1e1faab26e4"
      },
      "id": "2cyPlsOSh-BR",
      "execution_count": 369,
      "outputs": [
        {
          "output_type": "execute_result",
          "data": {
            "text/plain": [
              "       car_code  Propulsion_Combustion  Propulsion_Electric  \\\n",
              "0             1                    1.0                  0.0   \n",
              "1             2                    1.0                  0.0   \n",
              "2             3                    1.0                  0.0   \n",
              "3             5                    1.0                  0.0   \n",
              "4             6                    1.0                  0.0   \n",
              "...         ...                    ...                  ...   \n",
              "20703     23884                    1.0                  0.0   \n",
              "20704     23885                    1.0                  0.0   \n",
              "20705     23893                    1.0                  0.0   \n",
              "20706     23905                    1.0                  0.0   \n",
              "20707     23906                    1.0                  0.0   \n",
              "\n",
              "       Propulsion_Hybrid  Propulsion_Light Hybrid  Propulsion_Plug-in hybrid  \\\n",
              "0                    0.0                      0.0                        0.0   \n",
              "1                    0.0                      0.0                        0.0   \n",
              "2                    0.0                      0.0                        0.0   \n",
              "3                    0.0                      0.0                        0.0   \n",
              "4                    0.0                      0.0                        0.0   \n",
              "...                  ...                      ...                        ...   \n",
              "20703                0.0                      0.0                        0.0   \n",
              "20704                0.0                      0.0                        0.0   \n",
              "20705                0.0                      0.0                        0.0   \n",
              "20706                0.0                      0.0                        0.0   \n",
              "20707                0.0                      0.0                        0.0   \n",
              "\n",
              "       Car gearbox_Automated  Car gearbox_Automatic  Car gearbox_CVT  \\\n",
              "0                        0.0                    0.0              0.0   \n",
              "1                        0.0                    0.0              0.0   \n",
              "2                        0.0                    0.0              0.0   \n",
              "3                        0.0                    0.0              0.0   \n",
              "4                        0.0                    0.0              0.0   \n",
              "...                      ...                    ...              ...   \n",
              "20703                    0.0                    1.0              0.0   \n",
              "20704                    0.0                    1.0              0.0   \n",
              "20705                    0.0                    1.0              0.0   \n",
              "20706                    0.0                    0.0              0.0   \n",
              "20707                    0.0                    0.0              0.0   \n",
              "\n",
              "       Car gearbox_Manual  ...  Gear speed transmissions     Urban      Year  \\\n",
              "0                     1.0  ...                  0.545455  0.002481  0.607143   \n",
              "1                     1.0  ...                  0.454545  0.191067  0.607143   \n",
              "2                     1.0  ...                  0.454545  0.121588  0.607143   \n",
              "3                     1.0  ...                  0.454545  0.111663  0.607143   \n",
              "4                     1.0  ...                  0.454545  0.166253  0.607143   \n",
              "...                   ...  ...                       ...       ...       ...   \n",
              "20703                 0.0  ...                  0.545455  0.148883  1.000000   \n",
              "20704                 0.0  ...                  0.545455  0.148883  1.000000   \n",
              "20705                 0.0  ...                  0.545455  0.166253  1.000000   \n",
              "20706                 1.0  ...                  0.545455  0.191067  0.982143   \n",
              "20707                 1.0  ...                  0.545455  0.191067  0.982143   \n",
              "\n",
              "       Radio  Folding rear seat  Perimeter anti theft alarm  \\\n",
              "0        0.0                0.0                         0.0   \n",
              "1        0.0                0.0                         0.0   \n",
              "2        0.0                0.0                         0.0   \n",
              "3        0.0                0.0                         0.0   \n",
              "4        0.0                0.0                         0.0   \n",
              "...      ...                ...                         ...   \n",
              "20703    1.0                1.0                         1.0   \n",
              "20704    1.0                1.0                         1.0   \n",
              "20705    1.0                1.0                         1.0   \n",
              "20706    1.0                0.0                         1.0   \n",
              "20707    1.0                0.0                         1.0   \n",
              "\n",
              "                             car_model  car_manufacturer  car_model_year  \\\n",
              "0                   Murcielago 6.2 V12       Lamborghini          2002.0   \n",
              "1                   Uno Mille Fire 1.0              Fiat          2002.0   \n",
              "2                      Astra Sport 2.0         Chevrolet          2002.0   \n",
              "3                   Golf GTi 1.8 Turbo        Volkswagen          2002.0   \n",
              "4                    Brava HGT 1.8 16V              Fiat          2002.0   \n",
              "...                                ...               ...             ...   \n",
              "20703        HB20 Comfort 1.0 Turbo AT           Hyundai          2024.0   \n",
              "20704       HB20 Platinum 1.0 Turbo AT           Hyundai          2024.0   \n",
              "20705  HB20 Platinum Plus 1.0 Turbo AT           Hyundai          2024.0   \n",
              "20706                              NaN               NaN             NaN   \n",
              "20707                              NaN               NaN             NaN   \n",
              "\n",
              "       price_pred  \n",
              "0        0.962647  \n",
              "1        0.936179  \n",
              "2        0.923502  \n",
              "3        0.935403  \n",
              "4        0.918452  \n",
              "...           ...  \n",
              "20703    0.830669  \n",
              "20704    0.831442  \n",
              "20705    0.834986  \n",
              "20706    0.960928  \n",
              "20707    0.958189  \n",
              "\n",
              "[20708 rows x 105 columns]"
            ],
            "text/html": [
              "\n",
              "  <div id=\"df-a0041fc0-f54a-481e-a57b-d7453edf0b9f\" class=\"colab-df-container\">\n",
              "    <div>\n",
              "<style scoped>\n",
              "    .dataframe tbody tr th:only-of-type {\n",
              "        vertical-align: middle;\n",
              "    }\n",
              "\n",
              "    .dataframe tbody tr th {\n",
              "        vertical-align: top;\n",
              "    }\n",
              "\n",
              "    .dataframe thead th {\n",
              "        text-align: right;\n",
              "    }\n",
              "</style>\n",
              "<table border=\"1\" class=\"dataframe\">\n",
              "  <thead>\n",
              "    <tr style=\"text-align: right;\">\n",
              "      <th></th>\n",
              "      <th>car_code</th>\n",
              "      <th>Propulsion_Combustion</th>\n",
              "      <th>Propulsion_Electric</th>\n",
              "      <th>Propulsion_Hybrid</th>\n",
              "      <th>Propulsion_Light Hybrid</th>\n",
              "      <th>Propulsion_Plug-in hybrid</th>\n",
              "      <th>Car gearbox_Automated</th>\n",
              "      <th>Car gearbox_Automatic</th>\n",
              "      <th>Car gearbox_CVT</th>\n",
              "      <th>Car gearbox_Manual</th>\n",
              "      <th>...</th>\n",
              "      <th>Gear speed transmissions</th>\n",
              "      <th>Urban</th>\n",
              "      <th>Year</th>\n",
              "      <th>Radio</th>\n",
              "      <th>Folding rear seat</th>\n",
              "      <th>Perimeter anti theft alarm</th>\n",
              "      <th>car_model</th>\n",
              "      <th>car_manufacturer</th>\n",
              "      <th>car_model_year</th>\n",
              "      <th>price_pred</th>\n",
              "    </tr>\n",
              "  </thead>\n",
              "  <tbody>\n",
              "    <tr>\n",
              "      <th>0</th>\n",
              "      <td>1</td>\n",
              "      <td>1.0</td>\n",
              "      <td>0.0</td>\n",
              "      <td>0.0</td>\n",
              "      <td>0.0</td>\n",
              "      <td>0.0</td>\n",
              "      <td>0.0</td>\n",
              "      <td>0.0</td>\n",
              "      <td>0.0</td>\n",
              "      <td>1.0</td>\n",
              "      <td>...</td>\n",
              "      <td>0.545455</td>\n",
              "      <td>0.002481</td>\n",
              "      <td>0.607143</td>\n",
              "      <td>0.0</td>\n",
              "      <td>0.0</td>\n",
              "      <td>0.0</td>\n",
              "      <td>Murcielago 6.2 V12</td>\n",
              "      <td>Lamborghini</td>\n",
              "      <td>2002.0</td>\n",
              "      <td>0.962647</td>\n",
              "    </tr>\n",
              "    <tr>\n",
              "      <th>1</th>\n",
              "      <td>2</td>\n",
              "      <td>1.0</td>\n",
              "      <td>0.0</td>\n",
              "      <td>0.0</td>\n",
              "      <td>0.0</td>\n",
              "      <td>0.0</td>\n",
              "      <td>0.0</td>\n",
              "      <td>0.0</td>\n",
              "      <td>0.0</td>\n",
              "      <td>1.0</td>\n",
              "      <td>...</td>\n",
              "      <td>0.454545</td>\n",
              "      <td>0.191067</td>\n",
              "      <td>0.607143</td>\n",
              "      <td>0.0</td>\n",
              "      <td>0.0</td>\n",
              "      <td>0.0</td>\n",
              "      <td>Uno Mille Fire 1.0</td>\n",
              "      <td>Fiat</td>\n",
              "      <td>2002.0</td>\n",
              "      <td>0.936179</td>\n",
              "    </tr>\n",
              "    <tr>\n",
              "      <th>2</th>\n",
              "      <td>3</td>\n",
              "      <td>1.0</td>\n",
              "      <td>0.0</td>\n",
              "      <td>0.0</td>\n",
              "      <td>0.0</td>\n",
              "      <td>0.0</td>\n",
              "      <td>0.0</td>\n",
              "      <td>0.0</td>\n",
              "      <td>0.0</td>\n",
              "      <td>1.0</td>\n",
              "      <td>...</td>\n",
              "      <td>0.454545</td>\n",
              "      <td>0.121588</td>\n",
              "      <td>0.607143</td>\n",
              "      <td>0.0</td>\n",
              "      <td>0.0</td>\n",
              "      <td>0.0</td>\n",
              "      <td>Astra Sport 2.0</td>\n",
              "      <td>Chevrolet</td>\n",
              "      <td>2002.0</td>\n",
              "      <td>0.923502</td>\n",
              "    </tr>\n",
              "    <tr>\n",
              "      <th>3</th>\n",
              "      <td>5</td>\n",
              "      <td>1.0</td>\n",
              "      <td>0.0</td>\n",
              "      <td>0.0</td>\n",
              "      <td>0.0</td>\n",
              "      <td>0.0</td>\n",
              "      <td>0.0</td>\n",
              "      <td>0.0</td>\n",
              "      <td>0.0</td>\n",
              "      <td>1.0</td>\n",
              "      <td>...</td>\n",
              "      <td>0.454545</td>\n",
              "      <td>0.111663</td>\n",
              "      <td>0.607143</td>\n",
              "      <td>0.0</td>\n",
              "      <td>0.0</td>\n",
              "      <td>0.0</td>\n",
              "      <td>Golf GTi 1.8 Turbo</td>\n",
              "      <td>Volkswagen</td>\n",
              "      <td>2002.0</td>\n",
              "      <td>0.935403</td>\n",
              "    </tr>\n",
              "    <tr>\n",
              "      <th>4</th>\n",
              "      <td>6</td>\n",
              "      <td>1.0</td>\n",
              "      <td>0.0</td>\n",
              "      <td>0.0</td>\n",
              "      <td>0.0</td>\n",
              "      <td>0.0</td>\n",
              "      <td>0.0</td>\n",
              "      <td>0.0</td>\n",
              "      <td>0.0</td>\n",
              "      <td>1.0</td>\n",
              "      <td>...</td>\n",
              "      <td>0.454545</td>\n",
              "      <td>0.166253</td>\n",
              "      <td>0.607143</td>\n",
              "      <td>0.0</td>\n",
              "      <td>0.0</td>\n",
              "      <td>0.0</td>\n",
              "      <td>Brava HGT 1.8 16V</td>\n",
              "      <td>Fiat</td>\n",
              "      <td>2002.0</td>\n",
              "      <td>0.918452</td>\n",
              "    </tr>\n",
              "    <tr>\n",
              "      <th>...</th>\n",
              "      <td>...</td>\n",
              "      <td>...</td>\n",
              "      <td>...</td>\n",
              "      <td>...</td>\n",
              "      <td>...</td>\n",
              "      <td>...</td>\n",
              "      <td>...</td>\n",
              "      <td>...</td>\n",
              "      <td>...</td>\n",
              "      <td>...</td>\n",
              "      <td>...</td>\n",
              "      <td>...</td>\n",
              "      <td>...</td>\n",
              "      <td>...</td>\n",
              "      <td>...</td>\n",
              "      <td>...</td>\n",
              "      <td>...</td>\n",
              "      <td>...</td>\n",
              "      <td>...</td>\n",
              "      <td>...</td>\n",
              "      <td>...</td>\n",
              "    </tr>\n",
              "    <tr>\n",
              "      <th>20703</th>\n",
              "      <td>23884</td>\n",
              "      <td>1.0</td>\n",
              "      <td>0.0</td>\n",
              "      <td>0.0</td>\n",
              "      <td>0.0</td>\n",
              "      <td>0.0</td>\n",
              "      <td>0.0</td>\n",
              "      <td>1.0</td>\n",
              "      <td>0.0</td>\n",
              "      <td>0.0</td>\n",
              "      <td>...</td>\n",
              "      <td>0.545455</td>\n",
              "      <td>0.148883</td>\n",
              "      <td>1.000000</td>\n",
              "      <td>1.0</td>\n",
              "      <td>1.0</td>\n",
              "      <td>1.0</td>\n",
              "      <td>HB20 Comfort 1.0 Turbo AT</td>\n",
              "      <td>Hyundai</td>\n",
              "      <td>2024.0</td>\n",
              "      <td>0.830669</td>\n",
              "    </tr>\n",
              "    <tr>\n",
              "      <th>20704</th>\n",
              "      <td>23885</td>\n",
              "      <td>1.0</td>\n",
              "      <td>0.0</td>\n",
              "      <td>0.0</td>\n",
              "      <td>0.0</td>\n",
              "      <td>0.0</td>\n",
              "      <td>0.0</td>\n",
              "      <td>1.0</td>\n",
              "      <td>0.0</td>\n",
              "      <td>0.0</td>\n",
              "      <td>...</td>\n",
              "      <td>0.545455</td>\n",
              "      <td>0.148883</td>\n",
              "      <td>1.000000</td>\n",
              "      <td>1.0</td>\n",
              "      <td>1.0</td>\n",
              "      <td>1.0</td>\n",
              "      <td>HB20 Platinum 1.0 Turbo AT</td>\n",
              "      <td>Hyundai</td>\n",
              "      <td>2024.0</td>\n",
              "      <td>0.831442</td>\n",
              "    </tr>\n",
              "    <tr>\n",
              "      <th>20705</th>\n",
              "      <td>23893</td>\n",
              "      <td>1.0</td>\n",
              "      <td>0.0</td>\n",
              "      <td>0.0</td>\n",
              "      <td>0.0</td>\n",
              "      <td>0.0</td>\n",
              "      <td>0.0</td>\n",
              "      <td>1.0</td>\n",
              "      <td>0.0</td>\n",
              "      <td>0.0</td>\n",
              "      <td>...</td>\n",
              "      <td>0.545455</td>\n",
              "      <td>0.166253</td>\n",
              "      <td>1.000000</td>\n",
              "      <td>1.0</td>\n",
              "      <td>1.0</td>\n",
              "      <td>1.0</td>\n",
              "      <td>HB20 Platinum Plus 1.0 Turbo AT</td>\n",
              "      <td>Hyundai</td>\n",
              "      <td>2024.0</td>\n",
              "      <td>0.834986</td>\n",
              "    </tr>\n",
              "    <tr>\n",
              "      <th>20706</th>\n",
              "      <td>23905</td>\n",
              "      <td>1.0</td>\n",
              "      <td>0.0</td>\n",
              "      <td>0.0</td>\n",
              "      <td>0.0</td>\n",
              "      <td>0.0</td>\n",
              "      <td>0.0</td>\n",
              "      <td>0.0</td>\n",
              "      <td>0.0</td>\n",
              "      <td>1.0</td>\n",
              "      <td>...</td>\n",
              "      <td>0.545455</td>\n",
              "      <td>0.191067</td>\n",
              "      <td>0.982143</td>\n",
              "      <td>1.0</td>\n",
              "      <td>0.0</td>\n",
              "      <td>1.0</td>\n",
              "      <td>NaN</td>\n",
              "      <td>NaN</td>\n",
              "      <td>NaN</td>\n",
              "      <td>0.960928</td>\n",
              "    </tr>\n",
              "    <tr>\n",
              "      <th>20707</th>\n",
              "      <td>23906</td>\n",
              "      <td>1.0</td>\n",
              "      <td>0.0</td>\n",
              "      <td>0.0</td>\n",
              "      <td>0.0</td>\n",
              "      <td>0.0</td>\n",
              "      <td>0.0</td>\n",
              "      <td>0.0</td>\n",
              "      <td>0.0</td>\n",
              "      <td>1.0</td>\n",
              "      <td>...</td>\n",
              "      <td>0.545455</td>\n",
              "      <td>0.191067</td>\n",
              "      <td>0.982143</td>\n",
              "      <td>1.0</td>\n",
              "      <td>0.0</td>\n",
              "      <td>1.0</td>\n",
              "      <td>NaN</td>\n",
              "      <td>NaN</td>\n",
              "      <td>NaN</td>\n",
              "      <td>0.958189</td>\n",
              "    </tr>\n",
              "  </tbody>\n",
              "</table>\n",
              "<p>20708 rows × 105 columns</p>\n",
              "</div>\n",
              "    <div class=\"colab-df-buttons\">\n",
              "\n",
              "  <div class=\"colab-df-container\">\n",
              "    <button class=\"colab-df-convert\" onclick=\"convertToInteractive('df-a0041fc0-f54a-481e-a57b-d7453edf0b9f')\"\n",
              "            title=\"Convert this dataframe to an interactive table.\"\n",
              "            style=\"display:none;\">\n",
              "\n",
              "  <svg xmlns=\"http://www.w3.org/2000/svg\" height=\"24px\" viewBox=\"0 -960 960 960\">\n",
              "    <path d=\"M120-120v-720h720v720H120Zm60-500h600v-160H180v160Zm220 220h160v-160H400v160Zm0 220h160v-160H400v160ZM180-400h160v-160H180v160Zm440 0h160v-160H620v160ZM180-180h160v-160H180v160Zm440 0h160v-160H620v160Z\"/>\n",
              "  </svg>\n",
              "    </button>\n",
              "\n",
              "  <style>\n",
              "    .colab-df-container {\n",
              "      display:flex;\n",
              "      gap: 12px;\n",
              "    }\n",
              "\n",
              "    .colab-df-convert {\n",
              "      background-color: #E8F0FE;\n",
              "      border: none;\n",
              "      border-radius: 50%;\n",
              "      cursor: pointer;\n",
              "      display: none;\n",
              "      fill: #1967D2;\n",
              "      height: 32px;\n",
              "      padding: 0 0 0 0;\n",
              "      width: 32px;\n",
              "    }\n",
              "\n",
              "    .colab-df-convert:hover {\n",
              "      background-color: #E2EBFA;\n",
              "      box-shadow: 0px 1px 2px rgba(60, 64, 67, 0.3), 0px 1px 3px 1px rgba(60, 64, 67, 0.15);\n",
              "      fill: #174EA6;\n",
              "    }\n",
              "\n",
              "    .colab-df-buttons div {\n",
              "      margin-bottom: 4px;\n",
              "    }\n",
              "\n",
              "    [theme=dark] .colab-df-convert {\n",
              "      background-color: #3B4455;\n",
              "      fill: #D2E3FC;\n",
              "    }\n",
              "\n",
              "    [theme=dark] .colab-df-convert:hover {\n",
              "      background-color: #434B5C;\n",
              "      box-shadow: 0px 1px 3px 1px rgba(0, 0, 0, 0.15);\n",
              "      filter: drop-shadow(0px 1px 2px rgba(0, 0, 0, 0.3));\n",
              "      fill: #FFFFFF;\n",
              "    }\n",
              "  </style>\n",
              "\n",
              "    <script>\n",
              "      const buttonEl =\n",
              "        document.querySelector('#df-a0041fc0-f54a-481e-a57b-d7453edf0b9f button.colab-df-convert');\n",
              "      buttonEl.style.display =\n",
              "        google.colab.kernel.accessAllowed ? 'block' : 'none';\n",
              "\n",
              "      async function convertToInteractive(key) {\n",
              "        const element = document.querySelector('#df-a0041fc0-f54a-481e-a57b-d7453edf0b9f');\n",
              "        const dataTable =\n",
              "          await google.colab.kernel.invokeFunction('convertToInteractive',\n",
              "                                                    [key], {});\n",
              "        if (!dataTable) return;\n",
              "\n",
              "        const docLinkHtml = 'Like what you see? Visit the ' +\n",
              "          '<a target=\"_blank\" href=https://colab.research.google.com/notebooks/data_table.ipynb>data table notebook</a>'\n",
              "          + ' to learn more about interactive tables.';\n",
              "        element.innerHTML = '';\n",
              "        dataTable['output_type'] = 'display_data';\n",
              "        await google.colab.output.renderOutput(dataTable, element);\n",
              "        const docLink = document.createElement('div');\n",
              "        docLink.innerHTML = docLinkHtml;\n",
              "        element.appendChild(docLink);\n",
              "      }\n",
              "    </script>\n",
              "  </div>\n",
              "\n",
              "\n",
              "<div id=\"df-6fe0e4b0-8727-4a81-ade2-c3549a5437e3\">\n",
              "  <button class=\"colab-df-quickchart\" onclick=\"quickchart('df-6fe0e4b0-8727-4a81-ade2-c3549a5437e3')\"\n",
              "            title=\"Suggest charts\"\n",
              "            style=\"display:none;\">\n",
              "\n",
              "<svg xmlns=\"http://www.w3.org/2000/svg\" height=\"24px\"viewBox=\"0 0 24 24\"\n",
              "     width=\"24px\">\n",
              "    <g>\n",
              "        <path d=\"M19 3H5c-1.1 0-2 .9-2 2v14c0 1.1.9 2 2 2h14c1.1 0 2-.9 2-2V5c0-1.1-.9-2-2-2zM9 17H7v-7h2v7zm4 0h-2V7h2v10zm4 0h-2v-4h2v4z\"/>\n",
              "    </g>\n",
              "</svg>\n",
              "  </button>\n",
              "\n",
              "<style>\n",
              "  .colab-df-quickchart {\n",
              "      --bg-color: #E8F0FE;\n",
              "      --fill-color: #1967D2;\n",
              "      --hover-bg-color: #E2EBFA;\n",
              "      --hover-fill-color: #174EA6;\n",
              "      --disabled-fill-color: #AAA;\n",
              "      --disabled-bg-color: #DDD;\n",
              "  }\n",
              "\n",
              "  [theme=dark] .colab-df-quickchart {\n",
              "      --bg-color: #3B4455;\n",
              "      --fill-color: #D2E3FC;\n",
              "      --hover-bg-color: #434B5C;\n",
              "      --hover-fill-color: #FFFFFF;\n",
              "      --disabled-bg-color: #3B4455;\n",
              "      --disabled-fill-color: #666;\n",
              "  }\n",
              "\n",
              "  .colab-df-quickchart {\n",
              "    background-color: var(--bg-color);\n",
              "    border: none;\n",
              "    border-radius: 50%;\n",
              "    cursor: pointer;\n",
              "    display: none;\n",
              "    fill: var(--fill-color);\n",
              "    height: 32px;\n",
              "    padding: 0;\n",
              "    width: 32px;\n",
              "  }\n",
              "\n",
              "  .colab-df-quickchart:hover {\n",
              "    background-color: var(--hover-bg-color);\n",
              "    box-shadow: 0 1px 2px rgba(60, 64, 67, 0.3), 0 1px 3px 1px rgba(60, 64, 67, 0.15);\n",
              "    fill: var(--button-hover-fill-color);\n",
              "  }\n",
              "\n",
              "  .colab-df-quickchart-complete:disabled,\n",
              "  .colab-df-quickchart-complete:disabled:hover {\n",
              "    background-color: var(--disabled-bg-color);\n",
              "    fill: var(--disabled-fill-color);\n",
              "    box-shadow: none;\n",
              "  }\n",
              "\n",
              "  .colab-df-spinner {\n",
              "    border: 2px solid var(--fill-color);\n",
              "    border-color: transparent;\n",
              "    border-bottom-color: var(--fill-color);\n",
              "    animation:\n",
              "      spin 1s steps(1) infinite;\n",
              "  }\n",
              "\n",
              "  @keyframes spin {\n",
              "    0% {\n",
              "      border-color: transparent;\n",
              "      border-bottom-color: var(--fill-color);\n",
              "      border-left-color: var(--fill-color);\n",
              "    }\n",
              "    20% {\n",
              "      border-color: transparent;\n",
              "      border-left-color: var(--fill-color);\n",
              "      border-top-color: var(--fill-color);\n",
              "    }\n",
              "    30% {\n",
              "      border-color: transparent;\n",
              "      border-left-color: var(--fill-color);\n",
              "      border-top-color: var(--fill-color);\n",
              "      border-right-color: var(--fill-color);\n",
              "    }\n",
              "    40% {\n",
              "      border-color: transparent;\n",
              "      border-right-color: var(--fill-color);\n",
              "      border-top-color: var(--fill-color);\n",
              "    }\n",
              "    60% {\n",
              "      border-color: transparent;\n",
              "      border-right-color: var(--fill-color);\n",
              "    }\n",
              "    80% {\n",
              "      border-color: transparent;\n",
              "      border-right-color: var(--fill-color);\n",
              "      border-bottom-color: var(--fill-color);\n",
              "    }\n",
              "    90% {\n",
              "      border-color: transparent;\n",
              "      border-bottom-color: var(--fill-color);\n",
              "    }\n",
              "  }\n",
              "</style>\n",
              "\n",
              "  <script>\n",
              "    async function quickchart(key) {\n",
              "      const quickchartButtonEl =\n",
              "        document.querySelector('#' + key + ' button');\n",
              "      quickchartButtonEl.disabled = true;  // To prevent multiple clicks.\n",
              "      quickchartButtonEl.classList.add('colab-df-spinner');\n",
              "      try {\n",
              "        const charts = await google.colab.kernel.invokeFunction(\n",
              "            'suggestCharts', [key], {});\n",
              "      } catch (error) {\n",
              "        console.error('Error during call to suggestCharts:', error);\n",
              "      }\n",
              "      quickchartButtonEl.classList.remove('colab-df-spinner');\n",
              "      quickchartButtonEl.classList.add('colab-df-quickchart-complete');\n",
              "    }\n",
              "    (() => {\n",
              "      let quickchartButtonEl =\n",
              "        document.querySelector('#df-6fe0e4b0-8727-4a81-ade2-c3549a5437e3 button');\n",
              "      quickchartButtonEl.style.display =\n",
              "        google.colab.kernel.accessAllowed ? 'block' : 'none';\n",
              "    })();\n",
              "  </script>\n",
              "</div>\n",
              "    </div>\n",
              "  </div>\n"
            ],
            "application/vnd.google.colaboratory.intrinsic+json": {
              "type": "dataframe",
              "variable_name": "merged_car_price_yoy"
            }
          },
          "metadata": {},
          "execution_count": 369
        }
      ]
    },
    {
      "cell_type": "code",
      "source": [],
      "metadata": {
        "id": "OYQ5ml6P7mx7"
      },
      "id": "OYQ5ml6P7mx7",
      "execution_count": 308,
      "outputs": []
    }
  ],
  "metadata": {
    "colab": {
      "provenance": []
    },
    "kernelspec": {
      "display_name": "Python 3 (ipykernel)",
      "language": "python",
      "name": "python3"
    },
    "language_info": {
      "codemirror_mode": {
        "name": "ipython",
        "version": 3
      },
      "file_extension": ".py",
      "mimetype": "text/x-python",
      "name": "python",
      "nbconvert_exporter": "python",
      "pygments_lexer": "ipython3",
      "version": "3.10.6"
    },
    "toc": {
      "base_numbering": 1,
      "nav_menu": {},
      "number_sections": true,
      "sideBar": true,
      "skip_h1_title": false,
      "title_cell": "Table of Contents",
      "title_sidebar": "Contents",
      "toc_cell": false,
      "toc_position": {},
      "toc_section_display": true,
      "toc_window_display": false
    }
  },
  "nbformat": 4,
  "nbformat_minor": 5
}