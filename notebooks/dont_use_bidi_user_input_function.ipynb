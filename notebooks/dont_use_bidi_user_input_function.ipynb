{
 "cells": [
  {
   "cell_type": "code",
   "execution_count": 1,
   "metadata": {},
   "outputs": [
    {
     "name": "stderr",
     "output_type": "stream",
     "text": [
      "/var/folders/ld/s5_rrf_n32q9rltztl0sz_fh0000gn/T/ipykernel_35291/4080736814.py:1: DeprecationWarning: \n",
      "Pyarrow will become a required dependency of pandas in the next major release of pandas (pandas 3.0),\n",
      "(to allow more performant data types, such as the Arrow string type, and better interoperability with other libraries)\n",
      "but was not found to be installed on your system.\n",
      "If this would cause problems for you,\n",
      "please provide us feedback at https://github.com/pandas-dev/pandas/issues/54466\n",
      "        \n",
      "  import pandas as pd\n"
     ]
    }
   ],
   "source": [
    "import pandas as pd"
   ]
  },
  {
   "cell_type": "code",
   "execution_count": null,
   "metadata": {},
   "outputs": [],
   "source": [
    "def get_car_info(manufacturer_name, car_model_name, car_model_year, file_path):\n",
    "    # Load the dataset\n",
    "    df = pd.read_csv('file_path')\n",
    "\n",
    "    # Prepare the inputs for case-insensitive comparison\n",
    "    manufacturer_name = manufacturer_name.lower()\n",
    "    car_model_name_first_word = car_model_name.lower().split(' ')[0]  # Get the first word and convert to lowercase\n",
    "\n",
    "    # Apply transformations to DataFrame for comparison\n",
    "    df['car_manufacturer_lower'] = df['car_manufacturer'].str.lower()\n",
    "    df['car_model_first_word'] = df['car_model'].str.lower().apply(lambda x: x.split(' ')[0])\n",
    "\n",
    "    # Filter the DataFrame based on the input criteria\n",
    "    filtered_df = df[(df['car_manufacturer_lower'] == manufacturer_name) &\n",
    "                     (df['car_model_first_word'] == car_model_name_first_word) &\n",
    "                     (df['car_model_year'] == car_model_year)]\n",
    "\n",
    "    # Drop the temporary columns\n",
    "    filtered_df = filtered_df.drop(columns=['car_manufacturer_lower', 'car_model_first_word'])\n",
    "\n",
    "    # Check if any car matches the criteria\n",
    "    if not filtered_df.empty:\n",
    "        # Assuming 'car_code' is the identifier you're referring to\n",
    "        return filtered_df[['car_model', 'car_code']].drop_duplicates().to_dict('records')\n",
    "    else:\n",
    "        return \"No matching car found.\"\n",
    "\n",
    "# Example usage with lowercase and partial model name\n",
    "manufacturer_name = \"lamborghini\"  # Example in lowercase\n",
    "car_model_name = \"murcielago\"  # Partial name example\n",
    "car_model_year = 2002\n",
    "file_path = '/mnt/data/car_prices_enriched_v3_carPriceIndex.csv'  # Original file path\n",
    "\n",
    "# Example execution with the adjusted function\n",
    "car_info = get_car_info(manufacturer_name, car_model_name, car_model_year, file_path)\n",
    "car_info\n"
   ]
  },
  {
   "cell_type": "code",
   "execution_count": null,
   "metadata": {},
   "outputs": [],
   "source": [
    "file_path="
   ]
  },
  {
   "cell_type": "code",
   "execution_count": null,
   "metadata": {},
   "outputs": [],
   "source": [
    "get_car_info(manufacturer_name, car_model_name, car_model_year, file_path)"
   ]
  }
 ],
 "metadata": {
  "kernelspec": {
   "display_name": "car_recommendation_engine",
   "language": "python",
   "name": "python3"
  },
  "language_info": {
   "codemirror_mode": {
    "name": "ipython",
    "version": 3
   },
   "file_extension": ".py",
   "mimetype": "text/x-python",
   "name": "python",
   "nbconvert_exporter": "python",
   "pygments_lexer": "ipython3",
   "version": "3.10.6"
  }
 },
 "nbformat": 4,
 "nbformat_minor": 2
}
