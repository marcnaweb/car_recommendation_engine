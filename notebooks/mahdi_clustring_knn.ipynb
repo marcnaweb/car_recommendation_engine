{
 "cells": [
  {
   "cell_type": "code",
   "execution_count": 2,
   "metadata": {},
   "outputs": [
    {
     "name": "stderr",
     "output_type": "stream",
     "text": [
      "/var/folders/6w/hqgj441928d226x7jd74hkt00000gn/T/ipykernel_16993/1997628208.py:1: DeprecationWarning: \n",
      "Pyarrow will become a required dependency of pandas in the next major release of pandas (pandas 3.0),\n",
      "(to allow more performant data types, such as the Arrow string type, and better interoperability with other libraries)\n",
      "but was not found to be installed on your system.\n",
      "If this would cause problems for you,\n",
      "please provide us feedback at https://github.com/pandas-dev/pandas/issues/54466\n",
      "        \n",
      "  import pandas as pd\n"
     ]
    }
   ],
   "source": [
    "import pandas as pd\n",
    "\n",
    "file_path = 'unique_car_models_df.csv'\n",
    "df = pd.read_csv(file_path)\n"
   ]
  },
  {
   "cell_type": "code",
   "execution_count": 9,
   "metadata": {},
   "outputs": [
    {
     "name": "stderr",
     "output_type": "stream",
     "text": [
      "/Users/masoud/.pyenv/versions/3.10.6/envs/car_recommendation_engine/lib/python3.10/site-packages/sklearn/base.py:493: UserWarning: X does not have valid feature names, but NearestNeighbors was fitted with feature names\n",
      "  warnings.warn(\n"
     ]
    },
    {
     "data": {
      "text/html": [
       "<div>\n",
       "<style scoped>\n",
       "    .dataframe tbody tr th:only-of-type {\n",
       "        vertical-align: middle;\n",
       "    }\n",
       "\n",
       "    .dataframe tbody tr th {\n",
       "        vertical-align: top;\n",
       "    }\n",
       "\n",
       "    .dataframe thead th {\n",
       "        text-align: right;\n",
       "    }\n",
       "</style>\n",
       "<table border=\"1\" class=\"dataframe\">\n",
       "  <thead>\n",
       "    <tr style=\"text-align: right;\">\n",
       "      <th></th>\n",
       "      <th>car_code</th>\n",
       "      <th>car_model</th>\n",
       "    </tr>\n",
       "  </thead>\n",
       "  <tbody>\n",
       "    <tr>\n",
       "      <th>0</th>\n",
       "      <td>1</td>\n",
       "      <td>Murcielago 6.2 V12</td>\n",
       "    </tr>\n",
       "    <tr>\n",
       "      <th>2008</th>\n",
       "      <td>2457</td>\n",
       "      <td>Diablo 5.7 V12</td>\n",
       "    </tr>\n",
       "    <tr>\n",
       "      <th>3605</th>\n",
       "      <td>6895</td>\n",
       "      <td>512 M 4.9</td>\n",
       "    </tr>\n",
       "    <tr>\n",
       "      <th>1215</th>\n",
       "      <td>1430</td>\n",
       "      <td>550 Maranello 5.5 V12</td>\n",
       "    </tr>\n",
       "    <tr>\n",
       "      <th>1449</th>\n",
       "      <td>1733</td>\n",
       "      <td>Vantage 4.7 V8</td>\n",
       "    </tr>\n",
       "    <tr>\n",
       "      <th>1457</th>\n",
       "      <td>1742</td>\n",
       "      <td>Vantage 6.0 V12</td>\n",
       "    </tr>\n",
       "  </tbody>\n",
       "</table>\n",
       "</div>"
      ],
      "text/plain": [
       "      car_code              car_model\n",
       "0            1     Murcielago 6.2 V12\n",
       "2008      2457         Diablo 5.7 V12\n",
       "3605      6895              512 M 4.9\n",
       "1215      1430  550 Maranello 5.5 V12\n",
       "1449      1733         Vantage 4.7 V8\n",
       "1457      1742        Vantage 6.0 V12"
      ]
     },
     "execution_count": 9,
     "metadata": {},
     "output_type": "execute_result"
    }
   ],
   "source": [
    "from sklearn.neighbors import NearestNeighbors\n",
    "\n",
    "features_df = df.drop(columns=['car_code', 'car_model'])\n",
    "\n",
    "knn = NearestNeighbors(n_neighbors=6)\n",
    "\n",
    "knn.fit(features_df)\n",
    "\n",
    "# Use a car's features as our query point\n",
    "query = features_df.iloc[0].values.reshape(1, -1)\n",
    "\n",
    "# Find the 5 nearest neighbors to the first car (excluding itself)\n",
    "distances, indices = knn.kneighbors(query)\n",
    "\n",
    "# Get the car codes of the 6 closest matches (including the query point itself)\n",
    "closest_cars_indices = indices.flatten()\n",
    "closest_cars = df.iloc[closest_cars_indices][['car_code', 'car_model']]\n",
    "\n",
    "closest_cars\n"
   ]
  },
  {
   "cell_type": "code",
   "execution_count": null,
   "metadata": {},
   "outputs": [],
   "source": []
  }
 ],
 "metadata": {
  "kernelspec": {
   "display_name": "car_recommendation_engine",
   "language": "python",
   "name": "python3"
  },
  "language_info": {
   "codemirror_mode": {
    "name": "ipython",
    "version": 3
   },
   "file_extension": ".py",
   "mimetype": "text/x-python",
   "name": "python",
   "nbconvert_exporter": "python",
   "pygments_lexer": "ipython3",
   "version": "3.10.6"
  }
 },
 "nbformat": 4,
 "nbformat_minor": 2
}
