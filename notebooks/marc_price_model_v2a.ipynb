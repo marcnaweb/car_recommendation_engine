{
 "cells": [
  {
   "cell_type": "code",
   "execution_count": 12,
   "id": "5ca5b624",
   "metadata": {
    "ExecuteTime": {
     "end_time": "2024-02-08T16:13:48.758204Z",
     "start_time": "2024-02-08T16:13:48.747093Z"
    }
   },
   "outputs": [],
   "source": [
    "import pandas as pd\n",
    "import numpy as np\n",
    "import seaborn as sns\n",
    "from sklearn.preprocessing import OneHotEncoder"
   ]
  },
  {
   "cell_type": "code",
   "execution_count": 13,
   "id": "b1d64bcc",
   "metadata": {
    "ExecuteTime": {
     "end_time": "2024-02-08T16:13:48.940214Z",
     "start_time": "2024-02-08T16:13:48.770243Z"
    }
   },
   "outputs": [
    {
     "name": "stdout",
     "output_type": "stream",
     "text": [
      "/home/marcnaweb/code/marcnaweb/car_recommendation_engine/notebooks\r\n"
     ]
    }
   ],
   "source": [
    "!pwd"
   ]
  },
  {
   "cell_type": "markdown",
   "id": "badafdf7",
   "metadata": {
    "ExecuteTime": {
     "end_time": "2024-02-07T18:04:14.917256Z",
     "start_time": "2024-02-07T18:04:12.942409Z"
    }
   },
   "source": [
    "# Creating the data frame "
   ]
  },
  {
   "cell_type": "code",
   "execution_count": 14,
   "id": "6023bc33",
   "metadata": {
    "ExecuteTime": {
     "end_time": "2024-02-08T16:13:49.566200Z",
     "start_time": "2024-02-08T16:13:48.953106Z"
    }
   },
   "outputs": [],
   "source": [
    "price_df = pd.read_csv('/home/marcnaweb/code/marcnaweb/car_recommendation_engine/raw_data/car_prices_w_prices_scaled.csv', index_col=0)"
   ]
  },
  {
   "cell_type": "code",
   "execution_count": 15,
   "id": "b6b7c657",
   "metadata": {
    "ExecuteTime": {
     "end_time": "2024-02-08T16:13:50.878358Z",
     "start_time": "2024-02-08T16:13:49.587448Z"
    }
   },
   "outputs": [],
   "source": [
    "features_df = pd.read_csv('/home/marcnaweb/code/marcnaweb/car_recommendation_engine/raw_data/scaled_cleaned.csv')"
   ]
  },
  {
   "cell_type": "markdown",
   "id": "6f02b36b",
   "metadata": {
    "ExecuteTime": {
     "end_time": "2024-02-07T18:54:32.874463Z",
     "start_time": "2024-02-07T18:54:32.865626Z"
    }
   },
   "source": [
    "## Merging features and prices"
   ]
  },
  {
   "cell_type": "code",
   "execution_count": 16,
   "id": "297cad63",
   "metadata": {
    "ExecuteTime": {
     "end_time": "2024-02-08T16:13:51.210185Z",
     "start_time": "2024-02-08T16:13:50.887683Z"
    }
   },
   "outputs": [],
   "source": [
    "merged_df = price_df.merge(features_df, left_on=\"car_code\", right_on=\"car_code\", how=\"left\")"
   ]
  },
  {
   "cell_type": "code",
   "execution_count": 17,
   "id": "68e330b5",
   "metadata": {
    "ExecuteTime": {
     "end_time": "2024-02-08T16:13:51.253438Z",
     "start_time": "2024-02-08T16:13:51.228295Z"
    }
   },
   "outputs": [],
   "source": [
    "merged_df.rename(columns=lambda x: x.strip(), inplace=True)"
   ]
  },
  {
   "cell_type": "code",
   "execution_count": 18,
   "id": "dead1276",
   "metadata": {
    "ExecuteTime": {
     "end_time": "2024-02-08T16:13:51.653788Z",
     "start_time": "2024-02-08T16:13:51.265757Z"
    },
    "scrolled": false
   },
   "outputs": [
    {
     "data": {
      "text/html": [
       "<div>\n",
       "<style scoped>\n",
       "    .dataframe tbody tr th:only-of-type {\n",
       "        vertical-align: middle;\n",
       "    }\n",
       "\n",
       "    .dataframe tbody tr th {\n",
       "        vertical-align: top;\n",
       "    }\n",
       "\n",
       "    .dataframe thead th {\n",
       "        text-align: right;\n",
       "    }\n",
       "</style>\n",
       "<table border=\"1\" class=\"dataframe\">\n",
       "  <thead>\n",
       "    <tr style=\"text-align: right;\">\n",
       "      <th></th>\n",
       "      <th>car_code</th>\n",
       "      <th>car_manufacturer</th>\n",
       "      <th>car_model</th>\n",
       "      <th>car_model_year</th>\n",
       "      <th>Year_x</th>\n",
       "      <th>Price_YoY</th>\n",
       "      <th>Next_YoY_Price</th>\n",
       "      <th>Next_YoY_Pr_Pred</th>\n",
       "      <th>calendar_year</th>\n",
       "      <th>Price_sd_scaled</th>\n",
       "      <th>...</th>\n",
       "      <th>Maximum power</th>\n",
       "      <th>Unit displacement</th>\n",
       "      <th>Trunk</th>\n",
       "      <th>USB connection</th>\n",
       "      <th>Gear speed transmissions</th>\n",
       "      <th>Urban</th>\n",
       "      <th>Year_y</th>\n",
       "      <th>Radio</th>\n",
       "      <th>Folding rear seat</th>\n",
       "      <th>Perimeter anti theft alarm</th>\n",
       "    </tr>\n",
       "  </thead>\n",
       "  <tbody>\n",
       "    <tr>\n",
       "      <th>87887</th>\n",
       "      <td>441</td>\n",
       "      <td>Audi</td>\n",
       "      <td>A8 4.2 V8 Quattro</td>\n",
       "      <td>2003</td>\n",
       "      <td>1</td>\n",
       "      <td>0.749652</td>\n",
       "      <td>0.961737</td>\n",
       "      <td>0.917069</td>\n",
       "      <td>2004</td>\n",
       "      <td>-0.836267</td>\n",
       "      <td>...</td>\n",
       "      <td>0.167403</td>\n",
       "      <td>0.523084</td>\n",
       "      <td>0.033011</td>\n",
       "      <td>0.0</td>\n",
       "      <td>0.545455</td>\n",
       "      <td>0.062035</td>\n",
       "      <td>0.625</td>\n",
       "      <td>0.0</td>\n",
       "      <td>0.0</td>\n",
       "      <td>0.0</td>\n",
       "    </tr>\n",
       "  </tbody>\n",
       "</table>\n",
       "<p>1 rows × 110 columns</p>\n",
       "</div>"
      ],
      "text/plain": [
       "       car_code car_manufacturer          car_model  car_model_year  Year_x  \\\n",
       "87887       441             Audi  A8 4.2 V8 Quattro            2003       1   \n",
       "\n",
       "       Price_YoY  Next_YoY_Price  Next_YoY_Pr_Pred  calendar_year  \\\n",
       "87887   0.749652        0.961737          0.917069           2004   \n",
       "\n",
       "       Price_sd_scaled  ...  Maximum power  Unit displacement     Trunk  \\\n",
       "87887        -0.836267  ...       0.167403           0.523084  0.033011   \n",
       "\n",
       "       USB connection  Gear speed transmissions     Urban  Year_y  Radio  \\\n",
       "87887             0.0                  0.545455  0.062035   0.625    0.0   \n",
       "\n",
       "       Folding rear seat  Perimeter anti theft alarm  \n",
       "87887                0.0                         0.0  \n",
       "\n",
       "[1 rows x 110 columns]"
      ]
     },
     "execution_count": 18,
     "metadata": {},
     "output_type": "execute_result"
    }
   ],
   "source": [
    "merged_df[merged_df.index == 87887 ]"
   ]
  },
  {
   "cell_type": "markdown",
   "id": "20b77490",
   "metadata": {},
   "source": [
    "### making model first name feature "
   ]
  },
  {
   "cell_type": "code",
   "execution_count": 19,
   "id": "1d61db71",
   "metadata": {
    "ExecuteTime": {
     "end_time": "2024-02-08T16:13:52.129679Z",
     "start_time": "2024-02-08T16:13:51.665846Z"
    }
   },
   "outputs": [],
   "source": [
    "def take_first_word(word):\n",
    "    return word.split(\" \")[0]\n",
    "\n",
    "merged_df[\"car_model_small\"] = merged_df[\"car_model\"].map(take_first_word)\n",
    "merged_df.drop(columns=\"car_model\", inplace=True)"
   ]
  },
  {
   "cell_type": "markdown",
   "id": "a9b85ea6",
   "metadata": {
    "ExecuteTime": {
     "end_time": "2024-02-07T12:19:07.061752Z",
     "start_time": "2024-02-07T12:19:07.053181Z"
    }
   },
   "source": [
    "# Model preprocessor "
   ]
  },
  {
   "cell_type": "code",
   "execution_count": 20,
   "id": "7dbcfedf",
   "metadata": {
    "ExecuteTime": {
     "end_time": "2024-02-08T16:13:52.176634Z",
     "start_time": "2024-02-08T16:13:52.166569Z"
    }
   },
   "outputs": [],
   "source": [
    "import numpy as np\n",
    "from sklearn.model_selection import train_test_split"
   ]
  },
  {
   "cell_type": "code",
   "execution_count": 21,
   "id": "c5eae425",
   "metadata": {
    "ExecuteTime": {
     "end_time": "2024-02-08T16:13:52.202079Z",
     "start_time": "2024-02-08T16:13:52.188892Z"
    }
   },
   "outputs": [],
   "source": [
    "from sklearn.compose import ColumnTransformer\n",
    "\n",
    "from sklearn.pipeline import Pipeline\n",
    "from sklearn.impute import SimpleImputer\n",
    "from sklearn.preprocessing import StandardScaler\n",
    "\n",
    "from sklearn.preprocessing import OneHotEncoder"
   ]
  },
  {
   "cell_type": "markdown",
   "id": "a0a402ff",
   "metadata": {},
   "source": [
    "# Model X and y - train test validade sets"
   ]
  },
  {
   "cell_type": "code",
   "execution_count": null,
   "id": "041b5678",
   "metadata": {},
   "outputs": [],
   "source": []
  },
  {
   "cell_type": "code",
   "execution_count": 29,
   "id": "a944ec45",
   "metadata": {
    "ExecuteTime": {
     "end_time": "2024-02-08T16:14:43.062014Z",
     "start_time": "2024-02-08T16:14:42.955427Z"
    }
   },
   "outputs": [],
   "source": [
    "X = merged_df.drop( columns=['car_code' , 'car_model_year',  'Next_YoY_Price', 'Next_YoY_Pr_Pred',\n",
    "       'Price_sd_scaled' ])\n"
   ]
  },
  {
   "cell_type": "code",
   "execution_count": 30,
   "id": "1a3d3b2b",
   "metadata": {
    "ExecuteTime": {
     "end_time": "2024-02-08T16:14:52.409861Z",
     "start_time": "2024-02-08T16:14:52.247438Z"
    }
   },
   "outputs": [
    {
     "data": {
      "text/plain": [
       "['Year_x', 'calendar_year']"
      ]
     },
     "execution_count": 30,
     "metadata": {},
     "output_type": "execute_result"
    }
   ],
   "source": [
    "\n",
    "num_feat = [feature for feature in X.select_dtypes(include='number').columns.tolist() if feature not in [\"Year_x\", \"calendar_year\" , \"car_code\", \"car_model_year\"] ]\n",
    "#num_feat\n",
    "categorical_features = list(merged_df.select_dtypes(include='object').columns)\n",
    "categorical_features = [] # intentionaly removing these features ['car_manufacturer', 'car_model_small']\n",
    "year_features = [\"Year_x\", \"calendar_year\" ]\n",
    "year_features\n",
    "#num_feat"
   ]
  },
  {
   "cell_type": "code",
   "execution_count": 31,
   "id": "20e7d5ca",
   "metadata": {
    "ExecuteTime": {
     "end_time": "2024-02-08T16:14:59.579390Z",
     "start_time": "2024-02-08T16:14:59.561641Z"
    }
   },
   "outputs": [],
   "source": [
    "\n",
    "# Impute then scale numerical values:\n",
    "num_inputer = Pipeline([\n",
    "    ('imputer', SimpleImputer(strategy=\"mean\"))\n",
    "    #('standard_scaler', StandardScaler())\n",
    "])\n",
    "\n",
    "standard_scaler = Pipeline([\n",
    "    #('imputer', SimpleImputer(strategy=\"mean\"))\n",
    "    ('standard_scaler', StandardScaler())\n",
    "])\n",
    "\n",
    "\n",
    "\n",
    "\n",
    "# Encode categorical values\n",
    "cat_transformer = OneHotEncoder(handle_unknown='ignore', sparse_output=False)\n",
    "\n",
    "\n",
    "\n",
    "\n",
    "# Parallelize \"num_transformer\" and \"cat_transfomer\"\n",
    "preprocessor = ColumnTransformer([\n",
    "    ('cat_transformer', cat_transformer, categorical_features ), #, \n",
    "    ('standard_scaler', standard_scaler, year_features ) ,\n",
    "    ('num_inputer', num_inputer, num_feat  )  #numerical_columns \n",
    "])\n"
   ]
  },
  {
   "cell_type": "code",
   "execution_count": 32,
   "id": "a69a02c2",
   "metadata": {
    "ExecuteTime": {
     "end_time": "2024-02-08T16:15:00.151281Z",
     "start_time": "2024-02-08T16:15:00.140650Z"
    }
   },
   "outputs": [],
   "source": [
    "y = merged_df['Next_YoY_Price']\n",
    "#y = merged_df[\"Next_Price_sd_scaled\"]"
   ]
  },
  {
   "cell_type": "code",
   "execution_count": 33,
   "id": "42212048",
   "metadata": {
    "ExecuteTime": {
     "end_time": "2024-02-08T16:15:09.308355Z",
     "start_time": "2024-02-08T16:15:08.192776Z"
    }
   },
   "outputs": [],
   "source": [
    "from sklearn.model_selection import train_test_split\n",
    "\n",
    "X = preprocessor.fit_transform(X)  #keep in mind, is not procedural good\n",
    "\n",
    "# Split data into train, test and validation sets\n",
    "X_train, X_test, y_train, y_test = train_test_split(\n",
    "    X, y, test_size = 0.3, random_state = 42  # TEST = 30%\n",
    ")\n",
    "\n",
    "# Use the same function above for the validation set\n",
    "X_test, X_val, y_test, y_val = train_test_split(\n",
    "    X_test, y_test, test_size = 0.5, random_state = 42  # TEST = 15%\n",
    ")"
   ]
  },
  {
   "cell_type": "markdown",
   "id": "5a742b6f",
   "metadata": {
    "ExecuteTime": {
     "end_time": "2024-02-08T12:38:58.342030Z",
     "start_time": "2024-02-08T12:38:58.321072Z"
    }
   },
   "source": [
    "#  XG Boost Model"
   ]
  },
  {
   "cell_type": "code",
   "execution_count": 35,
   "id": "b480dff2",
   "metadata": {
    "ExecuteTime": {
     "end_time": "2024-02-08T16:15:57.258151Z",
     "start_time": "2024-02-08T16:15:57.142672Z"
    }
   },
   "outputs": [],
   "source": [
    "from xgboost import XGBRegressor"
   ]
  },
  {
   "cell_type": "code",
   "execution_count": 36,
   "id": "1f9f27cb",
   "metadata": {
    "ExecuteTime": {
     "end_time": "2024-02-08T16:15:57.716548Z",
     "start_time": "2024-02-08T16:15:57.687083Z"
    }
   },
   "outputs": [
    {
     "data": {
      "text/plain": [
       "(87891, 103)"
      ]
     },
     "execution_count": 36,
     "metadata": {},
     "output_type": "execute_result"
    }
   ],
   "source": [
    "\n",
    "#X_train_transformed = preprocessor.fit_transform(X_train)\n",
    "#X_val_transformed = preprocessor.transform(X_val)\n",
    "X.shape"
   ]
  },
  {
   "cell_type": "code",
   "execution_count": 37,
   "id": "f8dc6fa6",
   "metadata": {
    "ExecuteTime": {
     "end_time": "2024-02-08T16:15:58.766978Z",
     "start_time": "2024-02-08T16:15:58.753588Z"
    }
   },
   "outputs": [
    {
     "data": {
      "text/plain": [
       "(61523, 103)"
      ]
     },
     "execution_count": 37,
     "metadata": {},
     "output_type": "execute_result"
    }
   ],
   "source": [
    "X_train.shape\n",
    "#X_train.shape"
   ]
  },
  {
   "cell_type": "code",
   "execution_count": 38,
   "id": "34c0709a",
   "metadata": {
    "ExecuteTime": {
     "end_time": "2024-02-08T16:15:59.719537Z",
     "start_time": "2024-02-08T16:15:59.686286Z"
    }
   },
   "outputs": [
    {
     "data": {
      "text/plain": [
       "(13184, 103)"
      ]
     },
     "execution_count": 38,
     "metadata": {},
     "output_type": "execute_result"
    }
   ],
   "source": [
    "X_val.shape\n",
    "#X_val.shape"
   ]
  },
  {
   "cell_type": "code",
   "execution_count": 63,
   "id": "5ae01cc1",
   "metadata": {
    "ExecuteTime": {
     "end_time": "2024-02-08T16:55:13.515243Z",
     "start_time": "2024-02-08T16:50:17.961384Z"
    }
   },
   "outputs": [
    {
     "name": "stderr",
     "output_type": "stream",
     "text": [
      "/home/marcnaweb/.pyenv/versions/3.10.6/envs/lewagon/lib/python3.10/site-packages/xgboost/sklearn.py:793: UserWarning: `early_stopping_rounds` in `fit` method is deprecated for better compatibility with scikit-learn, use `early_stopping_rounds` in constructor or`set_params` instead.\n",
      "  warnings.warn(\n"
     ]
    },
    {
     "name": "stdout",
     "output_type": "stream",
     "text": [
      "[0]\tvalidation_0-rmse:0.41909\tvalidation_1-rmse:0.41829\n",
      "[1]\tvalidation_0-rmse:0.37789\tvalidation_1-rmse:0.37729\n",
      "[2]\tvalidation_0-rmse:0.34085\tvalidation_1-rmse:0.34043\n",
      "[3]\tvalidation_0-rmse:0.30757\tvalidation_1-rmse:0.30735\n",
      "[4]\tvalidation_0-rmse:0.27767\tvalidation_1-rmse:0.27764\n",
      "[5]\tvalidation_0-rmse:0.25082\tvalidation_1-rmse:0.25098\n",
      "[6]\tvalidation_0-rmse:0.22670\tvalidation_1-rmse:0.22710\n",
      "[7]\tvalidation_0-rmse:0.20507\tvalidation_1-rmse:0.20572\n",
      "[8]\tvalidation_0-rmse:0.18565\tvalidation_1-rmse:0.18651\n",
      "[9]\tvalidation_0-rmse:0.16824\tvalidation_1-rmse:0.16935\n",
      "[10]\tvalidation_0-rmse:0.15263\tvalidation_1-rmse:0.15400\n",
      "[11]\tvalidation_0-rmse:0.13868\tvalidation_1-rmse:0.14032\n",
      "[12]\tvalidation_0-rmse:0.12620\tvalidation_1-rmse:0.12814\n",
      "[13]\tvalidation_0-rmse:0.11505\tvalidation_1-rmse:0.11731\n",
      "[14]\tvalidation_0-rmse:0.10510\tvalidation_1-rmse:0.10772\n",
      "[15]\tvalidation_0-rmse:0.09626\tvalidation_1-rmse:0.09923\n",
      "[16]\tvalidation_0-rmse:0.08838\tvalidation_1-rmse:0.09176\n",
      "[17]\tvalidation_0-rmse:0.08142\tvalidation_1-rmse:0.08520\n",
      "[18]\tvalidation_0-rmse:0.07525\tvalidation_1-rmse:0.07945\n",
      "[19]\tvalidation_0-rmse:0.06980\tvalidation_1-rmse:0.07444\n",
      "[20]\tvalidation_0-rmse:0.06500\tvalidation_1-rmse:0.07010\n",
      "[21]\tvalidation_0-rmse:0.06078\tvalidation_1-rmse:0.06633\n",
      "[22]\tvalidation_0-rmse:0.05712\tvalidation_1-rmse:0.06308\n",
      "[23]\tvalidation_0-rmse:0.05392\tvalidation_1-rmse:0.06033\n",
      "[24]\tvalidation_0-rmse:0.05116\tvalidation_1-rmse:0.05801\n",
      "[25]\tvalidation_0-rmse:0.04873\tvalidation_1-rmse:0.05599\n",
      "[26]\tvalidation_0-rmse:0.04665\tvalidation_1-rmse:0.05431\n",
      "[27]\tvalidation_0-rmse:0.04486\tvalidation_1-rmse:0.05286\n",
      "[28]\tvalidation_0-rmse:0.04329\tvalidation_1-rmse:0.05166\n",
      "[29]\tvalidation_0-rmse:0.04197\tvalidation_1-rmse:0.05068\n",
      "[30]\tvalidation_0-rmse:0.04085\tvalidation_1-rmse:0.04984\n",
      "[31]\tvalidation_0-rmse:0.03980\tvalidation_1-rmse:0.04913\n",
      "[32]\tvalidation_0-rmse:0.03893\tvalidation_1-rmse:0.04852\n",
      "[33]\tvalidation_0-rmse:0.03820\tvalidation_1-rmse:0.04801\n",
      "[34]\tvalidation_0-rmse:0.03758\tvalidation_1-rmse:0.04757\n",
      "[35]\tvalidation_0-rmse:0.03700\tvalidation_1-rmse:0.04721\n",
      "[36]\tvalidation_0-rmse:0.03644\tvalidation_1-rmse:0.04692\n",
      "[37]\tvalidation_0-rmse:0.03602\tvalidation_1-rmse:0.04666\n",
      "[38]\tvalidation_0-rmse:0.03562\tvalidation_1-rmse:0.04646\n",
      "[39]\tvalidation_0-rmse:0.03527\tvalidation_1-rmse:0.04627\n",
      "[40]\tvalidation_0-rmse:0.03490\tvalidation_1-rmse:0.04611\n",
      "[41]\tvalidation_0-rmse:0.03464\tvalidation_1-rmse:0.04598\n",
      "[42]\tvalidation_0-rmse:0.03423\tvalidation_1-rmse:0.04580\n",
      "[43]\tvalidation_0-rmse:0.03392\tvalidation_1-rmse:0.04565\n",
      "[44]\tvalidation_0-rmse:0.03367\tvalidation_1-rmse:0.04556\n",
      "[45]\tvalidation_0-rmse:0.03344\tvalidation_1-rmse:0.04548\n",
      "[46]\tvalidation_0-rmse:0.03329\tvalidation_1-rmse:0.04542\n",
      "[47]\tvalidation_0-rmse:0.03306\tvalidation_1-rmse:0.04534\n",
      "[48]\tvalidation_0-rmse:0.03286\tvalidation_1-rmse:0.04529\n",
      "[49]\tvalidation_0-rmse:0.03275\tvalidation_1-rmse:0.04526\n",
      "[50]\tvalidation_0-rmse:0.03259\tvalidation_1-rmse:0.04522\n",
      "[51]\tvalidation_0-rmse:0.03242\tvalidation_1-rmse:0.04518\n",
      "[52]\tvalidation_0-rmse:0.03219\tvalidation_1-rmse:0.04515\n",
      "[53]\tvalidation_0-rmse:0.03210\tvalidation_1-rmse:0.04514\n",
      "[54]\tvalidation_0-rmse:0.03198\tvalidation_1-rmse:0.04511\n",
      "[55]\tvalidation_0-rmse:0.03180\tvalidation_1-rmse:0.04509\n",
      "[56]\tvalidation_0-rmse:0.03165\tvalidation_1-rmse:0.04506\n",
      "[57]\tvalidation_0-rmse:0.03156\tvalidation_1-rmse:0.04505\n",
      "[58]\tvalidation_0-rmse:0.03143\tvalidation_1-rmse:0.04502\n",
      "[59]\tvalidation_0-rmse:0.03126\tvalidation_1-rmse:0.04502\n",
      "[60]\tvalidation_0-rmse:0.03112\tvalidation_1-rmse:0.04502\n",
      "[61]\tvalidation_0-rmse:0.03104\tvalidation_1-rmse:0.04501\n",
      "[62]\tvalidation_0-rmse:0.03090\tvalidation_1-rmse:0.04502\n",
      "[63]\tvalidation_0-rmse:0.03083\tvalidation_1-rmse:0.04500\n",
      "[64]\tvalidation_0-rmse:0.03076\tvalidation_1-rmse:0.04498\n",
      "[65]\tvalidation_0-rmse:0.03062\tvalidation_1-rmse:0.04497\n",
      "[66]\tvalidation_0-rmse:0.03059\tvalidation_1-rmse:0.04496\n",
      "[67]\tvalidation_0-rmse:0.03055\tvalidation_1-rmse:0.04496\n",
      "[68]\tvalidation_0-rmse:0.03048\tvalidation_1-rmse:0.04496\n",
      "[69]\tvalidation_0-rmse:0.03034\tvalidation_1-rmse:0.04496\n",
      "[70]\tvalidation_0-rmse:0.03027\tvalidation_1-rmse:0.04494\n",
      "[71]\tvalidation_0-rmse:0.03020\tvalidation_1-rmse:0.04493\n",
      "[72]\tvalidation_0-rmse:0.03017\tvalidation_1-rmse:0.04493\n",
      "[73]\tvalidation_0-rmse:0.03006\tvalidation_1-rmse:0.04492\n",
      "[74]\tvalidation_0-rmse:0.02996\tvalidation_1-rmse:0.04492\n",
      "[75]\tvalidation_0-rmse:0.02981\tvalidation_1-rmse:0.04490\n",
      "[76]\tvalidation_0-rmse:0.02974\tvalidation_1-rmse:0.04487\n",
      "[77]\tvalidation_0-rmse:0.02958\tvalidation_1-rmse:0.04487\n",
      "[78]\tvalidation_0-rmse:0.02954\tvalidation_1-rmse:0.04486\n",
      "[79]\tvalidation_0-rmse:0.02942\tvalidation_1-rmse:0.04484\n",
      "[80]\tvalidation_0-rmse:0.02935\tvalidation_1-rmse:0.04483\n",
      "[81]\tvalidation_0-rmse:0.02922\tvalidation_1-rmse:0.04483\n",
      "[82]\tvalidation_0-rmse:0.02917\tvalidation_1-rmse:0.04481\n",
      "[83]\tvalidation_0-rmse:0.02911\tvalidation_1-rmse:0.04481\n",
      "[84]\tvalidation_0-rmse:0.02899\tvalidation_1-rmse:0.04479\n",
      "[85]\tvalidation_0-rmse:0.02893\tvalidation_1-rmse:0.04479\n",
      "[86]\tvalidation_0-rmse:0.02891\tvalidation_1-rmse:0.04479\n",
      "[87]\tvalidation_0-rmse:0.02882\tvalidation_1-rmse:0.04478\n",
      "[88]\tvalidation_0-rmse:0.02877\tvalidation_1-rmse:0.04478\n",
      "[89]\tvalidation_0-rmse:0.02874\tvalidation_1-rmse:0.04477\n",
      "[90]\tvalidation_0-rmse:0.02860\tvalidation_1-rmse:0.04477\n",
      "[91]\tvalidation_0-rmse:0.02853\tvalidation_1-rmse:0.04477\n",
      "[92]\tvalidation_0-rmse:0.02851\tvalidation_1-rmse:0.04476\n",
      "[93]\tvalidation_0-rmse:0.02843\tvalidation_1-rmse:0.04475\n",
      "[94]\tvalidation_0-rmse:0.02834\tvalidation_1-rmse:0.04474\n",
      "[95]\tvalidation_0-rmse:0.02830\tvalidation_1-rmse:0.04474\n",
      "[96]\tvalidation_0-rmse:0.02826\tvalidation_1-rmse:0.04473\n",
      "[97]\tvalidation_0-rmse:0.02822\tvalidation_1-rmse:0.04472\n",
      "[98]\tvalidation_0-rmse:0.02811\tvalidation_1-rmse:0.04470\n",
      "[99]\tvalidation_0-rmse:0.02800\tvalidation_1-rmse:0.04469\n",
      "[100]\tvalidation_0-rmse:0.02794\tvalidation_1-rmse:0.04468\n",
      "[101]\tvalidation_0-rmse:0.02782\tvalidation_1-rmse:0.04469\n",
      "[102]\tvalidation_0-rmse:0.02775\tvalidation_1-rmse:0.04470\n"
     ]
    }
   ],
   "source": [
    "from xgboost import XGBRegressor\n",
    "\n",
    "xgb_reg = XGBRegressor(max_depth=10, n_estimators=300, learning_rate=0.1)\n",
    "\n",
    "xgb_reg.fit(X_train, y_train,\n",
    "    # evaluate loss at each iteration\n",
    "    eval_set=[(X_train, y_train), (X_val, y_val)],  \n",
    "    # stop iterating when eval loss increases 5 times in a row\n",
    "    early_stopping_rounds=3 \n",
    ")\n",
    "\n",
    "y_pred = xgb_reg.predict(X_val)"
   ]
  },
  {
   "cell_type": "code",
   "execution_count": 64,
   "id": "63891e12",
   "metadata": {
    "ExecuteTime": {
     "end_time": "2024-02-08T16:59:34.983759Z",
     "start_time": "2024-02-08T16:59:34.929416Z"
    }
   },
   "outputs": [
    {
     "data": {
      "text/plain": [
       "array([0.9267315 , 0.87350184, 0.8672882 , ..., 1.3090404 , 0.9356797 ,\n",
       "       0.9174847 ], dtype=float32)"
      ]
     },
     "execution_count": 64,
     "metadata": {},
     "output_type": "execute_result"
    }
   ],
   "source": [
    "y_pred"
   ]
  },
  {
   "cell_type": "code",
   "execution_count": 65,
   "id": "01036771",
   "metadata": {
    "ExecuteTime": {
     "end_time": "2024-02-08T16:59:37.760521Z",
     "start_time": "2024-02-08T16:59:37.712797Z"
    }
   },
   "outputs": [],
   "source": [
    "from sklearn.metrics import mean_squared_error"
   ]
  },
  {
   "cell_type": "code",
   "execution_count": 66,
   "id": "1728716c",
   "metadata": {
    "ExecuteTime": {
     "end_time": "2024-02-08T16:59:39.314886Z",
     "start_time": "2024-02-08T16:59:38.970025Z"
    }
   },
   "outputs": [
    {
     "data": {
      "text/plain": [
       "array([0.8936684 , 0.88299817, 0.9107943 , ..., 0.92543316, 0.9198769 ,\n",
       "       0.96319157], dtype=float32)"
      ]
     },
     "execution_count": 66,
     "metadata": {},
     "output_type": "execute_result"
    }
   ],
   "source": [
    "y_pred = xgb_reg.predict(X_test)\n",
    "y_pred"
   ]
  },
  {
   "cell_type": "code",
   "execution_count": null,
   "id": "8e6972d6",
   "metadata": {},
   "outputs": [],
   "source": []
  },
  {
   "cell_type": "markdown",
   "id": "b61f6922",
   "metadata": {},
   "source": [
    "## comparing model with naive model"
   ]
  },
  {
   "cell_type": "code",
   "execution_count": 67,
   "id": "c7fb0e66",
   "metadata": {
    "ExecuteTime": {
     "end_time": "2024-02-08T16:59:45.657985Z",
     "start_time": "2024-02-08T16:59:45.587665Z"
    }
   },
   "outputs": [
    {
     "data": {
      "text/plain": [
       "0.04349424852256784"
      ]
     },
     "execution_count": 67,
     "metadata": {},
     "output_type": "execute_result"
    }
   ],
   "source": [
    "mean_squared_error(y_test, y_pred) ** (0.5)   #model score: mean square error --> lower is better"
   ]
  },
  {
   "cell_type": "code",
   "execution_count": 68,
   "id": "18a12b78",
   "metadata": {
    "ExecuteTime": {
     "end_time": "2024-02-08T16:59:47.632341Z",
     "start_time": "2024-02-08T16:59:47.439372Z"
    }
   },
   "outputs": [
    {
     "data": {
      "text/plain": [
       "0.11389767051634032"
      ]
     },
     "execution_count": 68,
     "metadata": {},
     "output_type": "execute_result"
    }
   ],
   "source": [
    "mean_squared_error(y_test, [y_test.mean()]*len(y_test)) ** (0.5)   #naive score: mean square error "
   ]
  },
  {
   "cell_type": "code",
   "execution_count": null,
   "id": "a47f0701",
   "metadata": {
    "ExecuteTime": {
     "end_time": "2024-02-08T16:47:04.733402Z",
     "start_time": "2024-02-08T16:47:04.713614Z"
    }
   },
   "outputs": [],
   "source": []
  },
  {
   "cell_type": "code",
   "execution_count": null,
   "id": "ed89592f",
   "metadata": {
    "ExecuteTime": {
     "end_time": "2024-02-08T17:09:58.443233Z",
     "start_time": "2024-02-08T17:09:58.420101Z"
    }
   },
   "outputs": [],
   "source": []
  },
  {
   "cell_type": "code",
   "execution_count": null,
   "id": "4ede70e4",
   "metadata": {},
   "outputs": [],
   "source": []
  },
  {
   "cell_type": "code",
   "execution_count": null,
   "id": "b9e6b834",
   "metadata": {},
   "outputs": [],
   "source": []
  },
  {
   "cell_type": "code",
   "execution_count": null,
   "id": "476d9ceb",
   "metadata": {},
   "outputs": [],
   "source": []
  },
  {
   "cell_type": "code",
   "execution_count": null,
   "id": "8f186b9f",
   "metadata": {},
   "outputs": [],
   "source": []
  },
  {
   "cell_type": "markdown",
   "id": "d486f621",
   "metadata": {
    "ExecuteTime": {
     "end_time": "2024-02-07T19:32:53.467318Z",
     "start_time": "2024-02-07T19:32:53.458406Z"
    }
   },
   "source": [
    "# Simple tester"
   ]
  },
  {
   "cell_type": "code",
   "execution_count": 77,
   "id": "5fa6abe3",
   "metadata": {
    "ExecuteTime": {
     "end_time": "2024-02-08T17:13:29.058456Z",
     "start_time": "2024-02-08T17:13:28.669153Z"
    }
   },
   "outputs": [
    {
     "name": "stderr",
     "output_type": "stream",
     "text": [
      "/tmp/ipykernel_25618/3597691782.py:1: UserWarning: Boolean Series key will be reindexed to match DataFrame index.\n",
      "  car = merged_df[merged_df[\"car_model_year\"] == 2015 ] [merged_df[\"calendar_year\"] == 2017]#[merged_df.index == 23575 ]\n"
     ]
    },
    {
     "data": {
      "text/html": [
       "<div>\n",
       "<style scoped>\n",
       "    .dataframe tbody tr th:only-of-type {\n",
       "        vertical-align: middle;\n",
       "    }\n",
       "\n",
       "    .dataframe tbody tr th {\n",
       "        vertical-align: top;\n",
       "    }\n",
       "\n",
       "    .dataframe thead th {\n",
       "        text-align: right;\n",
       "    }\n",
       "</style>\n",
       "<table border=\"1\" class=\"dataframe\">\n",
       "  <thead>\n",
       "    <tr style=\"text-align: right;\">\n",
       "      <th></th>\n",
       "      <th>car_code</th>\n",
       "      <th>car_manufacturer</th>\n",
       "      <th>car_model_year</th>\n",
       "      <th>Year_x</th>\n",
       "      <th>Price_YoY</th>\n",
       "      <th>Next_YoY_Price</th>\n",
       "      <th>Next_YoY_Pr_Pred</th>\n",
       "      <th>calendar_year</th>\n",
       "      <th>Price_sd_scaled</th>\n",
       "      <th>Propulsion_Combustion</th>\n",
       "      <th>...</th>\n",
       "      <th>Unit displacement</th>\n",
       "      <th>Trunk</th>\n",
       "      <th>USB connection</th>\n",
       "      <th>Gear speed transmissions</th>\n",
       "      <th>Urban</th>\n",
       "      <th>Year_y</th>\n",
       "      <th>Radio</th>\n",
       "      <th>Folding rear seat</th>\n",
       "      <th>Perimeter anti theft alarm</th>\n",
       "      <th>car_model_small</th>\n",
       "    </tr>\n",
       "  </thead>\n",
       "  <tbody>\n",
       "    <tr>\n",
       "      <th>60263</th>\n",
       "      <td>2005</td>\n",
       "      <td>Peugeot</td>\n",
       "      <td>2015</td>\n",
       "      <td>2</td>\n",
       "      <td>0.844462</td>\n",
       "      <td>0.966102</td>\n",
       "      <td>0.916243</td>\n",
       "      <td>2017</td>\n",
       "      <td>-1.451522</td>\n",
       "      <td>1.0</td>\n",
       "      <td>...</td>\n",
       "      <td>0.34035</td>\n",
       "      <td>0.027676</td>\n",
       "      <td>1.0</td>\n",
       "      <td>0.454545</td>\n",
       "      <td>0.111663</td>\n",
       "      <td>0.839286</td>\n",
       "      <td>1.0</td>\n",
       "      <td>1.0</td>\n",
       "      <td>0.0</td>\n",
       "      <td>207</td>\n",
       "    </tr>\n",
       "  </tbody>\n",
       "</table>\n",
       "<p>1 rows × 110 columns</p>\n",
       "</div>"
      ],
      "text/plain": [
       "       car_code car_manufacturer  car_model_year  Year_x  Price_YoY  \\\n",
       "60263      2005          Peugeot            2015       2   0.844462   \n",
       "\n",
       "       Next_YoY_Price  Next_YoY_Pr_Pred  calendar_year  Price_sd_scaled  \\\n",
       "60263        0.966102          0.916243           2017        -1.451522   \n",
       "\n",
       "       Propulsion_Combustion  ...  Unit displacement     Trunk  \\\n",
       "60263                    1.0  ...            0.34035  0.027676   \n",
       "\n",
       "       USB connection  Gear speed transmissions     Urban    Year_y  Radio  \\\n",
       "60263             1.0                  0.454545  0.111663  0.839286    1.0   \n",
       "\n",
       "       Folding rear seat  Perimeter anti theft alarm  car_model_small  \n",
       "60263                1.0                         0.0              207  \n",
       "\n",
       "[1 rows x 110 columns]"
      ]
     },
     "execution_count": 77,
     "metadata": {},
     "output_type": "execute_result"
    }
   ],
   "source": [
    "car = merged_df[merged_df[\"car_model_year\"] == 2015 ] [merged_df[\"calendar_year\"] == 2017]#[merged_df.index == 23575 ]\n",
    "car = merged_df[merged_df.index == 60263 ]\n",
    "car"
   ]
  },
  {
   "cell_type": "code",
   "execution_count": 78,
   "id": "d54f86ce",
   "metadata": {
    "ExecuteTime": {
     "end_time": "2024-02-08T17:13:31.236755Z",
     "start_time": "2024-02-08T17:13:30.398937Z"
    },
    "scrolled": true
   },
   "outputs": [
    {
     "data": {
      "text/html": [
       "<div>\n",
       "<style scoped>\n",
       "    .dataframe tbody tr th:only-of-type {\n",
       "        vertical-align: middle;\n",
       "    }\n",
       "\n",
       "    .dataframe tbody tr th {\n",
       "        vertical-align: top;\n",
       "    }\n",
       "\n",
       "    .dataframe thead th {\n",
       "        text-align: right;\n",
       "    }\n",
       "</style>\n",
       "<table border=\"1\" class=\"dataframe\">\n",
       "  <thead>\n",
       "    <tr style=\"text-align: right;\">\n",
       "      <th></th>\n",
       "      <th>car_manufacturer</th>\n",
       "      <th>Year_x</th>\n",
       "      <th>Price_YoY</th>\n",
       "      <th>calendar_year</th>\n",
       "      <th>Propulsion_Combustion</th>\n",
       "      <th>Propulsion_Electric</th>\n",
       "      <th>Propulsion_Hybrid</th>\n",
       "      <th>Propulsion_Light Hybrid</th>\n",
       "      <th>Propulsion_Plug-in hybrid</th>\n",
       "      <th>Car gearbox_Automated</th>\n",
       "      <th>...</th>\n",
       "      <th>Unit displacement</th>\n",
       "      <th>Trunk</th>\n",
       "      <th>USB connection</th>\n",
       "      <th>Gear speed transmissions</th>\n",
       "      <th>Urban</th>\n",
       "      <th>Year_y</th>\n",
       "      <th>Radio</th>\n",
       "      <th>Folding rear seat</th>\n",
       "      <th>Perimeter anti theft alarm</th>\n",
       "      <th>car_model_small</th>\n",
       "    </tr>\n",
       "  </thead>\n",
       "  <tbody>\n",
       "    <tr>\n",
       "      <th>60263</th>\n",
       "      <td>Peugeot</td>\n",
       "      <td>2</td>\n",
       "      <td>0.844462</td>\n",
       "      <td>2017</td>\n",
       "      <td>1.0</td>\n",
       "      <td>0.0</td>\n",
       "      <td>0.0</td>\n",
       "      <td>0.0</td>\n",
       "      <td>0.0</td>\n",
       "      <td>0.0</td>\n",
       "      <td>...</td>\n",
       "      <td>0.34035</td>\n",
       "      <td>0.027676</td>\n",
       "      <td>1.0</td>\n",
       "      <td>0.454545</td>\n",
       "      <td>0.111663</td>\n",
       "      <td>0.839286</td>\n",
       "      <td>1.0</td>\n",
       "      <td>1.0</td>\n",
       "      <td>0.0</td>\n",
       "      <td>207</td>\n",
       "    </tr>\n",
       "  </tbody>\n",
       "</table>\n",
       "<p>1 rows × 105 columns</p>\n",
       "</div>"
      ],
      "text/plain": [
       "      car_manufacturer  Year_x  Price_YoY  calendar_year  \\\n",
       "60263          Peugeot       2   0.844462           2017   \n",
       "\n",
       "       Propulsion_Combustion  Propulsion_Electric  Propulsion_Hybrid  \\\n",
       "60263                    1.0                  0.0                0.0   \n",
       "\n",
       "       Propulsion_Light Hybrid  Propulsion_Plug-in hybrid  \\\n",
       "60263                      0.0                        0.0   \n",
       "\n",
       "       Car gearbox_Automated  ...  Unit displacement     Trunk  \\\n",
       "60263                    0.0  ...            0.34035  0.027676   \n",
       "\n",
       "       USB connection  Gear speed transmissions     Urban    Year_y  Radio  \\\n",
       "60263             1.0                  0.454545  0.111663  0.839286    1.0   \n",
       "\n",
       "       Folding rear seat  Perimeter anti theft alarm  car_model_small  \n",
       "60263                1.0                         0.0              207  \n",
       "\n",
       "[1 rows x 105 columns]"
      ]
     },
     "execution_count": 78,
     "metadata": {},
     "output_type": "execute_result"
    }
   ],
   "source": [
    "car = car.drop( columns=['car_code' , 'car_model_year',  'Next_YoY_Price', 'Next_YoY_Pr_Pred', 'Price_sd_scaled' ])\n",
    "\n",
    "\n",
    "#X = merged_df.drop( columns=['car_code' , 'car_model_year',  'Next_YoY_Price', 'Next_YoY_Pr_Pred',\n",
    "#       'Price_sd_scaled' ])\n",
    "\n",
    "\n",
    "#car[\"car_model_small\"] = car[\"car_model\"].map(take_first_word)\n",
    "#car.drop(columns=\"car_model\", inplace=True)\n",
    "car"
   ]
  },
  {
   "cell_type": "code",
   "execution_count": 79,
   "id": "0b28e375",
   "metadata": {
    "ExecuteTime": {
     "end_time": "2024-02-08T17:13:39.765244Z",
     "start_time": "2024-02-08T17:13:39.667594Z"
    }
   },
   "outputs": [],
   "source": [
    "car_transformed = preprocessor.transform(car)"
   ]
  },
  {
   "cell_type": "code",
   "execution_count": 80,
   "id": "1cbb190a",
   "metadata": {
    "ExecuteTime": {
     "end_time": "2024-02-08T17:13:41.728291Z",
     "start_time": "2024-02-08T17:13:41.659590Z"
    }
   },
   "outputs": [
    {
     "data": {
      "text/plain": [
       "array([0.9635005], dtype=float32)"
      ]
     },
     "execution_count": 80,
     "metadata": {},
     "output_type": "execute_result"
    }
   ],
   "source": [
    "xgb_reg.predict(car_transformed)"
   ]
  },
  {
   "cell_type": "code",
   "execution_count": null,
   "id": "4b0dd28c",
   "metadata": {
    "ExecuteTime": {
     "end_time": "2024-02-07T20:44:00.169257Z",
     "start_time": "2024-02-07T20:44:00.151684Z"
    }
   },
   "outputs": [],
   "source": []
  },
  {
   "cell_type": "code",
   "execution_count": null,
   "id": "198ace1e",
   "metadata": {},
   "outputs": [],
   "source": []
  }
 ],
 "metadata": {
  "kernelspec": {
   "display_name": "Python 3 (ipykernel)",
   "language": "python",
   "name": "python3"
  },
  "language_info": {
   "codemirror_mode": {
    "name": "ipython",
    "version": 3
   },
   "file_extension": ".py",
   "mimetype": "text/x-python",
   "name": "python",
   "nbconvert_exporter": "python",
   "pygments_lexer": "ipython3",
   "version": "3.10.6"
  },
  "toc": {
   "base_numbering": 1,
   "nav_menu": {},
   "number_sections": true,
   "sideBar": true,
   "skip_h1_title": false,
   "title_cell": "Table of Contents",
   "title_sidebar": "Contents",
   "toc_cell": false,
   "toc_position": {},
   "toc_section_display": true,
   "toc_window_display": false
  }
 },
 "nbformat": 4,
 "nbformat_minor": 5
}
