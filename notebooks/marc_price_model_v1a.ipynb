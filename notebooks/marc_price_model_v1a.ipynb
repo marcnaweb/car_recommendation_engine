{
 "cells": [
  {
   "cell_type": "code",
   "execution_count": 2,
   "id": "5ca5b624",
   "metadata": {
    "ExecuteTime": {
     "end_time": "2024-02-08T12:23:59.315984Z",
     "start_time": "2024-02-08T12:23:51.044421Z"
    }
   },
   "outputs": [],
   "source": [
    "import pandas as pd\n",
    "import numpy as np\n",
    "import seaborn as sns\n",
    "from sklearn.preprocessing import OneHotEncoder"
   ]
  },
  {
   "cell_type": "code",
   "execution_count": 3,
   "id": "b1d64bcc",
   "metadata": {
    "ExecuteTime": {
     "end_time": "2024-02-08T12:23:59.494828Z",
     "start_time": "2024-02-08T12:23:59.334529Z"
    }
   },
   "outputs": [
    {
     "name": "stdout",
     "output_type": "stream",
     "text": [
      "/home/marcnaweb/code/marcnaweb/car_recommendation_engine/notebooks\r\n"
     ]
    }
   ],
   "source": [
    "!pwd"
   ]
  },
  {
   "cell_type": "code",
   "execution_count": 4,
   "id": "32af68fa",
   "metadata": {
    "ExecuteTime": {
     "end_time": "2024-02-08T12:23:59.916020Z",
     "start_time": "2024-02-08T12:23:59.502738Z"
    }
   },
   "outputs": [],
   "source": [
    "price_df = pd.read_csv('/home/marcnaweb/code/marcnaweb/car_recommendation_engine/raw_data/car_prices_w_prices_scaled.csv', index_col=0)"
   ]
  },
  {
   "cell_type": "code",
   "execution_count": 5,
   "id": "e9ab8ecc",
   "metadata": {
    "ExecuteTime": {
     "end_time": "2024-02-08T12:24:00.023730Z",
     "start_time": "2024-02-08T12:23:59.939470Z"
    }
   },
   "outputs": [],
   "source": [
    "price_df = price_df.sort_values(by=[\"car_code\", \"Year\"])"
   ]
  },
  {
   "cell_type": "code",
   "execution_count": 6,
   "id": "5da395ad",
   "metadata": {
    "ExecuteTime": {
     "end_time": "2024-02-08T12:24:00.111307Z",
     "start_time": "2024-02-08T12:24:00.036786Z"
    }
   },
   "outputs": [],
   "source": [
    "price_df[\"Next_Price_sd_scaled\"] = price_df[\"Price_sd_scaled\"].shift(-1)\n",
    "price_df.drop(price_df.tail(1).index,inplace=True)"
   ]
  },
  {
   "cell_type": "code",
   "execution_count": 7,
   "id": "5c6b0b34",
   "metadata": {
    "ExecuteTime": {
     "end_time": "2024-02-08T12:24:00.262530Z",
     "start_time": "2024-02-08T12:24:00.120144Z"
    }
   },
   "outputs": [
    {
     "data": {
      "text/html": [
       "<div>\n",
       "<style scoped>\n",
       "    .dataframe tbody tr th:only-of-type {\n",
       "        vertical-align: middle;\n",
       "    }\n",
       "\n",
       "    .dataframe tbody tr th {\n",
       "        vertical-align: top;\n",
       "    }\n",
       "\n",
       "    .dataframe thead th {\n",
       "        text-align: right;\n",
       "    }\n",
       "</style>\n",
       "<table border=\"1\" class=\"dataframe\">\n",
       "  <thead>\n",
       "    <tr style=\"text-align: right;\">\n",
       "      <th></th>\n",
       "      <th>car_code</th>\n",
       "      <th>car_manufacturer</th>\n",
       "      <th>car_model</th>\n",
       "      <th>car_model_year</th>\n",
       "      <th>Year</th>\n",
       "      <th>Price_YoY</th>\n",
       "      <th>Next_YoY_Price</th>\n",
       "      <th>Next_YoY_Pr_Pred</th>\n",
       "      <th>calendar_year</th>\n",
       "      <th>Price_sd_scaled</th>\n",
       "      <th>Next_Price_sd_scaled</th>\n",
       "    </tr>\n",
       "  </thead>\n",
       "  <tbody>\n",
       "    <tr>\n",
       "      <th>372654</th>\n",
       "      <td>1</td>\n",
       "      <td>Lamborghini</td>\n",
       "      <td>Murcielago 6.2 V12</td>\n",
       "      <td>2002</td>\n",
       "      <td>19</td>\n",
       "      <td>0.817728</td>\n",
       "      <td>1.016211</td>\n",
       "      <td>0.979539</td>\n",
       "      <td>2021</td>\n",
       "      <td>-2.023064</td>\n",
       "      <td>-0.371702</td>\n",
       "    </tr>\n",
       "    <tr>\n",
       "      <th>186328</th>\n",
       "      <td>2</td>\n",
       "      <td>Fiat</td>\n",
       "      <td>Uno Mille Fire 1.0</td>\n",
       "      <td>2002</td>\n",
       "      <td>10</td>\n",
       "      <td>0.904178</td>\n",
       "      <td>0.852240</td>\n",
       "      <td>0.985393</td>\n",
       "      <td>2012</td>\n",
       "      <td>-0.371702</td>\n",
       "      <td>0.372936</td>\n",
       "    </tr>\n",
       "    <tr>\n",
       "      <th>207031</th>\n",
       "      <td>2</td>\n",
       "      <td>Fiat</td>\n",
       "      <td>Uno Mille Fire 1.0</td>\n",
       "      <td>2002</td>\n",
       "      <td>11</td>\n",
       "      <td>0.852240</td>\n",
       "      <td>0.907692</td>\n",
       "      <td>0.989107</td>\n",
       "      <td>2013</td>\n",
       "      <td>0.372936</td>\n",
       "      <td>-0.425508</td>\n",
       "    </tr>\n",
       "    <tr>\n",
       "      <th>227734</th>\n",
       "      <td>2</td>\n",
       "      <td>Fiat</td>\n",
       "      <td>Uno Mille Fire 1.0</td>\n",
       "      <td>2002</td>\n",
       "      <td>12</td>\n",
       "      <td>0.907692</td>\n",
       "      <td>0.879982</td>\n",
       "      <td>0.986298</td>\n",
       "      <td>2014</td>\n",
       "      <td>-0.425508</td>\n",
       "      <td>0.182580</td>\n",
       "    </tr>\n",
       "    <tr>\n",
       "      <th>248437</th>\n",
       "      <td>2</td>\n",
       "      <td>Fiat</td>\n",
       "      <td>Uno Mille Fire 1.0</td>\n",
       "      <td>2002</td>\n",
       "      <td>13</td>\n",
       "      <td>0.879982</td>\n",
       "      <td>0.904896</td>\n",
       "      <td>0.987452</td>\n",
       "      <td>2015</td>\n",
       "      <td>0.182580</td>\n",
       "      <td>0.222046</td>\n",
       "    </tr>\n",
       "    <tr>\n",
       "      <th>...</th>\n",
       "      <td>...</td>\n",
       "      <td>...</td>\n",
       "      <td>...</td>\n",
       "      <td>...</td>\n",
       "      <td>...</td>\n",
       "      <td>...</td>\n",
       "      <td>...</td>\n",
       "      <td>...</td>\n",
       "      <td>...</td>\n",
       "      <td>...</td>\n",
       "      <td>...</td>\n",
       "    </tr>\n",
       "    <tr>\n",
       "      <th>61773</th>\n",
       "      <td>22454</td>\n",
       "      <td>Mercedes-Benz</td>\n",
       "      <td>GLC 250 Highway 2.0</td>\n",
       "      <td>2018</td>\n",
       "      <td>3</td>\n",
       "      <td>1.075859</td>\n",
       "      <td>0.960412</td>\n",
       "      <td>0.922014</td>\n",
       "      <td>2021</td>\n",
       "      <td>3.201839</td>\n",
       "      <td>-1.952319</td>\n",
       "    </tr>\n",
       "    <tr>\n",
       "      <th>82476</th>\n",
       "      <td>22454</td>\n",
       "      <td>Mercedes-Benz</td>\n",
       "      <td>GLC 250 Highway 2.0</td>\n",
       "      <td>2018</td>\n",
       "      <td>4</td>\n",
       "      <td>0.960412</td>\n",
       "      <td>0.952021</td>\n",
       "      <td>0.930608</td>\n",
       "      <td>2022</td>\n",
       "      <td>-1.952319</td>\n",
       "      <td>-0.182192</td>\n",
       "    </tr>\n",
       "    <tr>\n",
       "      <th>20369</th>\n",
       "      <td>22456</td>\n",
       "      <td>Ford</td>\n",
       "      <td>Ka Trail 1.5</td>\n",
       "      <td>2018</td>\n",
       "      <td>1</td>\n",
       "      <td>0.785524</td>\n",
       "      <td>0.943683</td>\n",
       "      <td>0.917069</td>\n",
       "      <td>2019</td>\n",
       "      <td>-0.182192</td>\n",
       "      <td>0.429168</td>\n",
       "    </tr>\n",
       "    <tr>\n",
       "      <th>41072</th>\n",
       "      <td>22456</td>\n",
       "      <td>Ford</td>\n",
       "      <td>Ka Trail 1.5</td>\n",
       "      <td>2018</td>\n",
       "      <td>2</td>\n",
       "      <td>0.943683</td>\n",
       "      <td>1.135969</td>\n",
       "      <td>0.916243</td>\n",
       "      <td>2020</td>\n",
       "      <td>0.429168</td>\n",
       "      <td>4.289213</td>\n",
       "    </tr>\n",
       "    <tr>\n",
       "      <th>61775</th>\n",
       "      <td>22456</td>\n",
       "      <td>Ford</td>\n",
       "      <td>Ka Trail 1.5</td>\n",
       "      <td>2018</td>\n",
       "      <td>3</td>\n",
       "      <td>1.135969</td>\n",
       "      <td>0.956587</td>\n",
       "      <td>0.922014</td>\n",
       "      <td>2021</td>\n",
       "      <td>4.289213</td>\n",
       "      <td>-1.990149</td>\n",
       "    </tr>\n",
       "  </tbody>\n",
       "</table>\n",
       "<p>87890 rows × 11 columns</p>\n",
       "</div>"
      ],
      "text/plain": [
       "        car_code car_manufacturer            car_model  car_model_year  Year  \\\n",
       "372654         1      Lamborghini   Murcielago 6.2 V12            2002    19   \n",
       "186328         2             Fiat   Uno Mille Fire 1.0            2002    10   \n",
       "207031         2             Fiat   Uno Mille Fire 1.0            2002    11   \n",
       "227734         2             Fiat   Uno Mille Fire 1.0            2002    12   \n",
       "248437         2             Fiat   Uno Mille Fire 1.0            2002    13   \n",
       "...          ...              ...                  ...             ...   ...   \n",
       "61773      22454    Mercedes-Benz  GLC 250 Highway 2.0            2018     3   \n",
       "82476      22454    Mercedes-Benz  GLC 250 Highway 2.0            2018     4   \n",
       "20369      22456             Ford         Ka Trail 1.5            2018     1   \n",
       "41072      22456             Ford         Ka Trail 1.5            2018     2   \n",
       "61775      22456             Ford         Ka Trail 1.5            2018     3   \n",
       "\n",
       "        Price_YoY  Next_YoY_Price  Next_YoY_Pr_Pred  calendar_year  \\\n",
       "372654   0.817728        1.016211          0.979539           2021   \n",
       "186328   0.904178        0.852240          0.985393           2012   \n",
       "207031   0.852240        0.907692          0.989107           2013   \n",
       "227734   0.907692        0.879982          0.986298           2014   \n",
       "248437   0.879982        0.904896          0.987452           2015   \n",
       "...           ...             ...               ...            ...   \n",
       "61773    1.075859        0.960412          0.922014           2021   \n",
       "82476    0.960412        0.952021          0.930608           2022   \n",
       "20369    0.785524        0.943683          0.917069           2019   \n",
       "41072    0.943683        1.135969          0.916243           2020   \n",
       "61775    1.135969        0.956587          0.922014           2021   \n",
       "\n",
       "        Price_sd_scaled  Next_Price_sd_scaled  \n",
       "372654        -2.023064             -0.371702  \n",
       "186328        -0.371702              0.372936  \n",
       "207031         0.372936             -0.425508  \n",
       "227734        -0.425508              0.182580  \n",
       "248437         0.182580              0.222046  \n",
       "...                 ...                   ...  \n",
       "61773          3.201839             -1.952319  \n",
       "82476         -1.952319             -0.182192  \n",
       "20369         -0.182192              0.429168  \n",
       "41072          0.429168              4.289213  \n",
       "61775          4.289213             -1.990149  \n",
       "\n",
       "[87890 rows x 11 columns]"
      ]
     },
     "execution_count": 7,
     "metadata": {},
     "output_type": "execute_result"
    }
   ],
   "source": [
    "\n",
    "price_df"
   ]
  },
  {
   "cell_type": "markdown",
   "id": "a9b85ea6",
   "metadata": {
    "ExecuteTime": {
     "end_time": "2024-02-07T12:19:07.061752Z",
     "start_time": "2024-02-07T12:19:07.053181Z"
    },
    "heading_collapsed": true
   },
   "source": [
    "## Model first try --> ignore this!"
   ]
  },
  {
   "cell_type": "code",
   "execution_count": 8,
   "id": "5887461b",
   "metadata": {
    "ExecuteTime": {
     "end_time": "2024-02-08T12:24:00.491261Z",
     "start_time": "2024-02-08T12:24:00.271500Z"
    },
    "hidden": true
   },
   "outputs": [
    {
     "data": {
      "text/html": [
       "<div>\n",
       "<style scoped>\n",
       "    .dataframe tbody tr th:only-of-type {\n",
       "        vertical-align: middle;\n",
       "    }\n",
       "\n",
       "    .dataframe tbody tr th {\n",
       "        vertical-align: top;\n",
       "    }\n",
       "\n",
       "    .dataframe thead th {\n",
       "        text-align: right;\n",
       "    }\n",
       "</style>\n",
       "<table border=\"1\" class=\"dataframe\">\n",
       "  <thead>\n",
       "    <tr style=\"text-align: right;\">\n",
       "      <th></th>\n",
       "      <th>car_code</th>\n",
       "      <th>car_manufacturer</th>\n",
       "      <th>car_model</th>\n",
       "      <th>car_model_year</th>\n",
       "      <th>Year</th>\n",
       "      <th>Price_YoY</th>\n",
       "      <th>Next_YoY_Price</th>\n",
       "      <th>Next_YoY_Pr_Pred</th>\n",
       "      <th>calendar_year</th>\n",
       "      <th>Price_sd_scaled</th>\n",
       "      <th>Next_Price_sd_scaled</th>\n",
       "    </tr>\n",
       "  </thead>\n",
       "  <tbody>\n",
       "    <tr>\n",
       "      <th>1129</th>\n",
       "      <td>1165</td>\n",
       "      <td>Agrale</td>\n",
       "      <td>Marruá 2.8 Turbodiesel 4x4</td>\n",
       "      <td>2005</td>\n",
       "      <td>1</td>\n",
       "      <td>0.827534</td>\n",
       "      <td>0.955923</td>\n",
       "      <td>0.917069</td>\n",
       "      <td>2006</td>\n",
       "      <td>0.126351</td>\n",
       "      <td>1.450379</td>\n",
       "    </tr>\n",
       "    <tr>\n",
       "      <th>21832</th>\n",
       "      <td>1165</td>\n",
       "      <td>Agrale</td>\n",
       "      <td>Marruá 2.8 Turbodiesel 4x4</td>\n",
       "      <td>2005</td>\n",
       "      <td>2</td>\n",
       "      <td>0.955923</td>\n",
       "      <td>0.941984</td>\n",
       "      <td>0.916243</td>\n",
       "      <td>2007</td>\n",
       "      <td>1.450379</td>\n",
       "      <td>1.192389</td>\n",
       "    </tr>\n",
       "    <tr>\n",
       "      <th>42535</th>\n",
       "      <td>1165</td>\n",
       "      <td>Agrale</td>\n",
       "      <td>Marruá 2.8 Turbodiesel 4x4</td>\n",
       "      <td>2005</td>\n",
       "      <td>3</td>\n",
       "      <td>0.941984</td>\n",
       "      <td>0.923376</td>\n",
       "      <td>0.922014</td>\n",
       "      <td>2008</td>\n",
       "      <td>1.192389</td>\n",
       "      <td>1.393752</td>\n",
       "    </tr>\n",
       "    <tr>\n",
       "      <th>63238</th>\n",
       "      <td>1165</td>\n",
       "      <td>Agrale</td>\n",
       "      <td>Marruá 2.8 Turbodiesel 4x4</td>\n",
       "      <td>2005</td>\n",
       "      <td>4</td>\n",
       "      <td>0.923376</td>\n",
       "      <td>0.835827</td>\n",
       "      <td>0.930608</td>\n",
       "      <td>2009</td>\n",
       "      <td>1.393752</td>\n",
       "      <td>0.196289</td>\n",
       "    </tr>\n",
       "    <tr>\n",
       "      <th>83941</th>\n",
       "      <td>1165</td>\n",
       "      <td>Agrale</td>\n",
       "      <td>Marruá 2.8 Turbodiesel 4x4</td>\n",
       "      <td>2005</td>\n",
       "      <td>5</td>\n",
       "      <td>0.835827</td>\n",
       "      <td>0.895752</td>\n",
       "      <td>0.941001</td>\n",
       "      <td>2010</td>\n",
       "      <td>0.196289</td>\n",
       "      <td>-0.169465</td>\n",
       "    </tr>\n",
       "    <tr>\n",
       "      <th>...</th>\n",
       "      <td>...</td>\n",
       "      <td>...</td>\n",
       "      <td>...</td>\n",
       "      <td>...</td>\n",
       "      <td>...</td>\n",
       "      <td>...</td>\n",
       "      <td>...</td>\n",
       "      <td>...</td>\n",
       "      <td>...</td>\n",
       "      <td>...</td>\n",
       "      <td>...</td>\n",
       "    </tr>\n",
       "    <tr>\n",
       "      <th>114886</th>\n",
       "      <td>11612</td>\n",
       "      <td>W Motors</td>\n",
       "      <td>Fenyr SuperSport 3.7</td>\n",
       "      <td>2015</td>\n",
       "      <td>6</td>\n",
       "      <td>0.954017</td>\n",
       "      <td>1.016211</td>\n",
       "      <td>0.955932</td>\n",
       "      <td>2021</td>\n",
       "      <td>1.283366</td>\n",
       "      <td>-1.549119</td>\n",
       "    </tr>\n",
       "    <tr>\n",
       "      <th>135589</th>\n",
       "      <td>11612</td>\n",
       "      <td>W Motors</td>\n",
       "      <td>Fenyr SuperSport 3.7</td>\n",
       "      <td>2015</td>\n",
       "      <td>7</td>\n",
       "      <td>1.016211</td>\n",
       "      <td>1.081330</td>\n",
       "      <td>0.960582</td>\n",
       "      <td>2022</td>\n",
       "      <td>-1.549119</td>\n",
       "      <td>0.390098</td>\n",
       "    </tr>\n",
       "    <tr>\n",
       "      <th>135556</th>\n",
       "      <td>11579</td>\n",
       "      <td>W Motors</td>\n",
       "      <td>Lykan HyperSport 3.7</td>\n",
       "      <td>2013</td>\n",
       "      <td>7</td>\n",
       "      <td>0.892993</td>\n",
       "      <td>0.954017</td>\n",
       "      <td>0.960582</td>\n",
       "      <td>2020</td>\n",
       "      <td>-0.419926</td>\n",
       "      <td>1.254181</td>\n",
       "    </tr>\n",
       "    <tr>\n",
       "      <th>156259</th>\n",
       "      <td>11579</td>\n",
       "      <td>W Motors</td>\n",
       "      <td>Lykan HyperSport 3.7</td>\n",
       "      <td>2013</td>\n",
       "      <td>8</td>\n",
       "      <td>0.954017</td>\n",
       "      <td>1.016211</td>\n",
       "      <td>0.970114</td>\n",
       "      <td>2021</td>\n",
       "      <td>1.254181</td>\n",
       "      <td>-1.613198</td>\n",
       "    </tr>\n",
       "    <tr>\n",
       "      <th>176962</th>\n",
       "      <td>11579</td>\n",
       "      <td>W Motors</td>\n",
       "      <td>Lykan HyperSport 3.7</td>\n",
       "      <td>2013</td>\n",
       "      <td>9</td>\n",
       "      <td>1.016211</td>\n",
       "      <td>1.081330</td>\n",
       "      <td>0.978374</td>\n",
       "      <td>2022</td>\n",
       "      <td>-1.613198</td>\n",
       "      <td>0.099680</td>\n",
       "    </tr>\n",
       "  </tbody>\n",
       "</table>\n",
       "<p>87890 rows × 11 columns</p>\n",
       "</div>"
      ],
      "text/plain": [
       "        car_code car_manufacturer                   car_model  car_model_year  \\\n",
       "1129        1165           Agrale  Marruá 2.8 Turbodiesel 4x4            2005   \n",
       "21832       1165           Agrale  Marruá 2.8 Turbodiesel 4x4            2005   \n",
       "42535       1165           Agrale  Marruá 2.8 Turbodiesel 4x4            2005   \n",
       "63238       1165           Agrale  Marruá 2.8 Turbodiesel 4x4            2005   \n",
       "83941       1165           Agrale  Marruá 2.8 Turbodiesel 4x4            2005   \n",
       "...          ...              ...                         ...             ...   \n",
       "114886     11612         W Motors        Fenyr SuperSport 3.7            2015   \n",
       "135589     11612         W Motors        Fenyr SuperSport 3.7            2015   \n",
       "135556     11579         W Motors        Lykan HyperSport 3.7            2013   \n",
       "156259     11579         W Motors        Lykan HyperSport 3.7            2013   \n",
       "176962     11579         W Motors        Lykan HyperSport 3.7            2013   \n",
       "\n",
       "        Year  Price_YoY  Next_YoY_Price  Next_YoY_Pr_Pred  calendar_year  \\\n",
       "1129       1   0.827534        0.955923          0.917069           2006   \n",
       "21832      2   0.955923        0.941984          0.916243           2007   \n",
       "42535      3   0.941984        0.923376          0.922014           2008   \n",
       "63238      4   0.923376        0.835827          0.930608           2009   \n",
       "83941      5   0.835827        0.895752          0.941001           2010   \n",
       "...      ...        ...             ...               ...            ...   \n",
       "114886     6   0.954017        1.016211          0.955932           2021   \n",
       "135589     7   1.016211        1.081330          0.960582           2022   \n",
       "135556     7   0.892993        0.954017          0.960582           2020   \n",
       "156259     8   0.954017        1.016211          0.970114           2021   \n",
       "176962     9   1.016211        1.081330          0.978374           2022   \n",
       "\n",
       "        Price_sd_scaled  Next_Price_sd_scaled  \n",
       "1129           0.126351              1.450379  \n",
       "21832          1.450379              1.192389  \n",
       "42535          1.192389              1.393752  \n",
       "63238          1.393752              0.196289  \n",
       "83941          0.196289             -0.169465  \n",
       "...                 ...                   ...  \n",
       "114886         1.283366             -1.549119  \n",
       "135589        -1.549119              0.390098  \n",
       "135556        -0.419926              1.254181  \n",
       "156259         1.254181             -1.613198  \n",
       "176962        -1.613198              0.099680  \n",
       "\n",
       "[87890 rows x 11 columns]"
      ]
     },
     "execution_count": 8,
     "metadata": {},
     "output_type": "execute_result"
    }
   ],
   "source": [
    "price_df.sort_values(by=[\"car_manufacturer\", \"car_model\", \"car_model_year\" , \"calendar_year\" ])"
   ]
  },
  {
   "cell_type": "code",
   "execution_count": 9,
   "id": "391e7900",
   "metadata": {
    "ExecuteTime": {
     "end_time": "2024-02-08T12:24:00.596351Z",
     "start_time": "2024-02-08T12:24:00.503226Z"
    },
    "hidden": true
   },
   "outputs": [
    {
     "name": "stderr",
     "output_type": "stream",
     "text": [
      "/tmp/ipykernel_17342/580542901.py:1: UserWarning: Boolean Series key will be reindexed to match DataFrame index.\n",
      "  price_df[price_df[\"car_code\"] == 10123][price_df[\"Year\"] == 1 ]\n"
     ]
    },
    {
     "data": {
      "text/html": [
       "<div>\n",
       "<style scoped>\n",
       "    .dataframe tbody tr th:only-of-type {\n",
       "        vertical-align: middle;\n",
       "    }\n",
       "\n",
       "    .dataframe tbody tr th {\n",
       "        vertical-align: top;\n",
       "    }\n",
       "\n",
       "    .dataframe thead th {\n",
       "        text-align: right;\n",
       "    }\n",
       "</style>\n",
       "<table border=\"1\" class=\"dataframe\">\n",
       "  <thead>\n",
       "    <tr style=\"text-align: right;\">\n",
       "      <th></th>\n",
       "      <th>car_code</th>\n",
       "      <th>car_manufacturer</th>\n",
       "      <th>car_model</th>\n",
       "      <th>car_model_year</th>\n",
       "      <th>Year</th>\n",
       "      <th>Price_YoY</th>\n",
       "      <th>Next_YoY_Price</th>\n",
       "      <th>Next_YoY_Pr_Pred</th>\n",
       "      <th>calendar_year</th>\n",
       "      <th>Price_sd_scaled</th>\n",
       "      <th>Next_Price_sd_scaled</th>\n",
       "    </tr>\n",
       "  </thead>\n",
       "  <tbody>\n",
       "    <tr>\n",
       "      <th>9895</th>\n",
       "      <td>10123</td>\n",
       "      <td>Volvo</td>\n",
       "      <td>XC90 Inscription T8 2.0</td>\n",
       "      <td>2019</td>\n",
       "      <td>1</td>\n",
       "      <td>0.778703</td>\n",
       "      <td>0.887521</td>\n",
       "      <td>0.917069</td>\n",
       "      <td>2020</td>\n",
       "      <td>-0.507204</td>\n",
       "      <td>-0.401075</td>\n",
       "    </tr>\n",
       "  </tbody>\n",
       "</table>\n",
       "</div>"
      ],
      "text/plain": [
       "      car_code car_manufacturer                car_model  car_model_year  \\\n",
       "9895     10123            Volvo  XC90 Inscription T8 2.0            2019   \n",
       "\n",
       "      Year  Price_YoY  Next_YoY_Price  Next_YoY_Pr_Pred  calendar_year  \\\n",
       "9895     1   0.778703        0.887521          0.917069           2020   \n",
       "\n",
       "      Price_sd_scaled  Next_Price_sd_scaled  \n",
       "9895        -0.507204             -0.401075  "
      ]
     },
     "execution_count": 9,
     "metadata": {},
     "output_type": "execute_result"
    }
   ],
   "source": [
    "price_df[price_df[\"car_code\"] == 10123][price_df[\"Year\"] == 1 ]"
   ]
  },
  {
   "cell_type": "code",
   "execution_count": 10,
   "id": "09c18fe0",
   "metadata": {
    "ExecuteTime": {
     "end_time": "2024-02-08T12:24:00.633649Z",
     "start_time": "2024-02-08T12:24:00.606821Z"
    },
    "hidden": true
   },
   "outputs": [],
   "source": [
    "#X = price_df[['car_manufacturer', 'car_model', 'Year', 'Price_YoY' ]]\n",
    "#y = price_df[[\"Next_YoY_Price\"]]\n",
    "\n",
    "X = price_df[['car_manufacturer', 'car_model', 'Year', 'Price_sd_scaled' ]]\n",
    "y = price_df[[\"Next_Price_sd_scaled\"]]\n",
    "\n"
   ]
  },
  {
   "cell_type": "code",
   "execution_count": 11,
   "id": "7dbcfedf",
   "metadata": {
    "ExecuteTime": {
     "end_time": "2024-02-08T12:24:00.882816Z",
     "start_time": "2024-02-08T12:24:00.663811Z"
    },
    "hidden": true
   },
   "outputs": [],
   "source": [
    "import numpy as np\n",
    "from sklearn.model_selection import train_test_split"
   ]
  },
  {
   "cell_type": "code",
   "execution_count": 12,
   "id": "4352c495",
   "metadata": {
    "ExecuteTime": {
     "end_time": "2024-02-08T12:24:00.958247Z",
     "start_time": "2024-02-08T12:24:00.893217Z"
    },
    "hidden": true
   },
   "outputs": [],
   "source": [
    "X_train, X_test, y_train, y_test = train_test_split(X, y, test_size=0.3, random_state=42)"
   ]
  },
  {
   "cell_type": "code",
   "execution_count": null,
   "id": "680de26b",
   "metadata": {
    "ExecuteTime": {
     "end_time": "2024-02-07T16:53:37.642201Z",
     "start_time": "2024-02-07T16:53:37.294438Z"
    },
    "hidden": true
   },
   "outputs": [],
   "source": []
  },
  {
   "cell_type": "code",
   "execution_count": null,
   "id": "2a495abb",
   "metadata": {
    "ExecuteTime": {
     "end_time": "2024-02-07T16:53:44.083115Z",
     "start_time": "2024-02-07T16:53:44.015402Z"
    },
    "hidden": true
   },
   "outputs": [],
   "source": []
  },
  {
   "cell_type": "code",
   "execution_count": 13,
   "id": "c5eae425",
   "metadata": {
    "ExecuteTime": {
     "end_time": "2024-02-08T12:24:01.298640Z",
     "start_time": "2024-02-08T12:24:00.967935Z"
    },
    "hidden": true
   },
   "outputs": [],
   "source": [
    "from sklearn.compose import ColumnTransformer\n",
    "\n",
    "from sklearn.pipeline import Pipeline\n",
    "from sklearn.impute import SimpleImputer\n",
    "from sklearn.preprocessing import StandardScaler\n",
    "\n",
    "from sklearn.preprocessing import OneHotEncoder"
   ]
  },
  {
   "cell_type": "code",
   "execution_count": 14,
   "id": "d8f4f2a0",
   "metadata": {
    "ExecuteTime": {
     "end_time": "2024-02-08T12:24:01.318987Z",
     "start_time": "2024-02-08T12:24:01.307256Z"
    },
    "hidden": true
   },
   "outputs": [],
   "source": [
    "def take_first_word(word):\n",
    "    return word.split(\" \")[0]\n",
    "    "
   ]
  },
  {
   "cell_type": "code",
   "execution_count": 15,
   "id": "75a3312b",
   "metadata": {
    "ExecuteTime": {
     "end_time": "2024-02-08T12:24:01.359573Z",
     "start_time": "2024-02-08T12:24:01.335475Z"
    },
    "hidden": true
   },
   "outputs": [],
   "source": [
    "def take_first_word(word):\n",
    "    return word.split(\" \")[0]\n",
    "\n",
    "\n",
    "\n",
    "# Impute then scale numerical values:\n",
    "num_transformer = Pipeline([\n",
    "    ('imputer', SimpleImputer(strategy=\"mean\"))\n",
    "    #,('standard_scaler', StandardScaler())\n",
    "])\n",
    "\n",
    "# Encode categorical values\n",
    "cat_transformer = OneHotEncoder(handle_unknown='ignore', sparse_output=False)\n",
    "\n",
    "\n",
    "\n",
    "\n",
    "# Parallelize \"num_transformer\" and \"cat_transfomer\"\n",
    "preprocessor = ColumnTransformer([\n",
    "    ('cat_transformer', cat_transformer, ['car_manufacturer', \"car_model_small\"]), #, 'car_model'  --> was removed\n",
    "    #('num_transformer', num_transformer, [ 'Year','Price_YoY']) \n",
    "    ('num_transformer', num_transformer, [ 'Year','Price_sd_scaled']) \n",
    "])\n",
    "\n"
   ]
  },
  {
   "cell_type": "code",
   "execution_count": 16,
   "id": "07d52948",
   "metadata": {
    "ExecuteTime": {
     "end_time": "2024-02-08T12:24:01.537801Z",
     "start_time": "2024-02-08T12:24:01.383645Z"
    },
    "hidden": true
   },
   "outputs": [
    {
     "data": {
      "text/html": [
       "<style>#sk-container-id-1 {color: black;}#sk-container-id-1 pre{padding: 0;}#sk-container-id-1 div.sk-toggleable {background-color: white;}#sk-container-id-1 label.sk-toggleable__label {cursor: pointer;display: block;width: 100%;margin-bottom: 0;padding: 0.3em;box-sizing: border-box;text-align: center;}#sk-container-id-1 label.sk-toggleable__label-arrow:before {content: \"▸\";float: left;margin-right: 0.25em;color: #696969;}#sk-container-id-1 label.sk-toggleable__label-arrow:hover:before {color: black;}#sk-container-id-1 div.sk-estimator:hover label.sk-toggleable__label-arrow:before {color: black;}#sk-container-id-1 div.sk-toggleable__content {max-height: 0;max-width: 0;overflow: hidden;text-align: left;background-color: #f0f8ff;}#sk-container-id-1 div.sk-toggleable__content pre {margin: 0.2em;color: black;border-radius: 0.25em;background-color: #f0f8ff;}#sk-container-id-1 input.sk-toggleable__control:checked~div.sk-toggleable__content {max-height: 200px;max-width: 100%;overflow: auto;}#sk-container-id-1 input.sk-toggleable__control:checked~label.sk-toggleable__label-arrow:before {content: \"▾\";}#sk-container-id-1 div.sk-estimator input.sk-toggleable__control:checked~label.sk-toggleable__label {background-color: #d4ebff;}#sk-container-id-1 div.sk-label input.sk-toggleable__control:checked~label.sk-toggleable__label {background-color: #d4ebff;}#sk-container-id-1 input.sk-hidden--visually {border: 0;clip: rect(1px 1px 1px 1px);clip: rect(1px, 1px, 1px, 1px);height: 1px;margin: -1px;overflow: hidden;padding: 0;position: absolute;width: 1px;}#sk-container-id-1 div.sk-estimator {font-family: monospace;background-color: #f0f8ff;border: 1px dotted black;border-radius: 0.25em;box-sizing: border-box;margin-bottom: 0.5em;}#sk-container-id-1 div.sk-estimator:hover {background-color: #d4ebff;}#sk-container-id-1 div.sk-parallel-item::after {content: \"\";width: 100%;border-bottom: 1px solid gray;flex-grow: 1;}#sk-container-id-1 div.sk-label:hover label.sk-toggleable__label {background-color: #d4ebff;}#sk-container-id-1 div.sk-serial::before {content: \"\";position: absolute;border-left: 1px solid gray;box-sizing: border-box;top: 0;bottom: 0;left: 50%;z-index: 0;}#sk-container-id-1 div.sk-serial {display: flex;flex-direction: column;align-items: center;background-color: white;padding-right: 0.2em;padding-left: 0.2em;position: relative;}#sk-container-id-1 div.sk-item {position: relative;z-index: 1;}#sk-container-id-1 div.sk-parallel {display: flex;align-items: stretch;justify-content: center;background-color: white;position: relative;}#sk-container-id-1 div.sk-item::before, #sk-container-id-1 div.sk-parallel-item::before {content: \"\";position: absolute;border-left: 1px solid gray;box-sizing: border-box;top: 0;bottom: 0;left: 50%;z-index: -1;}#sk-container-id-1 div.sk-parallel-item {display: flex;flex-direction: column;z-index: 1;position: relative;background-color: white;}#sk-container-id-1 div.sk-parallel-item:first-child::after {align-self: flex-end;width: 50%;}#sk-container-id-1 div.sk-parallel-item:last-child::after {align-self: flex-start;width: 50%;}#sk-container-id-1 div.sk-parallel-item:only-child::after {width: 0;}#sk-container-id-1 div.sk-dashed-wrapped {border: 1px dashed gray;margin: 0 0.4em 0.5em 0.4em;box-sizing: border-box;padding-bottom: 0.4em;background-color: white;}#sk-container-id-1 div.sk-label label {font-family: monospace;font-weight: bold;display: inline-block;line-height: 1.2em;}#sk-container-id-1 div.sk-label-container {text-align: center;}#sk-container-id-1 div.sk-container {/* jupyter's `normalize.less` sets `[hidden] { display: none; }` but bootstrap.min.css set `[hidden] { display: none !important; }` so we also need the `!important` here to be able to override the default hidden behavior on the sphinx rendered scikit-learn.org. See: https://github.com/scikit-learn/scikit-learn/issues/21755 */display: inline-block !important;position: relative;}#sk-container-id-1 div.sk-text-repr-fallback {display: none;}</style><div id=\"sk-container-id-1\" class=\"sk-top-container\"><div class=\"sk-text-repr-fallback\"><pre>ColumnTransformer(transformers=[(&#x27;cat_transformer&#x27;,\n",
       "                                 OneHotEncoder(handle_unknown=&#x27;ignore&#x27;,\n",
       "                                               sparse_output=False),\n",
       "                                 [&#x27;car_manufacturer&#x27;, &#x27;car_model_small&#x27;]),\n",
       "                                (&#x27;num_transformer&#x27;,\n",
       "                                 Pipeline(steps=[(&#x27;imputer&#x27;, SimpleImputer())]),\n",
       "                                 [&#x27;Year&#x27;, &#x27;Price_sd_scaled&#x27;])])</pre><b>In a Jupyter environment, please rerun this cell to show the HTML representation or trust the notebook. <br />On GitHub, the HTML representation is unable to render, please try loading this page with nbviewer.org.</b></div><div class=\"sk-container\" hidden><div class=\"sk-item sk-dashed-wrapped\"><div class=\"sk-label-container\"><div class=\"sk-label sk-toggleable\"><input class=\"sk-toggleable__control sk-hidden--visually\" id=\"sk-estimator-id-1\" type=\"checkbox\" ><label for=\"sk-estimator-id-1\" class=\"sk-toggleable__label sk-toggleable__label-arrow\">ColumnTransformer</label><div class=\"sk-toggleable__content\"><pre>ColumnTransformer(transformers=[(&#x27;cat_transformer&#x27;,\n",
       "                                 OneHotEncoder(handle_unknown=&#x27;ignore&#x27;,\n",
       "                                               sparse_output=False),\n",
       "                                 [&#x27;car_manufacturer&#x27;, &#x27;car_model_small&#x27;]),\n",
       "                                (&#x27;num_transformer&#x27;,\n",
       "                                 Pipeline(steps=[(&#x27;imputer&#x27;, SimpleImputer())]),\n",
       "                                 [&#x27;Year&#x27;, &#x27;Price_sd_scaled&#x27;])])</pre></div></div></div><div class=\"sk-parallel\"><div class=\"sk-parallel-item\"><div class=\"sk-item\"><div class=\"sk-label-container\"><div class=\"sk-label sk-toggleable\"><input class=\"sk-toggleable__control sk-hidden--visually\" id=\"sk-estimator-id-2\" type=\"checkbox\" ><label for=\"sk-estimator-id-2\" class=\"sk-toggleable__label sk-toggleable__label-arrow\">cat_transformer</label><div class=\"sk-toggleable__content\"><pre>[&#x27;car_manufacturer&#x27;, &#x27;car_model_small&#x27;]</pre></div></div></div><div class=\"sk-serial\"><div class=\"sk-item\"><div class=\"sk-estimator sk-toggleable\"><input class=\"sk-toggleable__control sk-hidden--visually\" id=\"sk-estimator-id-3\" type=\"checkbox\" ><label for=\"sk-estimator-id-3\" class=\"sk-toggleable__label sk-toggleable__label-arrow\">OneHotEncoder</label><div class=\"sk-toggleable__content\"><pre>OneHotEncoder(handle_unknown=&#x27;ignore&#x27;, sparse_output=False)</pre></div></div></div></div></div></div><div class=\"sk-parallel-item\"><div class=\"sk-item\"><div class=\"sk-label-container\"><div class=\"sk-label sk-toggleable\"><input class=\"sk-toggleable__control sk-hidden--visually\" id=\"sk-estimator-id-4\" type=\"checkbox\" ><label for=\"sk-estimator-id-4\" class=\"sk-toggleable__label sk-toggleable__label-arrow\">num_transformer</label><div class=\"sk-toggleable__content\"><pre>[&#x27;Year&#x27;, &#x27;Price_sd_scaled&#x27;]</pre></div></div></div><div class=\"sk-serial\"><div class=\"sk-item\"><div class=\"sk-serial\"><div class=\"sk-item\"><div class=\"sk-estimator sk-toggleable\"><input class=\"sk-toggleable__control sk-hidden--visually\" id=\"sk-estimator-id-5\" type=\"checkbox\" ><label for=\"sk-estimator-id-5\" class=\"sk-toggleable__label sk-toggleable__label-arrow\">SimpleImputer</label><div class=\"sk-toggleable__content\"><pre>SimpleImputer()</pre></div></div></div></div></div></div></div></div></div></div></div></div>"
      ],
      "text/plain": [
       "ColumnTransformer(transformers=[('cat_transformer',\n",
       "                                 OneHotEncoder(handle_unknown='ignore',\n",
       "                                               sparse_output=False),\n",
       "                                 ['car_manufacturer', 'car_model_small']),\n",
       "                                ('num_transformer',\n",
       "                                 Pipeline(steps=[('imputer', SimpleImputer())]),\n",
       "                                 ['Year', 'Price_sd_scaled'])])"
      ]
     },
     "execution_count": 16,
     "metadata": {},
     "output_type": "execute_result"
    }
   ],
   "source": [
    "from sklearn import set_config; set_config(display='diagram')\n",
    "preprocessor"
   ]
  },
  {
   "cell_type": "code",
   "execution_count": 17,
   "id": "59d03f23",
   "metadata": {
    "ExecuteTime": {
     "end_time": "2024-02-08T12:24:03.555442Z",
     "start_time": "2024-02-08T12:24:01.556692Z"
    },
    "hidden": true,
    "scrolled": true
   },
   "outputs": [],
   "source": [
    "X_train[\"car_model_small\"] = X_train[\"car_model\"].map(take_first_word)\n",
    "\n",
    "X_train_transformed = preprocessor.fit_transform(X_train)"
   ]
  },
  {
   "cell_type": "code",
   "execution_count": 18,
   "id": "b4ed6a31",
   "metadata": {
    "ExecuteTime": {
     "end_time": "2024-02-08T12:24:03.603687Z",
     "start_time": "2024-02-08T12:24:03.566376Z"
    },
    "hidden": true
   },
   "outputs": [
    {
     "data": {
      "text/plain": [
       "(61523, 795)"
      ]
     },
     "execution_count": 18,
     "metadata": {},
     "output_type": "execute_result"
    }
   ],
   "source": [
    "X_train_transformed.shape"
   ]
  },
  {
   "cell_type": "code",
   "execution_count": 19,
   "id": "121ab766",
   "metadata": {
    "ExecuteTime": {
     "end_time": "2024-02-08T12:24:03.633090Z",
     "start_time": "2024-02-08T12:24:03.616390Z"
    },
    "hidden": true
   },
   "outputs": [],
   "source": [
    "from sklearn.linear_model import LinearRegression"
   ]
  },
  {
   "cell_type": "code",
   "execution_count": 20,
   "id": "359df2db",
   "metadata": {
    "ExecuteTime": {
     "end_time": "2024-02-08T12:24:43.125586Z",
     "start_time": "2024-02-08T12:24:03.644794Z"
    },
    "hidden": true
   },
   "outputs": [
    {
     "data": {
      "text/html": [
       "<style>#sk-container-id-2 {color: black;}#sk-container-id-2 pre{padding: 0;}#sk-container-id-2 div.sk-toggleable {background-color: white;}#sk-container-id-2 label.sk-toggleable__label {cursor: pointer;display: block;width: 100%;margin-bottom: 0;padding: 0.3em;box-sizing: border-box;text-align: center;}#sk-container-id-2 label.sk-toggleable__label-arrow:before {content: \"▸\";float: left;margin-right: 0.25em;color: #696969;}#sk-container-id-2 label.sk-toggleable__label-arrow:hover:before {color: black;}#sk-container-id-2 div.sk-estimator:hover label.sk-toggleable__label-arrow:before {color: black;}#sk-container-id-2 div.sk-toggleable__content {max-height: 0;max-width: 0;overflow: hidden;text-align: left;background-color: #f0f8ff;}#sk-container-id-2 div.sk-toggleable__content pre {margin: 0.2em;color: black;border-radius: 0.25em;background-color: #f0f8ff;}#sk-container-id-2 input.sk-toggleable__control:checked~div.sk-toggleable__content {max-height: 200px;max-width: 100%;overflow: auto;}#sk-container-id-2 input.sk-toggleable__control:checked~label.sk-toggleable__label-arrow:before {content: \"▾\";}#sk-container-id-2 div.sk-estimator input.sk-toggleable__control:checked~label.sk-toggleable__label {background-color: #d4ebff;}#sk-container-id-2 div.sk-label input.sk-toggleable__control:checked~label.sk-toggleable__label {background-color: #d4ebff;}#sk-container-id-2 input.sk-hidden--visually {border: 0;clip: rect(1px 1px 1px 1px);clip: rect(1px, 1px, 1px, 1px);height: 1px;margin: -1px;overflow: hidden;padding: 0;position: absolute;width: 1px;}#sk-container-id-2 div.sk-estimator {font-family: monospace;background-color: #f0f8ff;border: 1px dotted black;border-radius: 0.25em;box-sizing: border-box;margin-bottom: 0.5em;}#sk-container-id-2 div.sk-estimator:hover {background-color: #d4ebff;}#sk-container-id-2 div.sk-parallel-item::after {content: \"\";width: 100%;border-bottom: 1px solid gray;flex-grow: 1;}#sk-container-id-2 div.sk-label:hover label.sk-toggleable__label {background-color: #d4ebff;}#sk-container-id-2 div.sk-serial::before {content: \"\";position: absolute;border-left: 1px solid gray;box-sizing: border-box;top: 0;bottom: 0;left: 50%;z-index: 0;}#sk-container-id-2 div.sk-serial {display: flex;flex-direction: column;align-items: center;background-color: white;padding-right: 0.2em;padding-left: 0.2em;position: relative;}#sk-container-id-2 div.sk-item {position: relative;z-index: 1;}#sk-container-id-2 div.sk-parallel {display: flex;align-items: stretch;justify-content: center;background-color: white;position: relative;}#sk-container-id-2 div.sk-item::before, #sk-container-id-2 div.sk-parallel-item::before {content: \"\";position: absolute;border-left: 1px solid gray;box-sizing: border-box;top: 0;bottom: 0;left: 50%;z-index: -1;}#sk-container-id-2 div.sk-parallel-item {display: flex;flex-direction: column;z-index: 1;position: relative;background-color: white;}#sk-container-id-2 div.sk-parallel-item:first-child::after {align-self: flex-end;width: 50%;}#sk-container-id-2 div.sk-parallel-item:last-child::after {align-self: flex-start;width: 50%;}#sk-container-id-2 div.sk-parallel-item:only-child::after {width: 0;}#sk-container-id-2 div.sk-dashed-wrapped {border: 1px dashed gray;margin: 0 0.4em 0.5em 0.4em;box-sizing: border-box;padding-bottom: 0.4em;background-color: white;}#sk-container-id-2 div.sk-label label {font-family: monospace;font-weight: bold;display: inline-block;line-height: 1.2em;}#sk-container-id-2 div.sk-label-container {text-align: center;}#sk-container-id-2 div.sk-container {/* jupyter's `normalize.less` sets `[hidden] { display: none; }` but bootstrap.min.css set `[hidden] { display: none !important; }` so we also need the `!important` here to be able to override the default hidden behavior on the sphinx rendered scikit-learn.org. See: https://github.com/scikit-learn/scikit-learn/issues/21755 */display: inline-block !important;position: relative;}#sk-container-id-2 div.sk-text-repr-fallback {display: none;}</style><div id=\"sk-container-id-2\" class=\"sk-top-container\"><div class=\"sk-text-repr-fallback\"><pre>LinearRegression()</pre><b>In a Jupyter environment, please rerun this cell to show the HTML representation or trust the notebook. <br />On GitHub, the HTML representation is unable to render, please try loading this page with nbviewer.org.</b></div><div class=\"sk-container\" hidden><div class=\"sk-item\"><div class=\"sk-estimator sk-toggleable\"><input class=\"sk-toggleable__control sk-hidden--visually\" id=\"sk-estimator-id-6\" type=\"checkbox\" checked><label for=\"sk-estimator-id-6\" class=\"sk-toggleable__label sk-toggleable__label-arrow\">LinearRegression</label><div class=\"sk-toggleable__content\"><pre>LinearRegression()</pre></div></div></div></div></div>"
      ],
      "text/plain": [
       "LinearRegression()"
      ]
     },
     "execution_count": 20,
     "metadata": {},
     "output_type": "execute_result"
    }
   ],
   "source": [
    "model = LinearRegression()\n",
    "model.fit(X_train_transformed, y_train)"
   ]
  },
  {
   "cell_type": "code",
   "execution_count": 21,
   "id": "67d1fde2",
   "metadata": {
    "ExecuteTime": {
     "end_time": "2024-02-08T12:24:43.233917Z",
     "start_time": "2024-02-08T12:24:43.150546Z"
    },
    "hidden": true
   },
   "outputs": [
    {
     "data": {
      "text/plain": [
       "array([[-4.38695329e+11, -1.77154064e+11, -1.02625385e+11,\n",
       "        -8.38634006e+10, -1.66770734e+11, -2.15197348e+11,\n",
       "        -1.76482246e+11, -1.52870085e+11, -1.43384381e+11,\n",
       "        -1.56472957e+11, -9.87969099e+10, -1.79028491e+11,\n",
       "        -1.32994517e+11, -1.14646905e+11, -1.46931317e+11,\n",
       "        -2.51353618e+11, -2.51353618e+11, -1.23289597e+11,\n",
       "        -1.63645786e+11, -1.64456613e+11, -1.55140011e+11,\n",
       "        -1.21979046e+11, -2.20545355e+11, -1.79028491e+11,\n",
       "         7.87232287e+10, -1.63645786e+11, -1.29194734e+11,\n",
       "        -8.38634006e+10, -1.02074146e+11,  9.44682251e+11,\n",
       "        -1.41372877e+11,  7.87232287e+10, -1.29714240e+11,\n",
       "        -8.42284042e+10, -1.92917115e+11, -9.95186008e+10,\n",
       "        -1.81608830e+11, -2.51353618e+11, -8.38634006e+10,\n",
       "        -9.59776514e+10, -1.98103720e+11, -1.73567625e+11,\n",
       "        -9.53234537e+10, -1.68220280e+11, -8.87220856e+11,\n",
       "        -1.74141719e+11, -1.55127277e+11,  7.87232287e+10,\n",
       "        -1.61395419e+11, -1.79028491e+11, -4.57787807e+10,\n",
       "         7.87232287e+10, -1.68311182e+11, -1.63645786e+11,\n",
       "        -1.63645786e+11,  3.31669073e+11, -2.37632695e+11,\n",
       "        -6.67349397e+11, -1.19420986e+11, -3.03174938e+11,\n",
       "        -1.07534515e+11, -9.89098472e+11, -1.67843583e+11,\n",
       "        -2.37632695e+11, -2.51353618e+11, -1.58712652e+11,\n",
       "        -1.00874070e+11, -2.15197348e+11, -1.37936976e+11,\n",
       "        -2.37632695e+11, -2.31320693e+11, -2.51228211e+11,\n",
       "        -7.52360542e+11, -2.51353618e+11, -8.44639522e+10,\n",
       "        -9.31932885e+10, -6.45379645e+10, -3.11113217e+11,\n",
       "        -2.37632695e+11, -6.73312064e+11, -1.27825086e+11,\n",
       "         1.07777273e+11, -1.89154196e+10, -1.89154196e+10,\n",
       "        -1.89154196e+10, -1.89154196e+10, -3.17518792e+10,\n",
       "        -1.89154196e+10, -1.89154196e+10, -1.89154196e+10,\n",
       "        -1.82436015e+10, -1.82436015e+10, -2.75540822e+10,\n",
       "        -1.82436015e+10, -1.82436015e+10, -1.82436015e+10,\n",
       "        -1.82436015e+10, -3.17518792e+10,  5.59559529e+10,\n",
       "         1.07777273e+11,  1.07777273e+11,  1.07777273e+11,\n",
       "         1.07777273e+11,  1.07777273e+11, -1.89154196e+10,\n",
       "        -1.89154196e+10, -1.89154196e+10, -1.89154196e+10,\n",
       "        -1.89154196e+10, -2.75540822e+10,  1.07777273e+11,\n",
       "         5.59559529e+10,  5.59559529e+10,  4.71951732e+11,\n",
       "         1.07777273e+11,  1.07777273e+11,  1.07777273e+11,\n",
       "        -1.89154196e+10, -1.89154196e+10, -1.89154196e+10,\n",
       "        -4.02703878e+10, -2.74120894e+11, -1.89154196e+10,\n",
       "        -1.89154196e+10, -1.89154196e+10, -1.89154196e+10,\n",
       "        -1.89154196e+10, -1.89154196e+10, -1.89154196e+10,\n",
       "        -1.89154196e+10, -1.89154196e+10,  4.71951732e+11,\n",
       "        -1.63691744e+10, -1.63691744e+10,  4.71951732e+11,\n",
       "         1.07777273e+11,  1.07777273e+11,  1.07777273e+11,\n",
       "         1.07777273e+11, -1.89154196e+10, -1.89154196e+10,\n",
       "        -1.89154196e+10, -1.89154196e+10, -1.63691744e+10,\n",
       "        -1.63691744e+10, -1.63691744e+10, -2.74120894e+11,\n",
       "         1.07777273e+11,  1.07777273e+11,  1.07777273e+11,\n",
       "        -1.89154196e+10, -1.89154196e+10, -4.02703878e+10,\n",
       "        -1.89154196e+10, -1.89154196e+10, -1.89154196e+10,\n",
       "        -3.17518792e+10, -1.89154196e+10, -1.89154196e+10,\n",
       "        -1.63691744e+10, -1.89154196e+10, -3.17518792e+10,\n",
       "        -1.63691744e+10, -1.63691744e+10, -1.63691744e+10,\n",
       "        -3.17518792e+10,  1.07777273e+11, -1.63691744e+10,\n",
       "        -4.02703878e+10, -2.70864835e+10, -1.89154196e+10,\n",
       "        -1.89154196e+10, -3.17518792e+10, -1.89154196e+10,\n",
       "        -3.17518792e+10, -1.89154196e+10, -1.89154196e+10,\n",
       "        -1.89154196e+10, -1.89154196e+10, -1.89154196e+10,\n",
       "        -3.17518792e+10,  1.97996830e+10,  1.07777273e+11,\n",
       "         1.07777273e+11, -1.63691744e+10,  4.77914399e+11,\n",
       "        -1.89154196e+10,  7.93700806e+11,  7.93700806e+11,\n",
       "         1.97996830e+10, -3.17518792e+10, -3.17518792e+10,\n",
       "         1.97996830e+10, -3.17518792e+10,  1.97996830e+10,\n",
       "        -3.17518792e+10,  1.97996830e+10,  1.97996830e+10,\n",
       "         1.97996830e+10,  1.97996830e+10,  4.22350300e+10,\n",
       "        -3.89247083e+10, -2.74120894e+11, -1.14007992e+12,\n",
       "         5.58305460e+10, -2.18300402e+10,  5.59559529e+10,\n",
       "        -7.21080682e+10,  4.22350300e+10,  4.71951732e+11,\n",
       "         4.22350300e+10,  4.22350300e+10, -2.74120894e+11,\n",
       "        -4.84663483e+10,  5.59559529e+10, -9.27722800e+10,\n",
       "        -2.74120894e+11, -2.71773848e+10, -2.74120894e+11,\n",
       "        -2.70864835e+10, -3.17518792e+10, -3.17518792e+10,\n",
       "        -3.17518792e+10,  5.59559529e+10, -1.30859701e+11,\n",
       "        -4.25275802e+10, -7.21080682e+10,  2.70605462e+09,\n",
       "         5.59559529e+10,  2.70605462e+09,  4.22350300e+10,\n",
       "         1.07777273e+11,  7.93700806e+11, -2.74120894e+11,\n",
       "        -2.74120894e+11, -3.17518792e+10, -3.17518792e+10,\n",
       "        -3.17518792e+10, -3.17518792e+10, -3.17518792e+10,\n",
       "        -3.17518792e+10, -3.17518792e+10, -7.21080682e+10,\n",
       "         4.77914399e+11, -3.17518792e+10, -3.17518792e+10,\n",
       "        -3.17518792e+10, -7.21080682e+10, -3.17518792e+10,\n",
       "        -3.17518792e+10, -7.21080682e+10, -3.17518792e+10,\n",
       "        -7.21080682e+10, -3.17518792e+10,  4.77914399e+11,\n",
       "        -7.21080682e+10,  4.22350300e+10, -2.18300402e+10,\n",
       "        -2.18300402e+10, -3.17518792e+10, -3.17518792e+10,\n",
       "        -3.17518792e+10, -3.17518792e+10, -3.17518792e+10,\n",
       "        -1.14007992e+12, -2.12559463e+10, -3.89247083e+10,\n",
       "         2.70605462e+09,  5.59559529e+10, -1.63691744e+10,\n",
       "         5.59559529e+10, -1.30859701e+11,  5.59559529e+10,\n",
       "         5.59559529e+10,  5.59559529e+10,  4.22350300e+10,\n",
       "         2.70605462e+09, -6.24031479e+10,  2.70605462e+09,\n",
       "         7.93700806e+11,  7.93700806e+11, -4.84663483e+10,\n",
       "         5.59559529e+10, -2.71773848e+10,  2.70605462e+09,\n",
       "        -7.34186193e+10, -7.34186193e+10,  5.59559529e+10,\n",
       "        -4.84663483e+10, -1.14007992e+12, -1.14007992e+12,\n",
       "         2.70605462e+09, -3.17518792e+10,  5.59559529e+10,\n",
       "         5.59559529e+10, -5.27066738e+11,  5.59559529e+10,\n",
       "         4.22350300e+10,  5.59559529e+10,  5.59559529e+10,\n",
       "        -4.25275802e+10, -5.27066738e+11, -5.74606891e+10,\n",
       "        -1.30859701e+11, -1.30859701e+11,  5.59559529e+10,\n",
       "         5.59559529e+10, -5.27066738e+11, -2.74120894e+11,\n",
       "        -3.17518792e+10, -2.74120894e+11, -2.74120894e+11,\n",
       "         4.22350300e+10,  5.59559529e+10, -3.66850133e+10,\n",
       "        -4.02576544e+10,  5.59559529e+10, -2.86269315e+10,\n",
       "        -2.86269315e+10, -2.86269315e+10, -2.86269315e+10,\n",
       "        -7.21080682e+10, -7.21080682e+10, -7.21080682e+10,\n",
       "        -1.11169261e+11, -7.34186193e+10, -3.66850133e+10,\n",
       "         6.91823191e+11,  4.22350300e+10,  6.91823191e+11,\n",
       "        -5.20132848e+10, -2.74120894e+11, -2.74120894e+11,\n",
       "        -7.34186193e+10,  5.59559529e+10, -1.37888356e+10,\n",
       "         1.97996830e+10, -3.17518792e+10, -3.17518792e+10,\n",
       "        -3.17518792e+10, -3.17518792e+10, -3.17518792e+10,\n",
       "        -3.17518792e+10, -3.17518792e+10, -3.17518792e+10,\n",
       "        -3.17518792e+10, -3.17518792e+10, -3.17518792e+10,\n",
       "        -6.62029313e+10, -3.17518792e+10, -2.12559463e+10,\n",
       "        -2.12559463e+10, -2.12559463e+10, -2.12559463e+10,\n",
       "         4.22350300e+10, -3.17518792e+10, -3.17518792e+10,\n",
       "        -2.74120894e+11, -3.40022466e+10,  4.22350300e+10,\n",
       "         5.59559529e+10, -2.74120894e+11, -3.89247083e+10,\n",
       "        -3.17518792e+10, -3.09410523e+10, -3.40022466e+10,\n",
       "        -1.30859701e+11,  4.22350300e+10, -7.21080682e+10,\n",
       "         6.91823191e+11, -3.40022466e+10, -3.40022466e+10,\n",
       "         1.07777273e+11, -3.17518792e+10,  5.59559529e+10,\n",
       "        -3.17518792e+10, -3.17518792e+10, -3.17518792e+10,\n",
       "        -1.37888356e+10, -1.37888356e+10, -1.63691744e+10,\n",
       "        -1.63691744e+10, -1.63691744e+10, -1.63691744e+10,\n",
       "        -1.63691744e+10, -1.30859701e+11, -6.56834256e+10,\n",
       "        -6.56834256e+10, -4.84663483e+10, -6.24031479e+10,\n",
       "        -6.75725792e+10, -4.02576544e+10, -1.30859701e+11,\n",
       "        -3.17518792e+10, -2.74120894e+11, -1.14007992e+12,\n",
       "         5.59559529e+10, -4.25275802e+10, -3.17518792e+10,\n",
       "        -4.02703878e+10,  3.59230280e+10,  5.56962877e+11,\n",
       "         4.22350300e+10,  6.91823191e+11, -2.74120894e+11,\n",
       "         4.71951732e+11,  4.22350300e+10, -3.17518792e+10,\n",
       "        -3.17518792e+10, -6.62029313e+10, -3.17518792e+10,\n",
       "        -3.17518792e+10, -3.17518792e+10, -3.17518792e+10,\n",
       "        -3.17518792e+10, -3.17518792e+10, -3.17518792e+10,\n",
       "        -3.17518792e+10,  4.71951732e+11, -1.63691744e+10,\n",
       "         4.22350300e+10, -2.71773848e+10, -2.74120894e+11,\n",
       "        -2.18300402e+10, -2.74120894e+11, -2.74120894e+11,\n",
       "        -3.66850133e+10,  4.22350300e+10,  4.22350300e+10,\n",
       "        -4.02576544e+10, -2.74120894e+11, -2.74120894e+11,\n",
       "         5.59559529e+10,  4.22350300e+10, -2.74120894e+11,\n",
       "        -2.74120894e+11, -5.40247886e+10, -5.40247886e+10,\n",
       "        -5.40247886e+10, -2.74120894e+11, -2.74120894e+11,\n",
       "        -2.74120894e+11, -2.74120894e+11, -1.14007992e+12,\n",
       "        -1.30859701e+11,  1.07777273e+11, -7.59766794e+10,\n",
       "        -2.71773848e+10, -1.37888356e+10, -2.12559463e+10,\n",
       "        -2.12559463e+10, -5.74606891e+10, -2.74120894e+11,\n",
       "         5.59559529e+10,  5.56962877e+11, -5.74606891e+10,\n",
       "        -2.48055035e+09, -2.48055035e+09, -2.48055035e+09,\n",
       "        -2.48055035e+09, -2.18300402e+10,  4.22350300e+10,\n",
       "         5.59559529e+10, -7.34186193e+10,  5.59559529e+10,\n",
       "        -7.21080682e+10, -7.21080682e+10,  2.51476898e+10,\n",
       "         2.51476898e+10, -3.17518792e+10,  5.59559529e+10,\n",
       "         5.59559529e+10,  4.71951732e+11,  4.22350300e+10,\n",
       "         5.58305460e+10,  2.70605462e+09,  5.59559529e+10,\n",
       "         5.58305460e+10,  4.22350300e+10, -2.12559463e+10,\n",
       "        -2.12559463e+10, -2.12559463e+10, -2.12559463e+10,\n",
       "        -1.63691744e+10,  5.59559529e+10, -1.00074212e+11,\n",
       "         4.22350300e+10, -1.30859701e+11, -3.09410523e+10,\n",
       "         4.71951732e+11,  5.56962877e+11, -3.09410523e+10,\n",
       "        -2.74120894e+11, -2.74120894e+11,  4.22350300e+10,\n",
       "         4.71951732e+11,  5.59559529e+10,  4.22350300e+10,\n",
       "        -6.75725792e+10, -1.89154196e+10,  2.51476898e+10,\n",
       "        -1.89154196e+10, -1.89154196e+10, -1.89154196e+10,\n",
       "        -1.89154196e+10, -1.89154196e+10, -2.74120894e+11,\n",
       "        -3.17518792e+10, -2.70864835e+10, -2.70864835e+10,\n",
       "        -2.70864835e+10,  7.93700806e+11,  2.70605462e+09,\n",
       "         5.59559529e+10,  4.71951732e+11, -2.74120894e+11,\n",
       "         2.43297664e+11,  5.59559529e+10, -2.74120894e+11,\n",
       "         4.71951732e+11,  5.59559529e+10,  5.59559529e+10,\n",
       "        -8.07507602e+10, -2.74120894e+11, -1.02204377e+11,\n",
       "         2.70605462e+09, -3.17518792e+10,  5.59559529e+10,\n",
       "        -9.58790644e+10,  5.59559529e+10, -4.25275802e+10,\n",
       "         4.71951732e+11, -2.71773848e+10,  5.58305460e+10,\n",
       "        -3.17518792e+10, -1.14007992e+12, -2.12559463e+10,\n",
       "        -2.12559463e+10, -2.12559463e+10,  5.59559529e+10,\n",
       "         4.22350300e+10,  4.22350300e+10, -3.09410523e+10,\n",
       "         5.59559529e+10, -2.18300402e+10,  5.59559529e+10,\n",
       "         2.70605462e+09,  2.70605462e+09,  5.59559529e+10,\n",
       "         5.56962877e+11,  4.22350300e+10, -3.17518792e+10,\n",
       "         5.59559529e+10, -5.27066738e+11,  4.22350300e+10,\n",
       "        -2.74120894e+11,  7.93700806e+11,  1.15715552e+11,\n",
       "         4.22350300e+10,  1.07777273e+11,  4.22350300e+10,\n",
       "         4.71951732e+11,  4.22350300e+10, -3.66850133e+10,\n",
       "         2.70605462e+09,  4.22350300e+10,  4.22350300e+10,\n",
       "         2.51476898e+10,  4.22350300e+10,  4.22350300e+10,\n",
       "        -1.63691744e+10, -1.14007992e+12,  4.71951732e+11,\n",
       "         5.59559529e+10, -1.30859701e+11, -2.70864835e+10,\n",
       "        -2.74120894e+11,  1.97996830e+10,  1.97996830e+10,\n",
       "         1.97996830e+10,  1.97996830e+10, -4.84663483e+10,\n",
       "         4.22350300e+10, -2.74120894e+11,  2.70605462e+09,\n",
       "        -3.17518792e+10,  1.97996830e+10, -1.30859701e+11,\n",
       "         1.07777273e+11,  1.15715552e+11,  1.97996830e+10,\n",
       "        -2.12559463e+10, -2.12559463e+10, -2.12559463e+10,\n",
       "        -7.34186193e+10,  6.91823191e+11, -3.17518792e+10,\n",
       "        -2.86269315e+10, -2.18300402e+10,  5.59559529e+10,\n",
       "        -2.71773848e+10,  5.58305460e+10,  2.70605462e+09,\n",
       "        -1.63691744e+10, -3.17518792e+10,  5.59559529e+10,\n",
       "        -1.37888356e+10,  5.59559529e+10, -4.84663483e+10,\n",
       "         1.97996830e+10,  1.97996830e+10,  4.77914399e+11,\n",
       "        -3.17518792e+10,  1.97996830e+10, -3.17518792e+10,\n",
       "        -3.17518792e+10,  1.97996830e+10,  4.77914399e+11,\n",
       "        -3.17518792e+10, -3.17518792e+10, -3.17518792e+10,\n",
       "         1.97996830e+10,  4.77914399e+11,  1.97996830e+10,\n",
       "         4.77914399e+11,  4.77914399e+11, -1.63691744e+10,\n",
       "        -3.17518792e+10, -3.17518792e+10, -3.17518792e+10,\n",
       "        -3.17518792e+10, -3.17518792e+10,  1.97996830e+10,\n",
       "        -3.89247083e+10, -1.30859701e+11,  5.59559529e+10,\n",
       "         5.59559529e+10,  5.59559529e+10, -2.74120894e+11,\n",
       "         4.22350300e+10,  4.22350300e+10,  5.59559529e+10,\n",
       "        -1.49618885e+11,  5.59559529e+10, -3.17518792e+10,\n",
       "         4.71951732e+11,  2.70605462e+09, -2.71773848e+10,\n",
       "        -9.66007554e+10,  2.70605462e+09, -2.71773848e+10,\n",
       "        -2.74120894e+11, -1.30859701e+11,  5.59559529e+10,\n",
       "        -8.78631506e+10, -2.74120894e+11,  5.59559529e+10,\n",
       "         2.70605462e+09,  2.70605462e+09,  4.22350300e+10,\n",
       "         4.22350300e+10, -1.82436015e+10,  5.59559529e+10,\n",
       "         2.70605462e+09, -3.17518792e+10, -2.74120894e+11,\n",
       "        -1.10933713e+11,  2.51476898e+10, -2.74120894e+11,\n",
       "         2.70605462e+09, -2.74120894e+11,  5.59559529e+10,\n",
       "         5.59559529e+10,  5.59559529e+10,  5.59559529e+10,\n",
       "         5.59559529e+10,  4.22350300e+10,  1.15715552e+11,\n",
       "        -2.48055035e+09, -2.48055035e+09, -2.48055035e+09,\n",
       "        -2.48055035e+09, -2.48055035e+09, -2.48055035e+09,\n",
       "        -2.48055035e+09,  1.97996830e+10,  1.97996830e+10,\n",
       "        -3.17518792e+10,  7.93700806e+11, -2.74120894e+11,\n",
       "        -4.02576544e+10, -2.74120894e+11, -3.17518792e+10,\n",
       "        -4.84663483e+10,  5.59559529e+10,  4.22350300e+10,\n",
       "         4.71951732e+11, -2.74120894e+11,  5.58305460e+10,\n",
       "        -1.11534265e+11, -2.74120894e+11,  4.22350300e+10,\n",
       "         5.59559529e+10, -1.11534265e+11,  5.59559529e+10,\n",
       "         5.59559529e+10,  5.59559529e+10, -3.17518792e+10,\n",
       "         5.56962877e+11, -9.45235952e+10, -2.74120894e+11,\n",
       "         5.59559529e+10,  2.51476898e+10, -2.12559463e+10,\n",
       "        -2.74120894e+11,  4.22350300e+10, -2.71773848e+10,\n",
       "         4.71951732e+11,  2.51476898e+10,  2.51476898e+10,\n",
       "         2.51476898e+10, -2.48055035e+09,  4.77914399e+11,\n",
       "         4.77914399e+11,  4.77914399e+11,  4.77914399e+11,\n",
       "         4.22350300e+10, -2.86269315e+10, -2.86269315e+10,\n",
       "         5.59559529e+10,  6.91823191e+11, -2.74120894e+11,\n",
       "        -2.71773848e+10, -9.33235192e+10, -2.74120894e+11,\n",
       "        -3.17518792e+10,  4.71951732e+11, -3.17518792e+10,\n",
       "        -5.20132848e+10, -7.34186193e+10, -2.86269315e+10,\n",
       "         4.22350300e+10,  5.59559529e+10, -3.17518792e+10,\n",
       "         5.56962877e+11,  4.22350300e+10, -1.14007992e+12,\n",
       "         5.56962877e+11,  5.59559529e+10, -3.66850133e+10,\n",
       "         5.59559529e+10, -9.94200139e+10,  4.71951732e+11,\n",
       "        -1.37888356e+10, -1.89154196e+10, -1.89154196e+10,\n",
       "        -1.89154196e+10, -1.89154196e+10, -1.89154196e+10,\n",
       "        -1.89154196e+10, -4.02703878e+10, -1.89154196e+10,\n",
       "        -4.02703878e+10,  4.77914399e+11,  4.77914399e+11,\n",
       "         4.77914399e+11,  4.77914399e+11, -1.37888356e+10,\n",
       "        -1.37888356e+10, -1.37888356e+10, -1.37888356e+10,\n",
       "        -1.37888356e+10,  5.58305460e+10,  5.56962877e+11,\n",
       "        -7.21080682e+10, -7.21080682e+10,  4.71951732e+11,\n",
       "        -1.30859701e+11, -1.89154196e+10, -1.89154196e+10,\n",
       "        -1.89154196e+10, -7.21080682e+10,  5.59559529e+10,\n",
       "         5.59559529e+10, -7.59766794e+10, -1.89154196e+10,\n",
       "        -2.74120894e+11, -1.89154196e+10, -2.48055035e+09,\n",
       "        -2.48055035e+09, -2.48055035e+09, -2.48055035e+09,\n",
       "        -2.74120894e+11,  7.62939453e-05, -4.61654663e-02]])"
      ]
     },
     "execution_count": 21,
     "metadata": {},
     "output_type": "execute_result"
    }
   ],
   "source": [
    "model.coef_ "
   ]
  },
  {
   "cell_type": "code",
   "execution_count": 22,
   "id": "b59d164c",
   "metadata": {
    "ExecuteTime": {
     "end_time": "2024-02-08T12:24:43.265336Z",
     "start_time": "2024-02-08T12:24:43.243931Z"
    },
    "hidden": true
   },
   "outputs": [
    {
     "data": {
      "text/plain": [
       "array([1.95397665e+11])"
      ]
     },
     "execution_count": 22,
     "metadata": {},
     "output_type": "execute_result"
    }
   ],
   "source": [
    "model.intercept_"
   ]
  },
  {
   "cell_type": "code",
   "execution_count": 23,
   "id": "70102c6b",
   "metadata": {
    "ExecuteTime": {
     "end_time": "2024-02-08T12:24:43.569129Z",
     "start_time": "2024-02-08T12:24:43.284369Z"
    },
    "hidden": true
   },
   "outputs": [
    {
     "data": {
      "text/plain": [
       "0.15641271725360884"
      ]
     },
     "execution_count": 23,
     "metadata": {},
     "output_type": "execute_result"
    }
   ],
   "source": [
    "model.score(X_train_transformed,y_train)  "
   ]
  },
  {
   "cell_type": "code",
   "execution_count": 24,
   "id": "9599c5a3",
   "metadata": {
    "ExecuteTime": {
     "end_time": "2024-02-08T12:24:43.726542Z",
     "start_time": "2024-02-08T12:24:43.584929Z"
    },
    "hidden": true
   },
   "outputs": [
    {
     "name": "stderr",
     "output_type": "stream",
     "text": [
      "/tmp/ipykernel_17342/3470246675.py:1: UserWarning: Boolean Series key will be reindexed to match DataFrame index.\n",
      "  car = price_df[price_df[\"car_model\"] == \"Golf Variant Highline 1.4 TSi AT\"][price_df[\"Year\"] == 4 ][price_df[\"car_code\"] == 2924  ]\n"
     ]
    },
    {
     "data": {
      "text/html": [
       "<div>\n",
       "<style scoped>\n",
       "    .dataframe tbody tr th:only-of-type {\n",
       "        vertical-align: middle;\n",
       "    }\n",
       "\n",
       "    .dataframe tbody tr th {\n",
       "        vertical-align: top;\n",
       "    }\n",
       "\n",
       "    .dataframe thead th {\n",
       "        text-align: right;\n",
       "    }\n",
       "</style>\n",
       "<table border=\"1\" class=\"dataframe\">\n",
       "  <thead>\n",
       "    <tr style=\"text-align: right;\">\n",
       "      <th></th>\n",
       "      <th>car_code</th>\n",
       "      <th>car_manufacturer</th>\n",
       "      <th>car_model</th>\n",
       "      <th>car_model_year</th>\n",
       "      <th>Year</th>\n",
       "      <th>Price_YoY</th>\n",
       "      <th>Next_YoY_Price</th>\n",
       "      <th>Next_YoY_Pr_Pred</th>\n",
       "      <th>calendar_year</th>\n",
       "      <th>Price_sd_scaled</th>\n",
       "      <th>Next_Price_sd_scaled</th>\n",
       "      <th>car_model_small</th>\n",
       "    </tr>\n",
       "  </thead>\n",
       "  <tbody>\n",
       "    <tr>\n",
       "      <th>64941</th>\n",
       "      <td>2924</td>\n",
       "      <td>Volkswagen</td>\n",
       "      <td>Golf Variant Highline 1.4 TSi AT</td>\n",
       "      <td>2015</td>\n",
       "      <td>4</td>\n",
       "      <td>0.834662</td>\n",
       "      <td>0.850733</td>\n",
       "      <td>0.930608</td>\n",
       "      <td>2019</td>\n",
       "      <td>-1.503667</td>\n",
       "      <td>-1.465515</td>\n",
       "      <td>Golf</td>\n",
       "    </tr>\n",
       "  </tbody>\n",
       "</table>\n",
       "</div>"
      ],
      "text/plain": [
       "       car_code car_manufacturer                         car_model  \\\n",
       "64941      2924       Volkswagen  Golf Variant Highline 1.4 TSi AT   \n",
       "\n",
       "       car_model_year  Year  Price_YoY  Next_YoY_Price  Next_YoY_Pr_Pred  \\\n",
       "64941            2015     4   0.834662        0.850733          0.930608   \n",
       "\n",
       "       calendar_year  Price_sd_scaled  Next_Price_sd_scaled car_model_small  \n",
       "64941           2019        -1.503667             -1.465515            Golf  "
      ]
     },
     "execution_count": 24,
     "metadata": {},
     "output_type": "execute_result"
    }
   ],
   "source": [
    "car = price_df[price_df[\"car_model\"] == \"Golf Variant Highline 1.4 TSi AT\"][price_df[\"Year\"] == 4 ][price_df[\"car_code\"] == 2924  ]\n",
    "car[\"car_model_small\"] = car[\"car_model\"].map(take_first_word)\n",
    "car"
   ]
  },
  {
   "cell_type": "code",
   "execution_count": 25,
   "id": "5d34999a",
   "metadata": {
    "ExecuteTime": {
     "end_time": "2024-02-08T12:24:43.791966Z",
     "start_time": "2024-02-08T12:24:43.735210Z"
    },
    "hidden": true
   },
   "outputs": [],
   "source": [
    "car_trans = preprocessor.transform(car)"
   ]
  },
  {
   "cell_type": "code",
   "execution_count": 26,
   "id": "0c3b7368",
   "metadata": {
    "ExecuteTime": {
     "end_time": "2024-02-08T12:24:43.822481Z",
     "start_time": "2024-02-08T12:24:43.803096Z"
    },
    "hidden": true
   },
   "outputs": [
    {
     "data": {
      "text/plain": [
       "array([[0.38421631]])"
      ]
     },
     "execution_count": 26,
     "metadata": {},
     "output_type": "execute_result"
    }
   ],
   "source": [
    "model.predict(car_trans)"
   ]
  },
  {
   "cell_type": "code",
   "execution_count": 27,
   "id": "54be5698",
   "metadata": {
    "ExecuteTime": {
     "end_time": "2024-02-08T12:24:43.979422Z",
     "start_time": "2024-02-08T12:24:43.833459Z"
    },
    "hidden": true
   },
   "outputs": [
    {
     "data": {
      "text/html": [
       "<div>\n",
       "<style scoped>\n",
       "    .dataframe tbody tr th:only-of-type {\n",
       "        vertical-align: middle;\n",
       "    }\n",
       "\n",
       "    .dataframe tbody tr th {\n",
       "        vertical-align: top;\n",
       "    }\n",
       "\n",
       "    .dataframe thead th {\n",
       "        text-align: right;\n",
       "    }\n",
       "</style>\n",
       "<table border=\"1\" class=\"dataframe\">\n",
       "  <thead>\n",
       "    <tr style=\"text-align: right;\">\n",
       "      <th></th>\n",
       "      <th>car_manufacturer</th>\n",
       "      <th>car_model</th>\n",
       "      <th>Year</th>\n",
       "      <th>Price_sd_scaled</th>\n",
       "      <th>car_model_small</th>\n",
       "    </tr>\n",
       "  </thead>\n",
       "  <tbody>\n",
       "    <tr>\n",
       "      <th>3823</th>\n",
       "      <td>Mitsubishi</td>\n",
       "      <td>Pajero Dakar 3.2 Turbo AT</td>\n",
       "      <td>1</td>\n",
       "      <td>-0.481528</td>\n",
       "      <td>Pajero</td>\n",
       "    </tr>\n",
       "    <tr>\n",
       "      <th>126346</th>\n",
       "      <td>Chevrolet</td>\n",
       "      <td>Captiva Sport 3.6 V6 4x2</td>\n",
       "      <td>7</td>\n",
       "      <td>-1.337603</td>\n",
       "      <td>Captiva</td>\n",
       "    </tr>\n",
       "    <tr>\n",
       "      <th>279816</th>\n",
       "      <td>Chevrolet</td>\n",
       "      <td>Omega CD 3.6 V6</td>\n",
       "      <td>14</td>\n",
       "      <td>0.549316</td>\n",
       "      <td>Omega</td>\n",
       "    </tr>\n",
       "    <tr>\n",
       "      <th>112056</th>\n",
       "      <td>Volkswagen</td>\n",
       "      <td>Space Cross 1.6 16V I-Motion</td>\n",
       "      <td>6</td>\n",
       "      <td>1.580467</td>\n",
       "      <td>Space</td>\n",
       "    </tr>\n",
       "    <tr>\n",
       "      <th>386142</th>\n",
       "      <td>Chevrolet</td>\n",
       "      <td>Astra Sedan CD 2.0 8V AT</td>\n",
       "      <td>19</td>\n",
       "      <td>0.278613</td>\n",
       "      <td>Astra</td>\n",
       "    </tr>\n",
       "    <tr>\n",
       "      <th>...</th>\n",
       "      <td>...</td>\n",
       "      <td>...</td>\n",
       "      <td>...</td>\n",
       "      <td>...</td>\n",
       "      <td>...</td>\n",
       "    </tr>\n",
       "    <tr>\n",
       "      <th>111975</th>\n",
       "      <td>Renault</td>\n",
       "      <td>Master Furgão Grand 2.3</td>\n",
       "      <td>6</td>\n",
       "      <td>1.015848</td>\n",
       "      <td>Master</td>\n",
       "    </tr>\n",
       "    <tr>\n",
       "      <th>113896</th>\n",
       "      <td>BMW</td>\n",
       "      <td>535i GT 3.0</td>\n",
       "      <td>6</td>\n",
       "      <td>0.252541</td>\n",
       "      <td>535i</td>\n",
       "    </tr>\n",
       "    <tr>\n",
       "      <th>28840</th>\n",
       "      <td>Jaguar</td>\n",
       "      <td>E-Pace 2.0</td>\n",
       "      <td>2</td>\n",
       "      <td>0.587664</td>\n",
       "      <td>E-Pace</td>\n",
       "    </tr>\n",
       "    <tr>\n",
       "      <th>125072</th>\n",
       "      <td>Fiat</td>\n",
       "      <td>Siena Fire 1.0</td>\n",
       "      <td>7</td>\n",
       "      <td>-0.075953</td>\n",
       "      <td>Siena</td>\n",
       "    </tr>\n",
       "    <tr>\n",
       "      <th>65128</th>\n",
       "      <td>Land Rover</td>\n",
       "      <td>Discovery SE 3.0 V6 Turbo</td>\n",
       "      <td>4</td>\n",
       "      <td>-1.970903</td>\n",
       "      <td>Discovery</td>\n",
       "    </tr>\n",
       "  </tbody>\n",
       "</table>\n",
       "<p>26367 rows × 5 columns</p>\n",
       "</div>"
      ],
      "text/plain": [
       "       car_manufacturer                     car_model  Year  Price_sd_scaled  \\\n",
       "3823         Mitsubishi     Pajero Dakar 3.2 Turbo AT     1        -0.481528   \n",
       "126346        Chevrolet      Captiva Sport 3.6 V6 4x2     7        -1.337603   \n",
       "279816        Chevrolet               Omega CD 3.6 V6    14         0.549316   \n",
       "112056       Volkswagen  Space Cross 1.6 16V I-Motion     6         1.580467   \n",
       "386142        Chevrolet      Astra Sedan CD 2.0 8V AT    19         0.278613   \n",
       "...                 ...                           ...   ...              ...   \n",
       "111975          Renault       Master Furgão Grand 2.3     6         1.015848   \n",
       "113896              BMW                   535i GT 3.0     6         0.252541   \n",
       "28840            Jaguar                    E-Pace 2.0     2         0.587664   \n",
       "125072             Fiat                Siena Fire 1.0     7        -0.075953   \n",
       "65128        Land Rover     Discovery SE 3.0 V6 Turbo     4        -1.970903   \n",
       "\n",
       "       car_model_small  \n",
       "3823            Pajero  \n",
       "126346         Captiva  \n",
       "279816           Omega  \n",
       "112056           Space  \n",
       "386142           Astra  \n",
       "...                ...  \n",
       "111975          Master  \n",
       "113896            535i  \n",
       "28840           E-Pace  \n",
       "125072           Siena  \n",
       "65128        Discovery  \n",
       "\n",
       "[26367 rows x 5 columns]"
      ]
     },
     "execution_count": 27,
     "metadata": {},
     "output_type": "execute_result"
    }
   ],
   "source": [
    "X_test[\"car_model_small\"] = X_test[\"car_model\"].map(take_first_word)\n",
    "X_test"
   ]
  },
  {
   "cell_type": "code",
   "execution_count": 28,
   "id": "229c3e25",
   "metadata": {
    "ExecuteTime": {
     "end_time": "2024-02-08T12:24:44.611791Z",
     "start_time": "2024-02-08T12:24:43.989943Z"
    },
    "hidden": true
   },
   "outputs": [
    {
     "data": {
      "text/plain": [
       "array([[ 0.        ,  0.        ,  0.        , ...,  0.        ,\n",
       "         1.        , -0.48152767],\n",
       "       [ 0.        ,  0.        ,  0.        , ...,  0.        ,\n",
       "         7.        , -1.33760345],\n",
       "       [ 0.        ,  0.        ,  0.        , ...,  0.        ,\n",
       "        14.        ,  0.54931614],\n",
       "       ...,\n",
       "       [ 0.        ,  0.        ,  0.        , ...,  0.        ,\n",
       "         2.        ,  0.58766447],\n",
       "       [ 0.        ,  0.        ,  0.        , ...,  0.        ,\n",
       "         7.        , -0.07595347],\n",
       "       [ 0.        ,  0.        ,  0.        , ...,  0.        ,\n",
       "         4.        , -1.97090339]])"
      ]
     },
     "execution_count": 28,
     "metadata": {},
     "output_type": "execute_result"
    }
   ],
   "source": [
    "X_test_preprocess = preprocessor.transform(X_test)\n",
    "X_test_preprocess"
   ]
  },
  {
   "cell_type": "code",
   "execution_count": 29,
   "id": "adc0512d",
   "metadata": {
    "ExecuteTime": {
     "end_time": "2024-02-08T12:24:44.773908Z",
     "start_time": "2024-02-08T12:24:44.644399Z"
    },
    "hidden": true
   },
   "outputs": [
    {
     "data": {
      "text/plain": [
       "-2.5331977738419053e+19"
      ]
     },
     "execution_count": 29,
     "metadata": {},
     "output_type": "execute_result"
    }
   ],
   "source": [
    "model.score(X_test_preprocess, y_test)"
   ]
  },
  {
   "cell_type": "markdown",
   "id": "badafdf7",
   "metadata": {
    "ExecuteTime": {
     "end_time": "2024-02-07T18:04:14.917256Z",
     "start_time": "2024-02-07T18:04:12.942409Z"
    }
   },
   "source": [
    "## Model with all other features"
   ]
  },
  {
   "cell_type": "code",
   "execution_count": 97,
   "id": "6023bc33",
   "metadata": {
    "ExecuteTime": {
     "end_time": "2024-02-08T15:08:14.071850Z",
     "start_time": "2024-02-08T15:08:13.396982Z"
    }
   },
   "outputs": [],
   "source": [
    "price_df = pd.read_csv('/home/marcnaweb/code/marcnaweb/car_recommendation_engine/raw_data/car_prices_w_prices_scaled.csv', index_col=0)"
   ]
  },
  {
   "cell_type": "code",
   "execution_count": 98,
   "id": "b6b7c657",
   "metadata": {
    "ExecuteTime": {
     "end_time": "2024-02-08T15:08:15.466906Z",
     "start_time": "2024-02-08T15:08:14.083697Z"
    }
   },
   "outputs": [],
   "source": [
    "features_df = pd.read_csv('/home/marcnaweb/code/marcnaweb/car_recommendation_engine/raw_data/scaled_cleaned.csv')"
   ]
  },
  {
   "cell_type": "markdown",
   "id": "6f02b36b",
   "metadata": {
    "ExecuteTime": {
     "end_time": "2024-02-07T18:54:32.874463Z",
     "start_time": "2024-02-07T18:54:32.865626Z"
    }
   },
   "source": [
    "### Merging the data frames "
   ]
  },
  {
   "cell_type": "code",
   "execution_count": 99,
   "id": "297cad63",
   "metadata": {
    "ExecuteTime": {
     "end_time": "2024-02-08T15:08:15.882643Z",
     "start_time": "2024-02-08T15:08:15.476864Z"
    }
   },
   "outputs": [],
   "source": [
    "merged_df = price_df.merge(features_df, left_on=\"car_code\", right_on=\"car_code\", how=\"left\")"
   ]
  },
  {
   "cell_type": "code",
   "execution_count": 100,
   "id": "68e330b5",
   "metadata": {
    "ExecuteTime": {
     "end_time": "2024-02-08T15:08:15.925474Z",
     "start_time": "2024-02-08T15:08:15.902046Z"
    }
   },
   "outputs": [],
   "source": [
    "merged_df.rename(columns=lambda x: x.strip(), inplace=True)"
   ]
  },
  {
   "cell_type": "code",
   "execution_count": 101,
   "id": "dead1276",
   "metadata": {
    "ExecuteTime": {
     "end_time": "2024-02-08T15:08:17.758575Z",
     "start_time": "2024-02-08T15:08:17.070485Z"
    }
   },
   "outputs": [
    {
     "data": {
      "text/html": [
       "<div>\n",
       "<style scoped>\n",
       "    .dataframe tbody tr th:only-of-type {\n",
       "        vertical-align: middle;\n",
       "    }\n",
       "\n",
       "    .dataframe tbody tr th {\n",
       "        vertical-align: top;\n",
       "    }\n",
       "\n",
       "    .dataframe thead th {\n",
       "        text-align: right;\n",
       "    }\n",
       "</style>\n",
       "<table border=\"1\" class=\"dataframe\">\n",
       "  <thead>\n",
       "    <tr style=\"text-align: right;\">\n",
       "      <th></th>\n",
       "      <th>car_code</th>\n",
       "      <th>car_manufacturer</th>\n",
       "      <th>car_model</th>\n",
       "      <th>car_model_year</th>\n",
       "      <th>Year_x</th>\n",
       "      <th>Price_YoY</th>\n",
       "      <th>Next_YoY_Price</th>\n",
       "      <th>Next_YoY_Pr_Pred</th>\n",
       "      <th>calendar_year</th>\n",
       "      <th>Price_sd_scaled</th>\n",
       "      <th>...</th>\n",
       "      <th>Maximum power</th>\n",
       "      <th>Unit displacement</th>\n",
       "      <th>Trunk</th>\n",
       "      <th>USB connection</th>\n",
       "      <th>Gear speed transmissions</th>\n",
       "      <th>Urban</th>\n",
       "      <th>Year_y</th>\n",
       "      <th>Radio</th>\n",
       "      <th>Folding rear seat</th>\n",
       "      <th>Perimeter anti theft alarm</th>\n",
       "    </tr>\n",
       "  </thead>\n",
       "  <tbody>\n",
       "    <tr>\n",
       "      <th>87887</th>\n",
       "      <td>441</td>\n",
       "      <td>Audi</td>\n",
       "      <td>A8 4.2 V8 Quattro</td>\n",
       "      <td>2003</td>\n",
       "      <td>1</td>\n",
       "      <td>0.749652</td>\n",
       "      <td>0.961737</td>\n",
       "      <td>0.917069</td>\n",
       "      <td>2004</td>\n",
       "      <td>-0.836267</td>\n",
       "      <td>...</td>\n",
       "      <td>0.167403</td>\n",
       "      <td>0.523084</td>\n",
       "      <td>0.033011</td>\n",
       "      <td>0.0</td>\n",
       "      <td>0.545455</td>\n",
       "      <td>0.062035</td>\n",
       "      <td>0.625</td>\n",
       "      <td>0.0</td>\n",
       "      <td>0.0</td>\n",
       "      <td>0.0</td>\n",
       "    </tr>\n",
       "  </tbody>\n",
       "</table>\n",
       "<p>1 rows × 110 columns</p>\n",
       "</div>"
      ],
      "text/plain": [
       "       car_code car_manufacturer          car_model  car_model_year  Year_x  \\\n",
       "87887       441             Audi  A8 4.2 V8 Quattro            2003       1   \n",
       "\n",
       "       Price_YoY  Next_YoY_Price  Next_YoY_Pr_Pred  calendar_year  \\\n",
       "87887   0.749652        0.961737          0.917069           2004   \n",
       "\n",
       "       Price_sd_scaled  ...  Maximum power  Unit displacement     Trunk  \\\n",
       "87887        -0.836267  ...       0.167403           0.523084  0.033011   \n",
       "\n",
       "       USB connection  Gear speed transmissions     Urban  Year_y  Radio  \\\n",
       "87887             0.0                  0.545455  0.062035   0.625    0.0   \n",
       "\n",
       "       Folding rear seat  Perimeter anti theft alarm  \n",
       "87887                0.0                         0.0  \n",
       "\n",
       "[1 rows x 110 columns]"
      ]
     },
     "execution_count": 101,
     "metadata": {},
     "output_type": "execute_result"
    }
   ],
   "source": [
    "merged_df[merged_df.index == 87887 ]"
   ]
  },
  {
   "cell_type": "code",
   "execution_count": 102,
   "id": "bbf9ece9",
   "metadata": {
    "ExecuteTime": {
     "end_time": "2024-02-08T15:08:21.178055Z",
     "start_time": "2024-02-08T15:08:21.170152Z"
    }
   },
   "outputs": [],
   "source": [
    "#merged_df[\"Next_Price_sd_scaled\"] = merged_df[\"Price_sd_scaled\"].shift(-1)\n",
    "#merged_df.drop(merged_df.tail(1).index,inplace=True)"
   ]
  },
  {
   "cell_type": "code",
   "execution_count": 103,
   "id": "6993f5c5",
   "metadata": {
    "ExecuteTime": {
     "end_time": "2024-02-08T15:08:21.802043Z",
     "start_time": "2024-02-08T15:08:21.794480Z"
    }
   },
   "outputs": [],
   "source": [
    "#price_df.columns"
   ]
  },
  {
   "cell_type": "markdown",
   "id": "a0a402ff",
   "metadata": {},
   "source": [
    "#### Making X and y"
   ]
  },
  {
   "cell_type": "code",
   "execution_count": 104,
   "id": "a944ec45",
   "metadata": {
    "ExecuteTime": {
     "end_time": "2024-02-08T15:08:32.495609Z",
     "start_time": "2024-02-08T15:08:32.360223Z"
    }
   },
   "outputs": [],
   "source": [
    "X = merged_df.drop( columns=['car_code' , 'car_model_year',  'Next_YoY_Price', 'Next_YoY_Pr_Pred',\n",
    "       'Price_sd_scaled' ])\n"
   ]
  },
  {
   "cell_type": "code",
   "execution_count": 105,
   "id": "68292a96",
   "metadata": {
    "ExecuteTime": {
     "end_time": "2024-02-08T15:08:33.283731Z",
     "start_time": "2024-02-08T15:08:32.930510Z"
    }
   },
   "outputs": [],
   "source": [
    "def take_first_word(word):\n",
    "    return word.split(\" \")[0]\n",
    "\n",
    "X[\"car_model_small\"] = X[\"car_model\"].map(take_first_word)\n",
    "X.drop(columns=\"car_model\", inplace=True)"
   ]
  },
  {
   "cell_type": "code",
   "execution_count": 106,
   "id": "a69a02c2",
   "metadata": {
    "ExecuteTime": {
     "end_time": "2024-02-08T15:08:33.418683Z",
     "start_time": "2024-02-08T15:08:33.386233Z"
    }
   },
   "outputs": [],
   "source": [
    "y = merged_df['Next_YoY_Price']\n",
    "#y = merged_df[\"Next_Price_sd_scaled\"]"
   ]
  },
  {
   "cell_type": "code",
   "execution_count": 107,
   "id": "7c23e705",
   "metadata": {
    "ExecuteTime": {
     "end_time": "2024-02-08T15:08:33.981975Z",
     "start_time": "2024-02-08T15:08:33.960295Z"
    }
   },
   "outputs": [],
   "source": [
    "X.columns\n",
    "pd.options.display.max_rows = 500\n",
    "columns = pd.DataFrame(  X.columns)\n"
   ]
  },
  {
   "cell_type": "code",
   "execution_count": 109,
   "id": "1a3d3b2b",
   "metadata": {
    "ExecuteTime": {
     "end_time": "2024-02-08T15:09:13.649709Z",
     "start_time": "2024-02-08T15:09:13.455076Z"
    }
   },
   "outputs": [
    {
     "data": {
      "text/plain": [
       "[]"
      ]
     },
     "execution_count": 109,
     "metadata": {},
     "output_type": "execute_result"
    }
   ],
   "source": [
    "#num_feat = [feature for feature in X_train.select_dtypes(include='number').columns.tolist() if feature not in feat_eng + cyclical_feat + basement_features]\n",
    "\n",
    "#categorical_features = list(X_train.select_dtypes(include='object').columns)\n",
    "\n",
    "\n",
    "num_feat = [feature for feature in X.select_dtypes(include='number').columns.tolist() if feature not in [\"Year_x\", \"calendar_year\" ] ]\n",
    "#num_feat\n",
    "categorical_features = list(X.select_dtypes(include='object').columns)\n",
    "categorical_features = [] # intentionaly removing these features ['car_manufacturer', 'car_model_small']\n",
    "year_features = [\"Year_x\", \"calendar_year\" ]\n",
    "year_features\n",
    "categorical_features"
   ]
  },
  {
   "cell_type": "code",
   "execution_count": 110,
   "id": "20e7d5ca",
   "metadata": {
    "ExecuteTime": {
     "end_time": "2024-02-08T15:09:15.890411Z",
     "start_time": "2024-02-08T15:09:15.862356Z"
    }
   },
   "outputs": [],
   "source": [
    "\n",
    "# Impute then scale numerical values:\n",
    "num_inputer = Pipeline([\n",
    "    ('imputer', SimpleImputer(strategy=\"mean\"))\n",
    "    #('standard_scaler', StandardScaler())\n",
    "])\n",
    "\n",
    "standard_scaler = Pipeline([\n",
    "    #('imputer', SimpleImputer(strategy=\"mean\"))\n",
    "    ('standard_scaler', StandardScaler())\n",
    "])\n",
    "\n",
    "\n",
    "\n",
    "\n",
    "# Encode categorical values\n",
    "cat_transformer = OneHotEncoder(handle_unknown='ignore', sparse_output=False)\n",
    "\n",
    "\n",
    "\n",
    "\n",
    "# Parallelize \"num_transformer\" and \"cat_transfomer\"\n",
    "preprocessor = ColumnTransformer([\n",
    "    ('cat_transformer', cat_transformer, categorical_features ), #, 'car_model'  --> was removed\n",
    "    ('standard_scaler', standard_scaler, year_features ) ,\n",
    "    ('num_inputer', num_inputer, num_feat  )  #numerical_columns \n",
    "])\n"
   ]
  },
  {
   "cell_type": "markdown",
   "id": "98a999ef",
   "metadata": {
    "ExecuteTime": {
     "end_time": "2024-02-07T19:32:24.100827Z",
     "start_time": "2024-02-07T19:32:24.088484Z"
    }
   },
   "source": [
    "#### training and testing the model"
   ]
  },
  {
   "cell_type": "code",
   "execution_count": 43,
   "id": "c86cf7f8",
   "metadata": {
    "ExecuteTime": {
     "end_time": "2024-02-08T12:24:49.242454Z",
     "start_time": "2024-02-08T12:24:48.888398Z"
    }
   },
   "outputs": [],
   "source": [
    "X_train, X_test, y_train, y_test = train_test_split(X, y, test_size=0.3, random_state=42)"
   ]
  },
  {
   "cell_type": "code",
   "execution_count": 44,
   "id": "915284bc",
   "metadata": {
    "ExecuteTime": {
     "end_time": "2024-02-08T12:24:53.710399Z",
     "start_time": "2024-02-08T12:24:49.252716Z"
    }
   },
   "outputs": [],
   "source": [
    "\n",
    "X_train_transformed = preprocessor.fit_transform(X_train)"
   ]
  },
  {
   "cell_type": "code",
   "execution_count": 45,
   "id": "18db771a",
   "metadata": {
    "ExecuteTime": {
     "end_time": "2024-02-08T12:25:42.930640Z",
     "start_time": "2024-02-08T12:24:53.728155Z"
    }
   },
   "outputs": [
    {
     "data": {
      "text/plain": [
       "0.3708195266701608"
      ]
     },
     "execution_count": 45,
     "metadata": {},
     "output_type": "execute_result"
    }
   ],
   "source": [
    "from sklearn.linear_model import LinearRegression\n",
    "model = LinearRegression()\n",
    "model.fit(X_train_transformed, y_train)\n",
    "model.score(X_train_transformed,y_train)  "
   ]
  },
  {
   "cell_type": "code",
   "execution_count": 46,
   "id": "e8f8407a",
   "metadata": {
    "ExecuteTime": {
     "end_time": "2024-02-08T12:25:43.708041Z",
     "start_time": "2024-02-08T12:25:42.944141Z"
    }
   },
   "outputs": [],
   "source": [
    "X_test_transformed = preprocessor.transform(X_test)\n"
   ]
  },
  {
   "cell_type": "code",
   "execution_count": 47,
   "id": "5339e9e8",
   "metadata": {
    "ExecuteTime": {
     "end_time": "2024-02-08T12:26:18.717614Z",
     "start_time": "2024-02-08T12:26:18.573201Z"
    }
   },
   "outputs": [
    {
     "data": {
      "text/plain": [
       "-6.3981401265303085e+19"
      ]
     },
     "execution_count": 47,
     "metadata": {},
     "output_type": "execute_result"
    }
   ],
   "source": [
    "# we do not fit our test data!\n",
    "model.score(X_test_transformed,y_test)  "
   ]
  },
  {
   "cell_type": "markdown",
   "id": "5a742b6f",
   "metadata": {
    "ExecuteTime": {
     "end_time": "2024-02-08T12:38:58.342030Z",
     "start_time": "2024-02-08T12:38:58.321072Z"
    }
   },
   "source": [
    "### trying with XG Boost"
   ]
  },
  {
   "cell_type": "code",
   "execution_count": 111,
   "id": "b480dff2",
   "metadata": {
    "ExecuteTime": {
     "end_time": "2024-02-08T15:09:21.913009Z",
     "start_time": "2024-02-08T15:09:21.904909Z"
    }
   },
   "outputs": [],
   "source": [
    "from xgboost import XGBRegressor"
   ]
  },
  {
   "cell_type": "code",
   "execution_count": 112,
   "id": "42212048",
   "metadata": {
    "ExecuteTime": {
     "end_time": "2024-02-08T15:09:24.000372Z",
     "start_time": "2024-02-08T15:09:22.628344Z"
    }
   },
   "outputs": [],
   "source": [
    "from sklearn.model_selection import train_test_split\n",
    "\n",
    "X = preprocessor.fit_transform(X)  #keep in mind, is not procedural good\n",
    "\n",
    "# Split data into train, test and validation sets\n",
    "X_train, X_test, y_train, y_test = train_test_split(\n",
    "    X, y, test_size = 0.3, random_state = 42  # TEST = 30%\n",
    ")\n",
    "\n",
    "# Use the same function above for the validation set\n",
    "X_test, X_val, y_test, y_val = train_test_split(\n",
    "    X_test, y_test, test_size = 0.5, random_state = 42  # TEST = 15%\n",
    ")"
   ]
  },
  {
   "cell_type": "code",
   "execution_count": 113,
   "id": "1f9f27cb",
   "metadata": {
    "ExecuteTime": {
     "end_time": "2024-02-08T15:09:27.273635Z",
     "start_time": "2024-02-08T15:09:27.256221Z"
    }
   },
   "outputs": [
    {
     "data": {
      "text/plain": [
       "(87891, 103)"
      ]
     },
     "execution_count": 113,
     "metadata": {},
     "output_type": "execute_result"
    }
   ],
   "source": [
    "\n",
    "#X_train_transformed = preprocessor.fit_transform(X_train)\n",
    "#X_val_transformed = preprocessor.transform(X_val)\n",
    "X.shape"
   ]
  },
  {
   "cell_type": "code",
   "execution_count": 114,
   "id": "f8dc6fa6",
   "metadata": {
    "ExecuteTime": {
     "end_time": "2024-02-08T15:09:28.518753Z",
     "start_time": "2024-02-08T15:09:28.471930Z"
    }
   },
   "outputs": [
    {
     "data": {
      "text/plain": [
       "(61523, 103)"
      ]
     },
     "execution_count": 114,
     "metadata": {},
     "output_type": "execute_result"
    }
   ],
   "source": [
    "X_train.shape\n",
    "#X_train.shape"
   ]
  },
  {
   "cell_type": "code",
   "execution_count": 115,
   "id": "34c0709a",
   "metadata": {
    "ExecuteTime": {
     "end_time": "2024-02-08T15:09:29.752379Z",
     "start_time": "2024-02-08T15:09:29.723585Z"
    }
   },
   "outputs": [
    {
     "data": {
      "text/plain": [
       "(13184, 103)"
      ]
     },
     "execution_count": 115,
     "metadata": {},
     "output_type": "execute_result"
    }
   ],
   "source": [
    "X_val.shape\n",
    "#X_val.shape"
   ]
  },
  {
   "cell_type": "code",
   "execution_count": 129,
   "id": "5ae01cc1",
   "metadata": {
    "ExecuteTime": {
     "end_time": "2024-02-08T15:18:45.380416Z",
     "start_time": "2024-02-08T15:18:11.251513Z"
    }
   },
   "outputs": [
    {
     "name": "stderr",
     "output_type": "stream",
     "text": [
      "/home/marcnaweb/.pyenv/versions/3.10.6/envs/lewagon/lib/python3.10/site-packages/xgboost/sklearn.py:793: UserWarning: `early_stopping_rounds` in `fit` method is deprecated for better compatibility with scikit-learn, use `early_stopping_rounds` in constructor or`set_params` instead.\n",
      "  warnings.warn(\n"
     ]
    },
    {
     "name": "stdout",
     "output_type": "stream",
     "text": [
      "[0]\tvalidation_0-rmse:0.46033\tvalidation_1-rmse:0.45936\n",
      "[1]\tvalidation_0-rmse:0.45580\tvalidation_1-rmse:0.45485\n",
      "[2]\tvalidation_0-rmse:0.45131\tvalidation_1-rmse:0.45038\n",
      "[3]\tvalidation_0-rmse:0.44687\tvalidation_1-rmse:0.44596\n",
      "[4]\tvalidation_0-rmse:0.44247\tvalidation_1-rmse:0.44158\n",
      "[5]\tvalidation_0-rmse:0.43812\tvalidation_1-rmse:0.43725\n",
      "[6]\tvalidation_0-rmse:0.43381\tvalidation_1-rmse:0.43296\n",
      "[7]\tvalidation_0-rmse:0.42955\tvalidation_1-rmse:0.42871\n",
      "[8]\tvalidation_0-rmse:0.42533\tvalidation_1-rmse:0.42451\n",
      "[9]\tvalidation_0-rmse:0.42115\tvalidation_1-rmse:0.42035\n",
      "[10]\tvalidation_0-rmse:0.41701\tvalidation_1-rmse:0.41623\n",
      "[11]\tvalidation_0-rmse:0.41292\tvalidation_1-rmse:0.41215\n",
      "[12]\tvalidation_0-rmse:0.40886\tvalidation_1-rmse:0.40811\n",
      "[13]\tvalidation_0-rmse:0.40485\tvalidation_1-rmse:0.40412\n",
      "[14]\tvalidation_0-rmse:0.40088\tvalidation_1-rmse:0.40017\n",
      "[15]\tvalidation_0-rmse:0.39695\tvalidation_1-rmse:0.39625\n",
      "[16]\tvalidation_0-rmse:0.39306\tvalidation_1-rmse:0.39238\n",
      "[17]\tvalidation_0-rmse:0.38921\tvalidation_1-rmse:0.38855\n",
      "[18]\tvalidation_0-rmse:0.38540\tvalidation_1-rmse:0.38475\n",
      "[19]\tvalidation_0-rmse:0.38162\tvalidation_1-rmse:0.38099\n",
      "[20]\tvalidation_0-rmse:0.37789\tvalidation_1-rmse:0.37728\n",
      "[21]\tvalidation_0-rmse:0.37419\tvalidation_1-rmse:0.37360\n",
      "[22]\tvalidation_0-rmse:0.37053\tvalidation_1-rmse:0.36996\n",
      "[23]\tvalidation_0-rmse:0.36691\tvalidation_1-rmse:0.36635\n",
      "[24]\tvalidation_0-rmse:0.36333\tvalidation_1-rmse:0.36278\n",
      "[25]\tvalidation_0-rmse:0.35978\tvalidation_1-rmse:0.35925\n",
      "[26]\tvalidation_0-rmse:0.35627\tvalidation_1-rmse:0.35576\n",
      "[27]\tvalidation_0-rmse:0.35279\tvalidation_1-rmse:0.35230\n",
      "[28]\tvalidation_0-rmse:0.34935\tvalidation_1-rmse:0.34887\n",
      "[29]\tvalidation_0-rmse:0.34594\tvalidation_1-rmse:0.34548\n",
      "[30]\tvalidation_0-rmse:0.34257\tvalidation_1-rmse:0.34213\n",
      "[31]\tvalidation_0-rmse:0.33924\tvalidation_1-rmse:0.33881\n",
      "[32]\tvalidation_0-rmse:0.33593\tvalidation_1-rmse:0.33552\n",
      "[33]\tvalidation_0-rmse:0.33267\tvalidation_1-rmse:0.33227\n",
      "[34]\tvalidation_0-rmse:0.32943\tvalidation_1-rmse:0.32905\n",
      "[35]\tvalidation_0-rmse:0.32623\tvalidation_1-rmse:0.32586\n",
      "[36]\tvalidation_0-rmse:0.32306\tvalidation_1-rmse:0.32270\n",
      "[37]\tvalidation_0-rmse:0.31992\tvalidation_1-rmse:0.31958\n",
      "[38]\tvalidation_0-rmse:0.31682\tvalidation_1-rmse:0.31649\n",
      "[39]\tvalidation_0-rmse:0.31375\tvalidation_1-rmse:0.31343\n",
      "[40]\tvalidation_0-rmse:0.31070\tvalidation_1-rmse:0.31041\n",
      "[41]\tvalidation_0-rmse:0.30770\tvalidation_1-rmse:0.30741\n",
      "[42]\tvalidation_0-rmse:0.30472\tvalidation_1-rmse:0.30445\n",
      "[43]\tvalidation_0-rmse:0.30177\tvalidation_1-rmse:0.30152\n",
      "[44]\tvalidation_0-rmse:0.29885\tvalidation_1-rmse:0.29861\n",
      "[45]\tvalidation_0-rmse:0.29596\tvalidation_1-rmse:0.29573\n",
      "[46]\tvalidation_0-rmse:0.29310\tvalidation_1-rmse:0.29289\n",
      "[47]\tvalidation_0-rmse:0.29027\tvalidation_1-rmse:0.29007\n",
      "[48]\tvalidation_0-rmse:0.28747\tvalidation_1-rmse:0.28728\n",
      "[49]\tvalidation_0-rmse:0.28470\tvalidation_1-rmse:0.28452\n",
      "[50]\tvalidation_0-rmse:0.28196\tvalidation_1-rmse:0.28179\n",
      "[51]\tvalidation_0-rmse:0.27924\tvalidation_1-rmse:0.27909\n",
      "[52]\tvalidation_0-rmse:0.27656\tvalidation_1-rmse:0.27642\n",
      "[53]\tvalidation_0-rmse:0.27390\tvalidation_1-rmse:0.27378\n",
      "[54]\tvalidation_0-rmse:0.27127\tvalidation_1-rmse:0.27116\n",
      "[55]\tvalidation_0-rmse:0.26866\tvalidation_1-rmse:0.26857\n",
      "[56]\tvalidation_0-rmse:0.26608\tvalidation_1-rmse:0.26600\n",
      "[57]\tvalidation_0-rmse:0.26353\tvalidation_1-rmse:0.26347\n",
      "[58]\tvalidation_0-rmse:0.26101\tvalidation_1-rmse:0.26096\n",
      "[59]\tvalidation_0-rmse:0.25851\tvalidation_1-rmse:0.25847\n",
      "[60]\tvalidation_0-rmse:0.25604\tvalidation_1-rmse:0.25601\n",
      "[61]\tvalidation_0-rmse:0.25359\tvalidation_1-rmse:0.25358\n",
      "[62]\tvalidation_0-rmse:0.25117\tvalidation_1-rmse:0.25117\n",
      "[63]\tvalidation_0-rmse:0.24878\tvalidation_1-rmse:0.24879\n",
      "[64]\tvalidation_0-rmse:0.24641\tvalidation_1-rmse:0.24643\n",
      "[65]\tvalidation_0-rmse:0.24406\tvalidation_1-rmse:0.24410\n",
      "[66]\tvalidation_0-rmse:0.24174\tvalidation_1-rmse:0.24179\n",
      "[67]\tvalidation_0-rmse:0.23944\tvalidation_1-rmse:0.23950\n",
      "[68]\tvalidation_0-rmse:0.23717\tvalidation_1-rmse:0.23724\n",
      "[69]\tvalidation_0-rmse:0.23492\tvalidation_1-rmse:0.23500\n",
      "[70]\tvalidation_0-rmse:0.23269\tvalidation_1-rmse:0.23279\n",
      "[71]\tvalidation_0-rmse:0.23049\tvalidation_1-rmse:0.23060\n",
      "[72]\tvalidation_0-rmse:0.22831\tvalidation_1-rmse:0.22843\n",
      "[73]\tvalidation_0-rmse:0.22615\tvalidation_1-rmse:0.22629\n",
      "[74]\tvalidation_0-rmse:0.22401\tvalidation_1-rmse:0.22416\n",
      "[75]\tvalidation_0-rmse:0.22190\tvalidation_1-rmse:0.22206\n",
      "[76]\tvalidation_0-rmse:0.21981\tvalidation_1-rmse:0.21999\n",
      "[77]\tvalidation_0-rmse:0.21774\tvalidation_1-rmse:0.21793\n",
      "[78]\tvalidation_0-rmse:0.21570\tvalidation_1-rmse:0.21589\n",
      "[79]\tvalidation_0-rmse:0.21367\tvalidation_1-rmse:0.21388\n"
     ]
    }
   ],
   "source": [
    "from xgboost import XGBRegressor\n",
    "\n",
    "xgb_reg = XGBRegressor(max_depth=5, n_estimators=80, learning_rate=0.01)\n",
    "\n",
    "xgb_reg.fit(X_train, y_train,\n",
    "    # evaluate loss at each iteration\n",
    "    eval_set=[(X_train, y_train), (X_val, y_val)],  \n",
    "    # stop iterating when eval loss increases 5 times in a row\n",
    "    early_stopping_rounds=3 \n",
    ")\n",
    "\n",
    "y_pred = xgb_reg.predict(X_val)"
   ]
  },
  {
   "cell_type": "code",
   "execution_count": 130,
   "id": "63891e12",
   "metadata": {
    "ExecuteTime": {
     "end_time": "2024-02-08T15:18:45.536909Z",
     "start_time": "2024-02-08T15:18:45.390966Z"
    }
   },
   "outputs": [
    {
     "data": {
      "text/plain": [
       "1.0"
      ]
     },
     "execution_count": 130,
     "metadata": {},
     "output_type": "execute_result"
    }
   ],
   "source": [
    "xgb_reg.score(X_test,  xgb_reg.predict(X_test) )"
   ]
  },
  {
   "cell_type": "code",
   "execution_count": 131,
   "id": "01036771",
   "metadata": {
    "ExecuteTime": {
     "end_time": "2024-02-08T15:18:45.561757Z",
     "start_time": "2024-02-08T15:18:45.547688Z"
    }
   },
   "outputs": [],
   "source": [
    "from sklearn.metrics import mean_squared_error"
   ]
  },
  {
   "cell_type": "code",
   "execution_count": 132,
   "id": "1728716c",
   "metadata": {
    "ExecuteTime": {
     "end_time": "2024-02-08T15:18:45.707384Z",
     "start_time": "2024-02-08T15:18:45.586851Z"
    }
   },
   "outputs": [],
   "source": [
    "y_pred = xgb_reg.predict(X_test)"
   ]
  },
  {
   "cell_type": "code",
   "execution_count": 133,
   "id": "c7fb0e66",
   "metadata": {
    "ExecuteTime": {
     "end_time": "2024-02-08T15:18:45.748996Z",
     "start_time": "2024-02-08T15:18:45.717878Z"
    }
   },
   "outputs": [
    {
     "data": {
      "text/plain": [
       "0.21320794102373306"
      ]
     },
     "execution_count": 133,
     "metadata": {},
     "output_type": "execute_result"
    }
   ],
   "source": [
    "mean_squared_error(y_test, y_pred) ** (0.5)"
   ]
  },
  {
   "cell_type": "markdown",
   "id": "d486f621",
   "metadata": {
    "ExecuteTime": {
     "end_time": "2024-02-07T19:32:53.467318Z",
     "start_time": "2024-02-07T19:32:53.458406Z"
    }
   },
   "source": [
    "#### Let's see it in action"
   ]
  },
  {
   "cell_type": "code",
   "execution_count": 65,
   "id": "5fa6abe3",
   "metadata": {
    "ExecuteTime": {
     "end_time": "2024-02-08T10:00:23.057976Z",
     "start_time": "2024-02-08T10:00:22.799775Z"
    }
   },
   "outputs": [
    {
     "name": "stderr",
     "output_type": "stream",
     "text": [
      "/tmp/ipykernel_10273/3597691782.py:1: UserWarning: Boolean Series key will be reindexed to match DataFrame index.\n",
      "  car = merged_df[merged_df[\"car_model_year\"] == 2015 ] [merged_df[\"calendar_year\"] == 2017]#[merged_df.index == 23575 ]\n"
     ]
    },
    {
     "data": {
      "text/html": [
       "<div>\n",
       "<style scoped>\n",
       "    .dataframe tbody tr th:only-of-type {\n",
       "        vertical-align: middle;\n",
       "    }\n",
       "\n",
       "    .dataframe tbody tr th {\n",
       "        vertical-align: top;\n",
       "    }\n",
       "\n",
       "    .dataframe thead th {\n",
       "        text-align: right;\n",
       "    }\n",
       "</style>\n",
       "<table border=\"1\" class=\"dataframe\">\n",
       "  <thead>\n",
       "    <tr style=\"text-align: right;\">\n",
       "      <th></th>\n",
       "      <th>car_code</th>\n",
       "      <th>car_manufacturer</th>\n",
       "      <th>car_model</th>\n",
       "      <th>car_model_year</th>\n",
       "      <th>Year_x</th>\n",
       "      <th>Price_YoY</th>\n",
       "      <th>Next_YoY_Price</th>\n",
       "      <th>Next_YoY_Pr_Pred</th>\n",
       "      <th>calendar_year</th>\n",
       "      <th>Price_sd_scaled</th>\n",
       "      <th>...</th>\n",
       "      <th>Maximum power</th>\n",
       "      <th>Unit displacement</th>\n",
       "      <th>Trunk</th>\n",
       "      <th>USB connection</th>\n",
       "      <th>Gear speed transmissions</th>\n",
       "      <th>Urban</th>\n",
       "      <th>Year_y</th>\n",
       "      <th>Radio</th>\n",
       "      <th>Folding rear seat</th>\n",
       "      <th>Perimeter anti theft alarm</th>\n",
       "    </tr>\n",
       "  </thead>\n",
       "  <tbody>\n",
       "    <tr>\n",
       "      <th>60263</th>\n",
       "      <td>2005</td>\n",
       "      <td>Peugeot</td>\n",
       "      <td>207 Passion In Concert 1.4</td>\n",
       "      <td>2015</td>\n",
       "      <td>2</td>\n",
       "      <td>0.844462</td>\n",
       "      <td>0.966102</td>\n",
       "      <td>0.916243</td>\n",
       "      <td>2017</td>\n",
       "      <td>-1.451522</td>\n",
       "      <td>...</td>\n",
       "      <td>0.027624</td>\n",
       "      <td>0.34035</td>\n",
       "      <td>0.027676</td>\n",
       "      <td>1.0</td>\n",
       "      <td>0.454545</td>\n",
       "      <td>0.111663</td>\n",
       "      <td>0.839286</td>\n",
       "      <td>1.0</td>\n",
       "      <td>1.0</td>\n",
       "      <td>0.0</td>\n",
       "    </tr>\n",
       "  </tbody>\n",
       "</table>\n",
       "<p>1 rows × 110 columns</p>\n",
       "</div>"
      ],
      "text/plain": [
       "       car_code car_manufacturer                   car_model  car_model_year  \\\n",
       "60263      2005          Peugeot  207 Passion In Concert 1.4            2015   \n",
       "\n",
       "       Year_x  Price_YoY  Next_YoY_Price  Next_YoY_Pr_Pred  calendar_year  \\\n",
       "60263       2   0.844462        0.966102          0.916243           2017   \n",
       "\n",
       "       Price_sd_scaled  ...  Maximum power  Unit displacement     Trunk  \\\n",
       "60263        -1.451522  ...       0.027624            0.34035  0.027676   \n",
       "\n",
       "       USB connection  Gear speed transmissions     Urban    Year_y  Radio  \\\n",
       "60263             1.0                  0.454545  0.111663  0.839286    1.0   \n",
       "\n",
       "       Folding rear seat  Perimeter anti theft alarm  \n",
       "60263                1.0                         0.0  \n",
       "\n",
       "[1 rows x 110 columns]"
      ]
     },
     "execution_count": 65,
     "metadata": {},
     "output_type": "execute_result"
    }
   ],
   "source": [
    "car = merged_df[merged_df[\"car_model_year\"] == 2015 ] [merged_df[\"calendar_year\"] == 2017]#[merged_df.index == 23575 ]\n",
    "car = merged_df[merged_df.index == 60263 ]\n",
    "car"
   ]
  },
  {
   "cell_type": "code",
   "execution_count": 66,
   "id": "d54f86ce",
   "metadata": {
    "ExecuteTime": {
     "end_time": "2024-02-08T10:00:32.505820Z",
     "start_time": "2024-02-08T10:00:32.279371Z"
    },
    "scrolled": true
   },
   "outputs": [
    {
     "data": {
      "text/html": [
       "<div>\n",
       "<style scoped>\n",
       "    .dataframe tbody tr th:only-of-type {\n",
       "        vertical-align: middle;\n",
       "    }\n",
       "\n",
       "    .dataframe tbody tr th {\n",
       "        vertical-align: top;\n",
       "    }\n",
       "\n",
       "    .dataframe thead th {\n",
       "        text-align: right;\n",
       "    }\n",
       "</style>\n",
       "<table border=\"1\" class=\"dataframe\">\n",
       "  <thead>\n",
       "    <tr style=\"text-align: right;\">\n",
       "      <th></th>\n",
       "      <th>car_manufacturer</th>\n",
       "      <th>Year_x</th>\n",
       "      <th>Price_YoY</th>\n",
       "      <th>calendar_year</th>\n",
       "      <th>Propulsion_Combustion</th>\n",
       "      <th>Propulsion_Electric</th>\n",
       "      <th>Propulsion_Hybrid</th>\n",
       "      <th>Propulsion_Light Hybrid</th>\n",
       "      <th>Propulsion_Plug-in hybrid</th>\n",
       "      <th>Car gearbox_Automated</th>\n",
       "      <th>...</th>\n",
       "      <th>Unit displacement</th>\n",
       "      <th>Trunk</th>\n",
       "      <th>USB connection</th>\n",
       "      <th>Gear speed transmissions</th>\n",
       "      <th>Urban</th>\n",
       "      <th>Year_y</th>\n",
       "      <th>Radio</th>\n",
       "      <th>Folding rear seat</th>\n",
       "      <th>Perimeter anti theft alarm</th>\n",
       "      <th>car_model_small</th>\n",
       "    </tr>\n",
       "  </thead>\n",
       "  <tbody>\n",
       "    <tr>\n",
       "      <th>60263</th>\n",
       "      <td>Peugeot</td>\n",
       "      <td>2</td>\n",
       "      <td>0.844462</td>\n",
       "      <td>2017</td>\n",
       "      <td>1.0</td>\n",
       "      <td>0.0</td>\n",
       "      <td>0.0</td>\n",
       "      <td>0.0</td>\n",
       "      <td>0.0</td>\n",
       "      <td>0.0</td>\n",
       "      <td>...</td>\n",
       "      <td>0.34035</td>\n",
       "      <td>0.027676</td>\n",
       "      <td>1.0</td>\n",
       "      <td>0.454545</td>\n",
       "      <td>0.111663</td>\n",
       "      <td>0.839286</td>\n",
       "      <td>1.0</td>\n",
       "      <td>1.0</td>\n",
       "      <td>0.0</td>\n",
       "      <td>207</td>\n",
       "    </tr>\n",
       "  </tbody>\n",
       "</table>\n",
       "<p>1 rows × 105 columns</p>\n",
       "</div>"
      ],
      "text/plain": [
       "      car_manufacturer  Year_x  Price_YoY  calendar_year  \\\n",
       "60263          Peugeot       2   0.844462           2017   \n",
       "\n",
       "       Propulsion_Combustion  Propulsion_Electric  Propulsion_Hybrid  \\\n",
       "60263                    1.0                  0.0                0.0   \n",
       "\n",
       "       Propulsion_Light Hybrid  Propulsion_Plug-in hybrid  \\\n",
       "60263                      0.0                        0.0   \n",
       "\n",
       "       Car gearbox_Automated  ...  Unit displacement     Trunk  \\\n",
       "60263                    0.0  ...            0.34035  0.027676   \n",
       "\n",
       "       USB connection  Gear speed transmissions     Urban    Year_y  Radio  \\\n",
       "60263             1.0                  0.454545  0.111663  0.839286    1.0   \n",
       "\n",
       "       Folding rear seat  Perimeter anti theft alarm  car_model_small  \n",
       "60263                1.0                         0.0              207  \n",
       "\n",
       "[1 rows x 105 columns]"
      ]
     },
     "execution_count": 66,
     "metadata": {},
     "output_type": "execute_result"
    }
   ],
   "source": [
    "car = car.drop( columns=['car_code' , 'car_model_year',  'Next_YoY_Price', 'Next_YoY_Pr_Pred',\n",
    "       'Price_sd_scaled' ])\n",
    "\n",
    "#car = car.drop( columns=['car_code' , 'car_model_year', 'Price_YoY' ,  'Next_YoY_Price', 'Next_YoY_Pr_Pred',\n",
    "#       'Next_Price_sd_scaled' ])\n",
    "\n",
    "car[\"car_model_small\"] = car[\"car_model\"].map(take_first_word)\n",
    "car.drop(columns=\"car_model\", inplace=True)\n",
    "car"
   ]
  },
  {
   "cell_type": "code",
   "execution_count": 67,
   "id": "0b28e375",
   "metadata": {
    "ExecuteTime": {
     "end_time": "2024-02-08T10:00:33.303144Z",
     "start_time": "2024-02-08T10:00:33.221320Z"
    }
   },
   "outputs": [],
   "source": [
    "car_transformed = preprocessor.transform(car)"
   ]
  },
  {
   "cell_type": "code",
   "execution_count": 68,
   "id": "1cbb190a",
   "metadata": {
    "ExecuteTime": {
     "end_time": "2024-02-08T10:00:34.251349Z",
     "start_time": "2024-02-08T10:00:34.224550Z"
    }
   },
   "outputs": [
    {
     "data": {
      "text/plain": [
       "array([0.91959])"
      ]
     },
     "execution_count": 68,
     "metadata": {},
     "output_type": "execute_result"
    }
   ],
   "source": [
    "model.predict(car_transformed)"
   ]
  },
  {
   "cell_type": "code",
   "execution_count": null,
   "id": "4b0dd28c",
   "metadata": {
    "ExecuteTime": {
     "end_time": "2024-02-07T20:44:00.169257Z",
     "start_time": "2024-02-07T20:44:00.151684Z"
    }
   },
   "outputs": [],
   "source": []
  },
  {
   "cell_type": "code",
   "execution_count": null,
   "id": "198ace1e",
   "metadata": {},
   "outputs": [],
   "source": []
  }
 ],
 "metadata": {
  "kernelspec": {
   "display_name": "Python 3 (ipykernel)",
   "language": "python",
   "name": "python3"
  },
  "language_info": {
   "codemirror_mode": {
    "name": "ipython",
    "version": 3
   },
   "file_extension": ".py",
   "mimetype": "text/x-python",
   "name": "python",
   "nbconvert_exporter": "python",
   "pygments_lexer": "ipython3",
   "version": "3.10.6"
  },
  "toc": {
   "base_numbering": 1,
   "nav_menu": {},
   "number_sections": true,
   "sideBar": true,
   "skip_h1_title": false,
   "title_cell": "Table of Contents",
   "title_sidebar": "Contents",
   "toc_cell": false,
   "toc_position": {},
   "toc_section_display": true,
   "toc_window_display": false
  }
 },
 "nbformat": 4,
 "nbformat_minor": 5
}
