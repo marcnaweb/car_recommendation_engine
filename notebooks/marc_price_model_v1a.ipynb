{
 "cells": [
  {
   "cell_type": "code",
   "execution_count": 2,
   "id": "5ca5b624",
   "metadata": {
    "ExecuteTime": {
     "end_time": "2024-02-07T17:41:16.756351Z",
     "start_time": "2024-02-07T17:41:07.460293Z"
    }
   },
   "outputs": [],
   "source": [
    "import pandas as pd\n",
    "import numpy as np\n",
    "import seaborn as sns\n",
    "from sklearn.preprocessing import OneHotEncoder"
   ]
  },
  {
   "cell_type": "code",
   "execution_count": 3,
   "id": "b1d64bcc",
   "metadata": {
    "ExecuteTime": {
     "end_time": "2024-02-07T17:41:16.970497Z",
     "start_time": "2024-02-07T17:41:16.768013Z"
    }
   },
   "outputs": [
    {
     "name": "stdout",
     "output_type": "stream",
     "text": [
      "/home/marcnaweb/code/marcnaweb/car_recommendation_engine/notebooks\r\n"
     ]
    }
   ],
   "source": [
    "!pwd"
   ]
  },
  {
   "cell_type": "code",
   "execution_count": 4,
   "id": "32af68fa",
   "metadata": {
    "ExecuteTime": {
     "end_time": "2024-02-07T17:41:17.469662Z",
     "start_time": "2024-02-07T17:41:16.980347Z"
    }
   },
   "outputs": [],
   "source": [
    "price_df = pd.read_csv('/home/marcnaweb/code/marcnaweb/car_recommendation_engine/raw_data/car_prices_w_prices_scaled.csv', index_col=0)"
   ]
  },
  {
   "cell_type": "code",
   "execution_count": 93,
   "id": "e9ab8ecc",
   "metadata": {
    "ExecuteTime": {
     "end_time": "2024-02-07T18:23:47.402697Z",
     "start_time": "2024-02-07T18:23:47.297281Z"
    }
   },
   "outputs": [],
   "source": [
    "price_df = price_df.sort_values(by=[\"car_code\", \"Year\"])"
   ]
  },
  {
   "cell_type": "code",
   "execution_count": 127,
   "id": "5da395ad",
   "metadata": {
    "ExecuteTime": {
     "end_time": "2024-02-07T18:43:14.201395Z",
     "start_time": "2024-02-07T18:43:14.153035Z"
    }
   },
   "outputs": [],
   "source": [
    "price_df[\"Next_Price_sd_scaled\"] = price_df[\"Price_sd_scaled\"].shift(-1)\n",
    "price_df.drop(price_df.tail(1).index,inplace=True)"
   ]
  },
  {
   "cell_type": "code",
   "execution_count": 128,
   "id": "5c6b0b34",
   "metadata": {
    "ExecuteTime": {
     "end_time": "2024-02-07T18:43:15.225806Z",
     "start_time": "2024-02-07T18:43:15.144909Z"
    }
   },
   "outputs": [
    {
     "data": {
      "text/html": [
       "<div>\n",
       "<style scoped>\n",
       "    .dataframe tbody tr th:only-of-type {\n",
       "        vertical-align: middle;\n",
       "    }\n",
       "\n",
       "    .dataframe tbody tr th {\n",
       "        vertical-align: top;\n",
       "    }\n",
       "\n",
       "    .dataframe thead th {\n",
       "        text-align: right;\n",
       "    }\n",
       "</style>\n",
       "<table border=\"1\" class=\"dataframe\">\n",
       "  <thead>\n",
       "    <tr style=\"text-align: right;\">\n",
       "      <th></th>\n",
       "      <th>car_code</th>\n",
       "      <th>car_manufacturer</th>\n",
       "      <th>car_model</th>\n",
       "      <th>car_model_year</th>\n",
       "      <th>Year</th>\n",
       "      <th>Price_YoY</th>\n",
       "      <th>Next_YoY_Price</th>\n",
       "      <th>Next_YoY_Pr_Pred</th>\n",
       "      <th>calendar_year</th>\n",
       "      <th>Price_sd_scaled</th>\n",
       "      <th>Next_Price_sd_scaled</th>\n",
       "    </tr>\n",
       "  </thead>\n",
       "  <tbody>\n",
       "    <tr>\n",
       "      <th>372654</th>\n",
       "      <td>1</td>\n",
       "      <td>Lamborghini</td>\n",
       "      <td>Murcielago 6.2 V12</td>\n",
       "      <td>2002</td>\n",
       "      <td>19</td>\n",
       "      <td>0.817728</td>\n",
       "      <td>1.016211</td>\n",
       "      <td>0.979539</td>\n",
       "      <td>2021</td>\n",
       "      <td>-2.023064</td>\n",
       "      <td>-0.371702</td>\n",
       "    </tr>\n",
       "    <tr>\n",
       "      <th>186328</th>\n",
       "      <td>2</td>\n",
       "      <td>Fiat</td>\n",
       "      <td>Uno Mille Fire 1.0</td>\n",
       "      <td>2002</td>\n",
       "      <td>10</td>\n",
       "      <td>0.904178</td>\n",
       "      <td>0.852240</td>\n",
       "      <td>0.985393</td>\n",
       "      <td>2012</td>\n",
       "      <td>-0.371702</td>\n",
       "      <td>0.372936</td>\n",
       "    </tr>\n",
       "    <tr>\n",
       "      <th>207031</th>\n",
       "      <td>2</td>\n",
       "      <td>Fiat</td>\n",
       "      <td>Uno Mille Fire 1.0</td>\n",
       "      <td>2002</td>\n",
       "      <td>11</td>\n",
       "      <td>0.852240</td>\n",
       "      <td>0.907692</td>\n",
       "      <td>0.989107</td>\n",
       "      <td>2013</td>\n",
       "      <td>0.372936</td>\n",
       "      <td>-0.425508</td>\n",
       "    </tr>\n",
       "    <tr>\n",
       "      <th>227734</th>\n",
       "      <td>2</td>\n",
       "      <td>Fiat</td>\n",
       "      <td>Uno Mille Fire 1.0</td>\n",
       "      <td>2002</td>\n",
       "      <td>12</td>\n",
       "      <td>0.907692</td>\n",
       "      <td>0.879982</td>\n",
       "      <td>0.986298</td>\n",
       "      <td>2014</td>\n",
       "      <td>-0.425508</td>\n",
       "      <td>0.182580</td>\n",
       "    </tr>\n",
       "    <tr>\n",
       "      <th>248437</th>\n",
       "      <td>2</td>\n",
       "      <td>Fiat</td>\n",
       "      <td>Uno Mille Fire 1.0</td>\n",
       "      <td>2002</td>\n",
       "      <td>13</td>\n",
       "      <td>0.879982</td>\n",
       "      <td>0.904896</td>\n",
       "      <td>0.987452</td>\n",
       "      <td>2015</td>\n",
       "      <td>0.182580</td>\n",
       "      <td>0.222046</td>\n",
       "    </tr>\n",
       "    <tr>\n",
       "      <th>...</th>\n",
       "      <td>...</td>\n",
       "      <td>...</td>\n",
       "      <td>...</td>\n",
       "      <td>...</td>\n",
       "      <td>...</td>\n",
       "      <td>...</td>\n",
       "      <td>...</td>\n",
       "      <td>...</td>\n",
       "      <td>...</td>\n",
       "      <td>...</td>\n",
       "      <td>...</td>\n",
       "    </tr>\n",
       "    <tr>\n",
       "      <th>61773</th>\n",
       "      <td>22454</td>\n",
       "      <td>Mercedes-Benz</td>\n",
       "      <td>GLC 250 Highway 2.0</td>\n",
       "      <td>2018</td>\n",
       "      <td>3</td>\n",
       "      <td>1.075859</td>\n",
       "      <td>0.960412</td>\n",
       "      <td>0.922014</td>\n",
       "      <td>2021</td>\n",
       "      <td>3.201839</td>\n",
       "      <td>-1.952319</td>\n",
       "    </tr>\n",
       "    <tr>\n",
       "      <th>82476</th>\n",
       "      <td>22454</td>\n",
       "      <td>Mercedes-Benz</td>\n",
       "      <td>GLC 250 Highway 2.0</td>\n",
       "      <td>2018</td>\n",
       "      <td>4</td>\n",
       "      <td>0.960412</td>\n",
       "      <td>0.952021</td>\n",
       "      <td>0.930608</td>\n",
       "      <td>2022</td>\n",
       "      <td>-1.952319</td>\n",
       "      <td>-0.182192</td>\n",
       "    </tr>\n",
       "    <tr>\n",
       "      <th>20369</th>\n",
       "      <td>22456</td>\n",
       "      <td>Ford</td>\n",
       "      <td>Ka Trail 1.5</td>\n",
       "      <td>2018</td>\n",
       "      <td>1</td>\n",
       "      <td>0.785524</td>\n",
       "      <td>0.943683</td>\n",
       "      <td>0.917069</td>\n",
       "      <td>2019</td>\n",
       "      <td>-0.182192</td>\n",
       "      <td>0.429168</td>\n",
       "    </tr>\n",
       "    <tr>\n",
       "      <th>41072</th>\n",
       "      <td>22456</td>\n",
       "      <td>Ford</td>\n",
       "      <td>Ka Trail 1.5</td>\n",
       "      <td>2018</td>\n",
       "      <td>2</td>\n",
       "      <td>0.943683</td>\n",
       "      <td>1.135969</td>\n",
       "      <td>0.916243</td>\n",
       "      <td>2020</td>\n",
       "      <td>0.429168</td>\n",
       "      <td>4.289213</td>\n",
       "    </tr>\n",
       "    <tr>\n",
       "      <th>61775</th>\n",
       "      <td>22456</td>\n",
       "      <td>Ford</td>\n",
       "      <td>Ka Trail 1.5</td>\n",
       "      <td>2018</td>\n",
       "      <td>3</td>\n",
       "      <td>1.135969</td>\n",
       "      <td>0.956587</td>\n",
       "      <td>0.922014</td>\n",
       "      <td>2021</td>\n",
       "      <td>4.289213</td>\n",
       "      <td>-1.990149</td>\n",
       "    </tr>\n",
       "  </tbody>\n",
       "</table>\n",
       "<p>87890 rows × 11 columns</p>\n",
       "</div>"
      ],
      "text/plain": [
       "        car_code car_manufacturer            car_model  car_model_year  Year  \\\n",
       "372654         1      Lamborghini   Murcielago 6.2 V12            2002    19   \n",
       "186328         2             Fiat   Uno Mille Fire 1.0            2002    10   \n",
       "207031         2             Fiat   Uno Mille Fire 1.0            2002    11   \n",
       "227734         2             Fiat   Uno Mille Fire 1.0            2002    12   \n",
       "248437         2             Fiat   Uno Mille Fire 1.0            2002    13   \n",
       "...          ...              ...                  ...             ...   ...   \n",
       "61773      22454    Mercedes-Benz  GLC 250 Highway 2.0            2018     3   \n",
       "82476      22454    Mercedes-Benz  GLC 250 Highway 2.0            2018     4   \n",
       "20369      22456             Ford         Ka Trail 1.5            2018     1   \n",
       "41072      22456             Ford         Ka Trail 1.5            2018     2   \n",
       "61775      22456             Ford         Ka Trail 1.5            2018     3   \n",
       "\n",
       "        Price_YoY  Next_YoY_Price  Next_YoY_Pr_Pred  calendar_year  \\\n",
       "372654   0.817728        1.016211          0.979539           2021   \n",
       "186328   0.904178        0.852240          0.985393           2012   \n",
       "207031   0.852240        0.907692          0.989107           2013   \n",
       "227734   0.907692        0.879982          0.986298           2014   \n",
       "248437   0.879982        0.904896          0.987452           2015   \n",
       "...           ...             ...               ...            ...   \n",
       "61773    1.075859        0.960412          0.922014           2021   \n",
       "82476    0.960412        0.952021          0.930608           2022   \n",
       "20369    0.785524        0.943683          0.917069           2019   \n",
       "41072    0.943683        1.135969          0.916243           2020   \n",
       "61775    1.135969        0.956587          0.922014           2021   \n",
       "\n",
       "        Price_sd_scaled  Next_Price_sd_scaled  \n",
       "372654        -2.023064             -0.371702  \n",
       "186328        -0.371702              0.372936  \n",
       "207031         0.372936             -0.425508  \n",
       "227734        -0.425508              0.182580  \n",
       "248437         0.182580              0.222046  \n",
       "...                 ...                   ...  \n",
       "61773          3.201839             -1.952319  \n",
       "82476         -1.952319             -0.182192  \n",
       "20369         -0.182192              0.429168  \n",
       "41072          0.429168              4.289213  \n",
       "61775          4.289213             -1.990149  \n",
       "\n",
       "[87890 rows x 11 columns]"
      ]
     },
     "execution_count": 128,
     "metadata": {},
     "output_type": "execute_result"
    }
   ],
   "source": [
    "\n",
    "price_df"
   ]
  },
  {
   "cell_type": "markdown",
   "id": "a9b85ea6",
   "metadata": {
    "ExecuteTime": {
     "end_time": "2024-02-07T12:19:07.061752Z",
     "start_time": "2024-02-07T12:19:07.053181Z"
    }
   },
   "source": [
    "## Model first try --> ignore this!"
   ]
  },
  {
   "cell_type": "code",
   "execution_count": 129,
   "id": "5887461b",
   "metadata": {
    "ExecuteTime": {
     "end_time": "2024-02-07T18:43:21.566072Z",
     "start_time": "2024-02-07T18:43:21.367307Z"
    }
   },
   "outputs": [
    {
     "data": {
      "text/html": [
       "<div>\n",
       "<style scoped>\n",
       "    .dataframe tbody tr th:only-of-type {\n",
       "        vertical-align: middle;\n",
       "    }\n",
       "\n",
       "    .dataframe tbody tr th {\n",
       "        vertical-align: top;\n",
       "    }\n",
       "\n",
       "    .dataframe thead th {\n",
       "        text-align: right;\n",
       "    }\n",
       "</style>\n",
       "<table border=\"1\" class=\"dataframe\">\n",
       "  <thead>\n",
       "    <tr style=\"text-align: right;\">\n",
       "      <th></th>\n",
       "      <th>car_code</th>\n",
       "      <th>car_manufacturer</th>\n",
       "      <th>car_model</th>\n",
       "      <th>car_model_year</th>\n",
       "      <th>Year</th>\n",
       "      <th>Price_YoY</th>\n",
       "      <th>Next_YoY_Price</th>\n",
       "      <th>Next_YoY_Pr_Pred</th>\n",
       "      <th>calendar_year</th>\n",
       "      <th>Price_sd_scaled</th>\n",
       "      <th>Next_Price_sd_scaled</th>\n",
       "    </tr>\n",
       "  </thead>\n",
       "  <tbody>\n",
       "    <tr>\n",
       "      <th>1129</th>\n",
       "      <td>1165</td>\n",
       "      <td>Agrale</td>\n",
       "      <td>Marruá 2.8 Turbodiesel 4x4</td>\n",
       "      <td>2005</td>\n",
       "      <td>1</td>\n",
       "      <td>0.827534</td>\n",
       "      <td>0.955923</td>\n",
       "      <td>0.917069</td>\n",
       "      <td>2006</td>\n",
       "      <td>0.126351</td>\n",
       "      <td>1.450379</td>\n",
       "    </tr>\n",
       "    <tr>\n",
       "      <th>21832</th>\n",
       "      <td>1165</td>\n",
       "      <td>Agrale</td>\n",
       "      <td>Marruá 2.8 Turbodiesel 4x4</td>\n",
       "      <td>2005</td>\n",
       "      <td>2</td>\n",
       "      <td>0.955923</td>\n",
       "      <td>0.941984</td>\n",
       "      <td>0.916243</td>\n",
       "      <td>2007</td>\n",
       "      <td>1.450379</td>\n",
       "      <td>1.192389</td>\n",
       "    </tr>\n",
       "    <tr>\n",
       "      <th>42535</th>\n",
       "      <td>1165</td>\n",
       "      <td>Agrale</td>\n",
       "      <td>Marruá 2.8 Turbodiesel 4x4</td>\n",
       "      <td>2005</td>\n",
       "      <td>3</td>\n",
       "      <td>0.941984</td>\n",
       "      <td>0.923376</td>\n",
       "      <td>0.922014</td>\n",
       "      <td>2008</td>\n",
       "      <td>1.192389</td>\n",
       "      <td>1.393752</td>\n",
       "    </tr>\n",
       "    <tr>\n",
       "      <th>63238</th>\n",
       "      <td>1165</td>\n",
       "      <td>Agrale</td>\n",
       "      <td>Marruá 2.8 Turbodiesel 4x4</td>\n",
       "      <td>2005</td>\n",
       "      <td>4</td>\n",
       "      <td>0.923376</td>\n",
       "      <td>0.835827</td>\n",
       "      <td>0.930608</td>\n",
       "      <td>2009</td>\n",
       "      <td>1.393752</td>\n",
       "      <td>0.196289</td>\n",
       "    </tr>\n",
       "    <tr>\n",
       "      <th>83941</th>\n",
       "      <td>1165</td>\n",
       "      <td>Agrale</td>\n",
       "      <td>Marruá 2.8 Turbodiesel 4x4</td>\n",
       "      <td>2005</td>\n",
       "      <td>5</td>\n",
       "      <td>0.835827</td>\n",
       "      <td>0.895752</td>\n",
       "      <td>0.941001</td>\n",
       "      <td>2010</td>\n",
       "      <td>0.196289</td>\n",
       "      <td>-0.169465</td>\n",
       "    </tr>\n",
       "    <tr>\n",
       "      <th>...</th>\n",
       "      <td>...</td>\n",
       "      <td>...</td>\n",
       "      <td>...</td>\n",
       "      <td>...</td>\n",
       "      <td>...</td>\n",
       "      <td>...</td>\n",
       "      <td>...</td>\n",
       "      <td>...</td>\n",
       "      <td>...</td>\n",
       "      <td>...</td>\n",
       "      <td>...</td>\n",
       "    </tr>\n",
       "    <tr>\n",
       "      <th>114886</th>\n",
       "      <td>11612</td>\n",
       "      <td>W Motors</td>\n",
       "      <td>Fenyr SuperSport 3.7</td>\n",
       "      <td>2015</td>\n",
       "      <td>6</td>\n",
       "      <td>0.954017</td>\n",
       "      <td>1.016211</td>\n",
       "      <td>0.955932</td>\n",
       "      <td>2021</td>\n",
       "      <td>1.283366</td>\n",
       "      <td>-1.549119</td>\n",
       "    </tr>\n",
       "    <tr>\n",
       "      <th>135589</th>\n",
       "      <td>11612</td>\n",
       "      <td>W Motors</td>\n",
       "      <td>Fenyr SuperSport 3.7</td>\n",
       "      <td>2015</td>\n",
       "      <td>7</td>\n",
       "      <td>1.016211</td>\n",
       "      <td>1.081330</td>\n",
       "      <td>0.960582</td>\n",
       "      <td>2022</td>\n",
       "      <td>-1.549119</td>\n",
       "      <td>0.390098</td>\n",
       "    </tr>\n",
       "    <tr>\n",
       "      <th>135556</th>\n",
       "      <td>11579</td>\n",
       "      <td>W Motors</td>\n",
       "      <td>Lykan HyperSport 3.7</td>\n",
       "      <td>2013</td>\n",
       "      <td>7</td>\n",
       "      <td>0.892993</td>\n",
       "      <td>0.954017</td>\n",
       "      <td>0.960582</td>\n",
       "      <td>2020</td>\n",
       "      <td>-0.419926</td>\n",
       "      <td>1.254181</td>\n",
       "    </tr>\n",
       "    <tr>\n",
       "      <th>156259</th>\n",
       "      <td>11579</td>\n",
       "      <td>W Motors</td>\n",
       "      <td>Lykan HyperSport 3.7</td>\n",
       "      <td>2013</td>\n",
       "      <td>8</td>\n",
       "      <td>0.954017</td>\n",
       "      <td>1.016211</td>\n",
       "      <td>0.970114</td>\n",
       "      <td>2021</td>\n",
       "      <td>1.254181</td>\n",
       "      <td>-1.613198</td>\n",
       "    </tr>\n",
       "    <tr>\n",
       "      <th>176962</th>\n",
       "      <td>11579</td>\n",
       "      <td>W Motors</td>\n",
       "      <td>Lykan HyperSport 3.7</td>\n",
       "      <td>2013</td>\n",
       "      <td>9</td>\n",
       "      <td>1.016211</td>\n",
       "      <td>1.081330</td>\n",
       "      <td>0.978374</td>\n",
       "      <td>2022</td>\n",
       "      <td>-1.613198</td>\n",
       "      <td>0.099680</td>\n",
       "    </tr>\n",
       "  </tbody>\n",
       "</table>\n",
       "<p>87890 rows × 11 columns</p>\n",
       "</div>"
      ],
      "text/plain": [
       "        car_code car_manufacturer                   car_model  car_model_year  \\\n",
       "1129        1165           Agrale  Marruá 2.8 Turbodiesel 4x4            2005   \n",
       "21832       1165           Agrale  Marruá 2.8 Turbodiesel 4x4            2005   \n",
       "42535       1165           Agrale  Marruá 2.8 Turbodiesel 4x4            2005   \n",
       "63238       1165           Agrale  Marruá 2.8 Turbodiesel 4x4            2005   \n",
       "83941       1165           Agrale  Marruá 2.8 Turbodiesel 4x4            2005   \n",
       "...          ...              ...                         ...             ...   \n",
       "114886     11612         W Motors        Fenyr SuperSport 3.7            2015   \n",
       "135589     11612         W Motors        Fenyr SuperSport 3.7            2015   \n",
       "135556     11579         W Motors        Lykan HyperSport 3.7            2013   \n",
       "156259     11579         W Motors        Lykan HyperSport 3.7            2013   \n",
       "176962     11579         W Motors        Lykan HyperSport 3.7            2013   \n",
       "\n",
       "        Year  Price_YoY  Next_YoY_Price  Next_YoY_Pr_Pred  calendar_year  \\\n",
       "1129       1   0.827534        0.955923          0.917069           2006   \n",
       "21832      2   0.955923        0.941984          0.916243           2007   \n",
       "42535      3   0.941984        0.923376          0.922014           2008   \n",
       "63238      4   0.923376        0.835827          0.930608           2009   \n",
       "83941      5   0.835827        0.895752          0.941001           2010   \n",
       "...      ...        ...             ...               ...            ...   \n",
       "114886     6   0.954017        1.016211          0.955932           2021   \n",
       "135589     7   1.016211        1.081330          0.960582           2022   \n",
       "135556     7   0.892993        0.954017          0.960582           2020   \n",
       "156259     8   0.954017        1.016211          0.970114           2021   \n",
       "176962     9   1.016211        1.081330          0.978374           2022   \n",
       "\n",
       "        Price_sd_scaled  Next_Price_sd_scaled  \n",
       "1129           0.126351              1.450379  \n",
       "21832          1.450379              1.192389  \n",
       "42535          1.192389              1.393752  \n",
       "63238          1.393752              0.196289  \n",
       "83941          0.196289             -0.169465  \n",
       "...                 ...                   ...  \n",
       "114886         1.283366             -1.549119  \n",
       "135589        -1.549119              0.390098  \n",
       "135556        -0.419926              1.254181  \n",
       "156259         1.254181             -1.613198  \n",
       "176962        -1.613198              0.099680  \n",
       "\n",
       "[87890 rows x 11 columns]"
      ]
     },
     "execution_count": 129,
     "metadata": {},
     "output_type": "execute_result"
    }
   ],
   "source": [
    "price_df.sort_values(by=[\"car_manufacturer\", \"car_model\", \"car_model_year\" , \"calendar_year\" ])"
   ]
  },
  {
   "cell_type": "code",
   "execution_count": 130,
   "id": "391e7900",
   "metadata": {
    "ExecuteTime": {
     "end_time": "2024-02-07T18:43:22.376888Z",
     "start_time": "2024-02-07T18:43:22.289989Z"
    }
   },
   "outputs": [
    {
     "name": "stderr",
     "output_type": "stream",
     "text": [
      "/tmp/ipykernel_58237/580542901.py:1: UserWarning: Boolean Series key will be reindexed to match DataFrame index.\n",
      "  price_df[price_df[\"car_code\"] == 10123][price_df[\"Year\"] == 1 ]\n"
     ]
    },
    {
     "data": {
      "text/html": [
       "<div>\n",
       "<style scoped>\n",
       "    .dataframe tbody tr th:only-of-type {\n",
       "        vertical-align: middle;\n",
       "    }\n",
       "\n",
       "    .dataframe tbody tr th {\n",
       "        vertical-align: top;\n",
       "    }\n",
       "\n",
       "    .dataframe thead th {\n",
       "        text-align: right;\n",
       "    }\n",
       "</style>\n",
       "<table border=\"1\" class=\"dataframe\">\n",
       "  <thead>\n",
       "    <tr style=\"text-align: right;\">\n",
       "      <th></th>\n",
       "      <th>car_code</th>\n",
       "      <th>car_manufacturer</th>\n",
       "      <th>car_model</th>\n",
       "      <th>car_model_year</th>\n",
       "      <th>Year</th>\n",
       "      <th>Price_YoY</th>\n",
       "      <th>Next_YoY_Price</th>\n",
       "      <th>Next_YoY_Pr_Pred</th>\n",
       "      <th>calendar_year</th>\n",
       "      <th>Price_sd_scaled</th>\n",
       "      <th>Next_Price_sd_scaled</th>\n",
       "    </tr>\n",
       "  </thead>\n",
       "  <tbody>\n",
       "    <tr>\n",
       "      <th>9895</th>\n",
       "      <td>10123</td>\n",
       "      <td>Volvo</td>\n",
       "      <td>XC90 Inscription T8 2.0</td>\n",
       "      <td>2019</td>\n",
       "      <td>1</td>\n",
       "      <td>0.778703</td>\n",
       "      <td>0.887521</td>\n",
       "      <td>0.917069</td>\n",
       "      <td>2020</td>\n",
       "      <td>-0.507204</td>\n",
       "      <td>-0.401075</td>\n",
       "    </tr>\n",
       "  </tbody>\n",
       "</table>\n",
       "</div>"
      ],
      "text/plain": [
       "      car_code car_manufacturer                car_model  car_model_year  \\\n",
       "9895     10123            Volvo  XC90 Inscription T8 2.0            2019   \n",
       "\n",
       "      Year  Price_YoY  Next_YoY_Price  Next_YoY_Pr_Pred  calendar_year  \\\n",
       "9895     1   0.778703        0.887521          0.917069           2020   \n",
       "\n",
       "      Price_sd_scaled  Next_Price_sd_scaled  \n",
       "9895        -0.507204             -0.401075  "
      ]
     },
     "execution_count": 130,
     "metadata": {},
     "output_type": "execute_result"
    }
   ],
   "source": [
    "price_df[price_df[\"car_code\"] == 10123][price_df[\"Year\"] == 1 ]"
   ]
  },
  {
   "cell_type": "code",
   "execution_count": 131,
   "id": "09c18fe0",
   "metadata": {
    "ExecuteTime": {
     "end_time": "2024-02-07T18:43:23.143920Z",
     "start_time": "2024-02-07T18:43:23.118133Z"
    }
   },
   "outputs": [],
   "source": [
    "#X = price_df[['car_manufacturer', 'car_model', 'Year', 'Price_YoY' ]]\n",
    "#y = price_df[[\"Next_YoY_Price\"]]\n",
    "\n",
    "X = price_df[['car_manufacturer', 'car_model', 'Year', 'Price_sd_scaled' ]]\n",
    "y = price_df[[\"Next_Price_sd_scaled\"]]\n",
    "\n"
   ]
  },
  {
   "cell_type": "code",
   "execution_count": 132,
   "id": "7dbcfedf",
   "metadata": {
    "ExecuteTime": {
     "end_time": "2024-02-07T18:43:24.700951Z",
     "start_time": "2024-02-07T18:43:24.691627Z"
    }
   },
   "outputs": [],
   "source": [
    "import numpy as np\n",
    "from sklearn.model_selection import train_test_split"
   ]
  },
  {
   "cell_type": "code",
   "execution_count": 133,
   "id": "4352c495",
   "metadata": {
    "ExecuteTime": {
     "end_time": "2024-02-07T18:43:25.379308Z",
     "start_time": "2024-02-07T18:43:25.298984Z"
    }
   },
   "outputs": [],
   "source": [
    "X_train, X_test, y_train, y_test = train_test_split(X, y, test_size=0.3, random_state=42)"
   ]
  },
  {
   "cell_type": "code",
   "execution_count": null,
   "id": "680de26b",
   "metadata": {
    "ExecuteTime": {
     "end_time": "2024-02-07T16:53:37.642201Z",
     "start_time": "2024-02-07T16:53:37.294438Z"
    }
   },
   "outputs": [],
   "source": []
  },
  {
   "cell_type": "code",
   "execution_count": null,
   "id": "2a495abb",
   "metadata": {
    "ExecuteTime": {
     "end_time": "2024-02-07T16:53:44.083115Z",
     "start_time": "2024-02-07T16:53:44.015402Z"
    }
   },
   "outputs": [],
   "source": []
  },
  {
   "cell_type": "code",
   "execution_count": 134,
   "id": "c5eae425",
   "metadata": {
    "ExecuteTime": {
     "end_time": "2024-02-07T18:43:29.378802Z",
     "start_time": "2024-02-07T18:43:29.365476Z"
    }
   },
   "outputs": [],
   "source": [
    "from sklearn.compose import ColumnTransformer\n",
    "\n",
    "from sklearn.pipeline import Pipeline\n",
    "from sklearn.impute import SimpleImputer\n",
    "from sklearn.preprocessing import StandardScaler\n",
    "\n",
    "from sklearn.preprocessing import OneHotEncoder"
   ]
  },
  {
   "cell_type": "code",
   "execution_count": 135,
   "id": "d8f4f2a0",
   "metadata": {
    "ExecuteTime": {
     "end_time": "2024-02-07T18:43:30.173651Z",
     "start_time": "2024-02-07T18:43:30.163598Z"
    }
   },
   "outputs": [],
   "source": [
    "def take_first_word(word):\n",
    "    return word.split(\" \")[0]\n",
    "    "
   ]
  },
  {
   "cell_type": "code",
   "execution_count": 136,
   "id": "75a3312b",
   "metadata": {
    "ExecuteTime": {
     "end_time": "2024-02-07T18:43:31.263671Z",
     "start_time": "2024-02-07T18:43:31.244290Z"
    }
   },
   "outputs": [],
   "source": [
    "def take_first_word(word):\n",
    "    return word.split(\" \")[0]\n",
    "\n",
    "\n",
    "\n",
    "# Impute then scale numerical values:\n",
    "num_transformer = Pipeline([\n",
    "    ('imputer', SimpleImputer(strategy=\"mean\"))\n",
    "    #,('standard_scaler', StandardScaler())\n",
    "])\n",
    "\n",
    "# Encode categorical values\n",
    "cat_transformer = OneHotEncoder(handle_unknown='ignore', sparse_output=False)\n",
    "\n",
    "\n",
    "\n",
    "\n",
    "# Parallelize \"num_transformer\" and \"cat_transfomer\"\n",
    "preprocessor = ColumnTransformer([\n",
    "    ('cat_transformer', cat_transformer, ['car_manufacturer', \"car_model_small\"]), #, 'car_model'  --> was removed\n",
    "    #('num_transformer', num_transformer, [ 'Year','Price_YoY']) \n",
    "    ('num_transformer', num_transformer, [ 'Year','Price_sd_scaled']) \n",
    "])\n",
    "\n"
   ]
  },
  {
   "cell_type": "code",
   "execution_count": 137,
   "id": "07d52948",
   "metadata": {
    "ExecuteTime": {
     "end_time": "2024-02-07T18:43:32.385247Z",
     "start_time": "2024-02-07T18:43:32.324322Z"
    }
   },
   "outputs": [
    {
     "data": {
      "text/html": [
       "<style>#sk-container-id-12 {color: black;}#sk-container-id-12 pre{padding: 0;}#sk-container-id-12 div.sk-toggleable {background-color: white;}#sk-container-id-12 label.sk-toggleable__label {cursor: pointer;display: block;width: 100%;margin-bottom: 0;padding: 0.3em;box-sizing: border-box;text-align: center;}#sk-container-id-12 label.sk-toggleable__label-arrow:before {content: \"▸\";float: left;margin-right: 0.25em;color: #696969;}#sk-container-id-12 label.sk-toggleable__label-arrow:hover:before {color: black;}#sk-container-id-12 div.sk-estimator:hover label.sk-toggleable__label-arrow:before {color: black;}#sk-container-id-12 div.sk-toggleable__content {max-height: 0;max-width: 0;overflow: hidden;text-align: left;background-color: #f0f8ff;}#sk-container-id-12 div.sk-toggleable__content pre {margin: 0.2em;color: black;border-radius: 0.25em;background-color: #f0f8ff;}#sk-container-id-12 input.sk-toggleable__control:checked~div.sk-toggleable__content {max-height: 200px;max-width: 100%;overflow: auto;}#sk-container-id-12 input.sk-toggleable__control:checked~label.sk-toggleable__label-arrow:before {content: \"▾\";}#sk-container-id-12 div.sk-estimator input.sk-toggleable__control:checked~label.sk-toggleable__label {background-color: #d4ebff;}#sk-container-id-12 div.sk-label input.sk-toggleable__control:checked~label.sk-toggleable__label {background-color: #d4ebff;}#sk-container-id-12 input.sk-hidden--visually {border: 0;clip: rect(1px 1px 1px 1px);clip: rect(1px, 1px, 1px, 1px);height: 1px;margin: -1px;overflow: hidden;padding: 0;position: absolute;width: 1px;}#sk-container-id-12 div.sk-estimator {font-family: monospace;background-color: #f0f8ff;border: 1px dotted black;border-radius: 0.25em;box-sizing: border-box;margin-bottom: 0.5em;}#sk-container-id-12 div.sk-estimator:hover {background-color: #d4ebff;}#sk-container-id-12 div.sk-parallel-item::after {content: \"\";width: 100%;border-bottom: 1px solid gray;flex-grow: 1;}#sk-container-id-12 div.sk-label:hover label.sk-toggleable__label {background-color: #d4ebff;}#sk-container-id-12 div.sk-serial::before {content: \"\";position: absolute;border-left: 1px solid gray;box-sizing: border-box;top: 0;bottom: 0;left: 50%;z-index: 0;}#sk-container-id-12 div.sk-serial {display: flex;flex-direction: column;align-items: center;background-color: white;padding-right: 0.2em;padding-left: 0.2em;position: relative;}#sk-container-id-12 div.sk-item {position: relative;z-index: 1;}#sk-container-id-12 div.sk-parallel {display: flex;align-items: stretch;justify-content: center;background-color: white;position: relative;}#sk-container-id-12 div.sk-item::before, #sk-container-id-12 div.sk-parallel-item::before {content: \"\";position: absolute;border-left: 1px solid gray;box-sizing: border-box;top: 0;bottom: 0;left: 50%;z-index: -1;}#sk-container-id-12 div.sk-parallel-item {display: flex;flex-direction: column;z-index: 1;position: relative;background-color: white;}#sk-container-id-12 div.sk-parallel-item:first-child::after {align-self: flex-end;width: 50%;}#sk-container-id-12 div.sk-parallel-item:last-child::after {align-self: flex-start;width: 50%;}#sk-container-id-12 div.sk-parallel-item:only-child::after {width: 0;}#sk-container-id-12 div.sk-dashed-wrapped {border: 1px dashed gray;margin: 0 0.4em 0.5em 0.4em;box-sizing: border-box;padding-bottom: 0.4em;background-color: white;}#sk-container-id-12 div.sk-label label {font-family: monospace;font-weight: bold;display: inline-block;line-height: 1.2em;}#sk-container-id-12 div.sk-label-container {text-align: center;}#sk-container-id-12 div.sk-container {/* jupyter's `normalize.less` sets `[hidden] { display: none; }` but bootstrap.min.css set `[hidden] { display: none !important; }` so we also need the `!important` here to be able to override the default hidden behavior on the sphinx rendered scikit-learn.org. See: https://github.com/scikit-learn/scikit-learn/issues/21755 */display: inline-block !important;position: relative;}#sk-container-id-12 div.sk-text-repr-fallback {display: none;}</style><div id=\"sk-container-id-12\" class=\"sk-top-container\"><div class=\"sk-text-repr-fallback\"><pre>ColumnTransformer(transformers=[(&#x27;cat_transformer&#x27;,\n",
       "                                 OneHotEncoder(handle_unknown=&#x27;ignore&#x27;,\n",
       "                                               sparse_output=False),\n",
       "                                 [&#x27;car_manufacturer&#x27;, &#x27;car_model_small&#x27;]),\n",
       "                                (&#x27;num_transformer&#x27;,\n",
       "                                 Pipeline(steps=[(&#x27;imputer&#x27;, SimpleImputer())]),\n",
       "                                 [&#x27;Year&#x27;, &#x27;Price_sd_scaled&#x27;])])</pre><b>In a Jupyter environment, please rerun this cell to show the HTML representation or trust the notebook. <br />On GitHub, the HTML representation is unable to render, please try loading this page with nbviewer.org.</b></div><div class=\"sk-container\" hidden><div class=\"sk-item sk-dashed-wrapped\"><div class=\"sk-label-container\"><div class=\"sk-label sk-toggleable\"><input class=\"sk-toggleable__control sk-hidden--visually\" id=\"sk-estimator-id-51\" type=\"checkbox\" ><label for=\"sk-estimator-id-51\" class=\"sk-toggleable__label sk-toggleable__label-arrow\">ColumnTransformer</label><div class=\"sk-toggleable__content\"><pre>ColumnTransformer(transformers=[(&#x27;cat_transformer&#x27;,\n",
       "                                 OneHotEncoder(handle_unknown=&#x27;ignore&#x27;,\n",
       "                                               sparse_output=False),\n",
       "                                 [&#x27;car_manufacturer&#x27;, &#x27;car_model_small&#x27;]),\n",
       "                                (&#x27;num_transformer&#x27;,\n",
       "                                 Pipeline(steps=[(&#x27;imputer&#x27;, SimpleImputer())]),\n",
       "                                 [&#x27;Year&#x27;, &#x27;Price_sd_scaled&#x27;])])</pre></div></div></div><div class=\"sk-parallel\"><div class=\"sk-parallel-item\"><div class=\"sk-item\"><div class=\"sk-label-container\"><div class=\"sk-label sk-toggleable\"><input class=\"sk-toggleable__control sk-hidden--visually\" id=\"sk-estimator-id-52\" type=\"checkbox\" ><label for=\"sk-estimator-id-52\" class=\"sk-toggleable__label sk-toggleable__label-arrow\">cat_transformer</label><div class=\"sk-toggleable__content\"><pre>[&#x27;car_manufacturer&#x27;, &#x27;car_model_small&#x27;]</pre></div></div></div><div class=\"sk-serial\"><div class=\"sk-item\"><div class=\"sk-estimator sk-toggleable\"><input class=\"sk-toggleable__control sk-hidden--visually\" id=\"sk-estimator-id-53\" type=\"checkbox\" ><label for=\"sk-estimator-id-53\" class=\"sk-toggleable__label sk-toggleable__label-arrow\">OneHotEncoder</label><div class=\"sk-toggleable__content\"><pre>OneHotEncoder(handle_unknown=&#x27;ignore&#x27;, sparse_output=False)</pre></div></div></div></div></div></div><div class=\"sk-parallel-item\"><div class=\"sk-item\"><div class=\"sk-label-container\"><div class=\"sk-label sk-toggleable\"><input class=\"sk-toggleable__control sk-hidden--visually\" id=\"sk-estimator-id-54\" type=\"checkbox\" ><label for=\"sk-estimator-id-54\" class=\"sk-toggleable__label sk-toggleable__label-arrow\">num_transformer</label><div class=\"sk-toggleable__content\"><pre>[&#x27;Year&#x27;, &#x27;Price_sd_scaled&#x27;]</pre></div></div></div><div class=\"sk-serial\"><div class=\"sk-item\"><div class=\"sk-serial\"><div class=\"sk-item\"><div class=\"sk-estimator sk-toggleable\"><input class=\"sk-toggleable__control sk-hidden--visually\" id=\"sk-estimator-id-55\" type=\"checkbox\" ><label for=\"sk-estimator-id-55\" class=\"sk-toggleable__label sk-toggleable__label-arrow\">SimpleImputer</label><div class=\"sk-toggleable__content\"><pre>SimpleImputer()</pre></div></div></div></div></div></div></div></div></div></div></div></div>"
      ],
      "text/plain": [
       "ColumnTransformer(transformers=[('cat_transformer',\n",
       "                                 OneHotEncoder(handle_unknown='ignore',\n",
       "                                               sparse_output=False),\n",
       "                                 ['car_manufacturer', 'car_model_small']),\n",
       "                                ('num_transformer',\n",
       "                                 Pipeline(steps=[('imputer', SimpleImputer())]),\n",
       "                                 ['Year', 'Price_sd_scaled'])])"
      ]
     },
     "execution_count": 137,
     "metadata": {},
     "output_type": "execute_result"
    }
   ],
   "source": [
    "from sklearn import set_config; set_config(display='diagram')\n",
    "preprocessor"
   ]
  },
  {
   "cell_type": "code",
   "execution_count": 138,
   "id": "59d03f23",
   "metadata": {
    "ExecuteTime": {
     "end_time": "2024-02-07T18:43:36.228282Z",
     "start_time": "2024-02-07T18:43:32.959578Z"
    },
    "scrolled": true
   },
   "outputs": [],
   "source": [
    "X_train[\"car_model_small\"] = X_train[\"car_model\"].map(take_first_word)\n",
    "\n",
    "X_train_transformed = preprocessor.fit_transform(X_train)"
   ]
  },
  {
   "cell_type": "code",
   "execution_count": 139,
   "id": "b4ed6a31",
   "metadata": {
    "ExecuteTime": {
     "end_time": "2024-02-07T18:43:36.255559Z",
     "start_time": "2024-02-07T18:43:36.236895Z"
    }
   },
   "outputs": [
    {
     "data": {
      "text/plain": [
       "(61523, 795)"
      ]
     },
     "execution_count": 139,
     "metadata": {},
     "output_type": "execute_result"
    }
   ],
   "source": [
    "X_train_transformed.shape"
   ]
  },
  {
   "cell_type": "code",
   "execution_count": 140,
   "id": "121ab766",
   "metadata": {
    "ExecuteTime": {
     "end_time": "2024-02-07T18:43:37.999629Z",
     "start_time": "2024-02-07T18:43:37.990772Z"
    }
   },
   "outputs": [],
   "source": [
    "from sklearn.linear_model import LinearRegression"
   ]
  },
  {
   "cell_type": "code",
   "execution_count": 141,
   "id": "359df2db",
   "metadata": {
    "ExecuteTime": {
     "end_time": "2024-02-07T18:44:09.495380Z",
     "start_time": "2024-02-07T18:43:38.481918Z"
    }
   },
   "outputs": [
    {
     "data": {
      "text/html": [
       "<style>#sk-container-id-13 {color: black;}#sk-container-id-13 pre{padding: 0;}#sk-container-id-13 div.sk-toggleable {background-color: white;}#sk-container-id-13 label.sk-toggleable__label {cursor: pointer;display: block;width: 100%;margin-bottom: 0;padding: 0.3em;box-sizing: border-box;text-align: center;}#sk-container-id-13 label.sk-toggleable__label-arrow:before {content: \"▸\";float: left;margin-right: 0.25em;color: #696969;}#sk-container-id-13 label.sk-toggleable__label-arrow:hover:before {color: black;}#sk-container-id-13 div.sk-estimator:hover label.sk-toggleable__label-arrow:before {color: black;}#sk-container-id-13 div.sk-toggleable__content {max-height: 0;max-width: 0;overflow: hidden;text-align: left;background-color: #f0f8ff;}#sk-container-id-13 div.sk-toggleable__content pre {margin: 0.2em;color: black;border-radius: 0.25em;background-color: #f0f8ff;}#sk-container-id-13 input.sk-toggleable__control:checked~div.sk-toggleable__content {max-height: 200px;max-width: 100%;overflow: auto;}#sk-container-id-13 input.sk-toggleable__control:checked~label.sk-toggleable__label-arrow:before {content: \"▾\";}#sk-container-id-13 div.sk-estimator input.sk-toggleable__control:checked~label.sk-toggleable__label {background-color: #d4ebff;}#sk-container-id-13 div.sk-label input.sk-toggleable__control:checked~label.sk-toggleable__label {background-color: #d4ebff;}#sk-container-id-13 input.sk-hidden--visually {border: 0;clip: rect(1px 1px 1px 1px);clip: rect(1px, 1px, 1px, 1px);height: 1px;margin: -1px;overflow: hidden;padding: 0;position: absolute;width: 1px;}#sk-container-id-13 div.sk-estimator {font-family: monospace;background-color: #f0f8ff;border: 1px dotted black;border-radius: 0.25em;box-sizing: border-box;margin-bottom: 0.5em;}#sk-container-id-13 div.sk-estimator:hover {background-color: #d4ebff;}#sk-container-id-13 div.sk-parallel-item::after {content: \"\";width: 100%;border-bottom: 1px solid gray;flex-grow: 1;}#sk-container-id-13 div.sk-label:hover label.sk-toggleable__label {background-color: #d4ebff;}#sk-container-id-13 div.sk-serial::before {content: \"\";position: absolute;border-left: 1px solid gray;box-sizing: border-box;top: 0;bottom: 0;left: 50%;z-index: 0;}#sk-container-id-13 div.sk-serial {display: flex;flex-direction: column;align-items: center;background-color: white;padding-right: 0.2em;padding-left: 0.2em;position: relative;}#sk-container-id-13 div.sk-item {position: relative;z-index: 1;}#sk-container-id-13 div.sk-parallel {display: flex;align-items: stretch;justify-content: center;background-color: white;position: relative;}#sk-container-id-13 div.sk-item::before, #sk-container-id-13 div.sk-parallel-item::before {content: \"\";position: absolute;border-left: 1px solid gray;box-sizing: border-box;top: 0;bottom: 0;left: 50%;z-index: -1;}#sk-container-id-13 div.sk-parallel-item {display: flex;flex-direction: column;z-index: 1;position: relative;background-color: white;}#sk-container-id-13 div.sk-parallel-item:first-child::after {align-self: flex-end;width: 50%;}#sk-container-id-13 div.sk-parallel-item:last-child::after {align-self: flex-start;width: 50%;}#sk-container-id-13 div.sk-parallel-item:only-child::after {width: 0;}#sk-container-id-13 div.sk-dashed-wrapped {border: 1px dashed gray;margin: 0 0.4em 0.5em 0.4em;box-sizing: border-box;padding-bottom: 0.4em;background-color: white;}#sk-container-id-13 div.sk-label label {font-family: monospace;font-weight: bold;display: inline-block;line-height: 1.2em;}#sk-container-id-13 div.sk-label-container {text-align: center;}#sk-container-id-13 div.sk-container {/* jupyter's `normalize.less` sets `[hidden] { display: none; }` but bootstrap.min.css set `[hidden] { display: none !important; }` so we also need the `!important` here to be able to override the default hidden behavior on the sphinx rendered scikit-learn.org. See: https://github.com/scikit-learn/scikit-learn/issues/21755 */display: inline-block !important;position: relative;}#sk-container-id-13 div.sk-text-repr-fallback {display: none;}</style><div id=\"sk-container-id-13\" class=\"sk-top-container\"><div class=\"sk-text-repr-fallback\"><pre>LinearRegression()</pre><b>In a Jupyter environment, please rerun this cell to show the HTML representation or trust the notebook. <br />On GitHub, the HTML representation is unable to render, please try loading this page with nbviewer.org.</b></div><div class=\"sk-container\" hidden><div class=\"sk-item\"><div class=\"sk-estimator sk-toggleable\"><input class=\"sk-toggleable__control sk-hidden--visually\" id=\"sk-estimator-id-56\" type=\"checkbox\" checked><label for=\"sk-estimator-id-56\" class=\"sk-toggleable__label sk-toggleable__label-arrow\">LinearRegression</label><div class=\"sk-toggleable__content\"><pre>LinearRegression()</pre></div></div></div></div></div>"
      ],
      "text/plain": [
       "LinearRegression()"
      ]
     },
     "execution_count": 141,
     "metadata": {},
     "output_type": "execute_result"
    }
   ],
   "source": [
    "model = LinearRegression()\n",
    "model.fit(X_train_transformed, y_train)"
   ]
  },
  {
   "cell_type": "code",
   "execution_count": 142,
   "id": "67d1fde2",
   "metadata": {
    "ExecuteTime": {
     "end_time": "2024-02-07T18:44:12.254871Z",
     "start_time": "2024-02-07T18:44:12.185709Z"
    }
   },
   "outputs": [
    {
     "data": {
      "text/plain": [
       "array([[-4.38695329e+11, -1.77154064e+11, -1.02625385e+11,\n",
       "        -8.38634006e+10, -1.66770734e+11, -2.15197348e+11,\n",
       "        -1.76482246e+11, -1.52870085e+11, -1.43384381e+11,\n",
       "        -1.56472957e+11, -9.87969099e+10, -1.79028491e+11,\n",
       "        -1.32994517e+11, -1.14646905e+11, -1.46931317e+11,\n",
       "        -2.51353618e+11, -2.51353618e+11, -1.23289597e+11,\n",
       "        -1.63645786e+11, -1.64456613e+11, -1.55140011e+11,\n",
       "        -1.21979046e+11, -2.20545355e+11, -1.79028491e+11,\n",
       "         7.87232287e+10, -1.63645786e+11, -1.29194734e+11,\n",
       "        -8.38634006e+10, -1.02074146e+11,  9.44682251e+11,\n",
       "        -1.41372877e+11,  7.87232287e+10, -1.29714240e+11,\n",
       "        -8.42284042e+10, -1.92917115e+11, -9.95186008e+10,\n",
       "        -1.81608830e+11, -2.51353618e+11, -8.38634006e+10,\n",
       "        -9.59776514e+10, -1.98103720e+11, -1.73567625e+11,\n",
       "        -9.53234537e+10, -1.68220280e+11, -8.87220856e+11,\n",
       "        -1.74141719e+11, -1.55127277e+11,  7.87232287e+10,\n",
       "        -1.61395419e+11, -1.79028491e+11, -4.57787807e+10,\n",
       "         7.87232287e+10, -1.68311182e+11, -1.63645786e+11,\n",
       "        -1.63645786e+11,  3.31669073e+11, -2.37632695e+11,\n",
       "        -6.67349397e+11, -1.19420986e+11, -3.03174938e+11,\n",
       "        -1.07534515e+11, -9.89098472e+11, -1.67843583e+11,\n",
       "        -2.37632695e+11, -2.51353618e+11, -1.58712652e+11,\n",
       "        -1.00874070e+11, -2.15197348e+11, -1.37936976e+11,\n",
       "        -2.37632695e+11, -2.31320693e+11, -2.51228211e+11,\n",
       "        -7.52360542e+11, -2.51353618e+11, -8.44639522e+10,\n",
       "        -9.31932885e+10, -6.45379645e+10, -3.11113217e+11,\n",
       "        -2.37632695e+11, -6.73312064e+11, -1.27825086e+11,\n",
       "         1.07777273e+11, -1.89154196e+10, -1.89154196e+10,\n",
       "        -1.89154196e+10, -1.89154196e+10, -3.17518792e+10,\n",
       "        -1.89154196e+10, -1.89154196e+10, -1.89154196e+10,\n",
       "        -1.82436015e+10, -1.82436015e+10, -2.75540822e+10,\n",
       "        -1.82436015e+10, -1.82436015e+10, -1.82436015e+10,\n",
       "        -1.82436015e+10, -3.17518792e+10,  5.59559529e+10,\n",
       "         1.07777273e+11,  1.07777273e+11,  1.07777273e+11,\n",
       "         1.07777273e+11,  1.07777273e+11, -1.89154196e+10,\n",
       "        -1.89154196e+10, -1.89154196e+10, -1.89154196e+10,\n",
       "        -1.89154196e+10, -2.75540822e+10,  1.07777273e+11,\n",
       "         5.59559529e+10,  5.59559529e+10,  4.71951732e+11,\n",
       "         1.07777273e+11,  1.07777273e+11,  1.07777273e+11,\n",
       "        -1.89154196e+10, -1.89154196e+10, -1.89154196e+10,\n",
       "        -4.02703878e+10, -2.74120894e+11, -1.89154196e+10,\n",
       "        -1.89154196e+10, -1.89154196e+10, -1.89154196e+10,\n",
       "        -1.89154196e+10, -1.89154196e+10, -1.89154196e+10,\n",
       "        -1.89154196e+10, -1.89154196e+10,  4.71951732e+11,\n",
       "        -1.63691744e+10, -1.63691744e+10,  4.71951732e+11,\n",
       "         1.07777273e+11,  1.07777273e+11,  1.07777273e+11,\n",
       "         1.07777273e+11, -1.89154196e+10, -1.89154196e+10,\n",
       "        -1.89154196e+10, -1.89154196e+10, -1.63691744e+10,\n",
       "        -1.63691744e+10, -1.63691744e+10, -2.74120894e+11,\n",
       "         1.07777273e+11,  1.07777273e+11,  1.07777273e+11,\n",
       "        -1.89154196e+10, -1.89154196e+10, -4.02703878e+10,\n",
       "        -1.89154196e+10, -1.89154196e+10, -1.89154196e+10,\n",
       "        -3.17518792e+10, -1.89154196e+10, -1.89154196e+10,\n",
       "        -1.63691744e+10, -1.89154196e+10, -3.17518792e+10,\n",
       "        -1.63691744e+10, -1.63691744e+10, -1.63691744e+10,\n",
       "        -3.17518792e+10,  1.07777273e+11, -1.63691744e+10,\n",
       "        -4.02703878e+10, -2.70864835e+10, -1.89154196e+10,\n",
       "        -1.89154196e+10, -3.17518792e+10, -1.89154196e+10,\n",
       "        -3.17518792e+10, -1.89154196e+10, -1.89154196e+10,\n",
       "        -1.89154196e+10, -1.89154196e+10, -1.89154196e+10,\n",
       "        -3.17518792e+10,  1.97996830e+10,  1.07777273e+11,\n",
       "         1.07777273e+11, -1.63691744e+10,  4.77914399e+11,\n",
       "        -1.89154196e+10,  7.93700806e+11,  7.93700806e+11,\n",
       "         1.97996830e+10, -3.17518792e+10, -3.17518792e+10,\n",
       "         1.97996830e+10, -3.17518792e+10,  1.97996830e+10,\n",
       "        -3.17518792e+10,  1.97996830e+10,  1.97996830e+10,\n",
       "         1.97996830e+10,  1.97996830e+10,  4.22350300e+10,\n",
       "        -3.89247083e+10, -2.74120894e+11, -1.14007992e+12,\n",
       "         5.58305460e+10, -2.18300402e+10,  5.59559529e+10,\n",
       "        -7.21080682e+10,  4.22350300e+10,  4.71951732e+11,\n",
       "         4.22350300e+10,  4.22350300e+10, -2.74120894e+11,\n",
       "        -4.84663483e+10,  5.59559529e+10, -9.27722800e+10,\n",
       "        -2.74120894e+11, -2.71773848e+10, -2.74120894e+11,\n",
       "        -2.70864835e+10, -3.17518792e+10, -3.17518792e+10,\n",
       "        -3.17518792e+10,  5.59559529e+10, -1.30859701e+11,\n",
       "        -4.25275802e+10, -7.21080682e+10,  2.70605462e+09,\n",
       "         5.59559529e+10,  2.70605462e+09,  4.22350300e+10,\n",
       "         1.07777273e+11,  7.93700806e+11, -2.74120894e+11,\n",
       "        -2.74120894e+11, -3.17518792e+10, -3.17518792e+10,\n",
       "        -3.17518792e+10, -3.17518792e+10, -3.17518792e+10,\n",
       "        -3.17518792e+10, -3.17518792e+10, -7.21080682e+10,\n",
       "         4.77914399e+11, -3.17518792e+10, -3.17518792e+10,\n",
       "        -3.17518792e+10, -7.21080682e+10, -3.17518792e+10,\n",
       "        -3.17518792e+10, -7.21080682e+10, -3.17518792e+10,\n",
       "        -7.21080682e+10, -3.17518792e+10,  4.77914399e+11,\n",
       "        -7.21080682e+10,  4.22350300e+10, -2.18300402e+10,\n",
       "        -2.18300402e+10, -3.17518792e+10, -3.17518792e+10,\n",
       "        -3.17518792e+10, -3.17518792e+10, -3.17518792e+10,\n",
       "        -1.14007992e+12, -2.12559463e+10, -3.89247083e+10,\n",
       "         2.70605462e+09,  5.59559529e+10, -1.63691744e+10,\n",
       "         5.59559529e+10, -1.30859701e+11,  5.59559529e+10,\n",
       "         5.59559529e+10,  5.59559529e+10,  4.22350300e+10,\n",
       "         2.70605462e+09, -6.24031479e+10,  2.70605462e+09,\n",
       "         7.93700806e+11,  7.93700806e+11, -4.84663483e+10,\n",
       "         5.59559529e+10, -2.71773848e+10,  2.70605462e+09,\n",
       "        -7.34186193e+10, -7.34186193e+10,  5.59559529e+10,\n",
       "        -4.84663483e+10, -1.14007992e+12, -1.14007992e+12,\n",
       "         2.70605462e+09, -3.17518792e+10,  5.59559529e+10,\n",
       "         5.59559529e+10, -5.27066738e+11,  5.59559529e+10,\n",
       "         4.22350300e+10,  5.59559529e+10,  5.59559529e+10,\n",
       "        -4.25275802e+10, -5.27066738e+11, -5.74606891e+10,\n",
       "        -1.30859701e+11, -1.30859701e+11,  5.59559529e+10,\n",
       "         5.59559529e+10, -5.27066738e+11, -2.74120894e+11,\n",
       "        -3.17518792e+10, -2.74120894e+11, -2.74120894e+11,\n",
       "         4.22350300e+10,  5.59559529e+10, -3.66850133e+10,\n",
       "        -4.02576544e+10,  5.59559529e+10, -2.86269315e+10,\n",
       "        -2.86269315e+10, -2.86269315e+10, -2.86269315e+10,\n",
       "        -7.21080682e+10, -7.21080682e+10, -7.21080682e+10,\n",
       "        -1.11169261e+11, -7.34186193e+10, -3.66850133e+10,\n",
       "         6.91823191e+11,  4.22350300e+10,  6.91823191e+11,\n",
       "        -5.20132848e+10, -2.74120894e+11, -2.74120894e+11,\n",
       "        -7.34186193e+10,  5.59559529e+10, -1.37888356e+10,\n",
       "         1.97996830e+10, -3.17518792e+10, -3.17518792e+10,\n",
       "        -3.17518792e+10, -3.17518792e+10, -3.17518792e+10,\n",
       "        -3.17518792e+10, -3.17518792e+10, -3.17518792e+10,\n",
       "        -3.17518792e+10, -3.17518792e+10, -3.17518792e+10,\n",
       "        -6.62029313e+10, -3.17518792e+10, -2.12559463e+10,\n",
       "        -2.12559463e+10, -2.12559463e+10, -2.12559463e+10,\n",
       "         4.22350300e+10, -3.17518792e+10, -3.17518792e+10,\n",
       "        -2.74120894e+11, -3.40022466e+10,  4.22350300e+10,\n",
       "         5.59559529e+10, -2.74120894e+11, -3.89247083e+10,\n",
       "        -3.17518792e+10, -3.09410523e+10, -3.40022466e+10,\n",
       "        -1.30859701e+11,  4.22350300e+10, -7.21080682e+10,\n",
       "         6.91823191e+11, -3.40022466e+10, -3.40022466e+10,\n",
       "         1.07777273e+11, -3.17518792e+10,  5.59559529e+10,\n",
       "        -3.17518792e+10, -3.17518792e+10, -3.17518792e+10,\n",
       "        -1.37888356e+10, -1.37888356e+10, -1.63691744e+10,\n",
       "        -1.63691744e+10, -1.63691744e+10, -1.63691744e+10,\n",
       "        -1.63691744e+10, -1.30859701e+11, -6.56834256e+10,\n",
       "        -6.56834256e+10, -4.84663483e+10, -6.24031479e+10,\n",
       "        -6.75725792e+10, -4.02576544e+10, -1.30859701e+11,\n",
       "        -3.17518792e+10, -2.74120894e+11, -1.14007992e+12,\n",
       "         5.59559529e+10, -4.25275802e+10, -3.17518792e+10,\n",
       "        -4.02703878e+10,  3.59230280e+10,  5.56962877e+11,\n",
       "         4.22350300e+10,  6.91823191e+11, -2.74120894e+11,\n",
       "         4.71951732e+11,  4.22350300e+10, -3.17518792e+10,\n",
       "        -3.17518792e+10, -6.62029313e+10, -3.17518792e+10,\n",
       "        -3.17518792e+10, -3.17518792e+10, -3.17518792e+10,\n",
       "        -3.17518792e+10, -3.17518792e+10, -3.17518792e+10,\n",
       "        -3.17518792e+10,  4.71951732e+11, -1.63691744e+10,\n",
       "         4.22350300e+10, -2.71773848e+10, -2.74120894e+11,\n",
       "        -2.18300402e+10, -2.74120894e+11, -2.74120894e+11,\n",
       "        -3.66850133e+10,  4.22350300e+10,  4.22350300e+10,\n",
       "        -4.02576544e+10, -2.74120894e+11, -2.74120894e+11,\n",
       "         5.59559529e+10,  4.22350300e+10, -2.74120894e+11,\n",
       "        -2.74120894e+11, -5.40247886e+10, -5.40247886e+10,\n",
       "        -5.40247886e+10, -2.74120894e+11, -2.74120894e+11,\n",
       "        -2.74120894e+11, -2.74120894e+11, -1.14007992e+12,\n",
       "        -1.30859701e+11,  1.07777273e+11, -7.59766794e+10,\n",
       "        -2.71773848e+10, -1.37888356e+10, -2.12559463e+10,\n",
       "        -2.12559463e+10, -5.74606891e+10, -2.74120894e+11,\n",
       "         5.59559529e+10,  5.56962877e+11, -5.74606891e+10,\n",
       "        -2.48055035e+09, -2.48055035e+09, -2.48055035e+09,\n",
       "        -2.48055035e+09, -2.18300402e+10,  4.22350300e+10,\n",
       "         5.59559529e+10, -7.34186193e+10,  5.59559529e+10,\n",
       "        -7.21080682e+10, -7.21080682e+10,  2.51476898e+10,\n",
       "         2.51476898e+10, -3.17518792e+10,  5.59559529e+10,\n",
       "         5.59559529e+10,  4.71951732e+11,  4.22350300e+10,\n",
       "         5.58305460e+10,  2.70605462e+09,  5.59559529e+10,\n",
       "         5.58305460e+10,  4.22350300e+10, -2.12559463e+10,\n",
       "        -2.12559463e+10, -2.12559463e+10, -2.12559463e+10,\n",
       "        -1.63691744e+10,  5.59559529e+10, -1.00074212e+11,\n",
       "         4.22350300e+10, -1.30859701e+11, -3.09410523e+10,\n",
       "         4.71951732e+11,  5.56962877e+11, -3.09410523e+10,\n",
       "        -2.74120894e+11, -2.74120894e+11,  4.22350300e+10,\n",
       "         4.71951732e+11,  5.59559529e+10,  4.22350300e+10,\n",
       "        -6.75725792e+10, -1.89154196e+10,  2.51476898e+10,\n",
       "        -1.89154196e+10, -1.89154196e+10, -1.89154196e+10,\n",
       "        -1.89154196e+10, -1.89154196e+10, -2.74120894e+11,\n",
       "        -3.17518792e+10, -2.70864835e+10, -2.70864835e+10,\n",
       "        -2.70864835e+10,  7.93700806e+11,  2.70605462e+09,\n",
       "         5.59559529e+10,  4.71951732e+11, -2.74120894e+11,\n",
       "         2.43297664e+11,  5.59559529e+10, -2.74120894e+11,\n",
       "         4.71951732e+11,  5.59559529e+10,  5.59559529e+10,\n",
       "        -8.07507602e+10, -2.74120894e+11, -1.02204377e+11,\n",
       "         2.70605462e+09, -3.17518792e+10,  5.59559529e+10,\n",
       "        -9.58790644e+10,  5.59559529e+10, -4.25275802e+10,\n",
       "         4.71951732e+11, -2.71773848e+10,  5.58305460e+10,\n",
       "        -3.17518792e+10, -1.14007992e+12, -2.12559463e+10,\n",
       "        -2.12559463e+10, -2.12559463e+10,  5.59559529e+10,\n",
       "         4.22350300e+10,  4.22350300e+10, -3.09410523e+10,\n",
       "         5.59559529e+10, -2.18300402e+10,  5.59559529e+10,\n",
       "         2.70605462e+09,  2.70605462e+09,  5.59559529e+10,\n",
       "         5.56962877e+11,  4.22350300e+10, -3.17518792e+10,\n",
       "         5.59559529e+10, -5.27066738e+11,  4.22350300e+10,\n",
       "        -2.74120894e+11,  7.93700806e+11,  1.15715552e+11,\n",
       "         4.22350300e+10,  1.07777273e+11,  4.22350300e+10,\n",
       "         4.71951732e+11,  4.22350300e+10, -3.66850133e+10,\n",
       "         2.70605462e+09,  4.22350300e+10,  4.22350300e+10,\n",
       "         2.51476898e+10,  4.22350300e+10,  4.22350300e+10,\n",
       "        -1.63691744e+10, -1.14007992e+12,  4.71951732e+11,\n",
       "         5.59559529e+10, -1.30859701e+11, -2.70864835e+10,\n",
       "        -2.74120894e+11,  1.97996830e+10,  1.97996830e+10,\n",
       "         1.97996830e+10,  1.97996830e+10, -4.84663483e+10,\n",
       "         4.22350300e+10, -2.74120894e+11,  2.70605462e+09,\n",
       "        -3.17518792e+10,  1.97996830e+10, -1.30859701e+11,\n",
       "         1.07777273e+11,  1.15715552e+11,  1.97996830e+10,\n",
       "        -2.12559463e+10, -2.12559463e+10, -2.12559463e+10,\n",
       "        -7.34186193e+10,  6.91823191e+11, -3.17518792e+10,\n",
       "        -2.86269315e+10, -2.18300402e+10,  5.59559529e+10,\n",
       "        -2.71773848e+10,  5.58305460e+10,  2.70605462e+09,\n",
       "        -1.63691744e+10, -3.17518792e+10,  5.59559529e+10,\n",
       "        -1.37888356e+10,  5.59559529e+10, -4.84663483e+10,\n",
       "         1.97996830e+10,  1.97996830e+10,  4.77914399e+11,\n",
       "        -3.17518792e+10,  1.97996830e+10, -3.17518792e+10,\n",
       "        -3.17518792e+10,  1.97996830e+10,  4.77914399e+11,\n",
       "        -3.17518792e+10, -3.17518792e+10, -3.17518792e+10,\n",
       "         1.97996830e+10,  4.77914399e+11,  1.97996830e+10,\n",
       "         4.77914399e+11,  4.77914399e+11, -1.63691744e+10,\n",
       "        -3.17518792e+10, -3.17518792e+10, -3.17518792e+10,\n",
       "        -3.17518792e+10, -3.17518792e+10,  1.97996830e+10,\n",
       "        -3.89247083e+10, -1.30859701e+11,  5.59559529e+10,\n",
       "         5.59559529e+10,  5.59559529e+10, -2.74120894e+11,\n",
       "         4.22350300e+10,  4.22350300e+10,  5.59559529e+10,\n",
       "        -1.49618885e+11,  5.59559529e+10, -3.17518792e+10,\n",
       "         4.71951732e+11,  2.70605462e+09, -2.71773848e+10,\n",
       "        -9.66007554e+10,  2.70605462e+09, -2.71773848e+10,\n",
       "        -2.74120894e+11, -1.30859701e+11,  5.59559529e+10,\n",
       "        -8.78631506e+10, -2.74120894e+11,  5.59559529e+10,\n",
       "         2.70605462e+09,  2.70605462e+09,  4.22350300e+10,\n",
       "         4.22350300e+10, -1.82436015e+10,  5.59559529e+10,\n",
       "         2.70605462e+09, -3.17518792e+10, -2.74120894e+11,\n",
       "        -1.10933713e+11,  2.51476898e+10, -2.74120894e+11,\n",
       "         2.70605462e+09, -2.74120894e+11,  5.59559529e+10,\n",
       "         5.59559529e+10,  5.59559529e+10,  5.59559529e+10,\n",
       "         5.59559529e+10,  4.22350300e+10,  1.15715552e+11,\n",
       "        -2.48055035e+09, -2.48055035e+09, -2.48055035e+09,\n",
       "        -2.48055035e+09, -2.48055035e+09, -2.48055035e+09,\n",
       "        -2.48055035e+09,  1.97996830e+10,  1.97996830e+10,\n",
       "        -3.17518792e+10,  7.93700806e+11, -2.74120894e+11,\n",
       "        -4.02576544e+10, -2.74120894e+11, -3.17518792e+10,\n",
       "        -4.84663483e+10,  5.59559529e+10,  4.22350300e+10,\n",
       "         4.71951732e+11, -2.74120894e+11,  5.58305460e+10,\n",
       "        -1.11534265e+11, -2.74120894e+11,  4.22350300e+10,\n",
       "         5.59559529e+10, -1.11534265e+11,  5.59559529e+10,\n",
       "         5.59559529e+10,  5.59559529e+10, -3.17518792e+10,\n",
       "         5.56962877e+11, -9.45235952e+10, -2.74120894e+11,\n",
       "         5.59559529e+10,  2.51476898e+10, -2.12559463e+10,\n",
       "        -2.74120894e+11,  4.22350300e+10, -2.71773848e+10,\n",
       "         4.71951732e+11,  2.51476898e+10,  2.51476898e+10,\n",
       "         2.51476898e+10, -2.48055035e+09,  4.77914399e+11,\n",
       "         4.77914399e+11,  4.77914399e+11,  4.77914399e+11,\n",
       "         4.22350300e+10, -2.86269315e+10, -2.86269315e+10,\n",
       "         5.59559529e+10,  6.91823191e+11, -2.74120894e+11,\n",
       "        -2.71773848e+10, -9.33235192e+10, -2.74120894e+11,\n",
       "        -3.17518792e+10,  4.71951732e+11, -3.17518792e+10,\n",
       "        -5.20132848e+10, -7.34186193e+10, -2.86269315e+10,\n",
       "         4.22350300e+10,  5.59559529e+10, -3.17518792e+10,\n",
       "         5.56962877e+11,  4.22350300e+10, -1.14007992e+12,\n",
       "         5.56962877e+11,  5.59559529e+10, -3.66850133e+10,\n",
       "         5.59559529e+10, -9.94200139e+10,  4.71951732e+11,\n",
       "        -1.37888356e+10, -1.89154196e+10, -1.89154196e+10,\n",
       "        -1.89154196e+10, -1.89154196e+10, -1.89154196e+10,\n",
       "        -1.89154196e+10, -4.02703878e+10, -1.89154196e+10,\n",
       "        -4.02703878e+10,  4.77914399e+11,  4.77914399e+11,\n",
       "         4.77914399e+11,  4.77914399e+11, -1.37888356e+10,\n",
       "        -1.37888356e+10, -1.37888356e+10, -1.37888356e+10,\n",
       "        -1.37888356e+10,  5.58305460e+10,  5.56962877e+11,\n",
       "        -7.21080682e+10, -7.21080682e+10,  4.71951732e+11,\n",
       "        -1.30859701e+11, -1.89154196e+10, -1.89154196e+10,\n",
       "        -1.89154196e+10, -7.21080682e+10,  5.59559529e+10,\n",
       "         5.59559529e+10, -7.59766794e+10, -1.89154196e+10,\n",
       "        -2.74120894e+11, -1.89154196e+10, -2.48055035e+09,\n",
       "        -2.48055035e+09, -2.48055035e+09, -2.48055035e+09,\n",
       "        -2.74120894e+11,  7.62939453e-05, -4.61654663e-02]])"
      ]
     },
     "execution_count": 142,
     "metadata": {},
     "output_type": "execute_result"
    }
   ],
   "source": [
    "model.coef_ "
   ]
  },
  {
   "cell_type": "code",
   "execution_count": 143,
   "id": "b59d164c",
   "metadata": {
    "ExecuteTime": {
     "end_time": "2024-02-07T18:44:13.431896Z",
     "start_time": "2024-02-07T18:44:13.411900Z"
    }
   },
   "outputs": [
    {
     "data": {
      "text/plain": [
       "array([1.95397665e+11])"
      ]
     },
     "execution_count": 143,
     "metadata": {},
     "output_type": "execute_result"
    }
   ],
   "source": [
    "model.intercept_"
   ]
  },
  {
   "cell_type": "code",
   "execution_count": 144,
   "id": "70102c6b",
   "metadata": {
    "ExecuteTime": {
     "end_time": "2024-02-07T18:44:17.051578Z",
     "start_time": "2024-02-07T18:44:16.845396Z"
    }
   },
   "outputs": [
    {
     "data": {
      "text/plain": [
       "0.15641271725360884"
      ]
     },
     "execution_count": 144,
     "metadata": {},
     "output_type": "execute_result"
    }
   ],
   "source": [
    "model.score(X_train_transformed,y_train)  "
   ]
  },
  {
   "cell_type": "code",
   "execution_count": 145,
   "id": "9599c5a3",
   "metadata": {
    "ExecuteTime": {
     "end_time": "2024-02-07T18:44:18.850346Z",
     "start_time": "2024-02-07T18:44:18.741508Z"
    }
   },
   "outputs": [
    {
     "name": "stderr",
     "output_type": "stream",
     "text": [
      "/tmp/ipykernel_58237/3470246675.py:1: UserWarning: Boolean Series key will be reindexed to match DataFrame index.\n",
      "  car = price_df[price_df[\"car_model\"] == \"Golf Variant Highline 1.4 TSi AT\"][price_df[\"Year\"] == 4 ][price_df[\"car_code\"] == 2924  ]\n"
     ]
    },
    {
     "data": {
      "text/html": [
       "<div>\n",
       "<style scoped>\n",
       "    .dataframe tbody tr th:only-of-type {\n",
       "        vertical-align: middle;\n",
       "    }\n",
       "\n",
       "    .dataframe tbody tr th {\n",
       "        vertical-align: top;\n",
       "    }\n",
       "\n",
       "    .dataframe thead th {\n",
       "        text-align: right;\n",
       "    }\n",
       "</style>\n",
       "<table border=\"1\" class=\"dataframe\">\n",
       "  <thead>\n",
       "    <tr style=\"text-align: right;\">\n",
       "      <th></th>\n",
       "      <th>car_code</th>\n",
       "      <th>car_manufacturer</th>\n",
       "      <th>car_model</th>\n",
       "      <th>car_model_year</th>\n",
       "      <th>Year</th>\n",
       "      <th>Price_YoY</th>\n",
       "      <th>Next_YoY_Price</th>\n",
       "      <th>Next_YoY_Pr_Pred</th>\n",
       "      <th>calendar_year</th>\n",
       "      <th>Price_sd_scaled</th>\n",
       "      <th>Next_Price_sd_scaled</th>\n",
       "      <th>car_model_small</th>\n",
       "    </tr>\n",
       "  </thead>\n",
       "  <tbody>\n",
       "    <tr>\n",
       "      <th>64941</th>\n",
       "      <td>2924</td>\n",
       "      <td>Volkswagen</td>\n",
       "      <td>Golf Variant Highline 1.4 TSi AT</td>\n",
       "      <td>2015</td>\n",
       "      <td>4</td>\n",
       "      <td>0.834662</td>\n",
       "      <td>0.850733</td>\n",
       "      <td>0.930608</td>\n",
       "      <td>2019</td>\n",
       "      <td>-1.503667</td>\n",
       "      <td>-1.465515</td>\n",
       "      <td>Golf</td>\n",
       "    </tr>\n",
       "  </tbody>\n",
       "</table>\n",
       "</div>"
      ],
      "text/plain": [
       "       car_code car_manufacturer                         car_model  \\\n",
       "64941      2924       Volkswagen  Golf Variant Highline 1.4 TSi AT   \n",
       "\n",
       "       car_model_year  Year  Price_YoY  Next_YoY_Price  Next_YoY_Pr_Pred  \\\n",
       "64941            2015     4   0.834662        0.850733          0.930608   \n",
       "\n",
       "       calendar_year  Price_sd_scaled  Next_Price_sd_scaled car_model_small  \n",
       "64941           2019        -1.503667             -1.465515            Golf  "
      ]
     },
     "execution_count": 145,
     "metadata": {},
     "output_type": "execute_result"
    }
   ],
   "source": [
    "car = price_df[price_df[\"car_model\"] == \"Golf Variant Highline 1.4 TSi AT\"][price_df[\"Year\"] == 4 ][price_df[\"car_code\"] == 2924  ]\n",
    "car[\"car_model_small\"] = car[\"car_model\"].map(take_first_word)\n",
    "car"
   ]
  },
  {
   "cell_type": "code",
   "execution_count": 146,
   "id": "5d34999a",
   "metadata": {
    "ExecuteTime": {
     "end_time": "2024-02-07T18:44:20.616003Z",
     "start_time": "2024-02-07T18:44:20.575450Z"
    }
   },
   "outputs": [],
   "source": [
    "car_trans = preprocessor.transform(car)"
   ]
  },
  {
   "cell_type": "code",
   "execution_count": 147,
   "id": "0c3b7368",
   "metadata": {
    "ExecuteTime": {
     "end_time": "2024-02-07T18:44:21.310450Z",
     "start_time": "2024-02-07T18:44:21.290238Z"
    }
   },
   "outputs": [
    {
     "data": {
      "text/plain": [
       "array([[0.38421631]])"
      ]
     },
     "execution_count": 147,
     "metadata": {},
     "output_type": "execute_result"
    }
   ],
   "source": [
    "model.predict(car_trans)"
   ]
  },
  {
   "cell_type": "code",
   "execution_count": 148,
   "id": "54be5698",
   "metadata": {
    "ExecuteTime": {
     "end_time": "2024-02-07T18:44:25.568714Z",
     "start_time": "2024-02-07T18:44:25.402187Z"
    }
   },
   "outputs": [
    {
     "data": {
      "text/html": [
       "<div>\n",
       "<style scoped>\n",
       "    .dataframe tbody tr th:only-of-type {\n",
       "        vertical-align: middle;\n",
       "    }\n",
       "\n",
       "    .dataframe tbody tr th {\n",
       "        vertical-align: top;\n",
       "    }\n",
       "\n",
       "    .dataframe thead th {\n",
       "        text-align: right;\n",
       "    }\n",
       "</style>\n",
       "<table border=\"1\" class=\"dataframe\">\n",
       "  <thead>\n",
       "    <tr style=\"text-align: right;\">\n",
       "      <th></th>\n",
       "      <th>car_manufacturer</th>\n",
       "      <th>car_model</th>\n",
       "      <th>Year</th>\n",
       "      <th>Price_sd_scaled</th>\n",
       "      <th>car_model_small</th>\n",
       "    </tr>\n",
       "  </thead>\n",
       "  <tbody>\n",
       "    <tr>\n",
       "      <th>3823</th>\n",
       "      <td>Mitsubishi</td>\n",
       "      <td>Pajero Dakar 3.2 Turbo AT</td>\n",
       "      <td>1</td>\n",
       "      <td>-0.481528</td>\n",
       "      <td>Pajero</td>\n",
       "    </tr>\n",
       "    <tr>\n",
       "      <th>126346</th>\n",
       "      <td>Chevrolet</td>\n",
       "      <td>Captiva Sport 3.6 V6 4x2</td>\n",
       "      <td>7</td>\n",
       "      <td>-1.337603</td>\n",
       "      <td>Captiva</td>\n",
       "    </tr>\n",
       "    <tr>\n",
       "      <th>279816</th>\n",
       "      <td>Chevrolet</td>\n",
       "      <td>Omega CD 3.6 V6</td>\n",
       "      <td>14</td>\n",
       "      <td>0.549316</td>\n",
       "      <td>Omega</td>\n",
       "    </tr>\n",
       "    <tr>\n",
       "      <th>112056</th>\n",
       "      <td>Volkswagen</td>\n",
       "      <td>Space Cross 1.6 16V I-Motion</td>\n",
       "      <td>6</td>\n",
       "      <td>1.580467</td>\n",
       "      <td>Space</td>\n",
       "    </tr>\n",
       "    <tr>\n",
       "      <th>386142</th>\n",
       "      <td>Chevrolet</td>\n",
       "      <td>Astra Sedan CD 2.0 8V AT</td>\n",
       "      <td>19</td>\n",
       "      <td>0.278613</td>\n",
       "      <td>Astra</td>\n",
       "    </tr>\n",
       "    <tr>\n",
       "      <th>...</th>\n",
       "      <td>...</td>\n",
       "      <td>...</td>\n",
       "      <td>...</td>\n",
       "      <td>...</td>\n",
       "      <td>...</td>\n",
       "    </tr>\n",
       "    <tr>\n",
       "      <th>111975</th>\n",
       "      <td>Renault</td>\n",
       "      <td>Master Furgão Grand 2.3</td>\n",
       "      <td>6</td>\n",
       "      <td>1.015848</td>\n",
       "      <td>Master</td>\n",
       "    </tr>\n",
       "    <tr>\n",
       "      <th>113896</th>\n",
       "      <td>BMW</td>\n",
       "      <td>535i GT 3.0</td>\n",
       "      <td>6</td>\n",
       "      <td>0.252541</td>\n",
       "      <td>535i</td>\n",
       "    </tr>\n",
       "    <tr>\n",
       "      <th>28840</th>\n",
       "      <td>Jaguar</td>\n",
       "      <td>E-Pace 2.0</td>\n",
       "      <td>2</td>\n",
       "      <td>0.587664</td>\n",
       "      <td>E-Pace</td>\n",
       "    </tr>\n",
       "    <tr>\n",
       "      <th>125072</th>\n",
       "      <td>Fiat</td>\n",
       "      <td>Siena Fire 1.0</td>\n",
       "      <td>7</td>\n",
       "      <td>-0.075953</td>\n",
       "      <td>Siena</td>\n",
       "    </tr>\n",
       "    <tr>\n",
       "      <th>65128</th>\n",
       "      <td>Land Rover</td>\n",
       "      <td>Discovery SE 3.0 V6 Turbo</td>\n",
       "      <td>4</td>\n",
       "      <td>-1.970903</td>\n",
       "      <td>Discovery</td>\n",
       "    </tr>\n",
       "  </tbody>\n",
       "</table>\n",
       "<p>26367 rows × 5 columns</p>\n",
       "</div>"
      ],
      "text/plain": [
       "       car_manufacturer                     car_model  Year  Price_sd_scaled  \\\n",
       "3823         Mitsubishi     Pajero Dakar 3.2 Turbo AT     1        -0.481528   \n",
       "126346        Chevrolet      Captiva Sport 3.6 V6 4x2     7        -1.337603   \n",
       "279816        Chevrolet               Omega CD 3.6 V6    14         0.549316   \n",
       "112056       Volkswagen  Space Cross 1.6 16V I-Motion     6         1.580467   \n",
       "386142        Chevrolet      Astra Sedan CD 2.0 8V AT    19         0.278613   \n",
       "...                 ...                           ...   ...              ...   \n",
       "111975          Renault       Master Furgão Grand 2.3     6         1.015848   \n",
       "113896              BMW                   535i GT 3.0     6         0.252541   \n",
       "28840            Jaguar                    E-Pace 2.0     2         0.587664   \n",
       "125072             Fiat                Siena Fire 1.0     7        -0.075953   \n",
       "65128        Land Rover     Discovery SE 3.0 V6 Turbo     4        -1.970903   \n",
       "\n",
       "       car_model_small  \n",
       "3823            Pajero  \n",
       "126346         Captiva  \n",
       "279816           Omega  \n",
       "112056           Space  \n",
       "386142           Astra  \n",
       "...                ...  \n",
       "111975          Master  \n",
       "113896            535i  \n",
       "28840           E-Pace  \n",
       "125072           Siena  \n",
       "65128        Discovery  \n",
       "\n",
       "[26367 rows x 5 columns]"
      ]
     },
     "execution_count": 148,
     "metadata": {},
     "output_type": "execute_result"
    }
   ],
   "source": [
    "X_test[\"car_model_small\"] = X_test[\"car_model\"].map(take_first_word)\n",
    "X_test"
   ]
  },
  {
   "cell_type": "code",
   "execution_count": 149,
   "id": "229c3e25",
   "metadata": {
    "ExecuteTime": {
     "end_time": "2024-02-07T18:44:27.017114Z",
     "start_time": "2024-02-07T18:44:26.448306Z"
    }
   },
   "outputs": [
    {
     "data": {
      "text/plain": [
       "array([[ 0.        ,  0.        ,  0.        , ...,  0.        ,\n",
       "         1.        , -0.48152767],\n",
       "       [ 0.        ,  0.        ,  0.        , ...,  0.        ,\n",
       "         7.        , -1.33760345],\n",
       "       [ 0.        ,  0.        ,  0.        , ...,  0.        ,\n",
       "        14.        ,  0.54931614],\n",
       "       ...,\n",
       "       [ 0.        ,  0.        ,  0.        , ...,  0.        ,\n",
       "         2.        ,  0.58766447],\n",
       "       [ 0.        ,  0.        ,  0.        , ...,  0.        ,\n",
       "         7.        , -0.07595347],\n",
       "       [ 0.        ,  0.        ,  0.        , ...,  0.        ,\n",
       "         4.        , -1.97090339]])"
      ]
     },
     "execution_count": 149,
     "metadata": {},
     "output_type": "execute_result"
    }
   ],
   "source": [
    "X_test_preprocess = preprocessor.transform(X_test)\n",
    "X_test_preprocess"
   ]
  },
  {
   "cell_type": "code",
   "execution_count": 150,
   "id": "adc0512d",
   "metadata": {
    "ExecuteTime": {
     "end_time": "2024-02-07T18:44:30.282968Z",
     "start_time": "2024-02-07T18:44:30.140329Z"
    }
   },
   "outputs": [
    {
     "data": {
      "text/plain": [
       "-2.5331977738419053e+19"
      ]
     },
     "execution_count": 150,
     "metadata": {},
     "output_type": "execute_result"
    }
   ],
   "source": [
    "model.score(X_test_preprocess, y_test)"
   ]
  },
  {
   "cell_type": "markdown",
   "id": "badafdf7",
   "metadata": {
    "ExecuteTime": {
     "end_time": "2024-02-07T18:04:14.917256Z",
     "start_time": "2024-02-07T18:04:12.942409Z"
    }
   },
   "source": [
    "## Model with all other features"
   ]
  },
  {
   "cell_type": "code",
   "execution_count": 383,
   "id": "6023bc33",
   "metadata": {
    "ExecuteTime": {
     "end_time": "2024-02-07T20:40:16.362496Z",
     "start_time": "2024-02-07T20:40:15.971371Z"
    }
   },
   "outputs": [],
   "source": [
    "price_df = pd.read_csv('/home/marcnaweb/code/marcnaweb/car_recommendation_engine/raw_data/car_prices_w_prices_scaled.csv', index_col=0)"
   ]
  },
  {
   "cell_type": "code",
   "execution_count": 384,
   "id": "b6b7c657",
   "metadata": {
    "ExecuteTime": {
     "end_time": "2024-02-07T20:40:17.973652Z",
     "start_time": "2024-02-07T20:40:17.018372Z"
    }
   },
   "outputs": [],
   "source": [
    "features_df = pd.read_csv('/home/marcnaweb/code/marcnaweb/car_recommendation_engine/raw_data/scaled_cleaned.csv')"
   ]
  },
  {
   "cell_type": "markdown",
   "id": "6f02b36b",
   "metadata": {
    "ExecuteTime": {
     "end_time": "2024-02-07T18:54:32.874463Z",
     "start_time": "2024-02-07T18:54:32.865626Z"
    }
   },
   "source": [
    "### Merging the data frames "
   ]
  },
  {
   "cell_type": "code",
   "execution_count": 385,
   "id": "297cad63",
   "metadata": {
    "ExecuteTime": {
     "end_time": "2024-02-07T20:40:19.307991Z",
     "start_time": "2024-02-07T20:40:19.110893Z"
    }
   },
   "outputs": [],
   "source": [
    "merged_df = price_df.merge(features_df, left_on=\"car_code\", right_on=\"car_code\", how=\"left\")"
   ]
  },
  {
   "cell_type": "code",
   "execution_count": 386,
   "id": "dead1276",
   "metadata": {
    "ExecuteTime": {
     "end_time": "2024-02-07T20:40:20.188447Z",
     "start_time": "2024-02-07T20:40:19.909789Z"
    }
   },
   "outputs": [
    {
     "data": {
      "text/html": [
       "<div>\n",
       "<style scoped>\n",
       "    .dataframe tbody tr th:only-of-type {\n",
       "        vertical-align: middle;\n",
       "    }\n",
       "\n",
       "    .dataframe tbody tr th {\n",
       "        vertical-align: top;\n",
       "    }\n",
       "\n",
       "    .dataframe thead th {\n",
       "        text-align: right;\n",
       "    }\n",
       "</style>\n",
       "<table border=\"1\" class=\"dataframe\">\n",
       "  <thead>\n",
       "    <tr style=\"text-align: right;\">\n",
       "      <th></th>\n",
       "      <th>car_code</th>\n",
       "      <th>car_manufacturer</th>\n",
       "      <th>car_model</th>\n",
       "      <th>car_model_year</th>\n",
       "      <th>Year_x</th>\n",
       "      <th>Price_YoY</th>\n",
       "      <th>Next_YoY_Price</th>\n",
       "      <th>Next_YoY_Pr_Pred</th>\n",
       "      <th>calendar_year</th>\n",
       "      <th>Price_sd_scaled</th>\n",
       "      <th>...</th>\n",
       "      <th>Maximum power</th>\n",
       "      <th>Unit displacement</th>\n",
       "      <th>Trunk</th>\n",
       "      <th>USB connection</th>\n",
       "      <th>Gear speed transmissions</th>\n",
       "      <th>Urban</th>\n",
       "      <th>Year_y</th>\n",
       "      <th>Radio</th>\n",
       "      <th>Folding rear seat</th>\n",
       "      <th>Perimeter anti theft alarm</th>\n",
       "    </tr>\n",
       "  </thead>\n",
       "  <tbody>\n",
       "    <tr>\n",
       "      <th>87887</th>\n",
       "      <td>441</td>\n",
       "      <td>Audi</td>\n",
       "      <td>A8 4.2 V8 Quattro</td>\n",
       "      <td>2003</td>\n",
       "      <td>1</td>\n",
       "      <td>0.749652</td>\n",
       "      <td>0.961737</td>\n",
       "      <td>0.917069</td>\n",
       "      <td>2004</td>\n",
       "      <td>-0.836267</td>\n",
       "      <td>...</td>\n",
       "      <td>0.167403</td>\n",
       "      <td>0.523084</td>\n",
       "      <td>0.033011</td>\n",
       "      <td>0.0</td>\n",
       "      <td>0.545455</td>\n",
       "      <td>0.062035</td>\n",
       "      <td>0.625</td>\n",
       "      <td>0.0</td>\n",
       "      <td>0.0</td>\n",
       "      <td>0.0</td>\n",
       "    </tr>\n",
       "  </tbody>\n",
       "</table>\n",
       "<p>1 rows × 110 columns</p>\n",
       "</div>"
      ],
      "text/plain": [
       "       car_code car_manufacturer          car_model  car_model_year  Year_x  \\\n",
       "87887       441             Audi  A8 4.2 V8 Quattro            2003       1   \n",
       "\n",
       "       Price_YoY  Next_YoY_Price  Next_YoY_Pr_Pred  calendar_year  \\\n",
       "87887   0.749652        0.961737          0.917069           2004   \n",
       "\n",
       "       Price_sd_scaled  ...  Maximum power  Unit displacement     Trunk  \\\n",
       "87887        -0.836267  ...       0.167403           0.523084  0.033011   \n",
       "\n",
       "       USB connection  Gear speed transmissions     Urban  Year_y  Radio  \\\n",
       "87887             0.0                  0.545455  0.062035   0.625    0.0   \n",
       "\n",
       "       Folding rear seat  Perimeter anti theft alarm  \n",
       "87887                0.0                         0.0  \n",
       "\n",
       "[1 rows x 110 columns]"
      ]
     },
     "execution_count": 386,
     "metadata": {},
     "output_type": "execute_result"
    }
   ],
   "source": [
    "merged_df[merged_df.index == 87887 ]"
   ]
  },
  {
   "cell_type": "code",
   "execution_count": 387,
   "id": "bbf9ece9",
   "metadata": {
    "ExecuteTime": {
     "end_time": "2024-02-07T20:40:23.420967Z",
     "start_time": "2024-02-07T20:40:23.411418Z"
    }
   },
   "outputs": [],
   "source": [
    "#merged_df[\"Next_Price_sd_scaled\"] = merged_df[\"Price_sd_scaled\"].shift(-1)\n",
    "#merged_df.drop(merged_df.tail(1).index,inplace=True)"
   ]
  },
  {
   "cell_type": "code",
   "execution_count": 388,
   "id": "6993f5c5",
   "metadata": {
    "ExecuteTime": {
     "end_time": "2024-02-07T20:40:24.160665Z",
     "start_time": "2024-02-07T20:40:24.152104Z"
    }
   },
   "outputs": [],
   "source": [
    "#price_df.columns"
   ]
  },
  {
   "cell_type": "markdown",
   "id": "a0a402ff",
   "metadata": {},
   "source": [
    "#### Making X and y"
   ]
  },
  {
   "cell_type": "code",
   "execution_count": 389,
   "id": "a944ec45",
   "metadata": {
    "ExecuteTime": {
     "end_time": "2024-02-07T20:40:25.481584Z",
     "start_time": "2024-02-07T20:40:25.365807Z"
    }
   },
   "outputs": [],
   "source": [
    "X = merged_df.drop( columns=['car_code' , 'car_model_year',  'Next_YoY_Price', 'Next_YoY_Pr_Pred',\n",
    "       'Price_sd_scaled' ])\n",
    "#X = merged_df.drop( columns=['car_code' , 'car_model_year', 'Price_YoY' ,  'Next_YoY_Price', 'Next_YoY_Pr_Pred',\n",
    "#       'Next_Price_sd_scaled' ])"
   ]
  },
  {
   "cell_type": "code",
   "execution_count": 390,
   "id": "68292a96",
   "metadata": {
    "ExecuteTime": {
     "end_time": "2024-02-07T20:40:29.198574Z",
     "start_time": "2024-02-07T20:40:28.861776Z"
    }
   },
   "outputs": [],
   "source": [
    "def take_first_word(word):\n",
    "    return word.split(\" \")[0]\n",
    "\n",
    "X[\"car_model_small\"] = X[\"car_model\"].map(take_first_word)\n",
    "X.drop(columns=\"car_model\", inplace=True)"
   ]
  },
  {
   "cell_type": "code",
   "execution_count": 391,
   "id": "a69a02c2",
   "metadata": {
    "ExecuteTime": {
     "end_time": "2024-02-07T20:40:29.776078Z",
     "start_time": "2024-02-07T20:40:29.765054Z"
    }
   },
   "outputs": [],
   "source": [
    "y = merged_df['Next_YoY_Price']\n",
    "#y = merged_df[\"Next_Price_sd_scaled\"]"
   ]
  },
  {
   "cell_type": "code",
   "execution_count": 392,
   "id": "61537ab2",
   "metadata": {
    "ExecuteTime": {
     "end_time": "2024-02-07T20:40:30.635827Z",
     "start_time": "2024-02-07T20:40:30.619398Z"
    }
   },
   "outputs": [
    {
     "data": {
      "text/plain": [
       "Index(['car_manufacturer', 'Year_x', 'Price_YoY', 'calendar_year',\n",
       "       'Propulsion_Combustion', 'Propulsion_Electric', 'Propulsion_Hybrid',\n",
       "       'Propulsion_Light Hybrid', 'Propulsion_Plug-in hybrid',\n",
       "       'Car gearbox_Automated',\n",
       "       ...\n",
       "       'Unit displacement', 'Trunk', 'USB connection',\n",
       "       'Gear speed transmissions', 'Urban', 'Year_y', 'Radio',\n",
       "       'Folding rear seat', 'Perimeter anti theft alarm', 'car_model_small'],\n",
       "      dtype='object', length=105)"
      ]
     },
     "execution_count": 392,
     "metadata": {},
     "output_type": "execute_result"
    }
   ],
   "source": [
    "X.columns"
   ]
  },
  {
   "cell_type": "code",
   "execution_count": 393,
   "id": "20e7d5ca",
   "metadata": {
    "ExecuteTime": {
     "end_time": "2024-02-07T20:40:35.614281Z",
     "start_time": "2024-02-07T20:40:35.595326Z"
    }
   },
   "outputs": [],
   "source": [
    "numerical_columns = X.columns\n",
    "numerical_columns = numerical_columns.delete(0)\n",
    "numerical_columns = numerical_columns.delete(-1)\n",
    "# Impute then scale numerical values:\n",
    "num_transformer = Pipeline([\n",
    "    ('imputer', SimpleImputer(strategy=\"mean\"))\n",
    "    #,('standard_scaler', StandardScaler())\n",
    "])\n",
    "\n",
    "# Encode categorical values\n",
    "cat_transformer = OneHotEncoder(handle_unknown='ignore', sparse_output=False)\n",
    "\n",
    "\n",
    "\n",
    "\n",
    "# Parallelize \"num_transformer\" and \"cat_transfomer\"\n",
    "preprocessor = ColumnTransformer([\n",
    "    ('cat_transformer', cat_transformer, ['car_manufacturer', 'car_model_small']), #, 'car_model'  --> was removed\n",
    "    #('num_transformer', num_transformer, [ 'Year','Price_YoY']) \n",
    "    ('num_transformer', num_transformer, numerical_columns ) \n",
    "])\n"
   ]
  },
  {
   "cell_type": "markdown",
   "id": "98a999ef",
   "metadata": {
    "ExecuteTime": {
     "end_time": "2024-02-07T19:32:24.100827Z",
     "start_time": "2024-02-07T19:32:24.088484Z"
    }
   },
   "source": [
    "#### training and testing the model"
   ]
  },
  {
   "cell_type": "code",
   "execution_count": 394,
   "id": "c86cf7f8",
   "metadata": {
    "ExecuteTime": {
     "end_time": "2024-02-07T20:40:37.453892Z",
     "start_time": "2024-02-07T20:40:37.058864Z"
    }
   },
   "outputs": [],
   "source": [
    "X_train, X_test, y_train, y_test = train_test_split(X, y, test_size=0.3, random_state=42)"
   ]
  },
  {
   "cell_type": "code",
   "execution_count": 395,
   "id": "915284bc",
   "metadata": {
    "ExecuteTime": {
     "end_time": "2024-02-07T20:40:42.198172Z",
     "start_time": "2024-02-07T20:40:39.813944Z"
    }
   },
   "outputs": [],
   "source": [
    "\n",
    "X_train_transformed = preprocessor.fit_transform(X_train)"
   ]
  },
  {
   "cell_type": "code",
   "execution_count": 396,
   "id": "18db771a",
   "metadata": {
    "ExecuteTime": {
     "end_time": "2024-02-07T20:41:19.281267Z",
     "start_time": "2024-02-07T20:40:42.207463Z"
    }
   },
   "outputs": [
    {
     "data": {
      "text/plain": [
       "0.37088140830593996"
      ]
     },
     "execution_count": 396,
     "metadata": {},
     "output_type": "execute_result"
    }
   ],
   "source": [
    "from sklearn.linear_model import LinearRegression\n",
    "model = LinearRegression()\n",
    "model.fit(X_train_transformed, y_train)\n",
    "model.score(X_train_transformed,y_train)  "
   ]
  },
  {
   "cell_type": "code",
   "execution_count": 397,
   "id": "e8f8407a",
   "metadata": {
    "ExecuteTime": {
     "end_time": "2024-02-07T20:41:39.657528Z",
     "start_time": "2024-02-07T20:41:38.893484Z"
    }
   },
   "outputs": [],
   "source": [
    "X_test_transformed = preprocessor.transform(X_test)\n"
   ]
  },
  {
   "cell_type": "code",
   "execution_count": 398,
   "id": "5339e9e8",
   "metadata": {
    "ExecuteTime": {
     "end_time": "2024-02-07T20:41:56.017137Z",
     "start_time": "2024-02-07T20:41:40.646163Z"
    }
   },
   "outputs": [
    {
     "data": {
      "text/plain": [
       "0.3796973063558776"
      ]
     },
     "execution_count": 398,
     "metadata": {},
     "output_type": "execute_result"
    }
   ],
   "source": [
    "model = LinearRegression()\n",
    "model.fit(X_test_transformed, y_test)\n",
    "model.score(X_test_transformed,y_test)  "
   ]
  },
  {
   "cell_type": "markdown",
   "id": "8dcbcb64",
   "metadata": {},
   "source": [
    "**0,37 --> is getting better!**"
   ]
  },
  {
   "cell_type": "markdown",
   "id": "d486f621",
   "metadata": {
    "ExecuteTime": {
     "end_time": "2024-02-07T19:32:53.467318Z",
     "start_time": "2024-02-07T19:32:53.458406Z"
    }
   },
   "source": [
    "#### Let's see it in action"
   ]
  },
  {
   "cell_type": "code",
   "execution_count": 430,
   "id": "5fa6abe3",
   "metadata": {
    "ExecuteTime": {
     "end_time": "2024-02-07T21:19:01.809842Z",
     "start_time": "2024-02-07T21:19:01.705324Z"
    }
   },
   "outputs": [
    {
     "name": "stderr",
     "output_type": "stream",
     "text": [
      "/tmp/ipykernel_58237/195182497.py:1: UserWarning: Boolean Series key will be reindexed to match DataFrame index.\n",
      "  car = merged_df[merged_df[\"car_model_year\"] == 2021 ] [merged_df[\"calendar_year\"] == 2022]#[merged_df.index == 23575 ]\n"
     ]
    },
    {
     "data": {
      "text/html": [
       "<div>\n",
       "<style scoped>\n",
       "    .dataframe tbody tr th:only-of-type {\n",
       "        vertical-align: middle;\n",
       "    }\n",
       "\n",
       "    .dataframe tbody tr th {\n",
       "        vertical-align: top;\n",
       "    }\n",
       "\n",
       "    .dataframe thead th {\n",
       "        text-align: right;\n",
       "    }\n",
       "</style>\n",
       "<table border=\"1\" class=\"dataframe\">\n",
       "  <thead>\n",
       "    <tr style=\"text-align: right;\">\n",
       "      <th></th>\n",
       "      <th>car_code</th>\n",
       "      <th>car_manufacturer</th>\n",
       "      <th>car_model</th>\n",
       "      <th>car_model_year</th>\n",
       "      <th>Year_x</th>\n",
       "      <th>Price_YoY</th>\n",
       "      <th>Next_YoY_Price</th>\n",
       "      <th>Next_YoY_Pr_Pred</th>\n",
       "      <th>calendar_year</th>\n",
       "      <th>Price_sd_scaled</th>\n",
       "      <th>...</th>\n",
       "      <th>Maximum power</th>\n",
       "      <th>Unit displacement</th>\n",
       "      <th>Trunk</th>\n",
       "      <th>USB connection</th>\n",
       "      <th>Gear speed transmissions</th>\n",
       "      <th>Urban</th>\n",
       "      <th>Year_y</th>\n",
       "      <th>Radio</th>\n",
       "      <th>Folding rear seat</th>\n",
       "      <th>Perimeter anti theft alarm</th>\n",
       "    </tr>\n",
       "  </thead>\n",
       "  <tbody>\n",
       "    <tr>\n",
       "      <th>13472</th>\n",
       "      <td>22364</td>\n",
       "      <td>Renault</td>\n",
       "      <td>Sandero GT Line 1.6 16V AT</td>\n",
       "      <td>2021</td>\n",
       "      <td>1</td>\n",
       "      <td>0.798105</td>\n",
       "      <td>0.958014</td>\n",
       "      <td>0.917069</td>\n",
       "      <td>2022</td>\n",
       "      <td>-1.823418</td>\n",
       "      <td>...</td>\n",
       "      <td>0.047514</td>\n",
       "      <td>0.399588</td>\n",
       "      <td>0.021007</td>\n",
       "      <td>1.0</td>\n",
       "      <td>0.545455</td>\n",
       "      <td>0.126551</td>\n",
       "      <td>0.946429</td>\n",
       "      <td>1.0</td>\n",
       "      <td>1.0</td>\n",
       "      <td>1.0</td>\n",
       "    </tr>\n",
       "  </tbody>\n",
       "</table>\n",
       "<p>1 rows × 110 columns</p>\n",
       "</div>"
      ],
      "text/plain": [
       "       car_code car_manufacturer                   car_model  car_model_year  \\\n",
       "13472     22364          Renault  Sandero GT Line 1.6 16V AT            2021   \n",
       "\n",
       "       Year_x  Price_YoY  Next_YoY_Price  Next_YoY_Pr_Pred  calendar_year  \\\n",
       "13472       1   0.798105        0.958014          0.917069           2022   \n",
       "\n",
       "       Price_sd_scaled  ...  Maximum power  Unit displacement     Trunk  \\\n",
       "13472        -1.823418  ...       0.047514           0.399588  0.021007   \n",
       "\n",
       "       USB connection  Gear speed transmissions     Urban    Year_y  Radio  \\\n",
       "13472             1.0                  0.545455  0.126551  0.946429    1.0   \n",
       "\n",
       "       Folding rear seat  Perimeter anti theft alarm  \n",
       "13472                1.0                         1.0  \n",
       "\n",
       "[1 rows x 110 columns]"
      ]
     },
     "execution_count": 430,
     "metadata": {},
     "output_type": "execute_result"
    }
   ],
   "source": [
    "car = merged_df[merged_df[\"car_model_year\"] == 2021 ] [merged_df[\"calendar_year\"] == 2022]#[merged_df.index == 23575 ]\n",
    "car = merged_df[merged_df.index == 13472 ]\n",
    "car"
   ]
  },
  {
   "cell_type": "code",
   "execution_count": 431,
   "id": "d54f86ce",
   "metadata": {
    "ExecuteTime": {
     "end_time": "2024-02-07T21:19:02.790045Z",
     "start_time": "2024-02-07T21:19:02.677019Z"
    }
   },
   "outputs": [
    {
     "data": {
      "text/html": [
       "<div>\n",
       "<style scoped>\n",
       "    .dataframe tbody tr th:only-of-type {\n",
       "        vertical-align: middle;\n",
       "    }\n",
       "\n",
       "    .dataframe tbody tr th {\n",
       "        vertical-align: top;\n",
       "    }\n",
       "\n",
       "    .dataframe thead th {\n",
       "        text-align: right;\n",
       "    }\n",
       "</style>\n",
       "<table border=\"1\" class=\"dataframe\">\n",
       "  <thead>\n",
       "    <tr style=\"text-align: right;\">\n",
       "      <th></th>\n",
       "      <th>car_manufacturer</th>\n",
       "      <th>Year_x</th>\n",
       "      <th>Price_YoY</th>\n",
       "      <th>calendar_year</th>\n",
       "      <th>Propulsion_Combustion</th>\n",
       "      <th>Propulsion_Electric</th>\n",
       "      <th>Propulsion_Hybrid</th>\n",
       "      <th>Propulsion_Light Hybrid</th>\n",
       "      <th>Propulsion_Plug-in hybrid</th>\n",
       "      <th>Car gearbox_Automated</th>\n",
       "      <th>...</th>\n",
       "      <th>Unit displacement</th>\n",
       "      <th>Trunk</th>\n",
       "      <th>USB connection</th>\n",
       "      <th>Gear speed transmissions</th>\n",
       "      <th>Urban</th>\n",
       "      <th>Year_y</th>\n",
       "      <th>Radio</th>\n",
       "      <th>Folding rear seat</th>\n",
       "      <th>Perimeter anti theft alarm</th>\n",
       "      <th>car_model_small</th>\n",
       "    </tr>\n",
       "  </thead>\n",
       "  <tbody>\n",
       "    <tr>\n",
       "      <th>13472</th>\n",
       "      <td>Renault</td>\n",
       "      <td>1</td>\n",
       "      <td>0.798105</td>\n",
       "      <td>2022</td>\n",
       "      <td>1.0</td>\n",
       "      <td>0.0</td>\n",
       "      <td>0.0</td>\n",
       "      <td>0.0</td>\n",
       "      <td>0.0</td>\n",
       "      <td>0.0</td>\n",
       "      <td>...</td>\n",
       "      <td>0.399588</td>\n",
       "      <td>0.021007</td>\n",
       "      <td>1.0</td>\n",
       "      <td>0.545455</td>\n",
       "      <td>0.126551</td>\n",
       "      <td>0.946429</td>\n",
       "      <td>1.0</td>\n",
       "      <td>1.0</td>\n",
       "      <td>1.0</td>\n",
       "      <td>Sandero</td>\n",
       "    </tr>\n",
       "  </tbody>\n",
       "</table>\n",
       "<p>1 rows × 105 columns</p>\n",
       "</div>"
      ],
      "text/plain": [
       "      car_manufacturer  Year_x  Price_YoY  calendar_year  \\\n",
       "13472          Renault       1   0.798105           2022   \n",
       "\n",
       "       Propulsion_Combustion  Propulsion_Electric  Propulsion_Hybrid  \\\n",
       "13472                    1.0                  0.0                0.0   \n",
       "\n",
       "       Propulsion_Light Hybrid  Propulsion_Plug-in hybrid  \\\n",
       "13472                      0.0                        0.0   \n",
       "\n",
       "       Car gearbox_Automated  ...  Unit displacement     Trunk  \\\n",
       "13472                    0.0  ...           0.399588  0.021007   \n",
       "\n",
       "       USB connection  Gear speed transmissions     Urban    Year_y  Radio  \\\n",
       "13472             1.0                  0.545455  0.126551  0.946429    1.0   \n",
       "\n",
       "       Folding rear seat  Perimeter anti theft alarm  car_model_small  \n",
       "13472                1.0                         1.0          Sandero  \n",
       "\n",
       "[1 rows x 105 columns]"
      ]
     },
     "execution_count": 431,
     "metadata": {},
     "output_type": "execute_result"
    }
   ],
   "source": [
    "car = car.drop( columns=['car_code' , 'car_model_year',  'Next_YoY_Price', 'Next_YoY_Pr_Pred',\n",
    "       'Price_sd_scaled' ])\n",
    "\n",
    "#car = car.drop( columns=['car_code' , 'car_model_year', 'Price_YoY' ,  'Next_YoY_Price', 'Next_YoY_Pr_Pred',\n",
    "#       'Next_Price_sd_scaled' ])\n",
    "\n",
    "car[\"car_model_small\"] = car[\"car_model\"].map(take_first_word)\n",
    "car.drop(columns=\"car_model\", inplace=True)\n",
    "car"
   ]
  },
  {
   "cell_type": "code",
   "execution_count": 432,
   "id": "0b28e375",
   "metadata": {
    "ExecuteTime": {
     "end_time": "2024-02-07T21:19:08.131596Z",
     "start_time": "2024-02-07T21:19:08.092258Z"
    }
   },
   "outputs": [],
   "source": [
    "car_transformed = preprocessor.transform(car)"
   ]
  },
  {
   "cell_type": "code",
   "execution_count": 433,
   "id": "1cbb190a",
   "metadata": {
    "ExecuteTime": {
     "end_time": "2024-02-07T21:19:08.913925Z",
     "start_time": "2024-02-07T21:19:08.895689Z"
    }
   },
   "outputs": [
    {
     "data": {
      "text/plain": [
       "array([0.98977661])"
      ]
     },
     "execution_count": 433,
     "metadata": {},
     "output_type": "execute_result"
    }
   ],
   "source": [
    "model.predict(car_transformed)"
   ]
  },
  {
   "cell_type": "code",
   "execution_count": null,
   "id": "4b0dd28c",
   "metadata": {
    "ExecuteTime": {
     "end_time": "2024-02-07T20:44:00.169257Z",
     "start_time": "2024-02-07T20:44:00.151684Z"
    }
   },
   "outputs": [],
   "source": []
  },
  {
   "cell_type": "code",
   "execution_count": null,
   "id": "198ace1e",
   "metadata": {},
   "outputs": [],
   "source": []
  }
 ],
 "metadata": {
  "kernelspec": {
   "display_name": "Python 3 (ipykernel)",
   "language": "python",
   "name": "python3"
  },
  "language_info": {
   "codemirror_mode": {
    "name": "ipython",
    "version": 3
   },
   "file_extension": ".py",
   "mimetype": "text/x-python",
   "name": "python",
   "nbconvert_exporter": "python",
   "pygments_lexer": "ipython3",
   "version": "3.10.6"
  },
  "toc": {
   "base_numbering": 1,
   "nav_menu": {},
   "number_sections": true,
   "sideBar": true,
   "skip_h1_title": false,
   "title_cell": "Table of Contents",
   "title_sidebar": "Contents",
   "toc_cell": false,
   "toc_position": {},
   "toc_section_display": true,
   "toc_window_display": false
  }
 },
 "nbformat": 4,
 "nbformat_minor": 5
}
