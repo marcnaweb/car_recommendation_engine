{
 "cells": [
  {
   "cell_type": "markdown",
   "id": "53cc9812",
   "metadata": {
    "heading_collapsed": true
   },
   "source": [
    "# importing libraries "
   ]
  },
  {
   "cell_type": "code",
   "execution_count": 158,
   "id": "fcb752d7",
   "metadata": {
    "ExecuteTime": {
     "end_time": "2024-02-13T11:48:20.522470Z",
     "start_time": "2024-02-13T11:48:20.505781Z"
    },
    "hidden": true
   },
   "outputs": [],
   "source": [
    "# Data manipulation\n",
    "import numpy as np \n",
    "import pandas as pd\n",
    "pd.set_option(\"display.max_columns\", None)\n",
    " \n",
    "# Data Visualiation\n",
    "import matplotlib.pyplot as plt\n",
    "import seaborn as sns\n",
    "\n",
    "# System\n",
    "import os\n",
    "\n",
    "# Deep Learning\n",
    "import tensorflow as tf\n",
    "\n",
    "from typing import Dict, List, Tuple, Sequence"
   ]
  },
  {
   "cell_type": "markdown",
   "id": "f893b866",
   "metadata": {
    "ExecuteTime": {
     "end_time": "2024-02-13T09:28:57.983170Z",
     "start_time": "2024-02-13T09:28:57.974159Z"
    },
    "heading_collapsed": true
   },
   "source": [
    "# creating the data frame"
   ]
  },
  {
   "cell_type": "code",
   "execution_count": 159,
   "id": "ade52da6",
   "metadata": {
    "ExecuteTime": {
     "end_time": "2024-02-13T11:48:21.358766Z",
     "start_time": "2024-02-13T11:48:20.535504Z"
    },
    "hidden": true
   },
   "outputs": [],
   "source": [
    "price_df = pd.read_csv('/home/marcnaweb/code/marcnaweb/car_recommendation_engine/raw_data/car_prices_w_prices_scaled.csv', index_col=0)\n",
    "\n",
    "price_df = pd.read_csv('/home/marcnaweb/code/marcnaweb/car_recommendation_engine/raw_data/car_prices_w_prices_scaled.csv', index_col=0)"
   ]
  },
  {
   "cell_type": "code",
   "execution_count": 160,
   "id": "e8730f29",
   "metadata": {
    "ExecuteTime": {
     "end_time": "2024-02-13T11:48:21.452429Z",
     "start_time": "2024-02-13T11:48:21.367798Z"
    },
    "hidden": true
   },
   "outputs": [
    {
     "data": {
      "text/html": [
       "<div>\n",
       "<style scoped>\n",
       "    .dataframe tbody tr th:only-of-type {\n",
       "        vertical-align: middle;\n",
       "    }\n",
       "\n",
       "    .dataframe tbody tr th {\n",
       "        vertical-align: top;\n",
       "    }\n",
       "\n",
       "    .dataframe thead th {\n",
       "        text-align: right;\n",
       "    }\n",
       "</style>\n",
       "<table border=\"1\" class=\"dataframe\">\n",
       "  <thead>\n",
       "    <tr style=\"text-align: right;\">\n",
       "      <th></th>\n",
       "      <th>car_code</th>\n",
       "      <th>car_manufacturer</th>\n",
       "      <th>car_model</th>\n",
       "      <th>car_model_year</th>\n",
       "      <th>Year</th>\n",
       "      <th>Price_YoY</th>\n",
       "      <th>Next_YoY_Price</th>\n",
       "      <th>Next_YoY_Pr_Pred</th>\n",
       "      <th>calendar_year</th>\n",
       "      <th>Price_sd_scaled</th>\n",
       "    </tr>\n",
       "  </thead>\n",
       "  <tbody>\n",
       "    <tr>\n",
       "      <th>373016</th>\n",
       "      <td>371</td>\n",
       "      <td>Volkswagen</td>\n",
       "      <td>Polo 1.6</td>\n",
       "      <td>2003</td>\n",
       "      <td>19</td>\n",
       "      <td>1.346345</td>\n",
       "      <td>1.022858</td>\n",
       "      <td>0.979539</td>\n",
       "      <td>2022</td>\n",
       "      <td>2.004089</td>\n",
       "    </tr>\n",
       "    <tr>\n",
       "      <th>373017</th>\n",
       "      <td>372</td>\n",
       "      <td>Ford</td>\n",
       "      <td>Fiesta Supercharger 1.0</td>\n",
       "      <td>2003</td>\n",
       "      <td>19</td>\n",
       "      <td>1.138171</td>\n",
       "      <td>1.052518</td>\n",
       "      <td>0.979539</td>\n",
       "      <td>2022</td>\n",
       "      <td>-0.039959</td>\n",
       "    </tr>\n",
       "    <tr>\n",
       "      <th>373021</th>\n",
       "      <td>376</td>\n",
       "      <td>Audi</td>\n",
       "      <td>S3 1.8 Turbo Quattro</td>\n",
       "      <td>2003</td>\n",
       "      <td>19</td>\n",
       "      <td>1.097381</td>\n",
       "      <td>1.095261</td>\n",
       "      <td>0.979539</td>\n",
       "      <td>2022</td>\n",
       "      <td>-0.440472</td>\n",
       "    </tr>\n",
       "    <tr>\n",
       "      <th>373022</th>\n",
       "      <td>377</td>\n",
       "      <td>Alfa Romeo</td>\n",
       "      <td>156 2.5 V6</td>\n",
       "      <td>2003</td>\n",
       "      <td>19</td>\n",
       "      <td>1.411365</td>\n",
       "      <td>0.990306</td>\n",
       "      <td>0.979539</td>\n",
       "      <td>2022</td>\n",
       "      <td>2.642515</td>\n",
       "    </tr>\n",
       "    <tr>\n",
       "      <th>373023</th>\n",
       "      <td>379</td>\n",
       "      <td>Volkswagen</td>\n",
       "      <td>Parati Tour 2.0</td>\n",
       "      <td>2003</td>\n",
       "      <td>19</td>\n",
       "      <td>1.166472</td>\n",
       "      <td>0.936489</td>\n",
       "      <td>0.979539</td>\n",
       "      <td>2022</td>\n",
       "      <td>0.237928</td>\n",
       "    </tr>\n",
       "    <tr>\n",
       "      <th>...</th>\n",
       "      <td>...</td>\n",
       "      <td>...</td>\n",
       "      <td>...</td>\n",
       "      <td>...</td>\n",
       "      <td>...</td>\n",
       "      <td>...</td>\n",
       "      <td>...</td>\n",
       "      <td>...</td>\n",
       "      <td>...</td>\n",
       "      <td>...</td>\n",
       "    </tr>\n",
       "    <tr>\n",
       "      <th>385</th>\n",
       "      <td>398</td>\n",
       "      <td>Fiat</td>\n",
       "      <td>Stilo Abarth 2.4 20V</td>\n",
       "      <td>2003</td>\n",
       "      <td>1</td>\n",
       "      <td>0.943185</td>\n",
       "      <td>0.898591</td>\n",
       "      <td>0.917069</td>\n",
       "      <td>2004</td>\n",
       "      <td>1.639149</td>\n",
       "    </tr>\n",
       "    <tr>\n",
       "      <th>426</th>\n",
       "      <td>441</td>\n",
       "      <td>Audi</td>\n",
       "      <td>A8 4.2 V8 Quattro</td>\n",
       "      <td>2003</td>\n",
       "      <td>1</td>\n",
       "      <td>0.749652</td>\n",
       "      <td>0.961737</td>\n",
       "      <td>0.917069</td>\n",
       "      <td>2004</td>\n",
       "      <td>-0.836267</td>\n",
       "    </tr>\n",
       "    <tr>\n",
       "      <th>427</th>\n",
       "      <td>442</td>\n",
       "      <td>Land Rover</td>\n",
       "      <td>Range Rover HSE 4.4 V8</td>\n",
       "      <td>2003</td>\n",
       "      <td>1</td>\n",
       "      <td>0.753798</td>\n",
       "      <td>0.862201</td>\n",
       "      <td>0.917069</td>\n",
       "      <td>2004</td>\n",
       "      <td>-0.783237</td>\n",
       "    </tr>\n",
       "    <tr>\n",
       "      <th>20753</th>\n",
       "      <td>53</td>\n",
       "      <td>Volvo</td>\n",
       "      <td>S60 T5 2.3</td>\n",
       "      <td>2001</td>\n",
       "      <td>2</td>\n",
       "      <td>0.781296</td>\n",
       "      <td>1.090581</td>\n",
       "      <td>0.916243</td>\n",
       "      <td>2003</td>\n",
       "      <td>0.000000</td>\n",
       "    </tr>\n",
       "    <tr>\n",
       "      <th>50</th>\n",
       "      <td>53</td>\n",
       "      <td>Volvo</td>\n",
       "      <td>S60 T5 2.3</td>\n",
       "      <td>2001</td>\n",
       "      <td>1</td>\n",
       "      <td>0.801623</td>\n",
       "      <td>0.781296</td>\n",
       "      <td>0.917069</td>\n",
       "      <td>2002</td>\n",
       "      <td>0.000000</td>\n",
       "    </tr>\n",
       "  </tbody>\n",
       "</table>\n",
       "<p>87891 rows × 10 columns</p>\n",
       "</div>"
      ],
      "text/plain": [
       "        car_code car_manufacturer                car_model  car_model_year  \\\n",
       "373016       371       Volkswagen                 Polo 1.6            2003   \n",
       "373017       372             Ford  Fiesta Supercharger 1.0            2003   \n",
       "373021       376             Audi     S3 1.8 Turbo Quattro            2003   \n",
       "373022       377       Alfa Romeo               156 2.5 V6            2003   \n",
       "373023       379       Volkswagen          Parati Tour 2.0            2003   \n",
       "...          ...              ...                      ...             ...   \n",
       "385          398             Fiat     Stilo Abarth 2.4 20V            2003   \n",
       "426          441             Audi        A8 4.2 V8 Quattro            2003   \n",
       "427          442       Land Rover   Range Rover HSE 4.4 V8            2003   \n",
       "20753         53            Volvo               S60 T5 2.3            2001   \n",
       "50            53            Volvo               S60 T5 2.3            2001   \n",
       "\n",
       "        Year  Price_YoY  Next_YoY_Price  Next_YoY_Pr_Pred  calendar_year  \\\n",
       "373016    19   1.346345        1.022858          0.979539           2022   \n",
       "373017    19   1.138171        1.052518          0.979539           2022   \n",
       "373021    19   1.097381        1.095261          0.979539           2022   \n",
       "373022    19   1.411365        0.990306          0.979539           2022   \n",
       "373023    19   1.166472        0.936489          0.979539           2022   \n",
       "...      ...        ...             ...               ...            ...   \n",
       "385        1   0.943185        0.898591          0.917069           2004   \n",
       "426        1   0.749652        0.961737          0.917069           2004   \n",
       "427        1   0.753798        0.862201          0.917069           2004   \n",
       "20753      2   0.781296        1.090581          0.916243           2003   \n",
       "50         1   0.801623        0.781296          0.917069           2002   \n",
       "\n",
       "        Price_sd_scaled  \n",
       "373016         2.004089  \n",
       "373017        -0.039959  \n",
       "373021        -0.440472  \n",
       "373022         2.642515  \n",
       "373023         0.237928  \n",
       "...                 ...  \n",
       "385            1.639149  \n",
       "426           -0.836267  \n",
       "427           -0.783237  \n",
       "20753          0.000000  \n",
       "50             0.000000  \n",
       "\n",
       "[87891 rows x 10 columns]"
      ]
     },
     "execution_count": 160,
     "metadata": {},
     "output_type": "execute_result"
    }
   ],
   "source": [
    "price_df"
   ]
  },
  {
   "cell_type": "code",
   "execution_count": 161,
   "id": "252307e2",
   "metadata": {
    "ExecuteTime": {
     "end_time": "2024-02-13T11:48:22.652694Z",
     "start_time": "2024-02-13T11:48:21.467952Z"
    },
    "hidden": true
   },
   "outputs": [
    {
     "data": {
      "text/plain": [
       "<AxesSubplot:xlabel='Year', ylabel='Count'>"
      ]
     },
     "execution_count": 161,
     "metadata": {},
     "output_type": "execute_result"
    },
    {
     "data": {
      "image/png": "[encoded data removed]",
      "text/plain": [
       "<Figure size 640x480 with 1 Axes>"
      ]
     },
     "metadata": {},
     "output_type": "display_data"
    }
   ],
   "source": [
    "sns.histplot(data=price_df, x=\"Year\")"
   ]
  },
  {
   "cell_type": "code",
   "execution_count": 162,
   "id": "c2462f7e",
   "metadata": {
    "ExecuteTime": {
     "end_time": "2024-02-13T11:48:25.888907Z",
     "start_time": "2024-02-13T11:48:22.663058Z"
    },
    "hidden": true
   },
   "outputs": [
    {
     "data": {
      "text/plain": [
       "<AxesSubplot:xlabel='calendar_year', ylabel='Count'>"
      ]
     },
     "execution_count": 162,
     "metadata": {},
     "output_type": "execute_result"
    },
    {
     "data": {
      "image/png": "[encoded data removed]",
      "text/plain": [
       "<Figure size 640x480 with 1 Axes>"
      ]
     },
     "metadata": {},
     "output_type": "display_data"
    }
   ],
   "source": [
    "sns.histplot(data=price_df, x=\"calendar_year\")"
   ]
  },
  {
   "cell_type": "code",
   "execution_count": 163,
   "id": "b5ad86dc",
   "metadata": {
    "ExecuteTime": {
     "end_time": "2024-02-13T11:48:26.050957Z",
     "start_time": "2024-02-13T11:48:25.910762Z"
    },
    "hidden": true
   },
   "outputs": [
    {
     "data": {
      "text/plain": [
       "calendar_year\n",
       "2002        1\n",
       "2003        1\n",
       "2004        5\n",
       "2005        9\n",
       "2006      108\n",
       "2007      195\n",
       "2008      331\n",
       "2009      555\n",
       "2010      839\n",
       "2011     1730\n",
       "2012     2695\n",
       "2013     3507\n",
       "2014     4315\n",
       "2015     5203\n",
       "2016     6295\n",
       "2017     7348\n",
       "2018     8315\n",
       "2019     9352\n",
       "2020    10828\n",
       "2021    12785\n",
       "2022    13474\n",
       "Name: car_code, dtype: int64"
      ]
     },
     "execution_count": 163,
     "metadata": {},
     "output_type": "execute_result"
    }
   ],
   "source": [
    "price_df.groupby(\"calendar_year\").count()[\"car_code\"]"
   ]
  },
  {
   "cell_type": "code",
   "execution_count": 164,
   "id": "9c212dc1",
   "metadata": {
    "ExecuteTime": {
     "end_time": "2024-02-13T11:48:26.124505Z",
     "start_time": "2024-02-13T11:48:26.064856Z"
    },
    "hidden": true
   },
   "outputs": [
    {
     "data": {
      "text/plain": [
       "4761"
      ]
     },
     "execution_count": 164,
     "metadata": {},
     "output_type": "execute_result"
    }
   ],
   "source": [
    "price_df[\"car_model\"].nunique()"
   ]
  },
  {
   "cell_type": "code",
   "execution_count": 165,
   "id": "7fcb9e88",
   "metadata": {
    "ExecuteTime": {
     "end_time": "2024-02-13T11:48:26.182879Z",
     "start_time": "2024-02-13T11:48:26.146284Z"
    },
    "hidden": true
   },
   "outputs": [
    {
     "data": {
      "text/plain": [
       "6.40951860827616"
      ]
     },
     "execution_count": 165,
     "metadata": {},
     "output_type": "execute_result"
    }
   ],
   "source": [
    "price_df[\"Year\"].mean()"
   ]
  },
  {
   "cell_type": "markdown",
   "id": "f46af8f8",
   "metadata": {
    "ExecuteTime": {
     "end_time": "2024-02-13T09:40:37.192761Z",
     "start_time": "2024-02-13T09:40:37.181064Z"
    },
    "hidden": true
   },
   "source": [
    "*we have 4761 car models, tracked during 20 years for about 6,4 years*"
   ]
  },
  {
   "cell_type": "code",
   "execution_count": 166,
   "id": "2536af9c",
   "metadata": {
    "ExecuteTime": {
     "end_time": "2024-02-13T11:48:27.403169Z",
     "start_time": "2024-02-13T11:48:26.225867Z"
    },
    "hidden": true
   },
   "outputs": [
    {
     "data": {
      "text/plain": [
       "<AxesSubplot:xlabel='Year', ylabel='Count'>"
      ]
     },
     "execution_count": 166,
     "metadata": {},
     "output_type": "execute_result"
    },
    {
     "data": {
      "image/png": "[encoded data removed]",
      "text/plain": [
       "<Figure size 640x480 with 1 Axes>"
      ]
     },
     "metadata": {},
     "output_type": "display_data"
    }
   ],
   "source": [
    "sns.histplot(data=price_df, x=\"Year\")"
   ]
  },
  {
   "cell_type": "markdown",
   "id": "b6c9bbca",
   "metadata": {
    "ExecuteTime": {
     "end_time": "2024-02-13T09:42:28.114629Z",
     "start_time": "2024-02-13T09:42:28.105935Z"
    },
    "hidden": true
   },
   "source": [
    "*we will use 3 years/observations as an input to predict the next year*: we have enough observations \"past\" / \"future\" observation for it"
   ]
  },
  {
   "cell_type": "code",
   "execution_count": 167,
   "id": "b1d7f488",
   "metadata": {
    "ExecuteTime": {
     "end_time": "2024-02-13T11:48:27.544923Z",
     "start_time": "2024-02-13T11:48:27.412454Z"
    },
    "hidden": true
   },
   "outputs": [],
   "source": [
    "order_price_df = price_df.sort_values([\"car_code\",\"Year\"] )\n",
    "order_price_df.drop(columns=[\"Price_sd_scaled\"], inplace=True)\n",
    "order_price_df.drop(columns=[\"Next_YoY_Pr_Pred\"], inplace=True)"
   ]
  },
  {
   "cell_type": "code",
   "execution_count": null,
   "id": "0eee0a0d",
   "metadata": {
    "hidden": true
   },
   "outputs": [],
   "source": []
  },
  {
   "cell_type": "code",
   "execution_count": 168,
   "id": "a931fc5f",
   "metadata": {
    "ExecuteTime": {
     "end_time": "2024-02-13T11:48:27.778872Z",
     "start_time": "2024-02-13T11:48:27.553434Z"
    },
    "hidden": true,
    "scrolled": false
   },
   "outputs": [
    {
     "data": {
      "text/html": [
       "<div>\n",
       "<style scoped>\n",
       "    .dataframe tbody tr th:only-of-type {\n",
       "        vertical-align: middle;\n",
       "    }\n",
       "\n",
       "    .dataframe tbody tr th {\n",
       "        vertical-align: top;\n",
       "    }\n",
       "\n",
       "    .dataframe thead th {\n",
       "        text-align: right;\n",
       "    }\n",
       "</style>\n",
       "<table border=\"1\" class=\"dataframe\">\n",
       "  <thead>\n",
       "    <tr style=\"text-align: right;\">\n",
       "      <th></th>\n",
       "      <th>car_code</th>\n",
       "      <th>car_manufacturer</th>\n",
       "      <th>car_model</th>\n",
       "      <th>car_model_year</th>\n",
       "      <th>Year</th>\n",
       "      <th>Price_YoY</th>\n",
       "      <th>Next_YoY_Price</th>\n",
       "      <th>calendar_year</th>\n",
       "      <th>prev_1_Price_YoY</th>\n",
       "      <th>prev_2_Price_YoY</th>\n",
       "    </tr>\n",
       "  </thead>\n",
       "  <tbody>\n",
       "    <tr>\n",
       "      <th>46408</th>\n",
       "      <td>5123</td>\n",
       "      <td>Chevrolet</td>\n",
       "      <td>Classic Advantage 1.0</td>\n",
       "      <td>2015</td>\n",
       "      <td>3</td>\n",
       "      <td>0.957665</td>\n",
       "      <td>0.936641</td>\n",
       "      <td>2018</td>\n",
       "      <td>0.938800</td>\n",
       "      <td>0.724582</td>\n",
       "    </tr>\n",
       "    <tr>\n",
       "      <th>67111</th>\n",
       "      <td>5123</td>\n",
       "      <td>Chevrolet</td>\n",
       "      <td>Classic Advantage 1.0</td>\n",
       "      <td>2015</td>\n",
       "      <td>4</td>\n",
       "      <td>0.936641</td>\n",
       "      <td>0.943042</td>\n",
       "      <td>2019</td>\n",
       "      <td>0.957665</td>\n",
       "      <td>0.938800</td>\n",
       "    </tr>\n",
       "    <tr>\n",
       "      <th>87814</th>\n",
       "      <td>5123</td>\n",
       "      <td>Chevrolet</td>\n",
       "      <td>Classic Advantage 1.0</td>\n",
       "      <td>2015</td>\n",
       "      <td>5</td>\n",
       "      <td>0.943042</td>\n",
       "      <td>0.898867</td>\n",
       "      <td>2020</td>\n",
       "      <td>0.936641</td>\n",
       "      <td>0.957665</td>\n",
       "    </tr>\n",
       "    <tr>\n",
       "      <th>108517</th>\n",
       "      <td>5123</td>\n",
       "      <td>Chevrolet</td>\n",
       "      <td>Classic Advantage 1.0</td>\n",
       "      <td>2015</td>\n",
       "      <td>6</td>\n",
       "      <td>0.898867</td>\n",
       "      <td>1.205907</td>\n",
       "      <td>2021</td>\n",
       "      <td>0.943042</td>\n",
       "      <td>0.936641</td>\n",
       "    </tr>\n",
       "    <tr>\n",
       "      <th>129220</th>\n",
       "      <td>5123</td>\n",
       "      <td>Chevrolet</td>\n",
       "      <td>Classic Advantage 1.0</td>\n",
       "      <td>2015</td>\n",
       "      <td>7</td>\n",
       "      <td>1.205907</td>\n",
       "      <td>0.975592</td>\n",
       "      <td>2022</td>\n",
       "      <td>0.898867</td>\n",
       "      <td>0.943042</td>\n",
       "    </tr>\n",
       "  </tbody>\n",
       "</table>\n",
       "</div>"
      ],
      "text/plain": [
       "        car_code car_manufacturer              car_model  car_model_year  \\\n",
       "46408       5123        Chevrolet  Classic Advantage 1.0            2015   \n",
       "67111       5123        Chevrolet  Classic Advantage 1.0            2015   \n",
       "87814       5123        Chevrolet  Classic Advantage 1.0            2015   \n",
       "108517      5123        Chevrolet  Classic Advantage 1.0            2015   \n",
       "129220      5123        Chevrolet  Classic Advantage 1.0            2015   \n",
       "\n",
       "        Year  Price_YoY  Next_YoY_Price  calendar_year  prev_1_Price_YoY  \\\n",
       "46408      3   0.957665        0.936641           2018          0.938800   \n",
       "67111      4   0.936641        0.943042           2019          0.957665   \n",
       "87814      5   0.943042        0.898867           2020          0.936641   \n",
       "108517     6   0.898867        1.205907           2021          0.943042   \n",
       "129220     7   1.205907        0.975592           2022          0.898867   \n",
       "\n",
       "        prev_2_Price_YoY  \n",
       "46408           0.724582  \n",
       "67111           0.938800  \n",
       "87814           0.957665  \n",
       "108517          0.936641  \n",
       "129220          0.943042  "
      ]
     },
     "execution_count": 168,
     "metadata": {},
     "output_type": "execute_result"
    }
   ],
   "source": [
    "order_price_df[\"prev_1_Price_YoY\"] = order_price_df.sort_values([\"car_code\",\"Year\"] ).groupby('car_code')[\"Price_YoY\"].shift(1)\n",
    "\n",
    "order_price_df[\"prev_2_Price_YoY\"] = order_price_df.sort_values([\"car_code\",\"Year\"] ).groupby('car_code')[\"Price_YoY\"].shift(2)\n",
    "\n",
    "\n",
    "order_price_df = order_price_df[order_price_df[\"prev_1_Price_YoY\"].isnull() == False]\n",
    "order_price_df = order_price_df[order_price_df[\"prev_2_Price_YoY\"].isnull() == False]\n",
    "\n",
    "order_price_df[order_price_df[\"car_code\"] == 5123]\n",
    "\n",
    "\n"
   ]
  },
  {
   "cell_type": "code",
   "execution_count": null,
   "id": "5b9c6fd8",
   "metadata": {
    "ExecuteTime": {
     "end_time": "2024-02-13T11:29:52.873678Z",
     "start_time": "2024-02-13T11:29:52.852182Z"
    },
    "hidden": true
   },
   "outputs": [],
   "source": []
  },
  {
   "cell_type": "code",
   "execution_count": 169,
   "id": "3393c95e",
   "metadata": {
    "ExecuteTime": {
     "end_time": "2024-02-13T11:48:27.848680Z",
     "start_time": "2024-02-13T11:48:27.788299Z"
    },
    "hidden": true
   },
   "outputs": [
    {
     "data": {
      "text/html": [
       "<div>\n",
       "<style scoped>\n",
       "    .dataframe tbody tr th:only-of-type {\n",
       "        vertical-align: middle;\n",
       "    }\n",
       "\n",
       "    .dataframe tbody tr th {\n",
       "        vertical-align: top;\n",
       "    }\n",
       "\n",
       "    .dataframe thead th {\n",
       "        text-align: right;\n",
       "    }\n",
       "</style>\n",
       "<table border=\"1\" class=\"dataframe\">\n",
       "  <thead>\n",
       "    <tr style=\"text-align: right;\">\n",
       "      <th></th>\n",
       "      <th>car_code</th>\n",
       "      <th>car_manufacturer</th>\n",
       "      <th>car_model</th>\n",
       "      <th>car_model_year</th>\n",
       "      <th>Year</th>\n",
       "      <th>Price_YoY</th>\n",
       "      <th>Next_YoY_Price</th>\n",
       "      <th>calendar_year</th>\n",
       "      <th>prev_1_Price_YoY</th>\n",
       "      <th>prev_2_Price_YoY</th>\n",
       "    </tr>\n",
       "  </thead>\n",
       "  <tbody>\n",
       "    <tr>\n",
       "      <th>46408</th>\n",
       "      <td>5123</td>\n",
       "      <td>Chevrolet</td>\n",
       "      <td>Classic Advantage 1.0</td>\n",
       "      <td>2015</td>\n",
       "      <td>3</td>\n",
       "      <td>0.957665</td>\n",
       "      <td>0.936641</td>\n",
       "      <td>2018</td>\n",
       "      <td>0.938800</td>\n",
       "      <td>0.724582</td>\n",
       "    </tr>\n",
       "    <tr>\n",
       "      <th>67111</th>\n",
       "      <td>5123</td>\n",
       "      <td>Chevrolet</td>\n",
       "      <td>Classic Advantage 1.0</td>\n",
       "      <td>2015</td>\n",
       "      <td>4</td>\n",
       "      <td>0.936641</td>\n",
       "      <td>0.943042</td>\n",
       "      <td>2019</td>\n",
       "      <td>0.957665</td>\n",
       "      <td>0.938800</td>\n",
       "    </tr>\n",
       "    <tr>\n",
       "      <th>87814</th>\n",
       "      <td>5123</td>\n",
       "      <td>Chevrolet</td>\n",
       "      <td>Classic Advantage 1.0</td>\n",
       "      <td>2015</td>\n",
       "      <td>5</td>\n",
       "      <td>0.943042</td>\n",
       "      <td>0.898867</td>\n",
       "      <td>2020</td>\n",
       "      <td>0.936641</td>\n",
       "      <td>0.957665</td>\n",
       "    </tr>\n",
       "    <tr>\n",
       "      <th>108517</th>\n",
       "      <td>5123</td>\n",
       "      <td>Chevrolet</td>\n",
       "      <td>Classic Advantage 1.0</td>\n",
       "      <td>2015</td>\n",
       "      <td>6</td>\n",
       "      <td>0.898867</td>\n",
       "      <td>1.205907</td>\n",
       "      <td>2021</td>\n",
       "      <td>0.943042</td>\n",
       "      <td>0.936641</td>\n",
       "    </tr>\n",
       "    <tr>\n",
       "      <th>129220</th>\n",
       "      <td>5123</td>\n",
       "      <td>Chevrolet</td>\n",
       "      <td>Classic Advantage 1.0</td>\n",
       "      <td>2015</td>\n",
       "      <td>7</td>\n",
       "      <td>1.205907</td>\n",
       "      <td>0.975592</td>\n",
       "      <td>2022</td>\n",
       "      <td>0.898867</td>\n",
       "      <td>0.943042</td>\n",
       "    </tr>\n",
       "  </tbody>\n",
       "</table>\n",
       "</div>"
      ],
      "text/plain": [
       "        car_code car_manufacturer              car_model  car_model_year  \\\n",
       "46408       5123        Chevrolet  Classic Advantage 1.0            2015   \n",
       "67111       5123        Chevrolet  Classic Advantage 1.0            2015   \n",
       "87814       5123        Chevrolet  Classic Advantage 1.0            2015   \n",
       "108517      5123        Chevrolet  Classic Advantage 1.0            2015   \n",
       "129220      5123        Chevrolet  Classic Advantage 1.0            2015   \n",
       "\n",
       "        Year  Price_YoY  Next_YoY_Price  calendar_year  prev_1_Price_YoY  \\\n",
       "46408      3   0.957665        0.936641           2018          0.938800   \n",
       "67111      4   0.936641        0.943042           2019          0.957665   \n",
       "87814      5   0.943042        0.898867           2020          0.936641   \n",
       "108517     6   0.898867        1.205907           2021          0.943042   \n",
       "129220     7   1.205907        0.975592           2022          0.898867   \n",
       "\n",
       "        prev_2_Price_YoY  \n",
       "46408           0.724582  \n",
       "67111           0.938800  \n",
       "87814           0.957665  \n",
       "108517          0.936641  \n",
       "129220          0.943042  "
      ]
     },
     "execution_count": 169,
     "metadata": {},
     "output_type": "execute_result"
    }
   ],
   "source": [
    "\n",
    "order_price_df[order_price_df[\"car_code\"] == 5123]\n",
    "\n"
   ]
  },
  {
   "cell_type": "code",
   "execution_count": null,
   "id": "f8f2d597",
   "metadata": {
    "hidden": true
   },
   "outputs": [],
   "source": []
  },
  {
   "cell_type": "code",
   "execution_count": 170,
   "id": "1bc1751e",
   "metadata": {
    "ExecuteTime": {
     "end_time": "2024-02-13T11:48:27.935458Z",
     "start_time": "2024-02-13T11:48:27.863347Z"
    },
    "hidden": true
   },
   "outputs": [
    {
     "data": {
      "text/html": [
       "<div>\n",
       "<style scoped>\n",
       "    .dataframe tbody tr th:only-of-type {\n",
       "        vertical-align: middle;\n",
       "    }\n",
       "\n",
       "    .dataframe tbody tr th {\n",
       "        vertical-align: top;\n",
       "    }\n",
       "\n",
       "    .dataframe thead th {\n",
       "        text-align: right;\n",
       "    }\n",
       "</style>\n",
       "<table border=\"1\" class=\"dataframe\">\n",
       "  <thead>\n",
       "    <tr style=\"text-align: right;\">\n",
       "      <th></th>\n",
       "      <th>prev_2_Price_YoY</th>\n",
       "      <th>prev_1_Price_YoY</th>\n",
       "      <th>Price_YoY</th>\n",
       "      <th>Next_YoY_Price</th>\n",
       "    </tr>\n",
       "  </thead>\n",
       "  <tbody>\n",
       "    <tr>\n",
       "      <th>227734</th>\n",
       "      <td>0.904178</td>\n",
       "      <td>0.852240</td>\n",
       "      <td>0.907692</td>\n",
       "      <td>0.879982</td>\n",
       "    </tr>\n",
       "    <tr>\n",
       "      <th>248437</th>\n",
       "      <td>0.852240</td>\n",
       "      <td>0.907692</td>\n",
       "      <td>0.879982</td>\n",
       "      <td>0.904896</td>\n",
       "    </tr>\n",
       "    <tr>\n",
       "      <th>269140</th>\n",
       "      <td>0.907692</td>\n",
       "      <td>0.879982</td>\n",
       "      <td>0.904896</td>\n",
       "      <td>0.928763</td>\n",
       "    </tr>\n",
       "    <tr>\n",
       "      <th>289843</th>\n",
       "      <td>0.879982</td>\n",
       "      <td>0.904896</td>\n",
       "      <td>0.928763</td>\n",
       "      <td>1.000050</td>\n",
       "    </tr>\n",
       "    <tr>\n",
       "      <th>310546</th>\n",
       "      <td>0.904896</td>\n",
       "      <td>0.928763</td>\n",
       "      <td>1.000050</td>\n",
       "      <td>0.938794</td>\n",
       "    </tr>\n",
       "    <tr>\n",
       "      <th>...</th>\n",
       "      <td>...</td>\n",
       "      <td>...</td>\n",
       "      <td>...</td>\n",
       "      <td>...</td>\n",
       "    </tr>\n",
       "    <tr>\n",
       "      <th>82475</th>\n",
       "      <td>0.967577</td>\n",
       "      <td>1.220987</td>\n",
       "      <td>0.963152</td>\n",
       "      <td>0.968071</td>\n",
       "    </tr>\n",
       "    <tr>\n",
       "      <th>61773</th>\n",
       "      <td>0.877204</td>\n",
       "      <td>0.781956</td>\n",
       "      <td>1.075859</td>\n",
       "      <td>0.960412</td>\n",
       "    </tr>\n",
       "    <tr>\n",
       "      <th>82476</th>\n",
       "      <td>0.781956</td>\n",
       "      <td>1.075859</td>\n",
       "      <td>0.960412</td>\n",
       "      <td>0.952021</td>\n",
       "    </tr>\n",
       "    <tr>\n",
       "      <th>61775</th>\n",
       "      <td>0.785524</td>\n",
       "      <td>0.943683</td>\n",
       "      <td>1.135969</td>\n",
       "      <td>0.956587</td>\n",
       "    </tr>\n",
       "    <tr>\n",
       "      <th>82478</th>\n",
       "      <td>0.943683</td>\n",
       "      <td>1.135969</td>\n",
       "      <td>0.956587</td>\n",
       "      <td>0.957619</td>\n",
       "    </tr>\n",
       "  </tbody>\n",
       "</table>\n",
       "<p>60073 rows × 4 columns</p>\n",
       "</div>"
      ],
      "text/plain": [
       "        prev_2_Price_YoY  prev_1_Price_YoY  Price_YoY  Next_YoY_Price\n",
       "227734          0.904178          0.852240   0.907692        0.879982\n",
       "248437          0.852240          0.907692   0.879982        0.904896\n",
       "269140          0.907692          0.879982   0.904896        0.928763\n",
       "289843          0.879982          0.904896   0.928763        1.000050\n",
       "310546          0.904896          0.928763   1.000050        0.938794\n",
       "...                  ...               ...        ...             ...\n",
       "82475           0.967577          1.220987   0.963152        0.968071\n",
       "61773           0.877204          0.781956   1.075859        0.960412\n",
       "82476           0.781956          1.075859   0.960412        0.952021\n",
       "61775           0.785524          0.943683   1.135969        0.956587\n",
       "82478           0.943683          1.135969   0.956587        0.957619\n",
       "\n",
       "[60073 rows x 4 columns]"
      ]
     },
     "execution_count": 170,
     "metadata": {},
     "output_type": "execute_result"
    }
   ],
   "source": []
  },
  {
   "cell_type": "markdown",
   "id": "e5b97112",
   "metadata": {
    "ExecuteTime": {
     "end_time": "2024-02-13T11:49:16.546121Z",
     "start_time": "2024-02-13T11:49:16.537597Z"
    }
   },
   "source": [
    "# Creating X Y "
   ]
  },
  {
   "cell_type": "code",
   "execution_count": 175,
   "id": "2648ac88",
   "metadata": {
    "ExecuteTime": {
     "end_time": "2024-02-13T11:49:35.249410Z",
     "start_time": "2024-02-13T11:49:35.193223Z"
    }
   },
   "outputs": [
    {
     "data": {
      "text/html": [
       "<div>\n",
       "<style scoped>\n",
       "    .dataframe tbody tr th:only-of-type {\n",
       "        vertical-align: middle;\n",
       "    }\n",
       "\n",
       "    .dataframe tbody tr th {\n",
       "        vertical-align: top;\n",
       "    }\n",
       "\n",
       "    .dataframe thead th {\n",
       "        text-align: right;\n",
       "    }\n",
       "</style>\n",
       "<table border=\"1\" class=\"dataframe\">\n",
       "  <thead>\n",
       "    <tr style=\"text-align: right;\">\n",
       "      <th></th>\n",
       "      <th>prev_2_Price_YoY</th>\n",
       "      <th>prev_1_Price_YoY</th>\n",
       "      <th>Price_YoY</th>\n",
       "      <th>Next_YoY_Price</th>\n",
       "    </tr>\n",
       "  </thead>\n",
       "  <tbody>\n",
       "    <tr>\n",
       "      <th>227734</th>\n",
       "      <td>0.904178</td>\n",
       "      <td>0.852240</td>\n",
       "      <td>0.907692</td>\n",
       "      <td>0.879982</td>\n",
       "    </tr>\n",
       "    <tr>\n",
       "      <th>248437</th>\n",
       "      <td>0.852240</td>\n",
       "      <td>0.907692</td>\n",
       "      <td>0.879982</td>\n",
       "      <td>0.904896</td>\n",
       "    </tr>\n",
       "    <tr>\n",
       "      <th>269140</th>\n",
       "      <td>0.907692</td>\n",
       "      <td>0.879982</td>\n",
       "      <td>0.904896</td>\n",
       "      <td>0.928763</td>\n",
       "    </tr>\n",
       "    <tr>\n",
       "      <th>289843</th>\n",
       "      <td>0.879982</td>\n",
       "      <td>0.904896</td>\n",
       "      <td>0.928763</td>\n",
       "      <td>1.000050</td>\n",
       "    </tr>\n",
       "    <tr>\n",
       "      <th>310546</th>\n",
       "      <td>0.904896</td>\n",
       "      <td>0.928763</td>\n",
       "      <td>1.000050</td>\n",
       "      <td>0.938794</td>\n",
       "    </tr>\n",
       "    <tr>\n",
       "      <th>...</th>\n",
       "      <td>...</td>\n",
       "      <td>...</td>\n",
       "      <td>...</td>\n",
       "      <td>...</td>\n",
       "    </tr>\n",
       "    <tr>\n",
       "      <th>82475</th>\n",
       "      <td>0.967577</td>\n",
       "      <td>1.220987</td>\n",
       "      <td>0.963152</td>\n",
       "      <td>0.968071</td>\n",
       "    </tr>\n",
       "    <tr>\n",
       "      <th>61773</th>\n",
       "      <td>0.877204</td>\n",
       "      <td>0.781956</td>\n",
       "      <td>1.075859</td>\n",
       "      <td>0.960412</td>\n",
       "    </tr>\n",
       "    <tr>\n",
       "      <th>82476</th>\n",
       "      <td>0.781956</td>\n",
       "      <td>1.075859</td>\n",
       "      <td>0.960412</td>\n",
       "      <td>0.952021</td>\n",
       "    </tr>\n",
       "    <tr>\n",
       "      <th>61775</th>\n",
       "      <td>0.785524</td>\n",
       "      <td>0.943683</td>\n",
       "      <td>1.135969</td>\n",
       "      <td>0.956587</td>\n",
       "    </tr>\n",
       "    <tr>\n",
       "      <th>82478</th>\n",
       "      <td>0.943683</td>\n",
       "      <td>1.135969</td>\n",
       "      <td>0.956587</td>\n",
       "      <td>0.957619</td>\n",
       "    </tr>\n",
       "  </tbody>\n",
       "</table>\n",
       "<p>60073 rows × 4 columns</p>\n",
       "</div>"
      ],
      "text/plain": [
       "        prev_2_Price_YoY  prev_1_Price_YoY  Price_YoY  Next_YoY_Price\n",
       "227734          0.904178          0.852240   0.907692        0.879982\n",
       "248437          0.852240          0.907692   0.879982        0.904896\n",
       "269140          0.907692          0.879982   0.904896        0.928763\n",
       "289843          0.879982          0.904896   0.928763        1.000050\n",
       "310546          0.904896          0.928763   1.000050        0.938794\n",
       "...                  ...               ...        ...             ...\n",
       "82475           0.967577          1.220987   0.963152        0.968071\n",
       "61773           0.877204          0.781956   1.075859        0.960412\n",
       "82476           0.781956          1.075859   0.960412        0.952021\n",
       "61775           0.785524          0.943683   1.135969        0.956587\n",
       "82478           0.943683          1.135969   0.956587        0.957619\n",
       "\n",
       "[60073 rows x 4 columns]"
      ]
     },
     "execution_count": 175,
     "metadata": {},
     "output_type": "execute_result"
    }
   ],
   "source": [
    "Xy = order_price_df[[\"prev_2_Price_YoY\",  \"prev_1_Price_YoY\", \"Price_YoY\", \"Next_YoY_Price\" ]]\n",
    "Xy"
   ]
  },
  {
   "cell_type": "code",
   "execution_count": 176,
   "id": "f2ec1c0e",
   "metadata": {
    "ExecuteTime": {
     "end_time": "2024-02-13T11:49:36.476468Z",
     "start_time": "2024-02-13T11:49:36.457157Z"
    }
   },
   "outputs": [],
   "source": [
    "X = order_price_df[[\"prev_2_Price_YoY\",  \"prev_1_Price_YoY\", \"Price_YoY\" ]]\n",
    "y = order_price_df[[\"Next_YoY_Price\"]]"
   ]
  },
  {
   "cell_type": "code",
   "execution_count": 177,
   "id": "51b2c3c0",
   "metadata": {
    "ExecuteTime": {
     "end_time": "2024-02-13T11:55:53.225546Z",
     "start_time": "2024-02-13T11:55:52.709599Z"
    }
   },
   "outputs": [],
   "source": [
    "from sklearn.model_selection import train_test_split\n",
    "\n",
    "\n",
    "# Split data into train, test\n",
    "X_train, X_test, y_train, y_test = train_test_split(\n",
    "    X, y, test_size = 0.3, random_state = 42  # TEST = 30%\n",
    ")\n"
   ]
  },
  {
   "cell_type": "code",
   "execution_count": 188,
   "id": "fdc3e196",
   "metadata": {
    "ExecuteTime": {
     "end_time": "2024-02-13T12:06:06.308944Z",
     "start_time": "2024-02-13T12:06:06.293446Z"
    }
   },
   "outputs": [
    {
     "data": {
      "text/plain": [
       "(42051, 3)"
      ]
     },
     "execution_count": 188,
     "metadata": {},
     "output_type": "execute_result"
    }
   ],
   "source": [
    "X_train.shape"
   ]
  },
  {
   "cell_type": "markdown",
   "id": "6f1c61ed",
   "metadata": {
    "ExecuteTime": {
     "end_time": "2024-02-13T11:57:39.502049Z",
     "start_time": "2024-02-13T11:57:39.488603Z"
    }
   },
   "source": [
    "# creating the model"
   ]
  },
  {
   "cell_type": "code",
   "execution_count": 213,
   "id": "002b9c48",
   "metadata": {
    "ExecuteTime": {
     "end_time": "2024-02-13T12:26:53.580604Z",
     "start_time": "2024-02-13T12:26:53.539844Z"
    }
   },
   "outputs": [],
   "source": [
    "from tensorflow.keras import models\n",
    "from tensorflow.keras import layers\n",
    "from tensorflow.keras import optimizers, metrics\n",
    "from tensorflow.keras.layers import Normalization\n",
    "\n",
    "def init_model(X_train, y_train):\n",
    "        \n",
    "    normalizer = Normalization()\n",
    "    normalizer.adapt(X_train)\n",
    " \n",
    "    model = models.Sequential()\n",
    "    #model.add(normalizer)\n",
    "    #model.add(layers.LSTM(5, activation='tanh', return_sequences = False ))\n",
    "    model.add(layers.Dense(3, activation='linear'))\n",
    "    model.add(layers.Dense(1, activation='linear'))\n",
    "\n",
    "    model.compile(loss='mse', optimizer='adam', metrics=[\"mae\"])\n",
    "    \n",
    "    return model"
   ]
  },
  {
   "cell_type": "code",
   "execution_count": null,
   "id": "7919e38d",
   "metadata": {},
   "outputs": [],
   "source": []
  },
  {
   "cell_type": "code",
   "execution_count": 214,
   "id": "5b74f3d0",
   "metadata": {
    "ExecuteTime": {
     "end_time": "2024-02-13T12:26:55.549341Z",
     "start_time": "2024-02-13T12:26:55.507180Z"
    }
   },
   "outputs": [],
   "source": [
    "def plot_history(history):\n",
    "    \n",
    "    fig, ax = plt.subplots(1,2, figsize=(20,7))\n",
    "    # --- LOSS: MSE --- \n",
    "    ax[0].plot(history.history['loss'])\n",
    "    ax[0].plot(history.history['val_loss'])\n",
    "    ax[0].set_title('MSE')\n",
    "    ax[0].set_ylabel('Loss')\n",
    "    ax[0].set_xlabel('Epoch')\n",
    "    ax[0].legend(['Train', 'Validation'], loc='best')\n",
    "    ax[0].grid(axis=\"x\",linewidth=0.5)\n",
    "    ax[0].grid(axis=\"y\",linewidth=0.5)\n",
    "    \n",
    "    # --- METRICS:MAE ---\n",
    "    \n",
    "    ax[1].plot(history.history['mae'])\n",
    "    ax[1].plot(history.history['val_mae'])\n",
    "    ax[1].set_title('MAE')\n",
    "    ax[1].set_ylabel('MAE')\n",
    "    ax[1].set_xlabel('Epoch')\n",
    "    ax[1].legend(['Train', 'Validation'], loc='best')\n",
    "    ax[1].grid(axis=\"x\",linewidth=0.5)\n",
    "    ax[1].grid(axis=\"y\",linewidth=0.5)\n",
    "                        \n",
    "    return ax"
   ]
  },
  {
   "cell_type": "code",
   "execution_count": null,
   "id": "a515a360",
   "metadata": {},
   "outputs": [],
   "source": []
  },
  {
   "cell_type": "code",
   "execution_count": 215,
   "id": "d56acd34",
   "metadata": {
    "ExecuteTime": {
     "end_time": "2024-02-13T12:31:12.646703Z",
     "start_time": "2024-02-13T12:26:56.787892Z"
    }
   },
   "outputs": [
    {
     "name": "stdout",
     "output_type": "stream",
     "text": [
      "Epoch 1/100\n",
      "920/920 [==============================] - 14s 13ms/step - loss: 0.0423 - mae: 0.1408 - val_loss: 0.0180 - val_mae: 0.1027\n",
      "Epoch 2/100\n",
      "920/920 [==============================] - 11s 12ms/step - loss: 0.0169 - mae: 0.0977 - val_loss: 0.0154 - val_mae: 0.0911\n",
      "Epoch 3/100\n",
      "920/920 [==============================] - 12s 13ms/step - loss: 0.0150 - mae: 0.0908 - val_loss: 0.0142 - val_mae: 0.0893\n",
      "Epoch 4/100\n",
      "920/920 [==============================] - 10s 11ms/step - loss: 0.0139 - mae: 0.0868 - val_loss: 0.0134 - val_mae: 0.0823\n",
      "Epoch 5/100\n",
      "920/920 [==============================] - 12s 13ms/step - loss: 0.0133 - mae: 0.0845 - val_loss: 0.0130 - val_mae: 0.0800\n",
      "Epoch 6/100\n",
      "920/920 [==============================] - 14s 15ms/step - loss: 0.0130 - mae: 0.0831 - val_loss: 0.0128 - val_mae: 0.0794\n",
      "Epoch 7/100\n",
      "920/920 [==============================] - 11s 11ms/step - loss: 0.0128 - mae: 0.0823 - val_loss: 0.0127 - val_mae: 0.0781\n",
      "Epoch 8/100\n",
      "920/920 [==============================] - 10s 11ms/step - loss: 0.0127 - mae: 0.0817 - val_loss: 0.0125 - val_mae: 0.0807\n",
      "Epoch 9/100\n",
      "920/920 [==============================] - 10s 11ms/step - loss: 0.0126 - mae: 0.0815 - val_loss: 0.0125 - val_mae: 0.0825\n",
      "Epoch 10/100\n",
      "920/920 [==============================] - 11s 12ms/step - loss: 0.0126 - mae: 0.0812 - val_loss: 0.0127 - val_mae: 0.0854\n",
      "Epoch 11/100\n",
      "920/920 [==============================] - 10s 11ms/step - loss: 0.0126 - mae: 0.0811 - val_loss: 0.0124 - val_mae: 0.0801\n",
      "Epoch 12/100\n",
      "920/920 [==============================] - 10s 11ms/step - loss: 0.0125 - mae: 0.0811 - val_loss: 0.0125 - val_mae: 0.0814\n",
      "Epoch 13/100\n",
      "920/920 [==============================] - 12s 13ms/step - loss: 0.0125 - mae: 0.0811 - val_loss: 0.0125 - val_mae: 0.0780\n",
      "Epoch 14/100\n",
      "920/920 [==============================] - 14s 15ms/step - loss: 0.0126 - mae: 0.0811 - val_loss: 0.0124 - val_mae: 0.0796\n",
      "Epoch 15/100\n",
      "920/920 [==============================] - 13s 14ms/step - loss: 0.0125 - mae: 0.0811 - val_loss: 0.0126 - val_mae: 0.0765\n",
      "Epoch 16/100\n",
      "920/920 [==============================] - 14s 15ms/step - loss: 0.0126 - mae: 0.0811 - val_loss: 0.0124 - val_mae: 0.0797\n",
      "Epoch 17/100\n",
      "920/920 [==============================] - 16s 18ms/step - loss: 0.0126 - mae: 0.0811 - val_loss: 0.0124 - val_mae: 0.0792\n",
      "Epoch 18/100\n",
      "920/920 [==============================] - 25s 28ms/step - loss: 0.0125 - mae: 0.0810 - val_loss: 0.0127 - val_mae: 0.0860\n",
      "Epoch 19/100\n",
      "920/920 [==============================] - 20s 21ms/step - loss: 0.0125 - mae: 0.0811 - val_loss: 0.0127 - val_mae: 0.0757\n"
     ]
    }
   ],
   "source": [
    "from tensorflow import keras\n",
    "from keras.callbacks import EarlyStopping\n",
    "\n",
    "model = init_model(X_train, y_train)\n",
    "\n",
    "es = EarlyStopping(patience = 5,restore_best_weights = True)\n",
    "\n",
    "history = model.fit(X_train, y_train,\n",
    "                    validation_split = 0.3,\n",
    "                    shuffle = True,\n",
    "                    batch_size = 32,\n",
    "                    epochs = 100,\n",
    "                    callbacks = [es],\n",
    "                    verbose = 1)"
   ]
  },
  {
   "cell_type": "code",
   "execution_count": 216,
   "id": "66d10011",
   "metadata": {
    "ExecuteTime": {
     "end_time": "2024-02-13T12:31:29.335316Z",
     "start_time": "2024-02-13T12:31:12.657499Z"
    }
   },
   "outputs": [
    {
     "data": {
      "image/png": "[encoded data removed]",
      "text/plain": [
       "<Figure size 2000x700 with 2 Axes>"
      ]
     },
     "metadata": {},
     "output_type": "display_data"
    }
   ],
   "source": [
    "plot_history(history);"
   ]
  },
  {
   "cell_type": "code",
   "execution_count": null,
   "id": "50b588ac",
   "metadata": {
    "ExecuteTime": {
     "end_time": "2024-02-13T12:21:20.728574Z",
     "start_time": "2024-02-13T12:21:14.880618Z"
    }
   },
   "outputs": [],
   "source": []
  },
  {
   "cell_type": "code",
   "execution_count": 218,
   "id": "af731f60",
   "metadata": {
    "ExecuteTime": {
     "end_time": "2024-02-13T12:31:35.042527Z",
     "start_time": "2024-02-13T12:31:35.026416Z"
    }
   },
   "outputs": [],
   "source": [
    "from sklearn.metrics import mean_squared_error"
   ]
  },
  {
   "cell_type": "code",
   "execution_count": 221,
   "id": "f0984eda",
   "metadata": {
    "ExecuteTime": {
     "end_time": "2024-02-13T12:33:49.480082Z",
     "start_time": "2024-02-13T12:33:44.067502Z"
    }
   },
   "outputs": [
    {
     "name": "stdout",
     "output_type": "stream",
     "text": [
      "564/564 [==============================] - 4s 7ms/step\n"
     ]
    },
    {
     "data": {
      "text/plain": [
       "array([[0.92501295],\n",
       "       [0.9776392 ],\n",
       "       [0.9865672 ],\n",
       "       ...,\n",
       "       [0.98768514],\n",
       "       [0.9683252 ],\n",
       "       [0.93039757]], dtype=float32)"
      ]
     },
     "execution_count": 221,
     "metadata": {},
     "output_type": "execute_result"
    }
   ],
   "source": [
    "y_pred = model.predict(X_test)\n",
    "y_pred"
   ]
  },
  {
   "cell_type": "code",
   "execution_count": 222,
   "id": "014e375f",
   "metadata": {
    "ExecuteTime": {
     "end_time": "2024-02-13T12:33:51.003297Z",
     "start_time": "2024-02-13T12:33:50.965929Z"
    }
   },
   "outputs": [
    {
     "data": {
      "text/plain": [
       "0.1118996608427176"
      ]
     },
     "execution_count": 222,
     "metadata": {},
     "output_type": "execute_result"
    }
   ],
   "source": [
    "mean_squared_error(y_test, y_pred) ** (0.5)   #model score: mean square error --> lower is better"
   ]
  },
  {
   "cell_type": "code",
   "execution_count": 223,
   "id": "707c1eac",
   "metadata": {
    "ExecuteTime": {
     "end_time": "2024-02-13T12:33:53.250834Z",
     "start_time": "2024-02-13T12:33:52.666999Z"
    }
   },
   "outputs": [
    {
     "data": {
      "text/plain": [
       "0.11464276867602484"
      ]
     },
     "execution_count": 223,
     "metadata": {},
     "output_type": "execute_result"
    }
   ],
   "source": [
    "mean_squared_error(y_test, [y_test.mean()]*len(y_test)) ** (0.5)   #naive score: mean square error"
   ]
  },
  {
   "cell_type": "code",
   "execution_count": null,
   "id": "8bea9e4e",
   "metadata": {},
   "outputs": [],
   "source": []
  }
 ],
 "metadata": {
  "kernelspec": {
   "display_name": "Python 3 (ipykernel)",
   "language": "python",
   "name": "python3"
  },
  "language_info": {
   "codemirror_mode": {
    "name": "ipython",
    "version": 3
   },
   "file_extension": ".py",
   "mimetype": "text/x-python",
   "name": "python",
   "nbconvert_exporter": "python",
   "pygments_lexer": "ipython3",
   "version": "3.10.6"
  },
  "toc": {
   "base_numbering": 1,
   "nav_menu": {},
   "number_sections": true,
   "sideBar": true,
   "skip_h1_title": false,
   "title_cell": "Table of Contents",
   "title_sidebar": "Contents",
   "toc_cell": false,
   "toc_position": {},
   "toc_section_display": true,
   "toc_window_display": false
  }
 },
 "nbformat": 4,
 "nbformat_minor": 5
}
