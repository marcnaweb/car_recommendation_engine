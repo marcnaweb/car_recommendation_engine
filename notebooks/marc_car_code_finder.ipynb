{
 "cells": [
  {
   "cell_type": "code",
   "execution_count": 1,
   "id": "5ca5b624",
   "metadata": {
    "ExecuteTime": {
     "end_time": "2024-02-09T15:07:11.895218Z",
     "start_time": "2024-02-09T15:07:03.368417Z"
    },
    "id": "5ca5b624"
   },
   "outputs": [],
   "source": [
    "import pandas as pd\n",
    "import numpy as np\n",
    "import seaborn as sns\n",
    "from sklearn.preprocessing import OneHotEncoder"
   ]
  },
  {
   "cell_type": "code",
   "execution_count": 2,
   "id": "b1d64bcc",
   "metadata": {
    "ExecuteTime": {
     "end_time": "2024-02-09T15:07:12.126066Z",
     "start_time": "2024-02-09T15:07:11.910228Z"
    },
    "colab": {
     "base_uri": "https://localhost:8080/"
    },
    "id": "b1d64bcc",
    "outputId": "5b2923b3-2e00-4c55-e6a9-c365ca09b485"
   },
   "outputs": [
    {
     "name": "stdout",
     "output_type": "stream",
     "text": [
      "/home/marcnaweb/code/marcnaweb/car_recommendation_engine/notebooks\r\n"
     ]
    }
   ],
   "source": [
    "!pwd"
   ]
  },
  {
   "cell_type": "markdown",
   "id": "badafdf7",
   "metadata": {
    "ExecuteTime": {
     "end_time": "2024-02-07T18:04:14.917256Z",
     "start_time": "2024-02-07T18:04:12.942409Z"
    },
    "id": "badafdf7"
   },
   "source": [
    "# Creating the search data frame"
   ]
  },
  {
   "cell_type": "code",
   "execution_count": 3,
   "id": "6023bc33",
   "metadata": {
    "ExecuteTime": {
     "end_time": "2024-02-09T15:07:12.867761Z",
     "start_time": "2024-02-09T15:07:12.152685Z"
    },
    "id": "6023bc33"
   },
   "outputs": [],
   "source": [
    "price_df = pd.read_csv('/home/marcnaweb/code/marcnaweb/car_recommendation_engine/raw_data/car_prices_w_prices_scaled.csv', index_col=0)"
   ]
  },
  {
   "cell_type": "code",
   "execution_count": 4,
   "id": "b6b7c657",
   "metadata": {
    "ExecuteTime": {
     "end_time": "2024-02-09T15:07:14.478152Z",
     "start_time": "2024-02-09T15:07:12.896002Z"
    },
    "id": "b6b7c657"
   },
   "outputs": [],
   "source": [
    "features_df = pd.read_csv('/home/marcnaweb/code/marcnaweb/car_recommendation_engine/raw_data//scaled_cleaned.csv')"
   ]
  },
  {
   "cell_type": "code",
   "execution_count": 5,
   "id": "ae90983e",
   "metadata": {
    "ExecuteTime": {
     "end_time": "2024-02-09T15:07:16.519108Z",
     "start_time": "2024-02-09T15:07:14.502227Z"
    }
   },
   "outputs": [],
   "source": [
    "merged_df = price_df.merge(features_df, left_on=\"car_code\", right_on=\"car_code\", how=\"left\")"
   ]
  },
  {
   "cell_type": "code",
   "execution_count": 6,
   "id": "cd888617",
   "metadata": {
    "ExecuteTime": {
     "end_time": "2024-02-09T15:07:19.207600Z",
     "start_time": "2024-02-09T15:07:16.530803Z"
    }
   },
   "outputs": [
    {
     "data": {
      "text/html": [
       "<div>\n",
       "<style scoped>\n",
       "    .dataframe tbody tr th:only-of-type {\n",
       "        vertical-align: middle;\n",
       "    }\n",
       "\n",
       "    .dataframe tbody tr th {\n",
       "        vertical-align: top;\n",
       "    }\n",
       "\n",
       "    .dataframe thead th {\n",
       "        text-align: right;\n",
       "    }\n",
       "</style>\n",
       "<table border=\"1\" class=\"dataframe\">\n",
       "  <thead>\n",
       "    <tr style=\"text-align: right;\">\n",
       "      <th></th>\n",
       "      <th>car_manufacturer</th>\n",
       "      <th>car_model</th>\n",
       "      <th>car_model_year</th>\n",
       "      <th>car_code</th>\n",
       "    </tr>\n",
       "  </thead>\n",
       "  <tbody>\n",
       "    <tr>\n",
       "      <th>0</th>\n",
       "      <td>Volkswagen</td>\n",
       "      <td>Polo 1.6</td>\n",
       "      <td>2003</td>\n",
       "      <td>371</td>\n",
       "    </tr>\n",
       "    <tr>\n",
       "      <th>1</th>\n",
       "      <td>Ford</td>\n",
       "      <td>Fiesta Supercharger 1.0</td>\n",
       "      <td>2003</td>\n",
       "      <td>372</td>\n",
       "    </tr>\n",
       "    <tr>\n",
       "      <th>2</th>\n",
       "      <td>Audi</td>\n",
       "      <td>S3 1.8 Turbo Quattro</td>\n",
       "      <td>2003</td>\n",
       "      <td>376</td>\n",
       "    </tr>\n",
       "    <tr>\n",
       "      <th>3</th>\n",
       "      <td>Alfa Romeo</td>\n",
       "      <td>156 2.5 V6</td>\n",
       "      <td>2003</td>\n",
       "      <td>377</td>\n",
       "    </tr>\n",
       "    <tr>\n",
       "      <th>4</th>\n",
       "      <td>Volkswagen</td>\n",
       "      <td>Parati Tour 2.0</td>\n",
       "      <td>2003</td>\n",
       "      <td>379</td>\n",
       "    </tr>\n",
       "    <tr>\n",
       "      <th>...</th>\n",
       "      <td>...</td>\n",
       "      <td>...</td>\n",
       "      <td>...</td>\n",
       "      <td>...</td>\n",
       "    </tr>\n",
       "    <tr>\n",
       "      <th>84126</th>\n",
       "      <td>Mitsubishi</td>\n",
       "      <td>Eclipse GS 2.0 Turbo</td>\n",
       "      <td>1992</td>\n",
       "      <td>333</td>\n",
       "    </tr>\n",
       "    <tr>\n",
       "      <th>84127</th>\n",
       "      <td>Ford</td>\n",
       "      <td>Royale Ghia 2.0i</td>\n",
       "      <td>1992</td>\n",
       "      <td>334</td>\n",
       "    </tr>\n",
       "    <tr>\n",
       "      <th>84128</th>\n",
       "      <td>Fiat</td>\n",
       "      <td>Uno Mille 1.0</td>\n",
       "      <td>1992</td>\n",
       "      <td>336</td>\n",
       "    </tr>\n",
       "    <tr>\n",
       "      <th>84129</th>\n",
       "      <td>Chevrolet</td>\n",
       "      <td>Chevette Junior 1.0</td>\n",
       "      <td>1992</td>\n",
       "      <td>432</td>\n",
       "    </tr>\n",
       "    <tr>\n",
       "      <th>84130</th>\n",
       "      <td>Ford</td>\n",
       "      <td>Taurus SHO 3.0 V6</td>\n",
       "      <td>1992</td>\n",
       "      <td>677</td>\n",
       "    </tr>\n",
       "  </tbody>\n",
       "</table>\n",
       "<p>14571 rows × 4 columns</p>\n",
       "</div>"
      ],
      "text/plain": [
       "      car_manufacturer                car_model  car_model_year  car_code\n",
       "0           Volkswagen                 Polo 1.6            2003       371\n",
       "1                 Ford  Fiesta Supercharger 1.0            2003       372\n",
       "2                 Audi     S3 1.8 Turbo Quattro            2003       376\n",
       "3           Alfa Romeo               156 2.5 V6            2003       377\n",
       "4           Volkswagen          Parati Tour 2.0            2003       379\n",
       "...                ...                      ...             ...       ...\n",
       "84126       Mitsubishi     Eclipse GS 2.0 Turbo            1992       333\n",
       "84127             Ford         Royale Ghia 2.0i            1992       334\n",
       "84128             Fiat            Uno Mille 1.0            1992       336\n",
       "84129        Chevrolet      Chevette Junior 1.0            1992       432\n",
       "84130             Ford        Taurus SHO 3.0 V6            1992       677\n",
       "\n",
       "[14571 rows x 4 columns]"
      ]
     },
     "execution_count": 6,
     "metadata": {},
     "output_type": "execute_result"
    }
   ],
   "source": [
    "search_df = merged_df[[\"car_manufacturer\", \"car_model\", \"car_model_year\", \"car_code\"]].drop_duplicates()\n",
    "search_df"
   ]
  },
  {
   "cell_type": "markdown",
   "id": "6f02b36b",
   "metadata": {
    "ExecuteTime": {
     "end_time": "2024-02-07T18:54:32.874463Z",
     "start_time": "2024-02-07T18:54:32.865626Z"
    },
    "id": "6f02b36b"
   },
   "source": [
    "## Creating the car code finder"
   ]
  },
  {
   "cell_type": "code",
   "execution_count": 7,
   "id": "c5aebf6a",
   "metadata": {
    "ExecuteTime": {
     "end_time": "2024-02-09T15:07:19.291315Z",
     "start_time": "2024-02-09T15:07:19.219156Z"
    }
   },
   "outputs": [],
   "source": [
    "search_df[\"car_model_text\"] = search_df[\"car_manufacturer\"] + \" - \" + search_df[\"car_model\"] + \" - \" + search_df[\"car_model_year\"].map(str)"
   ]
  },
  {
   "cell_type": "code",
   "execution_count": 8,
   "id": "35c85c37",
   "metadata": {
    "ExecuteTime": {
     "end_time": "2024-02-09T15:07:19.381837Z",
     "start_time": "2024-02-09T15:07:19.305358Z"
    }
   },
   "outputs": [
    {
     "data": {
      "text/html": [
       "<div>\n",
       "<style scoped>\n",
       "    .dataframe tbody tr th:only-of-type {\n",
       "        vertical-align: middle;\n",
       "    }\n",
       "\n",
       "    .dataframe tbody tr th {\n",
       "        vertical-align: top;\n",
       "    }\n",
       "\n",
       "    .dataframe thead th {\n",
       "        text-align: right;\n",
       "    }\n",
       "</style>\n",
       "<table border=\"1\" class=\"dataframe\">\n",
       "  <thead>\n",
       "    <tr style=\"text-align: right;\">\n",
       "      <th></th>\n",
       "      <th>car_manufacturer</th>\n",
       "      <th>car_model</th>\n",
       "      <th>car_model_year</th>\n",
       "      <th>car_code</th>\n",
       "      <th>car_model_text</th>\n",
       "    </tr>\n",
       "  </thead>\n",
       "  <tbody>\n",
       "    <tr>\n",
       "      <th>0</th>\n",
       "      <td>Volkswagen</td>\n",
       "      <td>Polo 1.6</td>\n",
       "      <td>2003</td>\n",
       "      <td>371</td>\n",
       "      <td>Volkswagen - Polo 1.6 - 2003</td>\n",
       "    </tr>\n",
       "    <tr>\n",
       "      <th>1</th>\n",
       "      <td>Ford</td>\n",
       "      <td>Fiesta Supercharger 1.0</td>\n",
       "      <td>2003</td>\n",
       "      <td>372</td>\n",
       "      <td>Ford - Fiesta Supercharger 1.0 - 2003</td>\n",
       "    </tr>\n",
       "    <tr>\n",
       "      <th>2</th>\n",
       "      <td>Audi</td>\n",
       "      <td>S3 1.8 Turbo Quattro</td>\n",
       "      <td>2003</td>\n",
       "      <td>376</td>\n",
       "      <td>Audi - S3 1.8 Turbo Quattro - 2003</td>\n",
       "    </tr>\n",
       "    <tr>\n",
       "      <th>3</th>\n",
       "      <td>Alfa Romeo</td>\n",
       "      <td>156 2.5 V6</td>\n",
       "      <td>2003</td>\n",
       "      <td>377</td>\n",
       "      <td>Alfa Romeo - 156 2.5 V6 - 2003</td>\n",
       "    </tr>\n",
       "    <tr>\n",
       "      <th>4</th>\n",
       "      <td>Volkswagen</td>\n",
       "      <td>Parati Tour 2.0</td>\n",
       "      <td>2003</td>\n",
       "      <td>379</td>\n",
       "      <td>Volkswagen - Parati Tour 2.0 - 2003</td>\n",
       "    </tr>\n",
       "    <tr>\n",
       "      <th>...</th>\n",
       "      <td>...</td>\n",
       "      <td>...</td>\n",
       "      <td>...</td>\n",
       "      <td>...</td>\n",
       "      <td>...</td>\n",
       "    </tr>\n",
       "    <tr>\n",
       "      <th>84126</th>\n",
       "      <td>Mitsubishi</td>\n",
       "      <td>Eclipse GS 2.0 Turbo</td>\n",
       "      <td>1992</td>\n",
       "      <td>333</td>\n",
       "      <td>Mitsubishi - Eclipse GS 2.0 Turbo - 1992</td>\n",
       "    </tr>\n",
       "    <tr>\n",
       "      <th>84127</th>\n",
       "      <td>Ford</td>\n",
       "      <td>Royale Ghia 2.0i</td>\n",
       "      <td>1992</td>\n",
       "      <td>334</td>\n",
       "      <td>Ford - Royale Ghia 2.0i - 1992</td>\n",
       "    </tr>\n",
       "    <tr>\n",
       "      <th>84128</th>\n",
       "      <td>Fiat</td>\n",
       "      <td>Uno Mille 1.0</td>\n",
       "      <td>1992</td>\n",
       "      <td>336</td>\n",
       "      <td>Fiat - Uno Mille 1.0 - 1992</td>\n",
       "    </tr>\n",
       "    <tr>\n",
       "      <th>84129</th>\n",
       "      <td>Chevrolet</td>\n",
       "      <td>Chevette Junior 1.0</td>\n",
       "      <td>1992</td>\n",
       "      <td>432</td>\n",
       "      <td>Chevrolet - Chevette Junior 1.0 - 1992</td>\n",
       "    </tr>\n",
       "    <tr>\n",
       "      <th>84130</th>\n",
       "      <td>Ford</td>\n",
       "      <td>Taurus SHO 3.0 V6</td>\n",
       "      <td>1992</td>\n",
       "      <td>677</td>\n",
       "      <td>Ford - Taurus SHO 3.0 V6 - 1992</td>\n",
       "    </tr>\n",
       "  </tbody>\n",
       "</table>\n",
       "<p>14571 rows × 5 columns</p>\n",
       "</div>"
      ],
      "text/plain": [
       "      car_manufacturer                car_model  car_model_year  car_code  \\\n",
       "0           Volkswagen                 Polo 1.6            2003       371   \n",
       "1                 Ford  Fiesta Supercharger 1.0            2003       372   \n",
       "2                 Audi     S3 1.8 Turbo Quattro            2003       376   \n",
       "3           Alfa Romeo               156 2.5 V6            2003       377   \n",
       "4           Volkswagen          Parati Tour 2.0            2003       379   \n",
       "...                ...                      ...             ...       ...   \n",
       "84126       Mitsubishi     Eclipse GS 2.0 Turbo            1992       333   \n",
       "84127             Ford         Royale Ghia 2.0i            1992       334   \n",
       "84128             Fiat            Uno Mille 1.0            1992       336   \n",
       "84129        Chevrolet      Chevette Junior 1.0            1992       432   \n",
       "84130             Ford        Taurus SHO 3.0 V6            1992       677   \n",
       "\n",
       "                                 car_model_text  \n",
       "0                  Volkswagen - Polo 1.6 - 2003  \n",
       "1         Ford - Fiesta Supercharger 1.0 - 2003  \n",
       "2            Audi - S3 1.8 Turbo Quattro - 2003  \n",
       "3                Alfa Romeo - 156 2.5 V6 - 2003  \n",
       "4           Volkswagen - Parati Tour 2.0 - 2003  \n",
       "...                                         ...  \n",
       "84126  Mitsubishi - Eclipse GS 2.0 Turbo - 1992  \n",
       "84127            Ford - Royale Ghia 2.0i - 1992  \n",
       "84128               Fiat - Uno Mille 1.0 - 1992  \n",
       "84129    Chevrolet - Chevette Junior 1.0 - 1992  \n",
       "84130           Ford - Taurus SHO 3.0 V6 - 1992  \n",
       "\n",
       "[14571 rows x 5 columns]"
      ]
     },
     "execution_count": 8,
     "metadata": {},
     "output_type": "execute_result"
    }
   ],
   "source": [
    "search_df"
   ]
  },
  {
   "cell_type": "code",
   "execution_count": 9,
   "id": "edf87507",
   "metadata": {
    "ExecuteTime": {
     "end_time": "2024-02-09T15:07:19.416591Z",
     "start_time": "2024-02-09T15:07:19.395844Z"
    }
   },
   "outputs": [],
   "source": [
    "def list_cars(car_model_text):\n",
    "    return search_df.query(f'car_model_text.str.contains(\"{car_model_text}\")', engine='python')[[\"car_model_text\"]]"
   ]
  },
  {
   "cell_type": "code",
   "execution_count": 10,
   "id": "158f003a",
   "metadata": {
    "ExecuteTime": {
     "end_time": "2024-02-09T15:07:19.663211Z",
     "start_time": "2024-02-09T15:07:19.468739Z"
    }
   },
   "outputs": [
    {
     "data": {
      "text/html": [
       "<div>\n",
       "<style scoped>\n",
       "    .dataframe tbody tr th:only-of-type {\n",
       "        vertical-align: middle;\n",
       "    }\n",
       "\n",
       "    .dataframe tbody tr th {\n",
       "        vertical-align: top;\n",
       "    }\n",
       "\n",
       "    .dataframe thead th {\n",
       "        text-align: right;\n",
       "    }\n",
       "</style>\n",
       "<table border=\"1\" class=\"dataframe\">\n",
       "  <thead>\n",
       "    <tr style=\"text-align: right;\">\n",
       "      <th></th>\n",
       "      <th>car_model_text</th>\n",
       "    </tr>\n",
       "  </thead>\n",
       "  <tbody>\n",
       "    <tr>\n",
       "      <th>224</th>\n",
       "      <td>Peugeot - 307 Passion 1.6 - 2003</td>\n",
       "    </tr>\n",
       "    <tr>\n",
       "      <th>13503</th>\n",
       "      <td>Peugeot - 307 Passion 1.6 - 2002</td>\n",
       "    </tr>\n",
       "  </tbody>\n",
       "</table>\n",
       "</div>"
      ],
      "text/plain": [
       "                         car_model_text\n",
       "224    Peugeot - 307 Passion 1.6 - 2003\n",
       "13503  Peugeot - 307 Passion 1.6 - 2002"
      ]
     },
     "execution_count": 10,
     "metadata": {},
     "output_type": "execute_result"
    }
   ],
   "source": [
    "list_cars(\"307 Passion \")"
   ]
  },
  {
   "cell_type": "code",
   "execution_count": 11,
   "id": "91b238db",
   "metadata": {
    "ExecuteTime": {
     "end_time": "2024-02-09T15:07:19.728217Z",
     "start_time": "2024-02-09T15:07:19.692693Z"
    }
   },
   "outputs": [],
   "source": [
    "def get_car_code(car_model_text):\n",
    "    return search_df.query(f'car_model_text.str.contains(\"{car_model_text}\")', engine='python').head(1)[\"car_code\"].to_list()[0]"
   ]
  },
  {
   "cell_type": "code",
   "execution_count": 12,
   "id": "501577ba",
   "metadata": {
    "ExecuteTime": {
     "end_time": "2024-02-09T15:07:19.841735Z",
     "start_time": "2024-02-09T15:07:19.739891Z"
    }
   },
   "outputs": [
    {
     "data": {
      "text/plain": [
       "13581"
      ]
     },
     "execution_count": 12,
     "metadata": {},
     "output_type": "execute_result"
    }
   ],
   "source": [
    "get_car_code(\"Peugeot - 307 Passion 1.6 - 2003\")"
   ]
  },
  {
   "cell_type": "code",
   "execution_count": 13,
   "id": "198ace1e",
   "metadata": {
    "ExecuteTime": {
     "end_time": "2024-02-09T15:08:08.764209Z",
     "start_time": "2024-02-09T15:08:07.808751Z"
    },
    "id": "198ace1e"
   },
   "outputs": [],
   "source": [
    "search_df.to_csv(\"search_df_csv.csv\")"
   ]
  },
  {
   "cell_type": "code",
   "execution_count": null,
   "id": "b8f287e5",
   "metadata": {},
   "outputs": [],
   "source": []
  }
 ],
 "metadata": {
  "colab": {
   "provenance": []
  },
  "kernelspec": {
   "display_name": "Python 3 (ipykernel)",
   "language": "python",
   "name": "python3"
  },
  "language_info": {
   "codemirror_mode": {
    "name": "ipython",
    "version": 3
   },
   "file_extension": ".py",
   "mimetype": "text/x-python",
   "name": "python",
   "nbconvert_exporter": "python",
   "pygments_lexer": "ipython3",
   "version": "3.10.6"
  },
  "toc": {
   "base_numbering": 1,
   "nav_menu": {},
   "number_sections": true,
   "sideBar": true,
   "skip_h1_title": false,
   "title_cell": "Table of Contents",
   "title_sidebar": "Contents",
   "toc_cell": false,
   "toc_position": {},
   "toc_section_display": true,
   "toc_window_display": false
  }
 },
 "nbformat": 4,
 "nbformat_minor": 5
}
