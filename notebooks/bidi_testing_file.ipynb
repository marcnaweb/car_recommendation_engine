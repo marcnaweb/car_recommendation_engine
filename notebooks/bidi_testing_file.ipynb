{
 "cells": [
  {
   "cell_type": "code",
   "execution_count": 2,
   "metadata": {},
   "outputs": [
    {
     "name": "stderr",
     "output_type": "stream",
     "text": [
      "/var/folders/ld/s5_rrf_n32q9rltztl0sz_fh0000gn/T/ipykernel_13010/4138106253.py:1: DeprecationWarning: \n",
      "Pyarrow will become a required dependency of pandas in the next major release of pandas (pandas 3.0),\n",
      "(to allow more performant data types, such as the Arrow string type, and better interoperability with other libraries)\n",
      "but was not found to be installed on your system.\n",
      "If this would cause problems for you,\n",
      "please provide us feedback at https://github.com/pandas-dev/pandas/issues/54466\n",
      "        \n",
      "  import pandas as pd\n"
     ]
    }
   ],
   "source": [
    "import pandas as pd\n",
    "from sklearn.neighbors import NearestNeighbors\n",
    "import pickle\n",
    "import os\n"
   ]
  },
  {
   "cell_type": "code",
   "execution_count": 3,
   "metadata": {},
   "outputs": [],
   "source": [
    "def train_and_save_knn_model():\n",
    "    file_path = '/Users/bididudy/code/marcnaweb/car_recommendation_engine/raw_data/unique_car_models_df.csv'\n",
    "    df = pd.read_csv(file_path)\n",
    "\n",
    "    model_dir = '/Users/bididudy/code/marcnaweb/car_recommendation_engine/models'  # Folder name where models will be saved\n",
    "\n",
    "    # Create the directory if it does not exist\n",
    "    os.makedirs(model_dir, exist_ok=True)\n",
    "\n",
    "    features_df = df.set_index('car_code', inplace=False)\n",
    "    features_df = features_df.drop(columns=['car_model'])\n",
    "\n",
    "    knn = NearestNeighbors(n_neighbors=6)\n",
    "    knn.fit(features_df)\n",
    "\n",
    "    # Save the kNN model to the 'models' directory\n",
    "    with open(os.path.join(model_dir, 'knn_model.pkl'), 'wb') as f:\n",
    "        pickle.dump(knn, f)\n",
    "\n",
    "    # Save the preprocessed features DataFrame to the 'models' directory\n",
    "    with open(os.path.join(model_dir, 'features_df.pkl'), 'wb') as f:\n",
    "        pickle.dump(features_df, f)\n"
   ]
  },
  {
   "cell_type": "code",
   "execution_count": 4,
   "metadata": {},
   "outputs": [],
   "source": [
    "# Call the function to train and save your model\n",
    "train_and_save_knn_model()"
   ]
  },
  {
   "cell_type": "code",
   "execution_count": 20,
   "metadata": {},
   "outputs": [],
   "source": [
    "def show_similar_cars(car_code):\n",
    "    # Specify the directory where your models are saved\n",
    "    model_dir = '/Users/bididudy/code/marcnaweb/car_recommendation_engine/models'  # Folder name where models are saved\n",
    "\n",
    "    # Construct the path to each pickle file\n",
    "    knn_model_path = os.path.join(model_dir, 'knn_model.pkl')\n",
    "    features_df_path = os.path.join(model_dir, 'features_df.pkl')\n",
    "\n",
    "    # Load the kNN model from the 'models' directory\n",
    "    with open(knn_model_path, 'rb') as f:\n",
    "        knn = pickle.load(f)\n",
    "\n",
    "    # Load the preprocessed features DataFrame from the 'models' directory\n",
    "    with open(features_df_path, 'rb') as f:\n",
    "        features_df = pickle.load(f)\n",
    "\n",
    "    # Use the car's features as our query point\n",
    "    query = features_df.loc[car_code].values.reshape(1, -1)\n",
    "\n",
    "    # Find the 5 nearest neighbors to the car\n",
    "    distances, indices = knn.kneighbors(query)\n",
    "\n",
    "    # Get the car codes of the 6 closest matches (including the query point itself)\n",
    "    closest_cars_indices = indices.flatten()\n",
    "    closest_cars = features_df.iloc[closest_cars_indices].reset_index()[['car_code']]\n",
    "\n",
    "    # Assuming you need to join back with the original df to get car_model names\n",
    "    df = pd.read_csv('/Users/bididudy/code/marcnaweb/car_recommendation_engine/raw_data/unique_car_models_df.csv')\n",
    "    #closest_cars_with_models = pd.merge(closest_cars, df[['car_code', 'car_model']], on='car_code', how='left')\n",
    "    closest_cars_with_models = pd.merge(closest_cars, df[['car_code', 'car_model']], left_index=True, right_on='car_code', how='left').set_index('car_code')\n",
    "\n",
    "    return closest_cars_with_models\n"
   ]
  },
  {
   "cell_type": "code",
   "execution_count": 21,
   "metadata": {},
   "outputs": [
    {
     "name": "stderr",
     "output_type": "stream",
     "text": [
      "/Users/bididudy/.pyenv/versions/3.10.6/envs/car_recommendation_engine/lib/python3.10/site-packages/sklearn/base.py:493: UserWarning: X does not have valid feature names, but NearestNeighbors was fitted with feature names\n",
      "  warnings.warn(\n"
     ]
    },
    {
     "ename": "TypeError",
     "evalue": "'DataFrame' object is not callable",
     "output_type": "error",
     "traceback": [
      "\u001b[0;31m---------------------------------------------------------------------------\u001b[0m",
      "\u001b[0;31mTypeError\u001b[0m                                 Traceback (most recent call last)",
      "Cell \u001b[0;32mIn[21], line 1\u001b[0m\n\u001b[0;32m----> 1\u001b[0m \u001b[43mshow_similar_cars\u001b[49m\u001b[43m(\u001b[49m\u001b[38;5;241;43m23794\u001b[39;49m\u001b[43m)\u001b[49m\n",
      "Cell \u001b[0;32mIn[20], line 31\u001b[0m, in \u001b[0;36mshow_similar_cars\u001b[0;34m(car_code)\u001b[0m\n\u001b[1;32m     29\u001b[0m \u001b[38;5;66;03m#closest_cars_with_models = pd.merge(closest_cars, df[['car_code', 'car_model']], on='car_code', how='left')\u001b[39;00m\n\u001b[1;32m     30\u001b[0m closest_cars_with_models \u001b[38;5;241m=\u001b[39m pd\u001b[38;5;241m.\u001b[39mmerge(closest_cars, df[[\u001b[38;5;124m'\u001b[39m\u001b[38;5;124mcar_code\u001b[39m\u001b[38;5;124m'\u001b[39m, \u001b[38;5;124m'\u001b[39m\u001b[38;5;124mcar_model\u001b[39m\u001b[38;5;124m'\u001b[39m]], left_index\u001b[38;5;241m=\u001b[39m\u001b[38;5;28;01mTrue\u001b[39;00m, right_on\u001b[38;5;241m=\u001b[39m\u001b[38;5;124m'\u001b[39m\u001b[38;5;124mcar_code\u001b[39m\u001b[38;5;124m'\u001b[39m, how\u001b[38;5;241m=\u001b[39m\u001b[38;5;124m'\u001b[39m\u001b[38;5;124mleft\u001b[39m\u001b[38;5;124m'\u001b[39m)\u001b[38;5;241m.\u001b[39mset_index(\u001b[38;5;124m'\u001b[39m\u001b[38;5;124mcar_code\u001b[39m\u001b[38;5;124m'\u001b[39m)\n\u001b[0;32m---> 31\u001b[0m \u001b[43mclosest_cars_with_models\u001b[49m\u001b[43m(\u001b[49m\u001b[43m)\u001b[49m\n\u001b[1;32m     32\u001b[0m \u001b[38;5;28;01mreturn\u001b[39;00m closest_cars_with_models\n",
      "\u001b[0;31mTypeError\u001b[0m: 'DataFrame' object is not callable"
     ]
    }
   ],
   "source": [
    "show_similar_cars(23794)"
   ]
  },
  {
   "cell_type": "code",
   "execution_count": 12,
   "metadata": {},
   "outputs": [
    {
     "data": {
      "text/plain": [
       "0    23794\n",
       "1    13009\n",
       "2    13010\n",
       "3    13518\n",
       "4     9609\n",
       "5    19635\n",
       "Name: car_code, dtype: int64"
      ]
     },
     "execution_count": 12,
     "metadata": {},
     "output_type": "execute_result"
    }
   ],
   "source": [
    "df.car_code"
   ]
  },
  {
   "cell_type": "code",
   "execution_count": 13,
   "metadata": {},
   "outputs": [],
   "source": [
    "import pandas as pd\n",
    "from sklearn.neighbors import NearestNeighbors"
   ]
  },
  {
   "cell_type": "code",
   "execution_count": 14,
   "metadata": {},
   "outputs": [],
   "source": [
    "def show_similar_cars(car_code):\n",
    "    '''\n",
    "\n",
    "    '''\n",
    "    file_path = '/Users/bididudy/code/marcnaweb/car_recommendation_engine/raw_data/unique_car_models_df.csv'\n",
    "    df = pd.read_csv(file_path)\n",
    "\n",
    "    features_df = df\n",
    "\n",
    "    features_df.set_index('car_code', inplace=True)\n",
    "\n",
    "    features_df = df.drop(columns=['car_model'])\n",
    "\n",
    "    knn = NearestNeighbors(n_neighbors=6)\n",
    "\n",
    "    knn.fit(features_df)\n",
    "\n",
    "    # Use a car's features as our query point\n",
    "    query = features_df.loc[car_code].values.reshape(1, -1)\n",
    "\n",
    "    # Find the 5 nearest neighbors to the first car (excluding itself)\n",
    "    distances, indices = knn.kneighbors(query)\n",
    "\n",
    "    # Get the car codes of the 6 closest matches (including the query point itself)\n",
    "    closest_cars_indices = indices.flatten()\n",
    "    closest_cars = df.iloc[closest_cars_indices][['car_model']]\n",
    "\n",
    "    return closest_cars"
   ]
  }
 ],
 "metadata": {
  "kernelspec": {
   "display_name": "car_recommendation_engine",
   "language": "python",
   "name": "python3"
  },
  "language_info": {
   "codemirror_mode": {
    "name": "ipython",
    "version": 3
   },
   "file_extension": ".py",
   "mimetype": "text/x-python",
   "name": "python",
   "nbconvert_exporter": "python",
   "pygments_lexer": "ipython3",
   "version": "3.10.6"
  }
 },
 "nbformat": 4,
 "nbformat_minor": 2
}
