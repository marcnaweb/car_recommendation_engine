{
  "cells": [
    {
      "cell_type": "code",
      "execution_count": 8,
      "id": "5ca5b624",
      "metadata": {
        "ExecuteTime": {
          "end_time": "2024-02-08T16:13:48.758204Z",
          "start_time": "2024-02-08T16:13:48.747093Z"
        },
        "id": "5ca5b624"
      },
      "outputs": [],
      "source": [
        "import pandas as pd\n",
        "import numpy as np\n",
        "import seaborn as sns\n",
        "from sklearn.preprocessing import OneHotEncoder"
      ]
    },
    {
      "cell_type": "code",
      "execution_count": 9,
      "id": "b1d64bcc",
      "metadata": {
        "ExecuteTime": {
          "end_time": "2024-02-08T16:13:48.940214Z",
          "start_time": "2024-02-08T16:13:48.770243Z"
        },
        "colab": {
          "base_uri": "https://localhost:8080/"
        },
        "id": "b1d64bcc",
        "outputId": "e26523f5-8bb1-440d-c5fd-77284fba98ff"
      },
      "outputs": [
        {
          "output_type": "stream",
          "name": "stdout",
          "text": [
            "/content\n"
          ]
        }
      ],
      "source": [
        "!pwd"
      ]
    },
    {
      "cell_type": "markdown",
      "id": "badafdf7",
      "metadata": {
        "ExecuteTime": {
          "end_time": "2024-02-07T18:04:14.917256Z",
          "start_time": "2024-02-07T18:04:12.942409Z"
        },
        "id": "badafdf7"
      },
      "source": [
        "# Creating the data frame"
      ]
    },
    {
      "cell_type": "code",
      "execution_count": 10,
      "id": "6023bc33",
      "metadata": {
        "ExecuteTime": {
          "end_time": "2024-02-08T16:13:49.566200Z",
          "start_time": "2024-02-08T16:13:48.953106Z"
        },
        "id": "6023bc33"
      },
      "outputs": [],
      "source": [
        "price_df = pd.read_csv('/car_prices_w_prices_scaled.csv', index_col=0)"
      ]
    },
    {
      "cell_type": "code",
      "execution_count": 11,
      "id": "b6b7c657",
      "metadata": {
        "ExecuteTime": {
          "end_time": "2024-02-08T16:13:50.878358Z",
          "start_time": "2024-02-08T16:13:49.587448Z"
        },
        "id": "b6b7c657"
      },
      "outputs": [],
      "source": [
        "features_df = pd.read_csv('/scaled_cleaned.csv')"
      ]
    },
    {
      "cell_type": "code",
      "source": [
        "price_df.groupby([\"car_model\", \"car_code\"]).count()"
      ],
      "metadata": {
        "colab": {
          "base_uri": "https://localhost:8080/",
          "height": 653
        },
        "id": "O6KRbdSO7weV",
        "outputId": "463c55bd-d308-40d2-8237-65c9e127b934"
      },
      "id": "O6KRbdSO7weV",
      "execution_count": 68,
      "outputs": [
        {
          "output_type": "execute_result",
          "data": {
            "text/plain": [
              "                                        car_manufacturer  car_model_year  \\\n",
              "car_model                     car_code                                     \n",
              "106 Passion 1.0               99                       8               8   \n",
              "106 Selection 1.0             12290                    1               1   \n",
              "                              12291                    1               1   \n",
              "116i 1.6 Turbo                1346                    10              10   \n",
              "                              3340                     7               7   \n",
              "...                                                  ...             ...   \n",
              "ix35 GLS 2.0 AT               6949                     5               5   \n",
              "                              7303                     4               4   \n",
              "                              8917                     3               3   \n",
              "                              16404                    1               1   \n",
              "ix35 Launching Edition 2.0 AT 4078                     6               6   \n",
              "\n",
              "                                        Year  Price_YoY  Next_YoY_Price  \\\n",
              "car_model                     car_code                                    \n",
              "106 Passion 1.0               99           8          8               8   \n",
              "106 Selection 1.0             12290        1          1               1   \n",
              "                              12291        1          1               1   \n",
              "116i 1.6 Turbo                1346        10         10              10   \n",
              "                              3340         7          7               7   \n",
              "...                                      ...        ...             ...   \n",
              "ix35 GLS 2.0 AT               6949         5          5               5   \n",
              "                              7303         4          4               4   \n",
              "                              8917         3          3               3   \n",
              "                              16404        1          1               1   \n",
              "ix35 Launching Edition 2.0 AT 4078         6          6               6   \n",
              "\n",
              "                                        Next_YoY_Pr_Pred  calendar_year  \\\n",
              "car_model                     car_code                                    \n",
              "106 Passion 1.0               99                       8              8   \n",
              "106 Selection 1.0             12290                    1              1   \n",
              "                              12291                    1              1   \n",
              "116i 1.6 Turbo                1346                    10             10   \n",
              "                              3340                     7              7   \n",
              "...                                                  ...            ...   \n",
              "ix35 GLS 2.0 AT               6949                     5              5   \n",
              "                              7303                     4              4   \n",
              "                              8917                     3              3   \n",
              "                              16404                    1              1   \n",
              "ix35 Launching Edition 2.0 AT 4078                     6              6   \n",
              "\n",
              "                                        Price_sd_scaled  \n",
              "car_model                     car_code                   \n",
              "106 Passion 1.0               99                      8  \n",
              "106 Selection 1.0             12290                   1  \n",
              "                              12291                   1  \n",
              "116i 1.6 Turbo                1346                   10  \n",
              "                              3340                    7  \n",
              "...                                                 ...  \n",
              "ix35 GLS 2.0 AT               6949                    5  \n",
              "                              7303                    4  \n",
              "                              8917                    3  \n",
              "                              16404                   1  \n",
              "ix35 Launching Edition 2.0 AT 4078                    6  \n",
              "\n",
              "[14571 rows x 8 columns]"
            ],
            "text/html": [
              "\n",
              "  <div id=\"df-71198521-0505-42c3-8c1b-0406b2a5b784\" class=\"colab-df-container\">\n",
              "    <div>\n",
              "<style scoped>\n",
              "    .dataframe tbody tr th:only-of-type {\n",
              "        vertical-align: middle;\n",
              "    }\n",
              "\n",
              "    .dataframe tbody tr th {\n",
              "        vertical-align: top;\n",
              "    }\n",
              "\n",
              "    .dataframe thead th {\n",
              "        text-align: right;\n",
              "    }\n",
              "</style>\n",
              "<table border=\"1\" class=\"dataframe\">\n",
              "  <thead>\n",
              "    <tr style=\"text-align: right;\">\n",
              "      <th></th>\n",
              "      <th></th>\n",
              "      <th>car_manufacturer</th>\n",
              "      <th>car_model_year</th>\n",
              "      <th>Year</th>\n",
              "      <th>Price_YoY</th>\n",
              "      <th>Next_YoY_Price</th>\n",
              "      <th>Next_YoY_Pr_Pred</th>\n",
              "      <th>calendar_year</th>\n",
              "      <th>Price_sd_scaled</th>\n",
              "    </tr>\n",
              "    <tr>\n",
              "      <th>car_model</th>\n",
              "      <th>car_code</th>\n",
              "      <th></th>\n",
              "      <th></th>\n",
              "      <th></th>\n",
              "      <th></th>\n",
              "      <th></th>\n",
              "      <th></th>\n",
              "      <th></th>\n",
              "      <th></th>\n",
              "    </tr>\n",
              "  </thead>\n",
              "  <tbody>\n",
              "    <tr>\n",
              "      <th>106 Passion 1.0</th>\n",
              "      <th>99</th>\n",
              "      <td>8</td>\n",
              "      <td>8</td>\n",
              "      <td>8</td>\n",
              "      <td>8</td>\n",
              "      <td>8</td>\n",
              "      <td>8</td>\n",
              "      <td>8</td>\n",
              "      <td>8</td>\n",
              "    </tr>\n",
              "    <tr>\n",
              "      <th rowspan=\"2\" valign=\"top\">106 Selection 1.0</th>\n",
              "      <th>12290</th>\n",
              "      <td>1</td>\n",
              "      <td>1</td>\n",
              "      <td>1</td>\n",
              "      <td>1</td>\n",
              "      <td>1</td>\n",
              "      <td>1</td>\n",
              "      <td>1</td>\n",
              "      <td>1</td>\n",
              "    </tr>\n",
              "    <tr>\n",
              "      <th>12291</th>\n",
              "      <td>1</td>\n",
              "      <td>1</td>\n",
              "      <td>1</td>\n",
              "      <td>1</td>\n",
              "      <td>1</td>\n",
              "      <td>1</td>\n",
              "      <td>1</td>\n",
              "      <td>1</td>\n",
              "    </tr>\n",
              "    <tr>\n",
              "      <th rowspan=\"2\" valign=\"top\">116i 1.6 Turbo</th>\n",
              "      <th>1346</th>\n",
              "      <td>10</td>\n",
              "      <td>10</td>\n",
              "      <td>10</td>\n",
              "      <td>10</td>\n",
              "      <td>10</td>\n",
              "      <td>10</td>\n",
              "      <td>10</td>\n",
              "      <td>10</td>\n",
              "    </tr>\n",
              "    <tr>\n",
              "      <th>3340</th>\n",
              "      <td>7</td>\n",
              "      <td>7</td>\n",
              "      <td>7</td>\n",
              "      <td>7</td>\n",
              "      <td>7</td>\n",
              "      <td>7</td>\n",
              "      <td>7</td>\n",
              "      <td>7</td>\n",
              "    </tr>\n",
              "    <tr>\n",
              "      <th>...</th>\n",
              "      <th>...</th>\n",
              "      <td>...</td>\n",
              "      <td>...</td>\n",
              "      <td>...</td>\n",
              "      <td>...</td>\n",
              "      <td>...</td>\n",
              "      <td>...</td>\n",
              "      <td>...</td>\n",
              "      <td>...</td>\n",
              "    </tr>\n",
              "    <tr>\n",
              "      <th rowspan=\"4\" valign=\"top\">ix35 GLS 2.0 AT</th>\n",
              "      <th>6949</th>\n",
              "      <td>5</td>\n",
              "      <td>5</td>\n",
              "      <td>5</td>\n",
              "      <td>5</td>\n",
              "      <td>5</td>\n",
              "      <td>5</td>\n",
              "      <td>5</td>\n",
              "      <td>5</td>\n",
              "    </tr>\n",
              "    <tr>\n",
              "      <th>7303</th>\n",
              "      <td>4</td>\n",
              "      <td>4</td>\n",
              "      <td>4</td>\n",
              "      <td>4</td>\n",
              "      <td>4</td>\n",
              "      <td>4</td>\n",
              "      <td>4</td>\n",
              "      <td>4</td>\n",
              "    </tr>\n",
              "    <tr>\n",
              "      <th>8917</th>\n",
              "      <td>3</td>\n",
              "      <td>3</td>\n",
              "      <td>3</td>\n",
              "      <td>3</td>\n",
              "      <td>3</td>\n",
              "      <td>3</td>\n",
              "      <td>3</td>\n",
              "      <td>3</td>\n",
              "    </tr>\n",
              "    <tr>\n",
              "      <th>16404</th>\n",
              "      <td>1</td>\n",
              "      <td>1</td>\n",
              "      <td>1</td>\n",
              "      <td>1</td>\n",
              "      <td>1</td>\n",
              "      <td>1</td>\n",
              "      <td>1</td>\n",
              "      <td>1</td>\n",
              "    </tr>\n",
              "    <tr>\n",
              "      <th>ix35 Launching Edition 2.0 AT</th>\n",
              "      <th>4078</th>\n",
              "      <td>6</td>\n",
              "      <td>6</td>\n",
              "      <td>6</td>\n",
              "      <td>6</td>\n",
              "      <td>6</td>\n",
              "      <td>6</td>\n",
              "      <td>6</td>\n",
              "      <td>6</td>\n",
              "    </tr>\n",
              "  </tbody>\n",
              "</table>\n",
              "<p>14571 rows × 8 columns</p>\n",
              "</div>\n",
              "    <div class=\"colab-df-buttons\">\n",
              "\n",
              "  <div class=\"colab-df-container\">\n",
              "    <button class=\"colab-df-convert\" onclick=\"convertToInteractive('df-71198521-0505-42c3-8c1b-0406b2a5b784')\"\n",
              "            title=\"Convert this dataframe to an interactive table.\"\n",
              "            style=\"display:none;\">\n",
              "\n",
              "  <svg xmlns=\"http://www.w3.org/2000/svg\" height=\"24px\" viewBox=\"0 -960 960 960\">\n",
              "    <path d=\"M120-120v-720h720v720H120Zm60-500h600v-160H180v160Zm220 220h160v-160H400v160Zm0 220h160v-160H400v160ZM180-400h160v-160H180v160Zm440 0h160v-160H620v160ZM180-180h160v-160H180v160Zm440 0h160v-160H620v160Z\"/>\n",
              "  </svg>\n",
              "    </button>\n",
              "\n",
              "  <style>\n",
              "    .colab-df-container {\n",
              "      display:flex;\n",
              "      gap: 12px;\n",
              "    }\n",
              "\n",
              "    .colab-df-convert {\n",
              "      background-color: #E8F0FE;\n",
              "      border: none;\n",
              "      border-radius: 50%;\n",
              "      cursor: pointer;\n",
              "      display: none;\n",
              "      fill: #1967D2;\n",
              "      height: 32px;\n",
              "      padding: 0 0 0 0;\n",
              "      width: 32px;\n",
              "    }\n",
              "\n",
              "    .colab-df-convert:hover {\n",
              "      background-color: #E2EBFA;\n",
              "      box-shadow: 0px 1px 2px rgba(60, 64, 67, 0.3), 0px 1px 3px 1px rgba(60, 64, 67, 0.15);\n",
              "      fill: #174EA6;\n",
              "    }\n",
              "\n",
              "    .colab-df-buttons div {\n",
              "      margin-bottom: 4px;\n",
              "    }\n",
              "\n",
              "    [theme=dark] .colab-df-convert {\n",
              "      background-color: #3B4455;\n",
              "      fill: #D2E3FC;\n",
              "    }\n",
              "\n",
              "    [theme=dark] .colab-df-convert:hover {\n",
              "      background-color: #434B5C;\n",
              "      box-shadow: 0px 1px 3px 1px rgba(0, 0, 0, 0.15);\n",
              "      filter: drop-shadow(0px 1px 2px rgba(0, 0, 0, 0.3));\n",
              "      fill: #FFFFFF;\n",
              "    }\n",
              "  </style>\n",
              "\n",
              "    <script>\n",
              "      const buttonEl =\n",
              "        document.querySelector('#df-71198521-0505-42c3-8c1b-0406b2a5b784 button.colab-df-convert');\n",
              "      buttonEl.style.display =\n",
              "        google.colab.kernel.accessAllowed ? 'block' : 'none';\n",
              "\n",
              "      async function convertToInteractive(key) {\n",
              "        const element = document.querySelector('#df-71198521-0505-42c3-8c1b-0406b2a5b784');\n",
              "        const dataTable =\n",
              "          await google.colab.kernel.invokeFunction('convertToInteractive',\n",
              "                                                    [key], {});\n",
              "        if (!dataTable) return;\n",
              "\n",
              "        const docLinkHtml = 'Like what you see? Visit the ' +\n",
              "          '<a target=\"_blank\" href=https://colab.research.google.com/notebooks/data_table.ipynb>data table notebook</a>'\n",
              "          + ' to learn more about interactive tables.';\n",
              "        element.innerHTML = '';\n",
              "        dataTable['output_type'] = 'display_data';\n",
              "        await google.colab.output.renderOutput(dataTable, element);\n",
              "        const docLink = document.createElement('div');\n",
              "        docLink.innerHTML = docLinkHtml;\n",
              "        element.appendChild(docLink);\n",
              "      }\n",
              "    </script>\n",
              "  </div>\n",
              "\n",
              "\n",
              "<div id=\"df-ddb3ab07-cbd5-4d01-8b79-e716048e0fa8\">\n",
              "  <button class=\"colab-df-quickchart\" onclick=\"quickchart('df-ddb3ab07-cbd5-4d01-8b79-e716048e0fa8')\"\n",
              "            title=\"Suggest charts\"\n",
              "            style=\"display:none;\">\n",
              "\n",
              "<svg xmlns=\"http://www.w3.org/2000/svg\" height=\"24px\"viewBox=\"0 0 24 24\"\n",
              "     width=\"24px\">\n",
              "    <g>\n",
              "        <path d=\"M19 3H5c-1.1 0-2 .9-2 2v14c0 1.1.9 2 2 2h14c1.1 0 2-.9 2-2V5c0-1.1-.9-2-2-2zM9 17H7v-7h2v7zm4 0h-2V7h2v10zm4 0h-2v-4h2v4z\"/>\n",
              "    </g>\n",
              "</svg>\n",
              "  </button>\n",
              "\n",
              "<style>\n",
              "  .colab-df-quickchart {\n",
              "      --bg-color: #E8F0FE;\n",
              "      --fill-color: #1967D2;\n",
              "      --hover-bg-color: #E2EBFA;\n",
              "      --hover-fill-color: #174EA6;\n",
              "      --disabled-fill-color: #AAA;\n",
              "      --disabled-bg-color: #DDD;\n",
              "  }\n",
              "\n",
              "  [theme=dark] .colab-df-quickchart {\n",
              "      --bg-color: #3B4455;\n",
              "      --fill-color: #D2E3FC;\n",
              "      --hover-bg-color: #434B5C;\n",
              "      --hover-fill-color: #FFFFFF;\n",
              "      --disabled-bg-color: #3B4455;\n",
              "      --disabled-fill-color: #666;\n",
              "  }\n",
              "\n",
              "  .colab-df-quickchart {\n",
              "    background-color: var(--bg-color);\n",
              "    border: none;\n",
              "    border-radius: 50%;\n",
              "    cursor: pointer;\n",
              "    display: none;\n",
              "    fill: var(--fill-color);\n",
              "    height: 32px;\n",
              "    padding: 0;\n",
              "    width: 32px;\n",
              "  }\n",
              "\n",
              "  .colab-df-quickchart:hover {\n",
              "    background-color: var(--hover-bg-color);\n",
              "    box-shadow: 0 1px 2px rgba(60, 64, 67, 0.3), 0 1px 3px 1px rgba(60, 64, 67, 0.15);\n",
              "    fill: var(--button-hover-fill-color);\n",
              "  }\n",
              "\n",
              "  .colab-df-quickchart-complete:disabled,\n",
              "  .colab-df-quickchart-complete:disabled:hover {\n",
              "    background-color: var(--disabled-bg-color);\n",
              "    fill: var(--disabled-fill-color);\n",
              "    box-shadow: none;\n",
              "  }\n",
              "\n",
              "  .colab-df-spinner {\n",
              "    border: 2px solid var(--fill-color);\n",
              "    border-color: transparent;\n",
              "    border-bottom-color: var(--fill-color);\n",
              "    animation:\n",
              "      spin 1s steps(1) infinite;\n",
              "  }\n",
              "\n",
              "  @keyframes spin {\n",
              "    0% {\n",
              "      border-color: transparent;\n",
              "      border-bottom-color: var(--fill-color);\n",
              "      border-left-color: var(--fill-color);\n",
              "    }\n",
              "    20% {\n",
              "      border-color: transparent;\n",
              "      border-left-color: var(--fill-color);\n",
              "      border-top-color: var(--fill-color);\n",
              "    }\n",
              "    30% {\n",
              "      border-color: transparent;\n",
              "      border-left-color: var(--fill-color);\n",
              "      border-top-color: var(--fill-color);\n",
              "      border-right-color: var(--fill-color);\n",
              "    }\n",
              "    40% {\n",
              "      border-color: transparent;\n",
              "      border-right-color: var(--fill-color);\n",
              "      border-top-color: var(--fill-color);\n",
              "    }\n",
              "    60% {\n",
              "      border-color: transparent;\n",
              "      border-right-color: var(--fill-color);\n",
              "    }\n",
              "    80% {\n",
              "      border-color: transparent;\n",
              "      border-right-color: var(--fill-color);\n",
              "      border-bottom-color: var(--fill-color);\n",
              "    }\n",
              "    90% {\n",
              "      border-color: transparent;\n",
              "      border-bottom-color: var(--fill-color);\n",
              "    }\n",
              "  }\n",
              "</style>\n",
              "\n",
              "  <script>\n",
              "    async function quickchart(key) {\n",
              "      const quickchartButtonEl =\n",
              "        document.querySelector('#' + key + ' button');\n",
              "      quickchartButtonEl.disabled = true;  // To prevent multiple clicks.\n",
              "      quickchartButtonEl.classList.add('colab-df-spinner');\n",
              "      try {\n",
              "        const charts = await google.colab.kernel.invokeFunction(\n",
              "            'suggestCharts', [key], {});\n",
              "      } catch (error) {\n",
              "        console.error('Error during call to suggestCharts:', error);\n",
              "      }\n",
              "      quickchartButtonEl.classList.remove('colab-df-spinner');\n",
              "      quickchartButtonEl.classList.add('colab-df-quickchart-complete');\n",
              "    }\n",
              "    (() => {\n",
              "      let quickchartButtonEl =\n",
              "        document.querySelector('#df-ddb3ab07-cbd5-4d01-8b79-e716048e0fa8 button');\n",
              "      quickchartButtonEl.style.display =\n",
              "        google.colab.kernel.accessAllowed ? 'block' : 'none';\n",
              "    })();\n",
              "  </script>\n",
              "</div>\n",
              "    </div>\n",
              "  </div>\n"
            ]
          },
          "metadata": {},
          "execution_count": 68
        }
      ]
    },
    {
      "cell_type": "markdown",
      "id": "6f02b36b",
      "metadata": {
        "ExecuteTime": {
          "end_time": "2024-02-07T18:54:32.874463Z",
          "start_time": "2024-02-07T18:54:32.865626Z"
        },
        "id": "6f02b36b"
      },
      "source": [
        "## Merging features and prices"
      ]
    },
    {
      "cell_type": "code",
      "execution_count": 12,
      "id": "297cad63",
      "metadata": {
        "ExecuteTime": {
          "end_time": "2024-02-08T16:13:51.210185Z",
          "start_time": "2024-02-08T16:13:50.887683Z"
        },
        "id": "297cad63"
      },
      "outputs": [],
      "source": [
        "merged_df = price_df.merge(features_df, left_on=\"car_code\", right_on=\"car_code\", how=\"left\")"
      ]
    },
    {
      "cell_type": "code",
      "execution_count": 13,
      "id": "68e330b5",
      "metadata": {
        "ExecuteTime": {
          "end_time": "2024-02-08T16:13:51.253438Z",
          "start_time": "2024-02-08T16:13:51.228295Z"
        },
        "id": "68e330b5"
      },
      "outputs": [],
      "source": [
        "merged_df.rename(columns=lambda x: x.strip(), inplace=True)"
      ]
    },
    {
      "cell_type": "code",
      "execution_count": 14,
      "id": "dead1276",
      "metadata": {
        "ExecuteTime": {
          "end_time": "2024-02-08T16:13:51.653788Z",
          "start_time": "2024-02-08T16:13:51.265757Z"
        },
        "scrolled": false,
        "colab": {
          "base_uri": "https://localhost:8080/",
          "height": 200
        },
        "id": "dead1276",
        "outputId": "24c6d4dd-9951-4aff-dd37-fc2211de6958"
      },
      "outputs": [
        {
          "output_type": "execute_result",
          "data": {
            "text/plain": [
              "       car_code car_manufacturer          car_model  car_model_year  Year_x  \\\n",
              "87887       441             Audi  A8 4.2 V8 Quattro            2003       1   \n",
              "\n",
              "       Price_YoY  Next_YoY_Price  Next_YoY_Pr_Pred  calendar_year  \\\n",
              "87887   0.749652        0.961737          0.917069           2004   \n",
              "\n",
              "       Price_sd_scaled  ...  Maximum power  Unit displacement     Trunk  \\\n",
              "87887        -0.836267  ...       0.167403           0.523084  0.033011   \n",
              "\n",
              "       USB connection  Gear speed transmissions     Urban  Year_y  Radio  \\\n",
              "87887             0.0                  0.545455  0.062035   0.625    0.0   \n",
              "\n",
              "       Folding rear seat  Perimeter anti theft alarm  \n",
              "87887                0.0                         0.0  \n",
              "\n",
              "[1 rows x 110 columns]"
            ],
            "text/html": [
              "\n",
              "  <div id=\"df-35b5fa7a-6cc9-43e3-970e-1d68494c8e26\" class=\"colab-df-container\">\n",
              "    <div>\n",
              "<style scoped>\n",
              "    .dataframe tbody tr th:only-of-type {\n",
              "        vertical-align: middle;\n",
              "    }\n",
              "\n",
              "    .dataframe tbody tr th {\n",
              "        vertical-align: top;\n",
              "    }\n",
              "\n",
              "    .dataframe thead th {\n",
              "        text-align: right;\n",
              "    }\n",
              "</style>\n",
              "<table border=\"1\" class=\"dataframe\">\n",
              "  <thead>\n",
              "    <tr style=\"text-align: right;\">\n",
              "      <th></th>\n",
              "      <th>car_code</th>\n",
              "      <th>car_manufacturer</th>\n",
              "      <th>car_model</th>\n",
              "      <th>car_model_year</th>\n",
              "      <th>Year_x</th>\n",
              "      <th>Price_YoY</th>\n",
              "      <th>Next_YoY_Price</th>\n",
              "      <th>Next_YoY_Pr_Pred</th>\n",
              "      <th>calendar_year</th>\n",
              "      <th>Price_sd_scaled</th>\n",
              "      <th>...</th>\n",
              "      <th>Maximum power</th>\n",
              "      <th>Unit displacement</th>\n",
              "      <th>Trunk</th>\n",
              "      <th>USB connection</th>\n",
              "      <th>Gear speed transmissions</th>\n",
              "      <th>Urban</th>\n",
              "      <th>Year_y</th>\n",
              "      <th>Radio</th>\n",
              "      <th>Folding rear seat</th>\n",
              "      <th>Perimeter anti theft alarm</th>\n",
              "    </tr>\n",
              "  </thead>\n",
              "  <tbody>\n",
              "    <tr>\n",
              "      <th>87887</th>\n",
              "      <td>441</td>\n",
              "      <td>Audi</td>\n",
              "      <td>A8 4.2 V8 Quattro</td>\n",
              "      <td>2003</td>\n",
              "      <td>1</td>\n",
              "      <td>0.749652</td>\n",
              "      <td>0.961737</td>\n",
              "      <td>0.917069</td>\n",
              "      <td>2004</td>\n",
              "      <td>-0.836267</td>\n",
              "      <td>...</td>\n",
              "      <td>0.167403</td>\n",
              "      <td>0.523084</td>\n",
              "      <td>0.033011</td>\n",
              "      <td>0.0</td>\n",
              "      <td>0.545455</td>\n",
              "      <td>0.062035</td>\n",
              "      <td>0.625</td>\n",
              "      <td>0.0</td>\n",
              "      <td>0.0</td>\n",
              "      <td>0.0</td>\n",
              "    </tr>\n",
              "  </tbody>\n",
              "</table>\n",
              "<p>1 rows × 110 columns</p>\n",
              "</div>\n",
              "    <div class=\"colab-df-buttons\">\n",
              "\n",
              "  <div class=\"colab-df-container\">\n",
              "    <button class=\"colab-df-convert\" onclick=\"convertToInteractive('df-35b5fa7a-6cc9-43e3-970e-1d68494c8e26')\"\n",
              "            title=\"Convert this dataframe to an interactive table.\"\n",
              "            style=\"display:none;\">\n",
              "\n",
              "  <svg xmlns=\"http://www.w3.org/2000/svg\" height=\"24px\" viewBox=\"0 -960 960 960\">\n",
              "    <path d=\"M120-120v-720h720v720H120Zm60-500h600v-160H180v160Zm220 220h160v-160H400v160Zm0 220h160v-160H400v160ZM180-400h160v-160H180v160Zm440 0h160v-160H620v160ZM180-180h160v-160H180v160Zm440 0h160v-160H620v160Z\"/>\n",
              "  </svg>\n",
              "    </button>\n",
              "\n",
              "  <style>\n",
              "    .colab-df-container {\n",
              "      display:flex;\n",
              "      gap: 12px;\n",
              "    }\n",
              "\n",
              "    .colab-df-convert {\n",
              "      background-color: #E8F0FE;\n",
              "      border: none;\n",
              "      border-radius: 50%;\n",
              "      cursor: pointer;\n",
              "      display: none;\n",
              "      fill: #1967D2;\n",
              "      height: 32px;\n",
              "      padding: 0 0 0 0;\n",
              "      width: 32px;\n",
              "    }\n",
              "\n",
              "    .colab-df-convert:hover {\n",
              "      background-color: #E2EBFA;\n",
              "      box-shadow: 0px 1px 2px rgba(60, 64, 67, 0.3), 0px 1px 3px 1px rgba(60, 64, 67, 0.15);\n",
              "      fill: #174EA6;\n",
              "    }\n",
              "\n",
              "    .colab-df-buttons div {\n",
              "      margin-bottom: 4px;\n",
              "    }\n",
              "\n",
              "    [theme=dark] .colab-df-convert {\n",
              "      background-color: #3B4455;\n",
              "      fill: #D2E3FC;\n",
              "    }\n",
              "\n",
              "    [theme=dark] .colab-df-convert:hover {\n",
              "      background-color: #434B5C;\n",
              "      box-shadow: 0px 1px 3px 1px rgba(0, 0, 0, 0.15);\n",
              "      filter: drop-shadow(0px 1px 2px rgba(0, 0, 0, 0.3));\n",
              "      fill: #FFFFFF;\n",
              "    }\n",
              "  </style>\n",
              "\n",
              "    <script>\n",
              "      const buttonEl =\n",
              "        document.querySelector('#df-35b5fa7a-6cc9-43e3-970e-1d68494c8e26 button.colab-df-convert');\n",
              "      buttonEl.style.display =\n",
              "        google.colab.kernel.accessAllowed ? 'block' : 'none';\n",
              "\n",
              "      async function convertToInteractive(key) {\n",
              "        const element = document.querySelector('#df-35b5fa7a-6cc9-43e3-970e-1d68494c8e26');\n",
              "        const dataTable =\n",
              "          await google.colab.kernel.invokeFunction('convertToInteractive',\n",
              "                                                    [key], {});\n",
              "        if (!dataTable) return;\n",
              "\n",
              "        const docLinkHtml = 'Like what you see? Visit the ' +\n",
              "          '<a target=\"_blank\" href=https://colab.research.google.com/notebooks/data_table.ipynb>data table notebook</a>'\n",
              "          + ' to learn more about interactive tables.';\n",
              "        element.innerHTML = '';\n",
              "        dataTable['output_type'] = 'display_data';\n",
              "        await google.colab.output.renderOutput(dataTable, element);\n",
              "        const docLink = document.createElement('div');\n",
              "        docLink.innerHTML = docLinkHtml;\n",
              "        element.appendChild(docLink);\n",
              "      }\n",
              "    </script>\n",
              "  </div>\n",
              "\n",
              "    </div>\n",
              "  </div>\n"
            ]
          },
          "metadata": {},
          "execution_count": 14
        }
      ],
      "source": [
        "merged_df[merged_df.index == 87887 ]"
      ]
    },
    {
      "cell_type": "markdown",
      "id": "20b77490",
      "metadata": {
        "id": "20b77490"
      },
      "source": [
        "### making model first name feature"
      ]
    },
    {
      "cell_type": "code",
      "execution_count": 15,
      "id": "1d61db71",
      "metadata": {
        "ExecuteTime": {
          "end_time": "2024-02-08T16:13:52.129679Z",
          "start_time": "2024-02-08T16:13:51.665846Z"
        },
        "id": "1d61db71"
      },
      "outputs": [],
      "source": [
        "def take_first_word(word):\n",
        "    return word.split(\" \")[0]\n",
        "\n",
        "merged_df[\"car_model_small\"] = merged_df[\"car_model\"].map(take_first_word)\n",
        "merged_df.drop(columns=\"car_model\", inplace=True)"
      ]
    },
    {
      "cell_type": "markdown",
      "id": "a9b85ea6",
      "metadata": {
        "ExecuteTime": {
          "end_time": "2024-02-07T12:19:07.061752Z",
          "start_time": "2024-02-07T12:19:07.053181Z"
        },
        "id": "a9b85ea6"
      },
      "source": [
        "# Model preprocessor"
      ]
    },
    {
      "cell_type": "code",
      "execution_count": 16,
      "id": "7dbcfedf",
      "metadata": {
        "ExecuteTime": {
          "end_time": "2024-02-08T16:13:52.176634Z",
          "start_time": "2024-02-08T16:13:52.166569Z"
        },
        "id": "7dbcfedf"
      },
      "outputs": [],
      "source": [
        "import numpy as np\n",
        "from sklearn.model_selection import train_test_split"
      ]
    },
    {
      "cell_type": "code",
      "execution_count": 17,
      "id": "c5eae425",
      "metadata": {
        "ExecuteTime": {
          "end_time": "2024-02-08T16:13:52.202079Z",
          "start_time": "2024-02-08T16:13:52.188892Z"
        },
        "id": "c5eae425"
      },
      "outputs": [],
      "source": [
        "from sklearn.compose import ColumnTransformer\n",
        "\n",
        "from sklearn.pipeline import Pipeline\n",
        "from sklearn.impute import SimpleImputer\n",
        "from sklearn.preprocessing import StandardScaler\n",
        "\n",
        "from sklearn.preprocessing import OneHotEncoder"
      ]
    },
    {
      "cell_type": "markdown",
      "id": "a0a402ff",
      "metadata": {
        "id": "a0a402ff"
      },
      "source": [
        "# Model X and y - train test validade sets"
      ]
    },
    {
      "cell_type": "code",
      "execution_count": 17,
      "id": "041b5678",
      "metadata": {
        "id": "041b5678"
      },
      "outputs": [],
      "source": []
    },
    {
      "cell_type": "code",
      "execution_count": 18,
      "id": "a944ec45",
      "metadata": {
        "ExecuteTime": {
          "end_time": "2024-02-08T16:14:43.062014Z",
          "start_time": "2024-02-08T16:14:42.955427Z"
        },
        "id": "a944ec45"
      },
      "outputs": [],
      "source": [
        "X = merged_df.drop( columns=['car_code' , 'car_model_year',  'Next_YoY_Price', 'Next_YoY_Pr_Pred',\n",
        "       'Price_sd_scaled' ])\n"
      ]
    },
    {
      "cell_type": "code",
      "execution_count": 19,
      "id": "1a3d3b2b",
      "metadata": {
        "ExecuteTime": {
          "end_time": "2024-02-08T16:14:52.409861Z",
          "start_time": "2024-02-08T16:14:52.247438Z"
        },
        "colab": {
          "base_uri": "https://localhost:8080/"
        },
        "id": "1a3d3b2b",
        "outputId": "22010baa-ce87-4676-f475-5bb391bd9aab"
      },
      "outputs": [
        {
          "output_type": "execute_result",
          "data": {
            "text/plain": [
              "['Year_x', 'calendar_year']"
            ]
          },
          "metadata": {},
          "execution_count": 19
        }
      ],
      "source": [
        "\n",
        "num_feat = [feature for feature in X.select_dtypes(include='number').columns.tolist() if feature not in [\"Year_x\", \"calendar_year\" , \"car_code\", \"car_model_year\"] ]\n",
        "#num_feat\n",
        "categorical_features = list(merged_df.select_dtypes(include='object').columns)\n",
        "categorical_features = [] # intentionaly removing these features ['car_manufacturer', 'car_model_small']\n",
        "year_features = [\"Year_x\", \"calendar_year\" ]\n",
        "year_features\n",
        "#num_feat"
      ]
    },
    {
      "cell_type": "code",
      "execution_count": 20,
      "id": "20e7d5ca",
      "metadata": {
        "ExecuteTime": {
          "end_time": "2024-02-08T16:14:59.579390Z",
          "start_time": "2024-02-08T16:14:59.561641Z"
        },
        "id": "20e7d5ca"
      },
      "outputs": [],
      "source": [
        "\n",
        "# Impute then scale numerical values:\n",
        "num_inputer = Pipeline([\n",
        "    ('imputer', SimpleImputer(strategy=\"mean\"))\n",
        "    #('standard_scaler', StandardScaler())\n",
        "])\n",
        "\n",
        "standard_scaler = Pipeline([\n",
        "    #('imputer', SimpleImputer(strategy=\"mean\"))\n",
        "    ('standard_scaler', StandardScaler())\n",
        "])\n",
        "\n",
        "\n",
        "\n",
        "\n",
        "# Encode categorical values\n",
        "cat_transformer = OneHotEncoder(handle_unknown='ignore', sparse_output=False)\n",
        "\n",
        "\n",
        "\n",
        "\n",
        "# Parallelize \"num_transformer\" and \"cat_transfomer\"\n",
        "preprocessor = ColumnTransformer([\n",
        "    ('cat_transformer', cat_transformer, categorical_features ), #,\n",
        "    ('standard_scaler', standard_scaler, year_features ) ,\n",
        "    ('num_inputer', num_inputer, num_feat  )  #numerical_columns\n",
        "])\n"
      ]
    },
    {
      "cell_type": "code",
      "execution_count": 21,
      "id": "a69a02c2",
      "metadata": {
        "ExecuteTime": {
          "end_time": "2024-02-08T16:15:00.151281Z",
          "start_time": "2024-02-08T16:15:00.140650Z"
        },
        "id": "a69a02c2"
      },
      "outputs": [],
      "source": [
        "y = merged_df['Next_YoY_Price']\n",
        "#y = merged_df[\"Next_Price_sd_scaled\"]"
      ]
    },
    {
      "cell_type": "code",
      "execution_count": 22,
      "id": "42212048",
      "metadata": {
        "ExecuteTime": {
          "end_time": "2024-02-08T16:15:09.308355Z",
          "start_time": "2024-02-08T16:15:08.192776Z"
        },
        "id": "42212048"
      },
      "outputs": [],
      "source": [
        "from sklearn.model_selection import train_test_split\n",
        "\n",
        "X = preprocessor.fit_transform(X)  #keep in mind, is not procedural good\n",
        "\n",
        "# Split data into train, test and validation sets\n",
        "X_train, X_test, y_train, y_test = train_test_split(\n",
        "    X, y, test_size = 0.3, random_state = 42  # TEST = 30%\n",
        ")\n",
        "\n",
        "# Use the same function above for the validation set\n",
        "X_test, X_val, y_test, y_val = train_test_split(\n",
        "    X_test, y_test, test_size = 0.5, random_state = 42  # TEST = 15%\n",
        ")"
      ]
    },
    {
      "cell_type": "markdown",
      "id": "5a742b6f",
      "metadata": {
        "ExecuteTime": {
          "end_time": "2024-02-08T12:38:58.342030Z",
          "start_time": "2024-02-08T12:38:58.321072Z"
        },
        "id": "5a742b6f"
      },
      "source": [
        "#  XG Boost Model"
      ]
    },
    {
      "cell_type": "code",
      "execution_count": 23,
      "id": "b480dff2",
      "metadata": {
        "ExecuteTime": {
          "end_time": "2024-02-08T16:15:57.258151Z",
          "start_time": "2024-02-08T16:15:57.142672Z"
        },
        "id": "b480dff2"
      },
      "outputs": [],
      "source": [
        "from xgboost import XGBRegressor"
      ]
    },
    {
      "cell_type": "code",
      "execution_count": 24,
      "id": "1f9f27cb",
      "metadata": {
        "ExecuteTime": {
          "end_time": "2024-02-08T16:15:57.716548Z",
          "start_time": "2024-02-08T16:15:57.687083Z"
        },
        "colab": {
          "base_uri": "https://localhost:8080/"
        },
        "id": "1f9f27cb",
        "outputId": "a24ac23b-3d86-4788-8c41-af80d1c56f66"
      },
      "outputs": [
        {
          "output_type": "execute_result",
          "data": {
            "text/plain": [
              "(87891, 103)"
            ]
          },
          "metadata": {},
          "execution_count": 24
        }
      ],
      "source": [
        "\n",
        "#X_train_transformed = preprocessor.fit_transform(X_train)\n",
        "#X_val_transformed = preprocessor.transform(X_val)\n",
        "X.shape"
      ]
    },
    {
      "cell_type": "code",
      "execution_count": 25,
      "id": "f8dc6fa6",
      "metadata": {
        "ExecuteTime": {
          "end_time": "2024-02-08T16:15:58.766978Z",
          "start_time": "2024-02-08T16:15:58.753588Z"
        },
        "colab": {
          "base_uri": "https://localhost:8080/"
        },
        "id": "f8dc6fa6",
        "outputId": "5137ba2e-127e-4427-b22a-41b61102b155"
      },
      "outputs": [
        {
          "output_type": "execute_result",
          "data": {
            "text/plain": [
              "(61523, 103)"
            ]
          },
          "metadata": {},
          "execution_count": 25
        }
      ],
      "source": [
        "X_train.shape\n",
        "#X_train.shape"
      ]
    },
    {
      "cell_type": "code",
      "execution_count": 26,
      "id": "34c0709a",
      "metadata": {
        "ExecuteTime": {
          "end_time": "2024-02-08T16:15:59.719537Z",
          "start_time": "2024-02-08T16:15:59.686286Z"
        },
        "colab": {
          "base_uri": "https://localhost:8080/"
        },
        "id": "34c0709a",
        "outputId": "38acd8b7-c7c5-4390-a292-0dac6516d2dc"
      },
      "outputs": [
        {
          "output_type": "execute_result",
          "data": {
            "text/plain": [
              "(13184, 103)"
            ]
          },
          "metadata": {},
          "execution_count": 26
        }
      ],
      "source": [
        "X_val.shape\n",
        "#X_val.shape"
      ]
    },
    {
      "cell_type": "code",
      "execution_count": null,
      "id": "5ae01cc1",
      "metadata": {
        "ExecuteTime": {
          "end_time": "2024-02-08T16:55:13.515243Z",
          "start_time": "2024-02-08T16:50:17.961384Z"
        },
        "id": "5ae01cc1"
      },
      "outputs": [],
      "source": [
        "from xgboost import XGBRegressor\n",
        "\n",
        "xgb_reg = XGBRegressor(max_depth=10, n_estimators=20, learning_rate=0.05)\n",
        "\n",
        "xgb_reg.fit(X_train, y_train,\n",
        "    # evaluate loss at each iteration\n",
        "    eval_set=[(X_train, y_train), (X_val, y_val)],\n",
        "    # stop iterating when eval loss increases 5 times in a row\n",
        "    early_stopping_rounds=5\n",
        ")\n",
        "\n",
        "y_pred = xgb_reg.predict(X_val)"
      ]
    },
    {
      "cell_type": "code",
      "source": [
        "import xgboost as xgb\n",
        "import matplotlib.pyplot as plt\n",
        "\n",
        "# Assuming you have your X_train, y_train, X_test, and y_test data prepared\n",
        "\n",
        "# Define the XGBoost regressor\n",
        "xgb_regressor = xgb.XGBRegressor(max_depth=11,  learning_rate=0.1 , n_estimators=50 ) #  n_estimators=150 , scale_pos_weight = 1\n",
        "\n",
        "# Fit the model with evaluation set\n",
        "eval_set = [(X_train, y_train), (X_test, y_test)]\n",
        "xgb_regressor.fit(X_train, y_train, eval_set=eval_set, eval_metric=\"rmse\", verbose=False) #set verbose=True if you want to show al the results\n",
        "\n",
        "# Extract training and validation loss from the model's history\n",
        "results = xgb_regressor.evals_result()\n",
        "train_loss = results['validation_0']['rmse']\n",
        "test_loss = results['validation_1']['rmse']\n",
        "\n",
        "# Plot the train and test loss\n",
        "plt.figure(figsize=(10, 6))\n",
        "plt.plot(train_loss, label='Train Loss')\n",
        "plt.plot(test_loss, label='Test Loss')\n",
        "plt.xlabel('Number of iterations')\n",
        "plt.ylabel('Root Mean Squared Error')\n",
        "plt.title('Training and Test Loss (XGBoost)')\n",
        "plt.legend()\n",
        "plt.grid()\n",
        "plt.show()"
      ],
      "metadata": {
        "colab": {
          "base_uri": "https://localhost:8080/",
          "height": 619
        },
        "id": "yJnx04WWCRYa",
        "outputId": "f5765ebd-6a1b-4c83-b601-45db8282d7dd"
      },
      "id": "yJnx04WWCRYa",
      "execution_count": 195,
      "outputs": [
        {
          "output_type": "stream",
          "name": "stderr",
          "text": [
            "/usr/local/lib/python3.10/dist-packages/xgboost/sklearn.py:889: UserWarning: `eval_metric` in `fit` method is deprecated for better compatibility with scikit-learn, use `eval_metric` in constructor or`set_params` instead.\n",
            "  warnings.warn(\n"
          ]
        },
        {
          "output_type": "display_data",
          "data": {
            "text/plain": [
              "<Figure size 1000x600 with 1 Axes>"
            ],
            "image/png": "[encoded data removed]"
          },
          "metadata": {}
        }
      ]
    },
    {
      "cell_type": "code",
      "source": [
        "#from sklearn.metrics import get_scorer_names\n",
        "#get_scorer_names()"
      ],
      "metadata": {
        "id": "SerwOOW-QvkP"
      },
      "id": "SerwOOW-QvkP",
      "execution_count": 163,
      "outputs": []
    },
    {
      "cell_type": "code",
      "source": [
        "#trying to grid search this\n",
        "from sklearn.model_selection import GridSearchCV\n",
        "# Instantiate model\n",
        "model = xgb.XGBRegressor(n_estimators = 10)\n",
        "\n",
        "# Hyperparameter Grid\n",
        "grid = {\n",
        "    'max_depth': [9, 10, 11],\n",
        "    'learning_rate': [0.1, 0.05]\n",
        "}\n",
        "\n",
        "# Instantiate Grid Search\n",
        "search = GridSearchCV(\n",
        "    model,\n",
        "    grid,\n",
        "    scoring = 'neg_mean_squared_error',\n",
        "    cv = 5,\n",
        "    n_jobs=-1 # parallelize computation\n",
        ")\n",
        "\n",
        "# Fit data to Grid Search\n",
        "search.fit(X_train, y_train , eval_metric=\"rmse\", verbose=False);\n",
        "\n"
      ],
      "metadata": {
        "colab": {
          "base_uri": "https://localhost:8080/"
        },
        "id": "e0gigxSROGhS",
        "outputId": "d191bdce-b7e0-40b4-9836-5c6533923b56"
      },
      "id": "e0gigxSROGhS",
      "execution_count": 184,
      "outputs": [
        {
          "output_type": "stream",
          "name": "stderr",
          "text": [
            "/usr/local/lib/python3.10/dist-packages/xgboost/sklearn.py:889: UserWarning: `eval_metric` in `fit` method is deprecated for better compatibility with scikit-learn, use `eval_metric` in constructor or`set_params` instead.\n",
            "  warnings.warn(\n"
          ]
        }
      ]
    },
    {
      "cell_type": "code",
      "source": [
        "(search.best_score_  * -1) ** 0.5"
      ],
      "metadata": {
        "colab": {
          "base_uri": "https://localhost:8080/"
        },
        "id": "eZKlr18lR4Me",
        "outputId": "765f240f-75e4-4c2c-8c67-0c2615c63592"
      },
      "id": "eZKlr18lR4Me",
      "execution_count": 185,
      "outputs": [
        {
          "output_type": "execute_result",
          "data": {
            "text/plain": [
              "0.05985784112300065"
            ]
          },
          "metadata": {},
          "execution_count": 185
        }
      ]
    },
    {
      "cell_type": "code",
      "source": [
        "search.best_params_"
      ],
      "metadata": {
        "colab": {
          "base_uri": "https://localhost:8080/"
        },
        "id": "bRTaZ7ECSBLm",
        "outputId": "1810eb20-e7f5-4df2-d722-bf7c68b0d76e"
      },
      "id": "bRTaZ7ECSBLm",
      "execution_count": 186,
      "outputs": [
        {
          "output_type": "execute_result",
          "data": {
            "text/plain": [
              "{'learning_rate': 0.1, 'max_depth': 11}"
            ]
          },
          "metadata": {},
          "execution_count": 186
        }
      ]
    },
    {
      "cell_type": "code",
      "source": [
        "search.best_estimator_"
      ],
      "metadata": {
        "colab": {
          "base_uri": "https://localhost:8080/",
          "height": 248
        },
        "id": "itsbOFf3SDid",
        "outputId": "f0a7f7c7-2414-470e-a521-bdc037ee941a"
      },
      "id": "itsbOFf3SDid",
      "execution_count": 181,
      "outputs": [
        {
          "output_type": "execute_result",
          "data": {
            "text/plain": [
              "XGBRegressor(base_score=None, booster=None, callbacks=None,\n",
              "             colsample_bylevel=None, colsample_bynode=None,\n",
              "             colsample_bytree=None, device=None, early_stopping_rounds=None,\n",
              "             enable_categorical=False, eval_metric=None, feature_types=None,\n",
              "             gamma=None, grow_policy=None, importance_type=None,\n",
              "             interaction_constraints=None, learning_rate=0.1, max_bin=None,\n",
              "             max_cat_threshold=None, max_cat_to_onehot=None,\n",
              "             max_delta_step=None, max_depth=9, max_leaves=None,\n",
              "             min_child_weight=None, missing=nan, monotone_constraints=None,\n",
              "             multi_strategy=None, n_estimators=50, n_jobs=None,\n",
              "             num_parallel_tree=None, random_state=None, ...)"
            ],
            "text/html": [
              "<style>#sk-container-id-2 {color: black;background-color: white;}#sk-container-id-2 pre{padding: 0;}#sk-container-id-2 div.sk-toggleable {background-color: white;}#sk-container-id-2 label.sk-toggleable__label {cursor: pointer;display: block;width: 100%;margin-bottom: 0;padding: 0.3em;box-sizing: border-box;text-align: center;}#sk-container-id-2 label.sk-toggleable__label-arrow:before {content: \"▸\";float: left;margin-right: 0.25em;color: #696969;}#sk-container-id-2 label.sk-toggleable__label-arrow:hover:before {color: black;}#sk-container-id-2 div.sk-estimator:hover label.sk-toggleable__label-arrow:before {color: black;}#sk-container-id-2 div.sk-toggleable__content {max-height: 0;max-width: 0;overflow: hidden;text-align: left;background-color: #f0f8ff;}#sk-container-id-2 div.sk-toggleable__content pre {margin: 0.2em;color: black;border-radius: 0.25em;background-color: #f0f8ff;}#sk-container-id-2 input.sk-toggleable__control:checked~div.sk-toggleable__content {max-height: 200px;max-width: 100%;overflow: auto;}#sk-container-id-2 input.sk-toggleable__control:checked~label.sk-toggleable__label-arrow:before {content: \"▾\";}#sk-container-id-2 div.sk-estimator input.sk-toggleable__control:checked~label.sk-toggleable__label {background-color: #d4ebff;}#sk-container-id-2 div.sk-label input.sk-toggleable__control:checked~label.sk-toggleable__label {background-color: #d4ebff;}#sk-container-id-2 input.sk-hidden--visually {border: 0;clip: rect(1px 1px 1px 1px);clip: rect(1px, 1px, 1px, 1px);height: 1px;margin: -1px;overflow: hidden;padding: 0;position: absolute;width: 1px;}#sk-container-id-2 div.sk-estimator {font-family: monospace;background-color: #f0f8ff;border: 1px dotted black;border-radius: 0.25em;box-sizing: border-box;margin-bottom: 0.5em;}#sk-container-id-2 div.sk-estimator:hover {background-color: #d4ebff;}#sk-container-id-2 div.sk-parallel-item::after {content: \"\";width: 100%;border-bottom: 1px solid gray;flex-grow: 1;}#sk-container-id-2 div.sk-label:hover label.sk-toggleable__label {background-color: #d4ebff;}#sk-container-id-2 div.sk-serial::before {content: \"\";position: absolute;border-left: 1px solid gray;box-sizing: border-box;top: 0;bottom: 0;left: 50%;z-index: 0;}#sk-container-id-2 div.sk-serial {display: flex;flex-direction: column;align-items: center;background-color: white;padding-right: 0.2em;padding-left: 0.2em;position: relative;}#sk-container-id-2 div.sk-item {position: relative;z-index: 1;}#sk-container-id-2 div.sk-parallel {display: flex;align-items: stretch;justify-content: center;background-color: white;position: relative;}#sk-container-id-2 div.sk-item::before, #sk-container-id-2 div.sk-parallel-item::before {content: \"\";position: absolute;border-left: 1px solid gray;box-sizing: border-box;top: 0;bottom: 0;left: 50%;z-index: -1;}#sk-container-id-2 div.sk-parallel-item {display: flex;flex-direction: column;z-index: 1;position: relative;background-color: white;}#sk-container-id-2 div.sk-parallel-item:first-child::after {align-self: flex-end;width: 50%;}#sk-container-id-2 div.sk-parallel-item:last-child::after {align-self: flex-start;width: 50%;}#sk-container-id-2 div.sk-parallel-item:only-child::after {width: 0;}#sk-container-id-2 div.sk-dashed-wrapped {border: 1px dashed gray;margin: 0 0.4em 0.5em 0.4em;box-sizing: border-box;padding-bottom: 0.4em;background-color: white;}#sk-container-id-2 div.sk-label label {font-family: monospace;font-weight: bold;display: inline-block;line-height: 1.2em;}#sk-container-id-2 div.sk-label-container {text-align: center;}#sk-container-id-2 div.sk-container {/* jupyter's `normalize.less` sets `[hidden] { display: none; }` but bootstrap.min.css set `[hidden] { display: none !important; }` so we also need the `!important` here to be able to override the default hidden behavior on the sphinx rendered scikit-learn.org. See: https://github.com/scikit-learn/scikit-learn/issues/21755 */display: inline-block !important;position: relative;}#sk-container-id-2 div.sk-text-repr-fallback {display: none;}</style><div id=\"sk-container-id-2\" class=\"sk-top-container\"><div class=\"sk-text-repr-fallback\"><pre>XGBRegressor(base_score=None, booster=None, callbacks=None,\n",
              "             colsample_bylevel=None, colsample_bynode=None,\n",
              "             colsample_bytree=None, device=None, early_stopping_rounds=None,\n",
              "             enable_categorical=False, eval_metric=None, feature_types=None,\n",
              "             gamma=None, grow_policy=None, importance_type=None,\n",
              "             interaction_constraints=None, learning_rate=0.1, max_bin=None,\n",
              "             max_cat_threshold=None, max_cat_to_onehot=None,\n",
              "             max_delta_step=None, max_depth=9, max_leaves=None,\n",
              "             min_child_weight=None, missing=nan, monotone_constraints=None,\n",
              "             multi_strategy=None, n_estimators=50, n_jobs=None,\n",
              "             num_parallel_tree=None, random_state=None, ...)</pre><b>In a Jupyter environment, please rerun this cell to show the HTML representation or trust the notebook. <br />On GitHub, the HTML representation is unable to render, please try loading this page with nbviewer.org.</b></div><div class=\"sk-container\" hidden><div class=\"sk-item\"><div class=\"sk-estimator sk-toggleable\"><input class=\"sk-toggleable__control sk-hidden--visually\" id=\"sk-estimator-id-2\" type=\"checkbox\" checked><label for=\"sk-estimator-id-2\" class=\"sk-toggleable__label sk-toggleable__label-arrow\">XGBRegressor</label><div class=\"sk-toggleable__content\"><pre>XGBRegressor(base_score=None, booster=None, callbacks=None,\n",
              "             colsample_bylevel=None, colsample_bynode=None,\n",
              "             colsample_bytree=None, device=None, early_stopping_rounds=None,\n",
              "             enable_categorical=False, eval_metric=None, feature_types=None,\n",
              "             gamma=None, grow_policy=None, importance_type=None,\n",
              "             interaction_constraints=None, learning_rate=0.1, max_bin=None,\n",
              "             max_cat_threshold=None, max_cat_to_onehot=None,\n",
              "             max_delta_step=None, max_depth=9, max_leaves=None,\n",
              "             min_child_weight=None, missing=nan, monotone_constraints=None,\n",
              "             multi_strategy=None, n_estimators=50, n_jobs=None,\n",
              "             num_parallel_tree=None, random_state=None, ...)</pre></div></div></div></div></div>"
            ]
          },
          "metadata": {},
          "execution_count": 181
        }
      ]
    },
    {
      "cell_type": "code",
      "execution_count": 168,
      "id": "63891e12",
      "metadata": {
        "ExecuteTime": {
          "end_time": "2024-02-08T16:59:34.983759Z",
          "start_time": "2024-02-08T16:59:34.929416Z"
        },
        "id": "63891e12"
      },
      "outputs": [],
      "source": []
    },
    {
      "cell_type": "code",
      "execution_count": 141,
      "id": "01036771",
      "metadata": {
        "ExecuteTime": {
          "end_time": "2024-02-08T16:59:37.760521Z",
          "start_time": "2024-02-08T16:59:37.712797Z"
        },
        "id": "01036771"
      },
      "outputs": [],
      "source": [
        "from sklearn.metrics import mean_squared_error"
      ]
    },
    {
      "cell_type": "code",
      "execution_count": 196,
      "id": "1728716c",
      "metadata": {
        "ExecuteTime": {
          "end_time": "2024-02-08T16:59:39.314886Z",
          "start_time": "2024-02-08T16:59:38.970025Z"
        },
        "colab": {
          "base_uri": "https://localhost:8080/"
        },
        "id": "1728716c",
        "outputId": "612b121a-15cb-42fb-fd65-c1cd1548f9c4"
      },
      "outputs": [
        {
          "output_type": "execute_result",
          "data": {
            "text/plain": [
              "array([0.8984134 , 0.87759715, 0.9083597 , ..., 0.9205309 , 0.91341394,\n",
              "       0.96816593], dtype=float32)"
            ]
          },
          "metadata": {},
          "execution_count": 196
        }
      ],
      "source": [
        "y_pred = xgb_regressor.predict(X_test)\n",
        "#y_pred = model.predict(X_test)\n",
        "y_pred"
      ]
    },
    {
      "cell_type": "markdown",
      "id": "b61f6922",
      "metadata": {
        "id": "b61f6922"
      },
      "source": [
        "## comparing model with naive model"
      ]
    },
    {
      "cell_type": "code",
      "execution_count": 197,
      "id": "c7fb0e66",
      "metadata": {
        "ExecuteTime": {
          "end_time": "2024-02-08T16:59:45.657985Z",
          "start_time": "2024-02-08T16:59:45.587665Z"
        },
        "colab": {
          "base_uri": "https://localhost:8080/"
        },
        "id": "c7fb0e66",
        "outputId": "2303cb3f-b7b0-4c78-bdd2-8bcbc458b74f"
      },
      "outputs": [
        {
          "output_type": "execute_result",
          "data": {
            "text/plain": [
              "0.04389504509283568"
            ]
          },
          "metadata": {},
          "execution_count": 197
        }
      ],
      "source": [
        "mean_squared_error(y_test, y_pred) ** (0.5)   #model score: mean square error --> lower is better"
      ]
    },
    {
      "cell_type": "code",
      "execution_count": 104,
      "id": "18a12b78",
      "metadata": {
        "ExecuteTime": {
          "end_time": "2024-02-08T16:59:47.632341Z",
          "start_time": "2024-02-08T16:59:47.439372Z"
        },
        "colab": {
          "base_uri": "https://localhost:8080/"
        },
        "id": "18a12b78",
        "outputId": "710f6bcf-7228-43a1-87ea-f7f54f4d702c"
      },
      "outputs": [
        {
          "output_type": "execute_result",
          "data": {
            "text/plain": [
              "0.11389767051634032"
            ]
          },
          "metadata": {},
          "execution_count": 104
        }
      ],
      "source": [
        "mean_squared_error(y_test, [y_test.mean()]*len(y_test)) ** (0.5)   #naive score: mean square error"
      ]
    },
    {
      "cell_type": "code",
      "execution_count": 32,
      "id": "a47f0701",
      "metadata": {
        "ExecuteTime": {
          "end_time": "2024-02-08T16:47:04.733402Z",
          "start_time": "2024-02-08T16:47:04.713614Z"
        },
        "id": "a47f0701"
      },
      "outputs": [],
      "source": []
    },
    {
      "cell_type": "code",
      "execution_count": 32,
      "id": "ed89592f",
      "metadata": {
        "ExecuteTime": {
          "end_time": "2024-02-08T17:09:58.443233Z",
          "start_time": "2024-02-08T17:09:58.420101Z"
        },
        "id": "ed89592f"
      },
      "outputs": [],
      "source": []
    },
    {
      "cell_type": "markdown",
      "source": [
        "## Saving the model for later usage"
      ],
      "metadata": {
        "id": "rfYdfoVsCD9l"
      },
      "id": "rfYdfoVsCD9l"
    },
    {
      "cell_type": "code",
      "execution_count": 198,
      "id": "8e6972d6",
      "metadata": {
        "id": "8e6972d6"
      },
      "outputs": [],
      "source": [
        "import pickle\n",
        "\n",
        "filename = 'xgb_reg_model.sav'\n",
        "pickle.dump(xgb_reg, open(filename, 'wb'))\n",
        "\n",
        "\n",
        "#xgb_reg.save('xgb.h5')"
      ]
    },
    {
      "cell_type": "code",
      "execution_count": 32,
      "id": "4ede70e4",
      "metadata": {
        "id": "4ede70e4"
      },
      "outputs": [],
      "source": []
    },
    {
      "cell_type": "code",
      "execution_count": 32,
      "id": "b9e6b834",
      "metadata": {
        "id": "b9e6b834"
      },
      "outputs": [],
      "source": []
    },
    {
      "cell_type": "code",
      "execution_count": 32,
      "id": "476d9ceb",
      "metadata": {
        "id": "476d9ceb"
      },
      "outputs": [],
      "source": []
    },
    {
      "cell_type": "code",
      "execution_count": 32,
      "id": "8f186b9f",
      "metadata": {
        "id": "8f186b9f"
      },
      "outputs": [],
      "source": []
    },
    {
      "cell_type": "markdown",
      "id": "d486f621",
      "metadata": {
        "ExecuteTime": {
          "end_time": "2024-02-07T19:32:53.467318Z",
          "start_time": "2024-02-07T19:32:53.458406Z"
        },
        "id": "d486f621"
      },
      "source": [
        "# Simple tester"
      ]
    },
    {
      "cell_type": "code",
      "execution_count": 33,
      "id": "5fa6abe3",
      "metadata": {
        "ExecuteTime": {
          "end_time": "2024-02-08T17:13:29.058456Z",
          "start_time": "2024-02-08T17:13:28.669153Z"
        },
        "colab": {
          "base_uri": "https://localhost:8080/",
          "height": 217
        },
        "id": "5fa6abe3",
        "outputId": "4da618d5-a3eb-4c3b-9674-6f9bc8a867fe"
      },
      "outputs": [
        {
          "output_type": "stream",
          "name": "stderr",
          "text": [
            "<ipython-input-33-fe407ad5b9cf>:1: UserWarning: Boolean Series key will be reindexed to match DataFrame index.\n",
            "  car = merged_df[merged_df[\"car_model_year\"] == 2015 ] [merged_df[\"calendar_year\"] == 2017]#[merged_df.index == 23575 ]\n"
          ]
        },
        {
          "output_type": "execute_result",
          "data": {
            "text/plain": [
              "       car_code car_manufacturer  car_model_year  Year_x  Price_YoY  \\\n",
              "60263      2005          Peugeot            2015       2   0.844462   \n",
              "\n",
              "       Next_YoY_Price  Next_YoY_Pr_Pred  calendar_year  Price_sd_scaled  \\\n",
              "60263        0.966102          0.916243           2017        -1.451522   \n",
              "\n",
              "       Propulsion_Combustion  ...  Unit displacement     Trunk  \\\n",
              "60263                    1.0  ...            0.34035  0.027676   \n",
              "\n",
              "       USB connection  Gear speed transmissions     Urban    Year_y  Radio  \\\n",
              "60263             1.0                  0.454545  0.111663  0.839286    1.0   \n",
              "\n",
              "       Folding rear seat  Perimeter anti theft alarm  car_model_small  \n",
              "60263                1.0                         0.0              207  \n",
              "\n",
              "[1 rows x 110 columns]"
            ],
            "text/html": [
              "\n",
              "  <div id=\"df-aa5c4eb6-b3b3-47fb-bea5-379dfaaa2a81\" class=\"colab-df-container\">\n",
              "    <div>\n",
              "<style scoped>\n",
              "    .dataframe tbody tr th:only-of-type {\n",
              "        vertical-align: middle;\n",
              "    }\n",
              "\n",
              "    .dataframe tbody tr th {\n",
              "        vertical-align: top;\n",
              "    }\n",
              "\n",
              "    .dataframe thead th {\n",
              "        text-align: right;\n",
              "    }\n",
              "</style>\n",
              "<table border=\"1\" class=\"dataframe\">\n",
              "  <thead>\n",
              "    <tr style=\"text-align: right;\">\n",
              "      <th></th>\n",
              "      <th>car_code</th>\n",
              "      <th>car_manufacturer</th>\n",
              "      <th>car_model_year</th>\n",
              "      <th>Year_x</th>\n",
              "      <th>Price_YoY</th>\n",
              "      <th>Next_YoY_Price</th>\n",
              "      <th>Next_YoY_Pr_Pred</th>\n",
              "      <th>calendar_year</th>\n",
              "      <th>Price_sd_scaled</th>\n",
              "      <th>Propulsion_Combustion</th>\n",
              "      <th>...</th>\n",
              "      <th>Unit displacement</th>\n",
              "      <th>Trunk</th>\n",
              "      <th>USB connection</th>\n",
              "      <th>Gear speed transmissions</th>\n",
              "      <th>Urban</th>\n",
              "      <th>Year_y</th>\n",
              "      <th>Radio</th>\n",
              "      <th>Folding rear seat</th>\n",
              "      <th>Perimeter anti theft alarm</th>\n",
              "      <th>car_model_small</th>\n",
              "    </tr>\n",
              "  </thead>\n",
              "  <tbody>\n",
              "    <tr>\n",
              "      <th>60263</th>\n",
              "      <td>2005</td>\n",
              "      <td>Peugeot</td>\n",
              "      <td>2015</td>\n",
              "      <td>2</td>\n",
              "      <td>0.844462</td>\n",
              "      <td>0.966102</td>\n",
              "      <td>0.916243</td>\n",
              "      <td>2017</td>\n",
              "      <td>-1.451522</td>\n",
              "      <td>1.0</td>\n",
              "      <td>...</td>\n",
              "      <td>0.34035</td>\n",
              "      <td>0.027676</td>\n",
              "      <td>1.0</td>\n",
              "      <td>0.454545</td>\n",
              "      <td>0.111663</td>\n",
              "      <td>0.839286</td>\n",
              "      <td>1.0</td>\n",
              "      <td>1.0</td>\n",
              "      <td>0.0</td>\n",
              "      <td>207</td>\n",
              "    </tr>\n",
              "  </tbody>\n",
              "</table>\n",
              "<p>1 rows × 110 columns</p>\n",
              "</div>\n",
              "    <div class=\"colab-df-buttons\">\n",
              "\n",
              "  <div class=\"colab-df-container\">\n",
              "    <button class=\"colab-df-convert\" onclick=\"convertToInteractive('df-aa5c4eb6-b3b3-47fb-bea5-379dfaaa2a81')\"\n",
              "            title=\"Convert this dataframe to an interactive table.\"\n",
              "            style=\"display:none;\">\n",
              "\n",
              "  <svg xmlns=\"http://www.w3.org/2000/svg\" height=\"24px\" viewBox=\"0 -960 960 960\">\n",
              "    <path d=\"M120-120v-720h720v720H120Zm60-500h600v-160H180v160Zm220 220h160v-160H400v160Zm0 220h160v-160H400v160ZM180-400h160v-160H180v160Zm440 0h160v-160H620v160ZM180-180h160v-160H180v160Zm440 0h160v-160H620v160Z\"/>\n",
              "  </svg>\n",
              "    </button>\n",
              "\n",
              "  <style>\n",
              "    .colab-df-container {\n",
              "      display:flex;\n",
              "      gap: 12px;\n",
              "    }\n",
              "\n",
              "    .colab-df-convert {\n",
              "      background-color: #E8F0FE;\n",
              "      border: none;\n",
              "      border-radius: 50%;\n",
              "      cursor: pointer;\n",
              "      display: none;\n",
              "      fill: #1967D2;\n",
              "      height: 32px;\n",
              "      padding: 0 0 0 0;\n",
              "      width: 32px;\n",
              "    }\n",
              "\n",
              "    .colab-df-convert:hover {\n",
              "      background-color: #E2EBFA;\n",
              "      box-shadow: 0px 1px 2px rgba(60, 64, 67, 0.3), 0px 1px 3px 1px rgba(60, 64, 67, 0.15);\n",
              "      fill: #174EA6;\n",
              "    }\n",
              "\n",
              "    .colab-df-buttons div {\n",
              "      margin-bottom: 4px;\n",
              "    }\n",
              "\n",
              "    [theme=dark] .colab-df-convert {\n",
              "      background-color: #3B4455;\n",
              "      fill: #D2E3FC;\n",
              "    }\n",
              "\n",
              "    [theme=dark] .colab-df-convert:hover {\n",
              "      background-color: #434B5C;\n",
              "      box-shadow: 0px 1px 3px 1px rgba(0, 0, 0, 0.15);\n",
              "      filter: drop-shadow(0px 1px 2px rgba(0, 0, 0, 0.3));\n",
              "      fill: #FFFFFF;\n",
              "    }\n",
              "  </style>\n",
              "\n",
              "    <script>\n",
              "      const buttonEl =\n",
              "        document.querySelector('#df-aa5c4eb6-b3b3-47fb-bea5-379dfaaa2a81 button.colab-df-convert');\n",
              "      buttonEl.style.display =\n",
              "        google.colab.kernel.accessAllowed ? 'block' : 'none';\n",
              "\n",
              "      async function convertToInteractive(key) {\n",
              "        const element = document.querySelector('#df-aa5c4eb6-b3b3-47fb-bea5-379dfaaa2a81');\n",
              "        const dataTable =\n",
              "          await google.colab.kernel.invokeFunction('convertToInteractive',\n",
              "                                                    [key], {});\n",
              "        if (!dataTable) return;\n",
              "\n",
              "        const docLinkHtml = 'Like what you see? Visit the ' +\n",
              "          '<a target=\"_blank\" href=https://colab.research.google.com/notebooks/data_table.ipynb>data table notebook</a>'\n",
              "          + ' to learn more about interactive tables.';\n",
              "        element.innerHTML = '';\n",
              "        dataTable['output_type'] = 'display_data';\n",
              "        await google.colab.output.renderOutput(dataTable, element);\n",
              "        const docLink = document.createElement('div');\n",
              "        docLink.innerHTML = docLinkHtml;\n",
              "        element.appendChild(docLink);\n",
              "      }\n",
              "    </script>\n",
              "  </div>\n",
              "\n",
              "    </div>\n",
              "  </div>\n"
            ]
          },
          "metadata": {},
          "execution_count": 33
        }
      ],
      "source": [
        "car = merged_df[merged_df[\"car_model_year\"] == 2015 ] [merged_df[\"calendar_year\"] == 2017]#[merged_df.index == 23575 ]\n",
        "car = merged_df[merged_df.index == 60263 ]\n",
        "car"
      ]
    },
    {
      "cell_type": "code",
      "execution_count": 34,
      "id": "d54f86ce",
      "metadata": {
        "ExecuteTime": {
          "end_time": "2024-02-08T17:13:31.236755Z",
          "start_time": "2024-02-08T17:13:30.398937Z"
        },
        "scrolled": true,
        "colab": {
          "base_uri": "https://localhost:8080/",
          "height": 182
        },
        "id": "d54f86ce",
        "outputId": "6816f537-6b29-4b24-c4f8-7456d0dd0c20"
      },
      "outputs": [
        {
          "output_type": "execute_result",
          "data": {
            "text/plain": [
              "      car_manufacturer  Year_x  Price_YoY  calendar_year  \\\n",
              "60263          Peugeot       2   0.844462           2017   \n",
              "\n",
              "       Propulsion_Combustion  Propulsion_Electric  Propulsion_Hybrid  \\\n",
              "60263                    1.0                  0.0                0.0   \n",
              "\n",
              "       Propulsion_Light Hybrid  Propulsion_Plug-in hybrid  \\\n",
              "60263                      0.0                        0.0   \n",
              "\n",
              "       Car gearbox_Automated  ...  Unit displacement     Trunk  \\\n",
              "60263                    0.0  ...            0.34035  0.027676   \n",
              "\n",
              "       USB connection  Gear speed transmissions     Urban    Year_y  Radio  \\\n",
              "60263             1.0                  0.454545  0.111663  0.839286    1.0   \n",
              "\n",
              "       Folding rear seat  Perimeter anti theft alarm  car_model_small  \n",
              "60263                1.0                         0.0              207  \n",
              "\n",
              "[1 rows x 105 columns]"
            ],
            "text/html": [
              "\n",
              "  <div id=\"df-bec33455-0684-4c3c-9236-76cc4437f70a\" class=\"colab-df-container\">\n",
              "    <div>\n",
              "<style scoped>\n",
              "    .dataframe tbody tr th:only-of-type {\n",
              "        vertical-align: middle;\n",
              "    }\n",
              "\n",
              "    .dataframe tbody tr th {\n",
              "        vertical-align: top;\n",
              "    }\n",
              "\n",
              "    .dataframe thead th {\n",
              "        text-align: right;\n",
              "    }\n",
              "</style>\n",
              "<table border=\"1\" class=\"dataframe\">\n",
              "  <thead>\n",
              "    <tr style=\"text-align: right;\">\n",
              "      <th></th>\n",
              "      <th>car_manufacturer</th>\n",
              "      <th>Year_x</th>\n",
              "      <th>Price_YoY</th>\n",
              "      <th>calendar_year</th>\n",
              "      <th>Propulsion_Combustion</th>\n",
              "      <th>Propulsion_Electric</th>\n",
              "      <th>Propulsion_Hybrid</th>\n",
              "      <th>Propulsion_Light Hybrid</th>\n",
              "      <th>Propulsion_Plug-in hybrid</th>\n",
              "      <th>Car gearbox_Automated</th>\n",
              "      <th>...</th>\n",
              "      <th>Unit displacement</th>\n",
              "      <th>Trunk</th>\n",
              "      <th>USB connection</th>\n",
              "      <th>Gear speed transmissions</th>\n",
              "      <th>Urban</th>\n",
              "      <th>Year_y</th>\n",
              "      <th>Radio</th>\n",
              "      <th>Folding rear seat</th>\n",
              "      <th>Perimeter anti theft alarm</th>\n",
              "      <th>car_model_small</th>\n",
              "    </tr>\n",
              "  </thead>\n",
              "  <tbody>\n",
              "    <tr>\n",
              "      <th>60263</th>\n",
              "      <td>Peugeot</td>\n",
              "      <td>2</td>\n",
              "      <td>0.844462</td>\n",
              "      <td>2017</td>\n",
              "      <td>1.0</td>\n",
              "      <td>0.0</td>\n",
              "      <td>0.0</td>\n",
              "      <td>0.0</td>\n",
              "      <td>0.0</td>\n",
              "      <td>0.0</td>\n",
              "      <td>...</td>\n",
              "      <td>0.34035</td>\n",
              "      <td>0.027676</td>\n",
              "      <td>1.0</td>\n",
              "      <td>0.454545</td>\n",
              "      <td>0.111663</td>\n",
              "      <td>0.839286</td>\n",
              "      <td>1.0</td>\n",
              "      <td>1.0</td>\n",
              "      <td>0.0</td>\n",
              "      <td>207</td>\n",
              "    </tr>\n",
              "  </tbody>\n",
              "</table>\n",
              "<p>1 rows × 105 columns</p>\n",
              "</div>\n",
              "    <div class=\"colab-df-buttons\">\n",
              "\n",
              "  <div class=\"colab-df-container\">\n",
              "    <button class=\"colab-df-convert\" onclick=\"convertToInteractive('df-bec33455-0684-4c3c-9236-76cc4437f70a')\"\n",
              "            title=\"Convert this dataframe to an interactive table.\"\n",
              "            style=\"display:none;\">\n",
              "\n",
              "  <svg xmlns=\"http://www.w3.org/2000/svg\" height=\"24px\" viewBox=\"0 -960 960 960\">\n",
              "    <path d=\"M120-120v-720h720v720H120Zm60-500h600v-160H180v160Zm220 220h160v-160H400v160Zm0 220h160v-160H400v160ZM180-400h160v-160H180v160Zm440 0h160v-160H620v160ZM180-180h160v-160H180v160Zm440 0h160v-160H620v160Z\"/>\n",
              "  </svg>\n",
              "    </button>\n",
              "\n",
              "  <style>\n",
              "    .colab-df-container {\n",
              "      display:flex;\n",
              "      gap: 12px;\n",
              "    }\n",
              "\n",
              "    .colab-df-convert {\n",
              "      background-color: #E8F0FE;\n",
              "      border: none;\n",
              "      border-radius: 50%;\n",
              "      cursor: pointer;\n",
              "      display: none;\n",
              "      fill: #1967D2;\n",
              "      height: 32px;\n",
              "      padding: 0 0 0 0;\n",
              "      width: 32px;\n",
              "    }\n",
              "\n",
              "    .colab-df-convert:hover {\n",
              "      background-color: #E2EBFA;\n",
              "      box-shadow: 0px 1px 2px rgba(60, 64, 67, 0.3), 0px 1px 3px 1px rgba(60, 64, 67, 0.15);\n",
              "      fill: #174EA6;\n",
              "    }\n",
              "\n",
              "    .colab-df-buttons div {\n",
              "      margin-bottom: 4px;\n",
              "    }\n",
              "\n",
              "    [theme=dark] .colab-df-convert {\n",
              "      background-color: #3B4455;\n",
              "      fill: #D2E3FC;\n",
              "    }\n",
              "\n",
              "    [theme=dark] .colab-df-convert:hover {\n",
              "      background-color: #434B5C;\n",
              "      box-shadow: 0px 1px 3px 1px rgba(0, 0, 0, 0.15);\n",
              "      filter: drop-shadow(0px 1px 2px rgba(0, 0, 0, 0.3));\n",
              "      fill: #FFFFFF;\n",
              "    }\n",
              "  </style>\n",
              "\n",
              "    <script>\n",
              "      const buttonEl =\n",
              "        document.querySelector('#df-bec33455-0684-4c3c-9236-76cc4437f70a button.colab-df-convert');\n",
              "      buttonEl.style.display =\n",
              "        google.colab.kernel.accessAllowed ? 'block' : 'none';\n",
              "\n",
              "      async function convertToInteractive(key) {\n",
              "        const element = document.querySelector('#df-bec33455-0684-4c3c-9236-76cc4437f70a');\n",
              "        const dataTable =\n",
              "          await google.colab.kernel.invokeFunction('convertToInteractive',\n",
              "                                                    [key], {});\n",
              "        if (!dataTable) return;\n",
              "\n",
              "        const docLinkHtml = 'Like what you see? Visit the ' +\n",
              "          '<a target=\"_blank\" href=https://colab.research.google.com/notebooks/data_table.ipynb>data table notebook</a>'\n",
              "          + ' to learn more about interactive tables.';\n",
              "        element.innerHTML = '';\n",
              "        dataTable['output_type'] = 'display_data';\n",
              "        await google.colab.output.renderOutput(dataTable, element);\n",
              "        const docLink = document.createElement('div');\n",
              "        docLink.innerHTML = docLinkHtml;\n",
              "        element.appendChild(docLink);\n",
              "      }\n",
              "    </script>\n",
              "  </div>\n",
              "\n",
              "    </div>\n",
              "  </div>\n"
            ]
          },
          "metadata": {},
          "execution_count": 34
        }
      ],
      "source": [
        "car = car.drop( columns=['car_code' , 'car_model_year',  'Next_YoY_Price', 'Next_YoY_Pr_Pred', 'Price_sd_scaled' ])\n",
        "\n",
        "\n",
        "#X = merged_df.drop( columns=['car_code' , 'car_model_year',  'Next_YoY_Price', 'Next_YoY_Pr_Pred',\n",
        "#       'Price_sd_scaled' ])\n",
        "\n",
        "\n",
        "#car[\"car_model_small\"] = car[\"car_model\"].map(take_first_word)\n",
        "#car.drop(columns=\"car_model\", inplace=True)\n",
        "car"
      ]
    },
    {
      "cell_type": "code",
      "execution_count": 35,
      "id": "0b28e375",
      "metadata": {
        "ExecuteTime": {
          "end_time": "2024-02-08T17:13:39.765244Z",
          "start_time": "2024-02-08T17:13:39.667594Z"
        },
        "id": "0b28e375"
      },
      "outputs": [],
      "source": [
        "car_transformed = preprocessor.transform(car)"
      ]
    },
    {
      "cell_type": "code",
      "execution_count": 36,
      "id": "1cbb190a",
      "metadata": {
        "ExecuteTime": {
          "end_time": "2024-02-08T17:13:41.728291Z",
          "start_time": "2024-02-08T17:13:41.659590Z"
        },
        "colab": {
          "base_uri": "https://localhost:8080/"
        },
        "id": "1cbb190a",
        "outputId": "cca7c8a7-f991-46f7-f5d4-4d4c30d85113"
      },
      "outputs": [
        {
          "output_type": "execute_result",
          "data": {
            "text/plain": [
              "array([0.96103674], dtype=float32)"
            ]
          },
          "metadata": {},
          "execution_count": 36
        }
      ],
      "source": [
        "xgb_reg.predict(car_transformed)"
      ]
    },
    {
      "cell_type": "code",
      "execution_count": 36,
      "id": "4b0dd28c",
      "metadata": {
        "ExecuteTime": {
          "end_time": "2024-02-07T20:44:00.169257Z",
          "start_time": "2024-02-07T20:44:00.151684Z"
        },
        "id": "4b0dd28c"
      },
      "outputs": [],
      "source": []
    },
    {
      "cell_type": "code",
      "execution_count": 36,
      "id": "198ace1e",
      "metadata": {
        "id": "198ace1e"
      },
      "outputs": [],
      "source": []
    }
  ],
  "metadata": {
    "kernelspec": {
      "display_name": "Python 3 (ipykernel)",
      "language": "python",
      "name": "python3"
    },
    "language_info": {
      "codemirror_mode": {
        "name": "ipython",
        "version": 3
      },
      "file_extension": ".py",
      "mimetype": "text/x-python",
      "name": "python",
      "nbconvert_exporter": "python",
      "pygments_lexer": "ipython3",
      "version": "3.10.6"
    },
    "toc": {
      "base_numbering": 1,
      "nav_menu": {},
      "number_sections": true,
      "sideBar": true,
      "skip_h1_title": false,
      "title_cell": "Table of Contents",
      "title_sidebar": "Contents",
      "toc_cell": false,
      "toc_position": {},
      "toc_section_display": true,
      "toc_window_display": false
    },
    "colab": {
      "provenance": []
    }
  },
  "nbformat": 4,
  "nbformat_minor": 5
}