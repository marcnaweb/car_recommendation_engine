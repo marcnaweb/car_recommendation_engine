{
  "cells": [
    {
      "cell_type": "code",
      "execution_count": 362,
      "id": "5ca5b624",
      "metadata": {
        "ExecuteTime": {
          "end_time": "2024-02-08T16:13:48.758204Z",
          "start_time": "2024-02-08T16:13:48.747093Z"
        },
        "id": "5ca5b624"
      },
      "outputs": [],
      "source": [
        "import pandas as pd\n",
        "import numpy as np\n",
        "import seaborn as sns\n",
        "from sklearn.preprocessing import OneHotEncoder"
      ]
    },
    {
      "cell_type": "code",
      "execution_count": 363,
      "id": "b1d64bcc",
      "metadata": {
        "ExecuteTime": {
          "end_time": "2024-02-08T16:13:48.940214Z",
          "start_time": "2024-02-08T16:13:48.770243Z"
        },
        "colab": {
          "base_uri": "https://localhost:8080/"
        },
        "id": "b1d64bcc",
        "outputId": "5b2923b3-2e00-4c55-e6a9-c365ca09b485"
      },
      "outputs": [
        {
          "output_type": "stream",
          "name": "stdout",
          "text": [
            "/content\n"
          ]
        }
      ],
      "source": [
        "!pwd"
      ]
    },
    {
      "cell_type": "markdown",
      "id": "badafdf7",
      "metadata": {
        "ExecuteTime": {
          "end_time": "2024-02-07T18:04:14.917256Z",
          "start_time": "2024-02-07T18:04:12.942409Z"
        },
        "id": "badafdf7"
      },
      "source": [
        "# Creating the data frame"
      ]
    },
    {
      "cell_type": "code",
      "execution_count": 364,
      "id": "6023bc33",
      "metadata": {
        "ExecuteTime": {
          "end_time": "2024-02-08T16:13:49.566200Z",
          "start_time": "2024-02-08T16:13:48.953106Z"
        },
        "id": "6023bc33"
      },
      "outputs": [],
      "source": [
        "price_df = pd.read_csv('/car_prices_w_prices_scaled.csv', index_col=0)"
      ]
    },
    {
      "cell_type": "code",
      "execution_count": 365,
      "id": "b6b7c657",
      "metadata": {
        "ExecuteTime": {
          "end_time": "2024-02-08T16:13:50.878358Z",
          "start_time": "2024-02-08T16:13:49.587448Z"
        },
        "id": "b6b7c657"
      },
      "outputs": [],
      "source": [
        "features_df = pd.read_csv('/scaled_cleaned.csv')"
      ]
    },
    {
      "cell_type": "markdown",
      "id": "6f02b36b",
      "metadata": {
        "ExecuteTime": {
          "end_time": "2024-02-07T18:54:32.874463Z",
          "start_time": "2024-02-07T18:54:32.865626Z"
        },
        "id": "6f02b36b"
      },
      "source": [
        "## Merging features and prices"
      ]
    },
    {
      "cell_type": "code",
      "execution_count": 366,
      "id": "297cad63",
      "metadata": {
        "ExecuteTime": {
          "end_time": "2024-02-08T16:13:51.210185Z",
          "start_time": "2024-02-08T16:13:50.887683Z"
        },
        "id": "297cad63"
      },
      "outputs": [],
      "source": [
        "merged_df = price_df.merge(features_df, left_on=\"car_code\", right_on=\"car_code\", how=\"left\")"
      ]
    },
    {
      "cell_type": "code",
      "execution_count": 367,
      "id": "68e330b5",
      "metadata": {
        "ExecuteTime": {
          "end_time": "2024-02-08T16:13:51.253438Z",
          "start_time": "2024-02-08T16:13:51.228295Z"
        },
        "id": "68e330b5"
      },
      "outputs": [],
      "source": [
        "merged_df.rename(columns=lambda x: x.strip(), inplace=True)"
      ]
    },
    {
      "cell_type": "code",
      "execution_count": 368,
      "id": "dead1276",
      "metadata": {
        "ExecuteTime": {
          "end_time": "2024-02-08T16:13:51.653788Z",
          "start_time": "2024-02-08T16:13:51.265757Z"
        },
        "scrolled": false,
        "colab": {
          "base_uri": "https://localhost:8080/",
          "height": 200
        },
        "id": "dead1276",
        "outputId": "1ea2afea-dd87-4833-f99b-a3bf829d8753"
      },
      "outputs": [
        {
          "output_type": "execute_result",
          "data": {
            "text/plain": [
              "       car_code car_manufacturer          car_model  car_model_year  Year_x  \\\n",
              "87887       441             Audi  A8 4.2 V8 Quattro            2003       1   \n",
              "\n",
              "       Price_YoY  Next_YoY_Price  Next_YoY_Pr_Pred  calendar_year  \\\n",
              "87887   0.749652        0.961737          0.917069           2004   \n",
              "\n",
              "       Price_sd_scaled  ...  Maximum power  Unit displacement     Trunk  \\\n",
              "87887        -0.836267  ...       0.167403           0.523084  0.033011   \n",
              "\n",
              "       USB connection  Gear speed transmissions     Urban  Year_y  Radio  \\\n",
              "87887             0.0                  0.545455  0.062035   0.625    0.0   \n",
              "\n",
              "       Folding rear seat  Perimeter anti theft alarm  \n",
              "87887                0.0                         0.0  \n",
              "\n",
              "[1 rows x 110 columns]"
            ],
            "text/html": [
              "\n",
              "  <div id=\"df-22d87c42-3732-4cb6-97b4-118630aabe0c\" class=\"colab-df-container\">\n",
              "    <div>\n",
              "<style scoped>\n",
              "    .dataframe tbody tr th:only-of-type {\n",
              "        vertical-align: middle;\n",
              "    }\n",
              "\n",
              "    .dataframe tbody tr th {\n",
              "        vertical-align: top;\n",
              "    }\n",
              "\n",
              "    .dataframe thead th {\n",
              "        text-align: right;\n",
              "    }\n",
              "</style>\n",
              "<table border=\"1\" class=\"dataframe\">\n",
              "  <thead>\n",
              "    <tr style=\"text-align: right;\">\n",
              "      <th></th>\n",
              "      <th>car_code</th>\n",
              "      <th>car_manufacturer</th>\n",
              "      <th>car_model</th>\n",
              "      <th>car_model_year</th>\n",
              "      <th>Year_x</th>\n",
              "      <th>Price_YoY</th>\n",
              "      <th>Next_YoY_Price</th>\n",
              "      <th>Next_YoY_Pr_Pred</th>\n",
              "      <th>calendar_year</th>\n",
              "      <th>Price_sd_scaled</th>\n",
              "      <th>...</th>\n",
              "      <th>Maximum power</th>\n",
              "      <th>Unit displacement</th>\n",
              "      <th>Trunk</th>\n",
              "      <th>USB connection</th>\n",
              "      <th>Gear speed transmissions</th>\n",
              "      <th>Urban</th>\n",
              "      <th>Year_y</th>\n",
              "      <th>Radio</th>\n",
              "      <th>Folding rear seat</th>\n",
              "      <th>Perimeter anti theft alarm</th>\n",
              "    </tr>\n",
              "  </thead>\n",
              "  <tbody>\n",
              "    <tr>\n",
              "      <th>87887</th>\n",
              "      <td>441</td>\n",
              "      <td>Audi</td>\n",
              "      <td>A8 4.2 V8 Quattro</td>\n",
              "      <td>2003</td>\n",
              "      <td>1</td>\n",
              "      <td>0.749652</td>\n",
              "      <td>0.961737</td>\n",
              "      <td>0.917069</td>\n",
              "      <td>2004</td>\n",
              "      <td>-0.836267</td>\n",
              "      <td>...</td>\n",
              "      <td>0.167403</td>\n",
              "      <td>0.523084</td>\n",
              "      <td>0.033011</td>\n",
              "      <td>0.0</td>\n",
              "      <td>0.545455</td>\n",
              "      <td>0.062035</td>\n",
              "      <td>0.625</td>\n",
              "      <td>0.0</td>\n",
              "      <td>0.0</td>\n",
              "      <td>0.0</td>\n",
              "    </tr>\n",
              "  </tbody>\n",
              "</table>\n",
              "<p>1 rows × 110 columns</p>\n",
              "</div>\n",
              "    <div class=\"colab-df-buttons\">\n",
              "\n",
              "  <div class=\"colab-df-container\">\n",
              "    <button class=\"colab-df-convert\" onclick=\"convertToInteractive('df-22d87c42-3732-4cb6-97b4-118630aabe0c')\"\n",
              "            title=\"Convert this dataframe to an interactive table.\"\n",
              "            style=\"display:none;\">\n",
              "\n",
              "  <svg xmlns=\"http://www.w3.org/2000/svg\" height=\"24px\" viewBox=\"0 -960 960 960\">\n",
              "    <path d=\"M120-120v-720h720v720H120Zm60-500h600v-160H180v160Zm220 220h160v-160H400v160Zm0 220h160v-160H400v160ZM180-400h160v-160H180v160Zm440 0h160v-160H620v160ZM180-180h160v-160H180v160Zm440 0h160v-160H620v160Z\"/>\n",
              "  </svg>\n",
              "    </button>\n",
              "\n",
              "  <style>\n",
              "    .colab-df-container {\n",
              "      display:flex;\n",
              "      gap: 12px;\n",
              "    }\n",
              "\n",
              "    .colab-df-convert {\n",
              "      background-color: #E8F0FE;\n",
              "      border: none;\n",
              "      border-radius: 50%;\n",
              "      cursor: pointer;\n",
              "      display: none;\n",
              "      fill: #1967D2;\n",
              "      height: 32px;\n",
              "      padding: 0 0 0 0;\n",
              "      width: 32px;\n",
              "    }\n",
              "\n",
              "    .colab-df-convert:hover {\n",
              "      background-color: #E2EBFA;\n",
              "      box-shadow: 0px 1px 2px rgba(60, 64, 67, 0.3), 0px 1px 3px 1px rgba(60, 64, 67, 0.15);\n",
              "      fill: #174EA6;\n",
              "    }\n",
              "\n",
              "    .colab-df-buttons div {\n",
              "      margin-bottom: 4px;\n",
              "    }\n",
              "\n",
              "    [theme=dark] .colab-df-convert {\n",
              "      background-color: #3B4455;\n",
              "      fill: #D2E3FC;\n",
              "    }\n",
              "\n",
              "    [theme=dark] .colab-df-convert:hover {\n",
              "      background-color: #434B5C;\n",
              "      box-shadow: 0px 1px 3px 1px rgba(0, 0, 0, 0.15);\n",
              "      filter: drop-shadow(0px 1px 2px rgba(0, 0, 0, 0.3));\n",
              "      fill: #FFFFFF;\n",
              "    }\n",
              "  </style>\n",
              "\n",
              "    <script>\n",
              "      const buttonEl =\n",
              "        document.querySelector('#df-22d87c42-3732-4cb6-97b4-118630aabe0c button.colab-df-convert');\n",
              "      buttonEl.style.display =\n",
              "        google.colab.kernel.accessAllowed ? 'block' : 'none';\n",
              "\n",
              "      async function convertToInteractive(key) {\n",
              "        const element = document.querySelector('#df-22d87c42-3732-4cb6-97b4-118630aabe0c');\n",
              "        const dataTable =\n",
              "          await google.colab.kernel.invokeFunction('convertToInteractive',\n",
              "                                                    [key], {});\n",
              "        if (!dataTable) return;\n",
              "\n",
              "        const docLinkHtml = 'Like what you see? Visit the ' +\n",
              "          '<a target=\"_blank\" href=https://colab.research.google.com/notebooks/data_table.ipynb>data table notebook</a>'\n",
              "          + ' to learn more about interactive tables.';\n",
              "        element.innerHTML = '';\n",
              "        dataTable['output_type'] = 'display_data';\n",
              "        await google.colab.output.renderOutput(dataTable, element);\n",
              "        const docLink = document.createElement('div');\n",
              "        docLink.innerHTML = docLinkHtml;\n",
              "        element.appendChild(docLink);\n",
              "      }\n",
              "    </script>\n",
              "  </div>\n",
              "\n",
              "    </div>\n",
              "  </div>\n"
            ]
          },
          "metadata": {},
          "execution_count": 368
        }
      ],
      "source": [
        "merged_df[merged_df.index == 87887 ]"
      ]
    },
    {
      "cell_type": "markdown",
      "id": "20b77490",
      "metadata": {
        "id": "20b77490"
      },
      "source": [
        "### making model first name feature"
      ]
    },
    {
      "cell_type": "code",
      "execution_count": 369,
      "id": "1d61db71",
      "metadata": {
        "ExecuteTime": {
          "end_time": "2024-02-08T16:13:52.129679Z",
          "start_time": "2024-02-08T16:13:51.665846Z"
        },
        "id": "1d61db71"
      },
      "outputs": [],
      "source": [
        "def take_first_word(word):\n",
        "    return word.split(\" \")[0]\n",
        "\n",
        "merged_df[\"car_model_small\"] = merged_df[\"car_model\"].map(take_first_word)\n",
        "merged_df.drop(columns=\"car_model\", inplace=True)"
      ]
    },
    {
      "cell_type": "markdown",
      "id": "a9b85ea6",
      "metadata": {
        "ExecuteTime": {
          "end_time": "2024-02-07T12:19:07.061752Z",
          "start_time": "2024-02-07T12:19:07.053181Z"
        },
        "id": "a9b85ea6"
      },
      "source": [
        "# Model preprocessor"
      ]
    },
    {
      "cell_type": "code",
      "execution_count": 370,
      "id": "7dbcfedf",
      "metadata": {
        "ExecuteTime": {
          "end_time": "2024-02-08T16:13:52.176634Z",
          "start_time": "2024-02-08T16:13:52.166569Z"
        },
        "id": "7dbcfedf"
      },
      "outputs": [],
      "source": [
        "import numpy as np\n",
        "from sklearn.model_selection import train_test_split"
      ]
    },
    {
      "cell_type": "code",
      "execution_count": 371,
      "id": "c5eae425",
      "metadata": {
        "ExecuteTime": {
          "end_time": "2024-02-08T16:13:52.202079Z",
          "start_time": "2024-02-08T16:13:52.188892Z"
        },
        "id": "c5eae425"
      },
      "outputs": [],
      "source": [
        "from sklearn.compose import ColumnTransformer\n",
        "\n",
        "from sklearn.pipeline import Pipeline\n",
        "from sklearn.impute import SimpleImputer\n",
        "from sklearn.preprocessing import StandardScaler\n",
        "\n",
        "from sklearn.preprocessing import OneHotEncoder"
      ]
    },
    {
      "cell_type": "markdown",
      "id": "a0a402ff",
      "metadata": {
        "id": "a0a402ff"
      },
      "source": [
        "# Model X and y - train test validade sets"
      ]
    },
    {
      "cell_type": "code",
      "execution_count": 371,
      "id": "041b5678",
      "metadata": {
        "id": "041b5678"
      },
      "outputs": [],
      "source": []
    },
    {
      "cell_type": "code",
      "execution_count": 372,
      "id": "a944ec45",
      "metadata": {
        "ExecuteTime": {
          "end_time": "2024-02-08T16:14:43.062014Z",
          "start_time": "2024-02-08T16:14:42.955427Z"
        },
        "id": "a944ec45"
      },
      "outputs": [],
      "source": [
        "X = merged_df.drop( columns=['car_code' , 'car_model_year',  'Next_YoY_Price', 'Next_YoY_Pr_Pred',\n",
        "       'Price_sd_scaled' ])\n"
      ]
    },
    {
      "cell_type": "code",
      "execution_count": 373,
      "id": "1a3d3b2b",
      "metadata": {
        "ExecuteTime": {
          "end_time": "2024-02-08T16:14:52.409861Z",
          "start_time": "2024-02-08T16:14:52.247438Z"
        },
        "id": "1a3d3b2b"
      },
      "outputs": [],
      "source": [
        "\n",
        "num_feat = [feature for feature in X.select_dtypes(include='number').columns.tolist() if feature not in [\"Year_x\", \"calendar_year\" , \"car_code\", \"car_model_year\" , \"CNW Index\", \"CNW Ranking\", \"CNW Ranking\", \"Devaluation\" ] ]\n",
        "#num_feat\n",
        "categorical_features = list(merged_df.select_dtypes(include='object').columns)\n",
        "categorical_features = [] # intentionaly removing these features ['car_manufacturer', 'car_model_small']\n",
        "year_features = [\"Year_x\", \"calendar_year\" ]\n"
      ]
    },
    {
      "cell_type": "code",
      "source": [
        "#reiviewd after permutation analysis --> see heredown\n",
        "num_feat = ['Price_YoY',\n",
        "'Price R',\n",
        "'Doors',\n",
        "'Settings_Pickup truck',\n",
        "'Length between the axis',\n",
        "'Sidewall height',\n",
        "'Weight',\n",
        "'Car gearbox_Manual',\n",
        "'Height',\n",
        "'Maximum speed',\n",
        "'Acceleration',\n",
        "'Car payload',\n",
        "'Width',\n",
        "'Cylinder diameter',\n",
        "'Fuel tank',\n",
        "'Length',\n",
        "'Year_y',\n",
        "'Trunk',\n",
        "'Road consumption',\n",
        "'Light in the trunk',\n",
        "'Specific power',\n",
        "'Piston course',\n",
        "'Reader score',\n",
        "'Provenance']\n"
      ],
      "metadata": {
        "id": "2y9B1odq0iLK"
      },
      "id": "2y9B1odq0iLK",
      "execution_count": 374,
      "outputs": []
    },
    {
      "cell_type": "code",
      "source": [],
      "metadata": {
        "id": "oaH1dS3s0hxD"
      },
      "id": "oaH1dS3s0hxD",
      "execution_count": 374,
      "outputs": []
    },
    {
      "cell_type": "code",
      "execution_count": 375,
      "id": "20e7d5ca",
      "metadata": {
        "ExecuteTime": {
          "end_time": "2024-02-08T16:14:59.579390Z",
          "start_time": "2024-02-08T16:14:59.561641Z"
        },
        "id": "20e7d5ca"
      },
      "outputs": [],
      "source": [
        "\n",
        "# Impute then scale numerical values:\n",
        "num_inputer = Pipeline([\n",
        "    ('imputer', SimpleImputer(strategy=\"mean\"))\n",
        "    #('standard_scaler', StandardScaler())\n",
        "])\n",
        "\n",
        "standard_scaler = Pipeline([\n",
        "    #('imputer', SimpleImputer(strategy=\"mean\"))\n",
        "    ('standard_scaler', StandardScaler())\n",
        "])\n",
        "\n",
        "\n",
        "\n",
        "\n",
        "# Encode categorical values\n",
        "cat_transformer = OneHotEncoder(handle_unknown='ignore', sparse_output=False)\n",
        "\n",
        "\n",
        "\n",
        "\n",
        "# Parallelize \"num_transformer\" and \"cat_transfomer\"\n",
        "preprocessor = ColumnTransformer([\n",
        "    ('cat_transformer', cat_transformer, categorical_features ), #,\n",
        "    ('standard_scaler', standard_scaler, year_features ) ,\n",
        "    ('num_inputer', num_inputer, num_feat  )  #numerical_columns\n",
        "])\n"
      ]
    },
    {
      "cell_type": "code",
      "execution_count": 376,
      "id": "a69a02c2",
      "metadata": {
        "ExecuteTime": {
          "end_time": "2024-02-08T16:15:00.151281Z",
          "start_time": "2024-02-08T16:15:00.140650Z"
        },
        "id": "a69a02c2"
      },
      "outputs": [],
      "source": [
        "y = merged_df['Next_YoY_Price']\n",
        "#y = merged_df[\"Next_Price_sd_scaled\"]"
      ]
    },
    {
      "cell_type": "code",
      "execution_count": 377,
      "id": "42212048",
      "metadata": {
        "ExecuteTime": {
          "end_time": "2024-02-08T16:15:09.308355Z",
          "start_time": "2024-02-08T16:15:08.192776Z"
        },
        "id": "42212048"
      },
      "outputs": [],
      "source": [
        "from sklearn.model_selection import train_test_split\n",
        "\n",
        "X = preprocessor.fit_transform(X)  #keep in mind, is not procedural good\n",
        "\n",
        "# Split data into train, test and validation sets\n",
        "X_train, X_test, y_train, y_test = train_test_split(\n",
        "    X, y, test_size = 0.3, random_state = 42  # TEST = 30%\n",
        ")\n",
        "\n",
        "# Use the same function above for the validation set\n",
        "X_test, X_val, y_test, y_val = train_test_split(\n",
        "    X_test, y_test, test_size = 0.5, random_state = 42  # TEST = 15%\n",
        ")"
      ]
    },
    {
      "cell_type": "markdown",
      "id": "5a742b6f",
      "metadata": {
        "ExecuteTime": {
          "end_time": "2024-02-08T12:38:58.342030Z",
          "start_time": "2024-02-08T12:38:58.321072Z"
        },
        "id": "5a742b6f"
      },
      "source": [
        "#  XG Boost Model"
      ]
    },
    {
      "cell_type": "code",
      "execution_count": 378,
      "id": "b480dff2",
      "metadata": {
        "ExecuteTime": {
          "end_time": "2024-02-08T16:15:57.258151Z",
          "start_time": "2024-02-08T16:15:57.142672Z"
        },
        "id": "b480dff2"
      },
      "outputs": [],
      "source": [
        "from xgboost import XGBRegressor"
      ]
    },
    {
      "cell_type": "code",
      "execution_count": 379,
      "id": "1f9f27cb",
      "metadata": {
        "ExecuteTime": {
          "end_time": "2024-02-08T16:15:57.716548Z",
          "start_time": "2024-02-08T16:15:57.687083Z"
        },
        "colab": {
          "base_uri": "https://localhost:8080/"
        },
        "id": "1f9f27cb",
        "outputId": "15542834-12c4-4fcb-8b49-ed6b8dcd5dc4"
      },
      "outputs": [
        {
          "output_type": "execute_result",
          "data": {
            "text/plain": [
              "(87891, 26)"
            ]
          },
          "metadata": {},
          "execution_count": 379
        }
      ],
      "source": [
        "\n",
        "#X_train_transformed = preprocessor.fit_transform(X_train)\n",
        "#X_val_transformed = preprocessor.transform(X_val)\n",
        "X.shape"
      ]
    },
    {
      "cell_type": "code",
      "execution_count": 380,
      "id": "f8dc6fa6",
      "metadata": {
        "ExecuteTime": {
          "end_time": "2024-02-08T16:15:58.766978Z",
          "start_time": "2024-02-08T16:15:58.753588Z"
        },
        "colab": {
          "base_uri": "https://localhost:8080/"
        },
        "id": "f8dc6fa6",
        "outputId": "34712fd2-11da-472f-dd33-2663b4af653d"
      },
      "outputs": [
        {
          "output_type": "execute_result",
          "data": {
            "text/plain": [
              "(61523, 26)"
            ]
          },
          "metadata": {},
          "execution_count": 380
        }
      ],
      "source": [
        "X_train.shape\n",
        "#X_train.shape"
      ]
    },
    {
      "cell_type": "code",
      "execution_count": 381,
      "id": "34c0709a",
      "metadata": {
        "ExecuteTime": {
          "end_time": "2024-02-08T16:15:59.719537Z",
          "start_time": "2024-02-08T16:15:59.686286Z"
        },
        "colab": {
          "base_uri": "https://localhost:8080/"
        },
        "id": "34c0709a",
        "outputId": "8655fa8a-0ccf-412a-de6c-5936aebc2558"
      },
      "outputs": [
        {
          "output_type": "execute_result",
          "data": {
            "text/plain": [
              "(13184, 26)"
            ]
          },
          "metadata": {},
          "execution_count": 381
        }
      ],
      "source": [
        "X_val.shape\n",
        "#X_val.shape"
      ]
    },
    {
      "cell_type": "code",
      "execution_count": 382,
      "id": "5ae01cc1",
      "metadata": {
        "ExecuteTime": {
          "end_time": "2024-02-08T16:55:13.515243Z",
          "start_time": "2024-02-08T16:50:17.961384Z"
        },
        "colab": {
          "base_uri": "https://localhost:8080/",
          "height": 87
        },
        "id": "5ae01cc1",
        "outputId": "64659b39-6cb6-4c0a-aed8-4de5653370ff"
      },
      "outputs": [
        {
          "output_type": "execute_result",
          "data": {
            "text/plain": [
              "'\\nxgb_reg = XGBRegressor(max_depth=10, n_estimators=20, learning_rate=0.05)\\n\\nxgb_reg.fit(X_train, y_train,\\n    # evaluate loss at each iteration\\n    eval_set=[(X_train, y_train), (X_val, y_val)],  \\n    # stop iterating when eval loss increases 5 times in a row\\n    early_stopping_rounds=5 \\n)\\n\\ny_pred = xgb_reg.predict(X_val)\\n\\n'"
            ],
            "application/vnd.google.colaboratory.intrinsic+json": {
              "type": "string"
            }
          },
          "metadata": {},
          "execution_count": 382
        }
      ],
      "source": [
        "from xgboost import XGBRegressor #commenting this out\n",
        "\"\"\"\n",
        "xgb_reg = XGBRegressor(max_depth=10, n_estimators=20, learning_rate=0.05)\n",
        "\n",
        "xgb_reg.fit(X_train, y_train,\n",
        "    # evaluate loss at each iteration\n",
        "    eval_set=[(X_train, y_train), (X_val, y_val)],\n",
        "    # stop iterating when eval loss increases 5 times in a row\n",
        "    early_stopping_rounds=5\n",
        ")\n",
        "\n",
        "y_pred = xgb_reg.predict(X_val)\n",
        "\n",
        "\"\"\""
      ]
    },
    {
      "cell_type": "code",
      "source": [
        "import xgboost as xgb\n",
        "import matplotlib.pyplot as plt\n",
        "\n",
        "# Assuming you have your X_train, y_train, X_test, and y_test data prepared\n",
        "\n",
        "# Define the XGBoost regressor\n",
        "xgb_regressor = xgb.XGBRegressor(max_depth=13,  learning_rate=0.04 , n_estimators=100 ) #  n_estimators=150 , scale_pos_weight = 1\n",
        "\n",
        "# Fit the model with evaluation set\n",
        "eval_set = [(X_train, y_train), (X_test, y_test)]\n",
        "xgb_regressor.fit(X_train, y_train, eval_set=eval_set, eval_metric=\"rmse\", verbose=False) #set verbose=True if you want to show al the results\n",
        "\n",
        "# Extract training and validation loss from the model's history\n",
        "results = xgb_regressor.evals_result()\n",
        "train_loss = results['validation_0']['rmse']\n",
        "test_loss = results['validation_1']['rmse']\n",
        "\n",
        "# Plot the train and test loss\n",
        "plt.figure(figsize=(10, 6))\n",
        "plt.plot(train_loss, label='Train Loss')\n",
        "plt.plot(test_loss, label='Test Loss')\n",
        "plt.xlabel('Number of iterations')\n",
        "plt.ylabel('Root Mean Squared Error')\n",
        "plt.title('Training and Test Loss (XGBoost)')\n",
        "plt.legend()\n",
        "plt.grid()\n",
        "plt.show()"
      ],
      "metadata": {
        "colab": {
          "base_uri": "https://localhost:8080/",
          "height": 619
        },
        "id": "yJnx04WWCRYa",
        "outputId": "51f4f58b-f867-45e0-a8d8-d1ffc91a302e"
      },
      "id": "yJnx04WWCRYa",
      "execution_count": 423,
      "outputs": [
        {
          "output_type": "stream",
          "name": "stderr",
          "text": [
            "/usr/local/lib/python3.10/dist-packages/xgboost/sklearn.py:889: UserWarning: `eval_metric` in `fit` method is deprecated for better compatibility with scikit-learn, use `eval_metric` in constructor or`set_params` instead.\n",
            "  warnings.warn(\n"
          ]
        },
        {
          "output_type": "display_data",
          "data": {
            "text/plain": [
              "<Figure size 1000x600 with 1 Axes>"
            ],
            "image/png": "[encoded data removed]"
          },
          "metadata": {}
        }
      ]
    },
    {
      "cell_type": "code",
      "source": [],
      "metadata": {
        "id": "SerwOOW-QvkP"
      },
      "id": "SerwOOW-QvkP",
      "execution_count": 293,
      "outputs": []
    },
    {
      "cell_type": "code",
      "source": [
        "#trying to grid search this\n",
        "from sklearn.model_selection import GridSearchCV\n",
        "# Instantiate model\n",
        "model = xgb.XGBRegressor(n_estimators = 10)\n",
        "\n",
        "# Hyperparameter Grid\n",
        "grid = {\n",
        "    'max_depth': [9, 10, 11],\n",
        "    'learning_rate': [0.1, 0.05]\n",
        "}\n",
        "\n",
        "# Instantiate Grid Search\n",
        "search = GridSearchCV(\n",
        "    model,\n",
        "    grid,\n",
        "    scoring = 'neg_mean_squared_error',\n",
        "    cv = 5,\n",
        "    n_jobs=-1 # parallelize computation\n",
        ")\n",
        "\n",
        "# Fit data to Grid Search\n",
        "search.fit(X_train, y_train , eval_metric=\"rmse\", verbose=False);\n",
        "\n"
      ],
      "metadata": {
        "colab": {
          "base_uri": "https://localhost:8080/"
        },
        "id": "e0gigxSROGhS",
        "outputId": "d191bdce-b7e0-40b4-9836-5c6533923b56"
      },
      "id": "e0gigxSROGhS",
      "execution_count": 184,
      "outputs": [
        {
          "output_type": "stream",
          "name": "stderr",
          "text": [
            "/usr/local/lib/python3.10/dist-packages/xgboost/sklearn.py:889: UserWarning: `eval_metric` in `fit` method is deprecated for better compatibility with scikit-learn, use `eval_metric` in constructor or`set_params` instead.\n",
            "  warnings.warn(\n"
          ]
        }
      ]
    },
    {
      "cell_type": "code",
      "source": [
        "(search.best_score_  * -1) ** 0.5  #keep in mind: this gas less n_estimators than the definitive model"
      ],
      "metadata": {
        "colab": {
          "base_uri": "https://localhost:8080/"
        },
        "id": "eZKlr18lR4Me",
        "outputId": "862abd3f-f267-451d-ade6-ceae1c50eb4d"
      },
      "id": "eZKlr18lR4Me",
      "execution_count": 200,
      "outputs": [
        {
          "output_type": "execute_result",
          "data": {
            "text/plain": [
              "0.05985784112300065"
            ]
          },
          "metadata": {},
          "execution_count": 200
        }
      ]
    },
    {
      "cell_type": "code",
      "source": [
        "search.best_params_"
      ],
      "metadata": {
        "colab": {
          "base_uri": "https://localhost:8080/"
        },
        "id": "bRTaZ7ECSBLm",
        "outputId": "8600583e-415f-4f70-b6f8-1a80f26eca0f"
      },
      "id": "bRTaZ7ECSBLm",
      "execution_count": 201,
      "outputs": [
        {
          "output_type": "execute_result",
          "data": {
            "text/plain": [
              "{'learning_rate': 0.1, 'max_depth': 11}"
            ]
          },
          "metadata": {},
          "execution_count": 201
        }
      ]
    },
    {
      "cell_type": "code",
      "source": [
        "search.best_estimator_"
      ],
      "metadata": {
        "colab": {
          "base_uri": "https://localhost:8080/",
          "height": 248
        },
        "id": "itsbOFf3SDid",
        "outputId": "f0a7f7c7-2414-470e-a521-bdc037ee941a"
      },
      "id": "itsbOFf3SDid",
      "execution_count": 181,
      "outputs": [
        {
          "output_type": "execute_result",
          "data": {
            "text/plain": [
              "XGBRegressor(base_score=None, booster=None, callbacks=None,\n",
              "             colsample_bylevel=None, colsample_bynode=None,\n",
              "             colsample_bytree=None, device=None, early_stopping_rounds=None,\n",
              "             enable_categorical=False, eval_metric=None, feature_types=None,\n",
              "             gamma=None, grow_policy=None, importance_type=None,\n",
              "             interaction_constraints=None, learning_rate=0.1, max_bin=None,\n",
              "             max_cat_threshold=None, max_cat_to_onehot=None,\n",
              "             max_delta_step=None, max_depth=9, max_leaves=None,\n",
              "             min_child_weight=None, missing=nan, monotone_constraints=None,\n",
              "             multi_strategy=None, n_estimators=50, n_jobs=None,\n",
              "             num_parallel_tree=None, random_state=None, ...)"
            ],
            "text/html": [
              "<style>#sk-container-id-2 {color: black;background-color: white;}#sk-container-id-2 pre{padding: 0;}#sk-container-id-2 div.sk-toggleable {background-color: white;}#sk-container-id-2 label.sk-toggleable__label {cursor: pointer;display: block;width: 100%;margin-bottom: 0;padding: 0.3em;box-sizing: border-box;text-align: center;}#sk-container-id-2 label.sk-toggleable__label-arrow:before {content: \"▸\";float: left;margin-right: 0.25em;color: #696969;}#sk-container-id-2 label.sk-toggleable__label-arrow:hover:before {color: black;}#sk-container-id-2 div.sk-estimator:hover label.sk-toggleable__label-arrow:before {color: black;}#sk-container-id-2 div.sk-toggleable__content {max-height: 0;max-width: 0;overflow: hidden;text-align: left;background-color: #f0f8ff;}#sk-container-id-2 div.sk-toggleable__content pre {margin: 0.2em;color: black;border-radius: 0.25em;background-color: #f0f8ff;}#sk-container-id-2 input.sk-toggleable__control:checked~div.sk-toggleable__content {max-height: 200px;max-width: 100%;overflow: auto;}#sk-container-id-2 input.sk-toggleable__control:checked~label.sk-toggleable__label-arrow:before {content: \"▾\";}#sk-container-id-2 div.sk-estimator input.sk-toggleable__control:checked~label.sk-toggleable__label {background-color: #d4ebff;}#sk-container-id-2 div.sk-label input.sk-toggleable__control:checked~label.sk-toggleable__label {background-color: #d4ebff;}#sk-container-id-2 input.sk-hidden--visually {border: 0;clip: rect(1px 1px 1px 1px);clip: rect(1px, 1px, 1px, 1px);height: 1px;margin: -1px;overflow: hidden;padding: 0;position: absolute;width: 1px;}#sk-container-id-2 div.sk-estimator {font-family: monospace;background-color: #f0f8ff;border: 1px dotted black;border-radius: 0.25em;box-sizing: border-box;margin-bottom: 0.5em;}#sk-container-id-2 div.sk-estimator:hover {background-color: #d4ebff;}#sk-container-id-2 div.sk-parallel-item::after {content: \"\";width: 100%;border-bottom: 1px solid gray;flex-grow: 1;}#sk-container-id-2 div.sk-label:hover label.sk-toggleable__label {background-color: #d4ebff;}#sk-container-id-2 div.sk-serial::before {content: \"\";position: absolute;border-left: 1px solid gray;box-sizing: border-box;top: 0;bottom: 0;left: 50%;z-index: 0;}#sk-container-id-2 div.sk-serial {display: flex;flex-direction: column;align-items: center;background-color: white;padding-right: 0.2em;padding-left: 0.2em;position: relative;}#sk-container-id-2 div.sk-item {position: relative;z-index: 1;}#sk-container-id-2 div.sk-parallel {display: flex;align-items: stretch;justify-content: center;background-color: white;position: relative;}#sk-container-id-2 div.sk-item::before, #sk-container-id-2 div.sk-parallel-item::before {content: \"\";position: absolute;border-left: 1px solid gray;box-sizing: border-box;top: 0;bottom: 0;left: 50%;z-index: -1;}#sk-container-id-2 div.sk-parallel-item {display: flex;flex-direction: column;z-index: 1;position: relative;background-color: white;}#sk-container-id-2 div.sk-parallel-item:first-child::after {align-self: flex-end;width: 50%;}#sk-container-id-2 div.sk-parallel-item:last-child::after {align-self: flex-start;width: 50%;}#sk-container-id-2 div.sk-parallel-item:only-child::after {width: 0;}#sk-container-id-2 div.sk-dashed-wrapped {border: 1px dashed gray;margin: 0 0.4em 0.5em 0.4em;box-sizing: border-box;padding-bottom: 0.4em;background-color: white;}#sk-container-id-2 div.sk-label label {font-family: monospace;font-weight: bold;display: inline-block;line-height: 1.2em;}#sk-container-id-2 div.sk-label-container {text-align: center;}#sk-container-id-2 div.sk-container {/* jupyter's `normalize.less` sets `[hidden] { display: none; }` but bootstrap.min.css set `[hidden] { display: none !important; }` so we also need the `!important` here to be able to override the default hidden behavior on the sphinx rendered scikit-learn.org. See: https://github.com/scikit-learn/scikit-learn/issues/21755 */display: inline-block !important;position: relative;}#sk-container-id-2 div.sk-text-repr-fallback {display: none;}</style><div id=\"sk-container-id-2\" class=\"sk-top-container\"><div class=\"sk-text-repr-fallback\"><pre>XGBRegressor(base_score=None, booster=None, callbacks=None,\n",
              "             colsample_bylevel=None, colsample_bynode=None,\n",
              "             colsample_bytree=None, device=None, early_stopping_rounds=None,\n",
              "             enable_categorical=False, eval_metric=None, feature_types=None,\n",
              "             gamma=None, grow_policy=None, importance_type=None,\n",
              "             interaction_constraints=None, learning_rate=0.1, max_bin=None,\n",
              "             max_cat_threshold=None, max_cat_to_onehot=None,\n",
              "             max_delta_step=None, max_depth=9, max_leaves=None,\n",
              "             min_child_weight=None, missing=nan, monotone_constraints=None,\n",
              "             multi_strategy=None, n_estimators=50, n_jobs=None,\n",
              "             num_parallel_tree=None, random_state=None, ...)</pre><b>In a Jupyter environment, please rerun this cell to show the HTML representation or trust the notebook. <br />On GitHub, the HTML representation is unable to render, please try loading this page with nbviewer.org.</b></div><div class=\"sk-container\" hidden><div class=\"sk-item\"><div class=\"sk-estimator sk-toggleable\"><input class=\"sk-toggleable__control sk-hidden--visually\" id=\"sk-estimator-id-2\" type=\"checkbox\" checked><label for=\"sk-estimator-id-2\" class=\"sk-toggleable__label sk-toggleable__label-arrow\">XGBRegressor</label><div class=\"sk-toggleable__content\"><pre>XGBRegressor(base_score=None, booster=None, callbacks=None,\n",
              "             colsample_bylevel=None, colsample_bynode=None,\n",
              "             colsample_bytree=None, device=None, early_stopping_rounds=None,\n",
              "             enable_categorical=False, eval_metric=None, feature_types=None,\n",
              "             gamma=None, grow_policy=None, importance_type=None,\n",
              "             interaction_constraints=None, learning_rate=0.1, max_bin=None,\n",
              "             max_cat_threshold=None, max_cat_to_onehot=None,\n",
              "             max_delta_step=None, max_depth=9, max_leaves=None,\n",
              "             min_child_weight=None, missing=nan, monotone_constraints=None,\n",
              "             multi_strategy=None, n_estimators=50, n_jobs=None,\n",
              "             num_parallel_tree=None, random_state=None, ...)</pre></div></div></div></div></div>"
            ]
          },
          "metadata": {},
          "execution_count": 181
        }
      ]
    },
    {
      "cell_type": "code",
      "execution_count": 168,
      "id": "63891e12",
      "metadata": {
        "ExecuteTime": {
          "end_time": "2024-02-08T16:59:34.983759Z",
          "start_time": "2024-02-08T16:59:34.929416Z"
        },
        "id": "63891e12"
      },
      "outputs": [],
      "source": []
    },
    {
      "cell_type": "code",
      "execution_count": 141,
      "id": "01036771",
      "metadata": {
        "ExecuteTime": {
          "end_time": "2024-02-08T16:59:37.760521Z",
          "start_time": "2024-02-08T16:59:37.712797Z"
        },
        "id": "01036771"
      },
      "outputs": [],
      "source": [
        "from sklearn.metrics import mean_squared_error"
      ]
    },
    {
      "cell_type": "code",
      "execution_count": 398,
      "id": "1728716c",
      "metadata": {
        "ExecuteTime": {
          "end_time": "2024-02-08T16:59:39.314886Z",
          "start_time": "2024-02-08T16:59:38.970025Z"
        },
        "colab": {
          "base_uri": "https://localhost:8080/"
        },
        "id": "1728716c",
        "outputId": "5d0fa88e-7777-495e-9faa-c1195d1338ed"
      },
      "outputs": [
        {
          "output_type": "execute_result",
          "data": {
            "text/plain": [
              "array([0.89607346, 0.8849079 , 0.9116545 , ..., 0.916897  , 0.9069996 ,\n",
              "       0.955855  ], dtype=float32)"
            ]
          },
          "metadata": {},
          "execution_count": 398
        }
      ],
      "source": [
        "y_pred = xgb_regressor.predict(X_test)\n",
        "#y_pred = model.predict(X_test)\n",
        "y_pred"
      ]
    },
    {
      "cell_type": "code",
      "source": [],
      "metadata": {
        "id": "_xZQYwnvnozG"
      },
      "id": "_xZQYwnvnozG",
      "execution_count": null,
      "outputs": []
    },
    {
      "cell_type": "markdown",
      "source": [
        "## Feature selection"
      ],
      "metadata": {
        "id": "rOS6K5LHnqCS"
      },
      "id": "rOS6K5LHnqCS"
    },
    {
      "cell_type": "code",
      "source": [
        "from sklearn.inspection import permutation_importance\n"
      ],
      "metadata": {
        "id": "bwXydpbnpnVU"
      },
      "id": "bwXydpbnpnVU",
      "execution_count": 331,
      "outputs": []
    },
    {
      "cell_type": "code",
      "source": [
        "#preprocessor.get_feature_names_out()"
      ],
      "metadata": {
        "id": "p81Ew9s7qj2z"
      },
      "id": "p81Ew9s7qj2z",
      "execution_count": 333,
      "outputs": []
    },
    {
      "cell_type": "code",
      "source": [
        "\n",
        "# Fit model\n",
        "model = xgb_regressor.fit(X_train, y_train)\n",
        "\n",
        "# Performs Permutation\n",
        "permutation_score = permutation_importance(model, X_train, y_train, n_repeats=8)\n",
        "\n",
        "# Unstack results showing the decrease in performance after shuffling features\n",
        "importance_df = pd.DataFrame(np.vstack((preprocessor.get_feature_names_out(),\n",
        "                                        permutation_score.importances_mean)).T)\n",
        "importance_df.columns=['feature','score decrease']\n",
        "\n",
        "# Show the important features\n",
        "importance_df.sort_values(by=\"score decrease\", ascending = False)"
      ],
      "metadata": {
        "colab": {
          "base_uri": "https://localhost:8080/",
          "height": 865
        },
        "id": "Gkhcl_3Vnoac",
        "outputId": "b7c2e3f2-c077-4a95-d52e-910d3bf34626"
      },
      "id": "Gkhcl_3Vnoac",
      "execution_count": 384,
      "outputs": [
        {
          "output_type": "execute_result",
          "data": {
            "text/plain": [
              "                                 feature score decrease\n",
              "1         standard_scaler__calendar_year       1.717651\n",
              "2                 num_inputer__Price_YoY       0.198456\n",
              "3                   num_inputer__Price R       0.112204\n",
              "0                standard_scaler__Year_x       0.057095\n",
              "8                    num_inputer__Weight       0.033264\n",
              "6   num_inputer__Length between the axis       0.031599\n",
              "5     num_inputer__Settings_Pickup truck       0.027431\n",
              "4                     num_inputer__Doors       0.026897\n",
              "11            num_inputer__Maximum speed       0.025584\n",
              "10                   num_inputer__Height       0.024576\n",
              "7           num_inputer__Sidewall height       0.023719\n",
              "14                    num_inputer__Width       0.021173\n",
              "13              num_inputer__Car payload       0.019315\n",
              "9        num_inputer__Car gearbox_Manual       0.018654\n",
              "15        num_inputer__Cylinder diameter       0.016901\n",
              "22           num_inputer__Specific power       0.016092\n",
              "12             num_inputer__Acceleration       0.014737\n",
              "20         num_inputer__Road consumption       0.014731\n",
              "16                num_inputer__Fuel tank       0.012837\n",
              "23            num_inputer__Piston course       0.012547\n",
              "21       num_inputer__Light in the trunk       0.012466\n",
              "18                   num_inputer__Year_y       0.011687\n",
              "19                    num_inputer__Trunk       0.011635\n",
              "17                   num_inputer__Length       0.010637\n",
              "24             num_inputer__Reader score       0.009106\n",
              "25               num_inputer__Provenance       0.006644"
            ],
            "text/html": [
              "\n",
              "  <div id=\"df-b4795daf-dade-4550-b65b-098a7d86e8c9\" class=\"colab-df-container\">\n",
              "    <div>\n",
              "<style scoped>\n",
              "    .dataframe tbody tr th:only-of-type {\n",
              "        vertical-align: middle;\n",
              "    }\n",
              "\n",
              "    .dataframe tbody tr th {\n",
              "        vertical-align: top;\n",
              "    }\n",
              "\n",
              "    .dataframe thead th {\n",
              "        text-align: right;\n",
              "    }\n",
              "</style>\n",
              "<table border=\"1\" class=\"dataframe\">\n",
              "  <thead>\n",
              "    <tr style=\"text-align: right;\">\n",
              "      <th></th>\n",
              "      <th>feature</th>\n",
              "      <th>score decrease</th>\n",
              "    </tr>\n",
              "  </thead>\n",
              "  <tbody>\n",
              "    <tr>\n",
              "      <th>1</th>\n",
              "      <td>standard_scaler__calendar_year</td>\n",
              "      <td>1.717651</td>\n",
              "    </tr>\n",
              "    <tr>\n",
              "      <th>2</th>\n",
              "      <td>num_inputer__Price_YoY</td>\n",
              "      <td>0.198456</td>\n",
              "    </tr>\n",
              "    <tr>\n",
              "      <th>3</th>\n",
              "      <td>num_inputer__Price R</td>\n",
              "      <td>0.112204</td>\n",
              "    </tr>\n",
              "    <tr>\n",
              "      <th>0</th>\n",
              "      <td>standard_scaler__Year_x</td>\n",
              "      <td>0.057095</td>\n",
              "    </tr>\n",
              "    <tr>\n",
              "      <th>8</th>\n",
              "      <td>num_inputer__Weight</td>\n",
              "      <td>0.033264</td>\n",
              "    </tr>\n",
              "    <tr>\n",
              "      <th>6</th>\n",
              "      <td>num_inputer__Length between the axis</td>\n",
              "      <td>0.031599</td>\n",
              "    </tr>\n",
              "    <tr>\n",
              "      <th>5</th>\n",
              "      <td>num_inputer__Settings_Pickup truck</td>\n",
              "      <td>0.027431</td>\n",
              "    </tr>\n",
              "    <tr>\n",
              "      <th>4</th>\n",
              "      <td>num_inputer__Doors</td>\n",
              "      <td>0.026897</td>\n",
              "    </tr>\n",
              "    <tr>\n",
              "      <th>11</th>\n",
              "      <td>num_inputer__Maximum speed</td>\n",
              "      <td>0.025584</td>\n",
              "    </tr>\n",
              "    <tr>\n",
              "      <th>10</th>\n",
              "      <td>num_inputer__Height</td>\n",
              "      <td>0.024576</td>\n",
              "    </tr>\n",
              "    <tr>\n",
              "      <th>7</th>\n",
              "      <td>num_inputer__Sidewall height</td>\n",
              "      <td>0.023719</td>\n",
              "    </tr>\n",
              "    <tr>\n",
              "      <th>14</th>\n",
              "      <td>num_inputer__Width</td>\n",
              "      <td>0.021173</td>\n",
              "    </tr>\n",
              "    <tr>\n",
              "      <th>13</th>\n",
              "      <td>num_inputer__Car payload</td>\n",
              "      <td>0.019315</td>\n",
              "    </tr>\n",
              "    <tr>\n",
              "      <th>9</th>\n",
              "      <td>num_inputer__Car gearbox_Manual</td>\n",
              "      <td>0.018654</td>\n",
              "    </tr>\n",
              "    <tr>\n",
              "      <th>15</th>\n",
              "      <td>num_inputer__Cylinder diameter</td>\n",
              "      <td>0.016901</td>\n",
              "    </tr>\n",
              "    <tr>\n",
              "      <th>22</th>\n",
              "      <td>num_inputer__Specific power</td>\n",
              "      <td>0.016092</td>\n",
              "    </tr>\n",
              "    <tr>\n",
              "      <th>12</th>\n",
              "      <td>num_inputer__Acceleration</td>\n",
              "      <td>0.014737</td>\n",
              "    </tr>\n",
              "    <tr>\n",
              "      <th>20</th>\n",
              "      <td>num_inputer__Road consumption</td>\n",
              "      <td>0.014731</td>\n",
              "    </tr>\n",
              "    <tr>\n",
              "      <th>16</th>\n",
              "      <td>num_inputer__Fuel tank</td>\n",
              "      <td>0.012837</td>\n",
              "    </tr>\n",
              "    <tr>\n",
              "      <th>23</th>\n",
              "      <td>num_inputer__Piston course</td>\n",
              "      <td>0.012547</td>\n",
              "    </tr>\n",
              "    <tr>\n",
              "      <th>21</th>\n",
              "      <td>num_inputer__Light in the trunk</td>\n",
              "      <td>0.012466</td>\n",
              "    </tr>\n",
              "    <tr>\n",
              "      <th>18</th>\n",
              "      <td>num_inputer__Year_y</td>\n",
              "      <td>0.011687</td>\n",
              "    </tr>\n",
              "    <tr>\n",
              "      <th>19</th>\n",
              "      <td>num_inputer__Trunk</td>\n",
              "      <td>0.011635</td>\n",
              "    </tr>\n",
              "    <tr>\n",
              "      <th>17</th>\n",
              "      <td>num_inputer__Length</td>\n",
              "      <td>0.010637</td>\n",
              "    </tr>\n",
              "    <tr>\n",
              "      <th>24</th>\n",
              "      <td>num_inputer__Reader score</td>\n",
              "      <td>0.009106</td>\n",
              "    </tr>\n",
              "    <tr>\n",
              "      <th>25</th>\n",
              "      <td>num_inputer__Provenance</td>\n",
              "      <td>0.006644</td>\n",
              "    </tr>\n",
              "  </tbody>\n",
              "</table>\n",
              "</div>\n",
              "    <div class=\"colab-df-buttons\">\n",
              "\n",
              "  <div class=\"colab-df-container\">\n",
              "    <button class=\"colab-df-convert\" onclick=\"convertToInteractive('df-b4795daf-dade-4550-b65b-098a7d86e8c9')\"\n",
              "            title=\"Convert this dataframe to an interactive table.\"\n",
              "            style=\"display:none;\">\n",
              "\n",
              "  <svg xmlns=\"http://www.w3.org/2000/svg\" height=\"24px\" viewBox=\"0 -960 960 960\">\n",
              "    <path d=\"M120-120v-720h720v720H120Zm60-500h600v-160H180v160Zm220 220h160v-160H400v160Zm0 220h160v-160H400v160ZM180-400h160v-160H180v160Zm440 0h160v-160H620v160ZM180-180h160v-160H180v160Zm440 0h160v-160H620v160Z\"/>\n",
              "  </svg>\n",
              "    </button>\n",
              "\n",
              "  <style>\n",
              "    .colab-df-container {\n",
              "      display:flex;\n",
              "      gap: 12px;\n",
              "    }\n",
              "\n",
              "    .colab-df-convert {\n",
              "      background-color: #E8F0FE;\n",
              "      border: none;\n",
              "      border-radius: 50%;\n",
              "      cursor: pointer;\n",
              "      display: none;\n",
              "      fill: #1967D2;\n",
              "      height: 32px;\n",
              "      padding: 0 0 0 0;\n",
              "      width: 32px;\n",
              "    }\n",
              "\n",
              "    .colab-df-convert:hover {\n",
              "      background-color: #E2EBFA;\n",
              "      box-shadow: 0px 1px 2px rgba(60, 64, 67, 0.3), 0px 1px 3px 1px rgba(60, 64, 67, 0.15);\n",
              "      fill: #174EA6;\n",
              "    }\n",
              "\n",
              "    .colab-df-buttons div {\n",
              "      margin-bottom: 4px;\n",
              "    }\n",
              "\n",
              "    [theme=dark] .colab-df-convert {\n",
              "      background-color: #3B4455;\n",
              "      fill: #D2E3FC;\n",
              "    }\n",
              "\n",
              "    [theme=dark] .colab-df-convert:hover {\n",
              "      background-color: #434B5C;\n",
              "      box-shadow: 0px 1px 3px 1px rgba(0, 0, 0, 0.15);\n",
              "      filter: drop-shadow(0px 1px 2px rgba(0, 0, 0, 0.3));\n",
              "      fill: #FFFFFF;\n",
              "    }\n",
              "  </style>\n",
              "\n",
              "    <script>\n",
              "      const buttonEl =\n",
              "        document.querySelector('#df-b4795daf-dade-4550-b65b-098a7d86e8c9 button.colab-df-convert');\n",
              "      buttonEl.style.display =\n",
              "        google.colab.kernel.accessAllowed ? 'block' : 'none';\n",
              "\n",
              "      async function convertToInteractive(key) {\n",
              "        const element = document.querySelector('#df-b4795daf-dade-4550-b65b-098a7d86e8c9');\n",
              "        const dataTable =\n",
              "          await google.colab.kernel.invokeFunction('convertToInteractive',\n",
              "                                                    [key], {});\n",
              "        if (!dataTable) return;\n",
              "\n",
              "        const docLinkHtml = 'Like what you see? Visit the ' +\n",
              "          '<a target=\"_blank\" href=https://colab.research.google.com/notebooks/data_table.ipynb>data table notebook</a>'\n",
              "          + ' to learn more about interactive tables.';\n",
              "        element.innerHTML = '';\n",
              "        dataTable['output_type'] = 'display_data';\n",
              "        await google.colab.output.renderOutput(dataTable, element);\n",
              "        const docLink = document.createElement('div');\n",
              "        docLink.innerHTML = docLinkHtml;\n",
              "        element.appendChild(docLink);\n",
              "      }\n",
              "    </script>\n",
              "  </div>\n",
              "\n",
              "\n",
              "<div id=\"df-37db0dd0-70bc-44d1-8213-aec55055832b\">\n",
              "  <button class=\"colab-df-quickchart\" onclick=\"quickchart('df-37db0dd0-70bc-44d1-8213-aec55055832b')\"\n",
              "            title=\"Suggest charts\"\n",
              "            style=\"display:none;\">\n",
              "\n",
              "<svg xmlns=\"http://www.w3.org/2000/svg\" height=\"24px\"viewBox=\"0 0 24 24\"\n",
              "     width=\"24px\">\n",
              "    <g>\n",
              "        <path d=\"M19 3H5c-1.1 0-2 .9-2 2v14c0 1.1.9 2 2 2h14c1.1 0 2-.9 2-2V5c0-1.1-.9-2-2-2zM9 17H7v-7h2v7zm4 0h-2V7h2v10zm4 0h-2v-4h2v4z\"/>\n",
              "    </g>\n",
              "</svg>\n",
              "  </button>\n",
              "\n",
              "<style>\n",
              "  .colab-df-quickchart {\n",
              "      --bg-color: #E8F0FE;\n",
              "      --fill-color: #1967D2;\n",
              "      --hover-bg-color: #E2EBFA;\n",
              "      --hover-fill-color: #174EA6;\n",
              "      --disabled-fill-color: #AAA;\n",
              "      --disabled-bg-color: #DDD;\n",
              "  }\n",
              "\n",
              "  [theme=dark] .colab-df-quickchart {\n",
              "      --bg-color: #3B4455;\n",
              "      --fill-color: #D2E3FC;\n",
              "      --hover-bg-color: #434B5C;\n",
              "      --hover-fill-color: #FFFFFF;\n",
              "      --disabled-bg-color: #3B4455;\n",
              "      --disabled-fill-color: #666;\n",
              "  }\n",
              "\n",
              "  .colab-df-quickchart {\n",
              "    background-color: var(--bg-color);\n",
              "    border: none;\n",
              "    border-radius: 50%;\n",
              "    cursor: pointer;\n",
              "    display: none;\n",
              "    fill: var(--fill-color);\n",
              "    height: 32px;\n",
              "    padding: 0;\n",
              "    width: 32px;\n",
              "  }\n",
              "\n",
              "  .colab-df-quickchart:hover {\n",
              "    background-color: var(--hover-bg-color);\n",
              "    box-shadow: 0 1px 2px rgba(60, 64, 67, 0.3), 0 1px 3px 1px rgba(60, 64, 67, 0.15);\n",
              "    fill: var(--button-hover-fill-color);\n",
              "  }\n",
              "\n",
              "  .colab-df-quickchart-complete:disabled,\n",
              "  .colab-df-quickchart-complete:disabled:hover {\n",
              "    background-color: var(--disabled-bg-color);\n",
              "    fill: var(--disabled-fill-color);\n",
              "    box-shadow: none;\n",
              "  }\n",
              "\n",
              "  .colab-df-spinner {\n",
              "    border: 2px solid var(--fill-color);\n",
              "    border-color: transparent;\n",
              "    border-bottom-color: var(--fill-color);\n",
              "    animation:\n",
              "      spin 1s steps(1) infinite;\n",
              "  }\n",
              "\n",
              "  @keyframes spin {\n",
              "    0% {\n",
              "      border-color: transparent;\n",
              "      border-bottom-color: var(--fill-color);\n",
              "      border-left-color: var(--fill-color);\n",
              "    }\n",
              "    20% {\n",
              "      border-color: transparent;\n",
              "      border-left-color: var(--fill-color);\n",
              "      border-top-color: var(--fill-color);\n",
              "    }\n",
              "    30% {\n",
              "      border-color: transparent;\n",
              "      border-left-color: var(--fill-color);\n",
              "      border-top-color: var(--fill-color);\n",
              "      border-right-color: var(--fill-color);\n",
              "    }\n",
              "    40% {\n",
              "      border-color: transparent;\n",
              "      border-right-color: var(--fill-color);\n",
              "      border-top-color: var(--fill-color);\n",
              "    }\n",
              "    60% {\n",
              "      border-color: transparent;\n",
              "      border-right-color: var(--fill-color);\n",
              "    }\n",
              "    80% {\n",
              "      border-color: transparent;\n",
              "      border-right-color: var(--fill-color);\n",
              "      border-bottom-color: var(--fill-color);\n",
              "    }\n",
              "    90% {\n",
              "      border-color: transparent;\n",
              "      border-bottom-color: var(--fill-color);\n",
              "    }\n",
              "  }\n",
              "</style>\n",
              "\n",
              "  <script>\n",
              "    async function quickchart(key) {\n",
              "      const quickchartButtonEl =\n",
              "        document.querySelector('#' + key + ' button');\n",
              "      quickchartButtonEl.disabled = true;  // To prevent multiple clicks.\n",
              "      quickchartButtonEl.classList.add('colab-df-spinner');\n",
              "      try {\n",
              "        const charts = await google.colab.kernel.invokeFunction(\n",
              "            'suggestCharts', [key], {});\n",
              "      } catch (error) {\n",
              "        console.error('Error during call to suggestCharts:', error);\n",
              "      }\n",
              "      quickchartButtonEl.classList.remove('colab-df-spinner');\n",
              "      quickchartButtonEl.classList.add('colab-df-quickchart-complete');\n",
              "    }\n",
              "    (() => {\n",
              "      let quickchartButtonEl =\n",
              "        document.querySelector('#df-37db0dd0-70bc-44d1-8213-aec55055832b button');\n",
              "      quickchartButtonEl.style.display =\n",
              "        google.colab.kernel.accessAllowed ? 'block' : 'none';\n",
              "    })();\n",
              "  </script>\n",
              "</div>\n",
              "    </div>\n",
              "  </div>\n"
            ]
          },
          "metadata": {},
          "execution_count": 384
        }
      ]
    },
    {
      "cell_type": "markdown",
      "source": [
        "After analisys with all features, I kept the following top features in the model:\n",
        "\n",
        "\n",
        "\n",
        "```\n",
        "calendar_year\n",
        "Price_YoY\n",
        "Price R\n",
        "Year_x\n",
        "Doors\n",
        "Settings_Pickup truck\n",
        "Length between the axis\n",
        "Sidewall height\n",
        "Weight\n",
        "Car gearbox_Manual\n",
        "Height\n",
        "Maximum speed\n",
        "Acceleration\n",
        "Car payload\n",
        "Width\n",
        "Cylinder diameter\n",
        "Fuel tank\n",
        "Length\n",
        "Year_y\n",
        "Trunk\n",
        "Road consumption\n",
        "Light in the trunk\n",
        "Specific power\n",
        "Piston course\n",
        "Reader score\n",
        "Provenance\n",
        "```\n",
        "\n"
      ],
      "metadata": {
        "id": "6E8H2x4iz5GB"
      },
      "id": "6E8H2x4iz5GB"
    },
    {
      "cell_type": "code",
      "source": [],
      "metadata": {
        "id": "ajm9YwZWz4Up"
      },
      "id": "ajm9YwZWz4Up",
      "execution_count": null,
      "outputs": []
    },
    {
      "cell_type": "markdown",
      "id": "b61f6922",
      "metadata": {
        "id": "b61f6922"
      },
      "source": [
        "## comparing model with naive model"
      ]
    },
    {
      "cell_type": "code",
      "source": [
        "y_pred = xgb_regressor.predict(X_test)\n",
        "#y_pred = model.predict(X_test)\n",
        "y_pred"
      ],
      "metadata": {
        "colab": {
          "base_uri": "https://localhost:8080/"
        },
        "id": "_dumR2864FFH",
        "outputId": "89ddf348-12bf-4c0a-8397-31c21cd70688"
      },
      "id": "_dumR2864FFH",
      "execution_count": 424,
      "outputs": [
        {
          "output_type": "execute_result",
          "data": {
            "text/plain": [
              "array([0.8992692 , 0.87335914, 0.9088821 , ..., 0.9202106 , 0.90979326,\n",
              "       0.9682035 ], dtype=float32)"
            ]
          },
          "metadata": {},
          "execution_count": 424
        }
      ]
    },
    {
      "cell_type": "code",
      "execution_count": 425,
      "id": "c7fb0e66",
      "metadata": {
        "ExecuteTime": {
          "end_time": "2024-02-08T16:59:45.657985Z",
          "start_time": "2024-02-08T16:59:45.587665Z"
        },
        "colab": {
          "base_uri": "https://localhost:8080/"
        },
        "id": "c7fb0e66",
        "outputId": "12a7de1f-7f8b-4df9-fe05-4f26ce9381cf"
      },
      "outputs": [
        {
          "output_type": "execute_result",
          "data": {
            "text/plain": [
              "0.04580033305214049"
            ]
          },
          "metadata": {},
          "execution_count": 425
        }
      ],
      "source": [
        "mean_squared_error(y_test, y_pred) ** (0.5)   #model score: mean square error --> lower is better"
      ]
    },
    {
      "cell_type": "code",
      "execution_count": 426,
      "id": "18a12b78",
      "metadata": {
        "ExecuteTime": {
          "end_time": "2024-02-08T16:59:47.632341Z",
          "start_time": "2024-02-08T16:59:47.439372Z"
        },
        "colab": {
          "base_uri": "https://localhost:8080/"
        },
        "id": "18a12b78",
        "outputId": "fbaa9704-835d-4ea2-9906-ade99d4ad01f"
      },
      "outputs": [
        {
          "output_type": "execute_result",
          "data": {
            "text/plain": [
              "0.11389767051634032"
            ]
          },
          "metadata": {},
          "execution_count": 426
        }
      ],
      "source": [
        "mean_squared_error(y_test, [y_test.mean()]*len(y_test)) ** (0.5)   #naive score: mean square error"
      ]
    },
    {
      "cell_type": "code",
      "execution_count": 32,
      "id": "a47f0701",
      "metadata": {
        "ExecuteTime": {
          "end_time": "2024-02-08T16:47:04.733402Z",
          "start_time": "2024-02-08T16:47:04.713614Z"
        },
        "id": "a47f0701"
      },
      "outputs": [],
      "source": []
    },
    {
      "cell_type": "code",
      "execution_count": 32,
      "id": "ed89592f",
      "metadata": {
        "ExecuteTime": {
          "end_time": "2024-02-08T17:09:58.443233Z",
          "start_time": "2024-02-08T17:09:58.420101Z"
        },
        "id": "ed89592f"
      },
      "outputs": [],
      "source": []
    },
    {
      "cell_type": "markdown",
      "source": [
        "## Saving the model for later usage"
      ],
      "metadata": {
        "id": "rfYdfoVsCD9l"
      },
      "id": "rfYdfoVsCD9l"
    },
    {
      "cell_type": "code",
      "execution_count": 427,
      "id": "8e6972d6",
      "metadata": {
        "id": "8e6972d6"
      },
      "outputs": [],
      "source": [
        "import pickle\n",
        "\n",
        "filename = 'xgb_reg_model.sav'\n",
        "pickle.dump(xgb_reg, open(filename, 'wb'))\n",
        "\n",
        "\n",
        "#xgb_reg.save('xgb.h5')"
      ]
    },
    {
      "cell_type": "code",
      "execution_count": 32,
      "id": "4ede70e4",
      "metadata": {
        "id": "4ede70e4"
      },
      "outputs": [],
      "source": []
    },
    {
      "cell_type": "code",
      "execution_count": 32,
      "id": "b9e6b834",
      "metadata": {
        "id": "b9e6b834"
      },
      "outputs": [],
      "source": []
    },
    {
      "cell_type": "code",
      "execution_count": 32,
      "id": "476d9ceb",
      "metadata": {
        "id": "476d9ceb"
      },
      "outputs": [],
      "source": []
    },
    {
      "cell_type": "code",
      "execution_count": 32,
      "id": "8f186b9f",
      "metadata": {
        "id": "8f186b9f"
      },
      "outputs": [],
      "source": []
    },
    {
      "cell_type": "markdown",
      "id": "d486f621",
      "metadata": {
        "ExecuteTime": {
          "end_time": "2024-02-07T19:32:53.467318Z",
          "start_time": "2024-02-07T19:32:53.458406Z"
        },
        "id": "d486f621"
      },
      "source": [
        "# Simple tester"
      ]
    },
    {
      "cell_type": "code",
      "execution_count": 224,
      "id": "5fa6abe3",
      "metadata": {
        "ExecuteTime": {
          "end_time": "2024-02-08T17:13:29.058456Z",
          "start_time": "2024-02-08T17:13:28.669153Z"
        },
        "colab": {
          "base_uri": "https://localhost:8080/",
          "height": 135
        },
        "id": "5fa6abe3",
        "outputId": "d14f2485-fb7e-4f0b-b9e8-492fd38a6426"
      },
      "outputs": [
        {
          "output_type": "stream",
          "name": "stderr",
          "text": [
            "<ipython-input-224-00b585ced60a>:1: UserWarning: Boolean Series key will be reindexed to match DataFrame index.\n",
            "  car = merged_df[merged_df[\"car_model_year\"] == 2015 ] [merged_df[\"calendar_year\"] == 2022]#[merged_df.index == 23575 ]\n"
          ]
        },
        {
          "output_type": "execute_result",
          "data": {
            "text/plain": [
              "      car_code car_manufacturer car_model_small  Next_YoY_Price\n",
              "7780      3666          Peugeot             308         1.05607"
            ],
            "text/html": [
              "\n",
              "  <div id=\"df-a2ba13e0-50f1-4e5e-b40a-14e224e3ea53\" class=\"colab-df-container\">\n",
              "    <div>\n",
              "<style scoped>\n",
              "    .dataframe tbody tr th:only-of-type {\n",
              "        vertical-align: middle;\n",
              "    }\n",
              "\n",
              "    .dataframe tbody tr th {\n",
              "        vertical-align: top;\n",
              "    }\n",
              "\n",
              "    .dataframe thead th {\n",
              "        text-align: right;\n",
              "    }\n",
              "</style>\n",
              "<table border=\"1\" class=\"dataframe\">\n",
              "  <thead>\n",
              "    <tr style=\"text-align: right;\">\n",
              "      <th></th>\n",
              "      <th>car_code</th>\n",
              "      <th>car_manufacturer</th>\n",
              "      <th>car_model_small</th>\n",
              "      <th>Next_YoY_Price</th>\n",
              "    </tr>\n",
              "  </thead>\n",
              "  <tbody>\n",
              "    <tr>\n",
              "      <th>7780</th>\n",
              "      <td>3666</td>\n",
              "      <td>Peugeot</td>\n",
              "      <td>308</td>\n",
              "      <td>1.05607</td>\n",
              "    </tr>\n",
              "  </tbody>\n",
              "</table>\n",
              "</div>\n",
              "    <div class=\"colab-df-buttons\">\n",
              "\n",
              "  <div class=\"colab-df-container\">\n",
              "    <button class=\"colab-df-convert\" onclick=\"convertToInteractive('df-a2ba13e0-50f1-4e5e-b40a-14e224e3ea53')\"\n",
              "            title=\"Convert this dataframe to an interactive table.\"\n",
              "            style=\"display:none;\">\n",
              "\n",
              "  <svg xmlns=\"http://www.w3.org/2000/svg\" height=\"24px\" viewBox=\"0 -960 960 960\">\n",
              "    <path d=\"M120-120v-720h720v720H120Zm60-500h600v-160H180v160Zm220 220h160v-160H400v160Zm0 220h160v-160H400v160ZM180-400h160v-160H180v160Zm440 0h160v-160H620v160ZM180-180h160v-160H180v160Zm440 0h160v-160H620v160Z\"/>\n",
              "  </svg>\n",
              "    </button>\n",
              "\n",
              "  <style>\n",
              "    .colab-df-container {\n",
              "      display:flex;\n",
              "      gap: 12px;\n",
              "    }\n",
              "\n",
              "    .colab-df-convert {\n",
              "      background-color: #E8F0FE;\n",
              "      border: none;\n",
              "      border-radius: 50%;\n",
              "      cursor: pointer;\n",
              "      display: none;\n",
              "      fill: #1967D2;\n",
              "      height: 32px;\n",
              "      padding: 0 0 0 0;\n",
              "      width: 32px;\n",
              "    }\n",
              "\n",
              "    .colab-df-convert:hover {\n",
              "      background-color: #E2EBFA;\n",
              "      box-shadow: 0px 1px 2px rgba(60, 64, 67, 0.3), 0px 1px 3px 1px rgba(60, 64, 67, 0.15);\n",
              "      fill: #174EA6;\n",
              "    }\n",
              "\n",
              "    .colab-df-buttons div {\n",
              "      margin-bottom: 4px;\n",
              "    }\n",
              "\n",
              "    [theme=dark] .colab-df-convert {\n",
              "      background-color: #3B4455;\n",
              "      fill: #D2E3FC;\n",
              "    }\n",
              "\n",
              "    [theme=dark] .colab-df-convert:hover {\n",
              "      background-color: #434B5C;\n",
              "      box-shadow: 0px 1px 3px 1px rgba(0, 0, 0, 0.15);\n",
              "      filter: drop-shadow(0px 1px 2px rgba(0, 0, 0, 0.3));\n",
              "      fill: #FFFFFF;\n",
              "    }\n",
              "  </style>\n",
              "\n",
              "    <script>\n",
              "      const buttonEl =\n",
              "        document.querySelector('#df-a2ba13e0-50f1-4e5e-b40a-14e224e3ea53 button.colab-df-convert');\n",
              "      buttonEl.style.display =\n",
              "        google.colab.kernel.accessAllowed ? 'block' : 'none';\n",
              "\n",
              "      async function convertToInteractive(key) {\n",
              "        const element = document.querySelector('#df-a2ba13e0-50f1-4e5e-b40a-14e224e3ea53');\n",
              "        const dataTable =\n",
              "          await google.colab.kernel.invokeFunction('convertToInteractive',\n",
              "                                                    [key], {});\n",
              "        if (!dataTable) return;\n",
              "\n",
              "        const docLinkHtml = 'Like what you see? Visit the ' +\n",
              "          '<a target=\"_blank\" href=https://colab.research.google.com/notebooks/data_table.ipynb>data table notebook</a>'\n",
              "          + ' to learn more about interactive tables.';\n",
              "        element.innerHTML = '';\n",
              "        dataTable['output_type'] = 'display_data';\n",
              "        await google.colab.output.renderOutput(dataTable, element);\n",
              "        const docLink = document.createElement('div');\n",
              "        docLink.innerHTML = docLinkHtml;\n",
              "        element.appendChild(docLink);\n",
              "      }\n",
              "    </script>\n",
              "  </div>\n",
              "\n",
              "    </div>\n",
              "  </div>\n"
            ]
          },
          "metadata": {},
          "execution_count": 224
        }
      ],
      "source": [
        "car = merged_df[merged_df[\"car_model_year\"] == 2015 ] [merged_df[\"calendar_year\"] == 2022]#[merged_df.index == 23575 ]\n",
        "car = merged_df[merged_df.index == 7780 ]\n",
        "car[[\"car_code\", \"car_manufacturer\", \"car_model_small\", \"Next_YoY_Price\" ]]"
      ]
    },
    {
      "cell_type": "code",
      "execution_count": 225,
      "id": "d54f86ce",
      "metadata": {
        "ExecuteTime": {
          "end_time": "2024-02-08T17:13:31.236755Z",
          "start_time": "2024-02-08T17:13:30.398937Z"
        },
        "scrolled": true,
        "colab": {
          "base_uri": "https://localhost:8080/",
          "height": 182
        },
        "id": "d54f86ce",
        "outputId": "f30cee9c-bee7-44b4-ec49-68b4f3d2deac"
      },
      "outputs": [
        {
          "output_type": "execute_result",
          "data": {
            "text/plain": [
              "     car_manufacturer  Year_x  Price_YoY  calendar_year  \\\n",
              "7780          Peugeot       7    1.19455           2022   \n",
              "\n",
              "      Propulsion_Combustion  Propulsion_Electric  Propulsion_Hybrid  \\\n",
              "7780                    1.0                  0.0                0.0   \n",
              "\n",
              "      Propulsion_Light Hybrid  Propulsion_Plug-in hybrid  \\\n",
              "7780                      0.0                        0.0   \n",
              "\n",
              "      Car gearbox_Automated  ...  Unit displacement     Trunk  USB connection  \\\n",
              "7780                    0.0  ...           0.400592  0.017406             1.0   \n",
              "\n",
              "      Gear speed transmissions     Urban    Year_y  Radio  Folding rear seat  \\\n",
              "7780                  0.545455  0.146402  0.839286    1.0                0.0   \n",
              "\n",
              "      Perimeter anti theft alarm  car_model_small  \n",
              "7780                         1.0              308  \n",
              "\n",
              "[1 rows x 105 columns]"
            ],
            "text/html": [
              "\n",
              "  <div id=\"df-f4a01894-f3b5-4044-8aa2-6f74e54876ad\" class=\"colab-df-container\">\n",
              "    <div>\n",
              "<style scoped>\n",
              "    .dataframe tbody tr th:only-of-type {\n",
              "        vertical-align: middle;\n",
              "    }\n",
              "\n",
              "    .dataframe tbody tr th {\n",
              "        vertical-align: top;\n",
              "    }\n",
              "\n",
              "    .dataframe thead th {\n",
              "        text-align: right;\n",
              "    }\n",
              "</style>\n",
              "<table border=\"1\" class=\"dataframe\">\n",
              "  <thead>\n",
              "    <tr style=\"text-align: right;\">\n",
              "      <th></th>\n",
              "      <th>car_manufacturer</th>\n",
              "      <th>Year_x</th>\n",
              "      <th>Price_YoY</th>\n",
              "      <th>calendar_year</th>\n",
              "      <th>Propulsion_Combustion</th>\n",
              "      <th>Propulsion_Electric</th>\n",
              "      <th>Propulsion_Hybrid</th>\n",
              "      <th>Propulsion_Light Hybrid</th>\n",
              "      <th>Propulsion_Plug-in hybrid</th>\n",
              "      <th>Car gearbox_Automated</th>\n",
              "      <th>...</th>\n",
              "      <th>Unit displacement</th>\n",
              "      <th>Trunk</th>\n",
              "      <th>USB connection</th>\n",
              "      <th>Gear speed transmissions</th>\n",
              "      <th>Urban</th>\n",
              "      <th>Year_y</th>\n",
              "      <th>Radio</th>\n",
              "      <th>Folding rear seat</th>\n",
              "      <th>Perimeter anti theft alarm</th>\n",
              "      <th>car_model_small</th>\n",
              "    </tr>\n",
              "  </thead>\n",
              "  <tbody>\n",
              "    <tr>\n",
              "      <th>7780</th>\n",
              "      <td>Peugeot</td>\n",
              "      <td>7</td>\n",
              "      <td>1.19455</td>\n",
              "      <td>2022</td>\n",
              "      <td>1.0</td>\n",
              "      <td>0.0</td>\n",
              "      <td>0.0</td>\n",
              "      <td>0.0</td>\n",
              "      <td>0.0</td>\n",
              "      <td>0.0</td>\n",
              "      <td>...</td>\n",
              "      <td>0.400592</td>\n",
              "      <td>0.017406</td>\n",
              "      <td>1.0</td>\n",
              "      <td>0.545455</td>\n",
              "      <td>0.146402</td>\n",
              "      <td>0.839286</td>\n",
              "      <td>1.0</td>\n",
              "      <td>0.0</td>\n",
              "      <td>1.0</td>\n",
              "      <td>308</td>\n",
              "    </tr>\n",
              "  </tbody>\n",
              "</table>\n",
              "<p>1 rows × 105 columns</p>\n",
              "</div>\n",
              "    <div class=\"colab-df-buttons\">\n",
              "\n",
              "  <div class=\"colab-df-container\">\n",
              "    <button class=\"colab-df-convert\" onclick=\"convertToInteractive('df-f4a01894-f3b5-4044-8aa2-6f74e54876ad')\"\n",
              "            title=\"Convert this dataframe to an interactive table.\"\n",
              "            style=\"display:none;\">\n",
              "\n",
              "  <svg xmlns=\"http://www.w3.org/2000/svg\" height=\"24px\" viewBox=\"0 -960 960 960\">\n",
              "    <path d=\"M120-120v-720h720v720H120Zm60-500h600v-160H180v160Zm220 220h160v-160H400v160Zm0 220h160v-160H400v160ZM180-400h160v-160H180v160Zm440 0h160v-160H620v160ZM180-180h160v-160H180v160Zm440 0h160v-160H620v160Z\"/>\n",
              "  </svg>\n",
              "    </button>\n",
              "\n",
              "  <style>\n",
              "    .colab-df-container {\n",
              "      display:flex;\n",
              "      gap: 12px;\n",
              "    }\n",
              "\n",
              "    .colab-df-convert {\n",
              "      background-color: #E8F0FE;\n",
              "      border: none;\n",
              "      border-radius: 50%;\n",
              "      cursor: pointer;\n",
              "      display: none;\n",
              "      fill: #1967D2;\n",
              "      height: 32px;\n",
              "      padding: 0 0 0 0;\n",
              "      width: 32px;\n",
              "    }\n",
              "\n",
              "    .colab-df-convert:hover {\n",
              "      background-color: #E2EBFA;\n",
              "      box-shadow: 0px 1px 2px rgba(60, 64, 67, 0.3), 0px 1px 3px 1px rgba(60, 64, 67, 0.15);\n",
              "      fill: #174EA6;\n",
              "    }\n",
              "\n",
              "    .colab-df-buttons div {\n",
              "      margin-bottom: 4px;\n",
              "    }\n",
              "\n",
              "    [theme=dark] .colab-df-convert {\n",
              "      background-color: #3B4455;\n",
              "      fill: #D2E3FC;\n",
              "    }\n",
              "\n",
              "    [theme=dark] .colab-df-convert:hover {\n",
              "      background-color: #434B5C;\n",
              "      box-shadow: 0px 1px 3px 1px rgba(0, 0, 0, 0.15);\n",
              "      filter: drop-shadow(0px 1px 2px rgba(0, 0, 0, 0.3));\n",
              "      fill: #FFFFFF;\n",
              "    }\n",
              "  </style>\n",
              "\n",
              "    <script>\n",
              "      const buttonEl =\n",
              "        document.querySelector('#df-f4a01894-f3b5-4044-8aa2-6f74e54876ad button.colab-df-convert');\n",
              "      buttonEl.style.display =\n",
              "        google.colab.kernel.accessAllowed ? 'block' : 'none';\n",
              "\n",
              "      async function convertToInteractive(key) {\n",
              "        const element = document.querySelector('#df-f4a01894-f3b5-4044-8aa2-6f74e54876ad');\n",
              "        const dataTable =\n",
              "          await google.colab.kernel.invokeFunction('convertToInteractive',\n",
              "                                                    [key], {});\n",
              "        if (!dataTable) return;\n",
              "\n",
              "        const docLinkHtml = 'Like what you see? Visit the ' +\n",
              "          '<a target=\"_blank\" href=https://colab.research.google.com/notebooks/data_table.ipynb>data table notebook</a>'\n",
              "          + ' to learn more about interactive tables.';\n",
              "        element.innerHTML = '';\n",
              "        dataTable['output_type'] = 'display_data';\n",
              "        await google.colab.output.renderOutput(dataTable, element);\n",
              "        const docLink = document.createElement('div');\n",
              "        docLink.innerHTML = docLinkHtml;\n",
              "        element.appendChild(docLink);\n",
              "      }\n",
              "    </script>\n",
              "  </div>\n",
              "\n",
              "    </div>\n",
              "  </div>\n"
            ]
          },
          "metadata": {},
          "execution_count": 225
        }
      ],
      "source": [
        "car = car.drop( columns=['car_code' , 'car_model_year',  'Next_YoY_Price', 'Next_YoY_Pr_Pred', 'Price_sd_scaled' ])\n",
        "\n",
        "\n",
        "#X = merged_df.drop( columns=['car_code' , 'car_model_year',  'Next_YoY_Price', 'Next_YoY_Pr_Pred',\n",
        "#       'Price_sd_scaled' ])\n",
        "\n",
        "\n",
        "#car[\"car_model_small\"] = car[\"car_model\"].map(take_first_word)\n",
        "#car.drop(columns=\"car_model\", inplace=True)\n",
        "car"
      ]
    },
    {
      "cell_type": "code",
      "execution_count": 226,
      "id": "0b28e375",
      "metadata": {
        "ExecuteTime": {
          "end_time": "2024-02-08T17:13:39.765244Z",
          "start_time": "2024-02-08T17:13:39.667594Z"
        },
        "id": "0b28e375"
      },
      "outputs": [],
      "source": [
        "car_transformed = preprocessor.transform(car)"
      ]
    },
    {
      "cell_type": "code",
      "execution_count": 227,
      "id": "1cbb190a",
      "metadata": {
        "ExecuteTime": {
          "end_time": "2024-02-08T17:13:41.728291Z",
          "start_time": "2024-02-08T17:13:41.659590Z"
        },
        "colab": {
          "base_uri": "https://localhost:8080/"
        },
        "id": "1cbb190a",
        "outputId": "16424e61-b9e4-4949-9ddf-c36c2c6913af"
      },
      "outputs": [
        {
          "output_type": "execute_result",
          "data": {
            "text/plain": [
              "array([1.0097748], dtype=float32)"
            ]
          },
          "metadata": {},
          "execution_count": 227
        }
      ],
      "source": [
        "xgb_reg.predict(car_transformed)"
      ]
    },
    {
      "cell_type": "code",
      "execution_count": 36,
      "id": "4b0dd28c",
      "metadata": {
        "ExecuteTime": {
          "end_time": "2024-02-07T20:44:00.169257Z",
          "start_time": "2024-02-07T20:44:00.151684Z"
        },
        "id": "4b0dd28c"
      },
      "outputs": [],
      "source": []
    },
    {
      "cell_type": "code",
      "execution_count": 36,
      "id": "198ace1e",
      "metadata": {
        "id": "198ace1e"
      },
      "outputs": [],
      "source": []
    }
  ],
  "metadata": {
    "kernelspec": {
      "display_name": "Python 3 (ipykernel)",
      "language": "python",
      "name": "python3"
    },
    "language_info": {
      "codemirror_mode": {
        "name": "ipython",
        "version": 3
      },
      "file_extension": ".py",
      "mimetype": "text/x-python",
      "name": "python",
      "nbconvert_exporter": "python",
      "pygments_lexer": "ipython3",
      "version": "3.10.6"
    },
    "toc": {
      "base_numbering": 1,
      "nav_menu": {},
      "number_sections": true,
      "sideBar": true,
      "skip_h1_title": false,
      "title_cell": "Table of Contents",
      "title_sidebar": "Contents",
      "toc_cell": false,
      "toc_position": {},
      "toc_section_display": true,
      "toc_window_display": false
    },
    "colab": {
      "provenance": []
    }
  },
  "nbformat": 4,
  "nbformat_minor": 5
}