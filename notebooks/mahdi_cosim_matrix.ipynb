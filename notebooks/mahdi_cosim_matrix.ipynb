{
 "cells": [
  {
   "cell_type": "code",
     ]
    }
   ],
   "source": [
    "import pandas as pd\n",
    "from sklearn.metrics.pairwise import cosine_similarity\n",
    "\n",
    "file_path = 'data/cars.csv'\n",
    "data = pd.read_csv(file_path)\n",
    "\n",
    "selected_features = ['Maximum power', 'Unit displacement', 'Trunk']\n",
    "data_selected = data[selected_features]\n",
    "\n",
    "cos_sim_matrix_selected = cosine_similarity(data_selected)\n",
    "\n",
    "# Function to find similar cars based on selected features\n",
    "def find_similar_cars_selected_features(car_index, cos_sim_matrix, num_results=5):\n",
    "    sim_scores = list(enumerate(cos_sim_matrix[car_index]))\n",
    "    sim_scores = sorted(sim_scores, key=lambda x: x[1], reverse=True)\n",
    "    sim_scores = sim_scores[1:num_results+1]\n",
    "    car_indices = [i[0] for i in sim_scores]\n",
    "    return data.iloc[car_indices][['car_code'] + selected_features]\n",
    "\n",
    "similar_cars_selected_features = find_similar_cars_selected_features(20, cos_sim_matrix_selected)\n",
    "print(similar_cars_selected_features)"
   ]
  },
  {
   "cell_type": "code",
   "execution_count": null,
   "metadata": {},
   "outputs": [],
   "source": []
  }
 ],
 "metadata": {
  "kernelspec": {
   "display_name": "car_recommendation_engine",
   "language": "python",
   "name": "python3"
  },
  "language_info": {
   "codemirror_mode": {
    "name": "ipython",
    "version": 3
   },
   "file_extension": ".py",
   "mimetype": "text/x-python",
   "name": "python",
   "nbconvert_exporter": "python",
   "pygments_lexer": "ipython3",
   "version": "3.10.6"
  }
 },
 "nbformat": 4,
 "nbformat_minor": 2
}
