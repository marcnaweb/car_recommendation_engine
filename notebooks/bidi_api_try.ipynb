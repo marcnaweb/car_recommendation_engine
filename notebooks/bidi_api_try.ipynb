{
 "cells": [
  {
   "cell_type": "code",
   "execution_count": null,
   "metadata": {},
   "outputs": [],
   "source": [
    "import pandas as pd\n",
    "from fastapi import FastAPI\n",
    "from fastapi.middleware.cors import CORSMiddleware\n",
    "\n",
    "from prepearing_data.concatenate_featues_price import get_cleaned_scaled_features_df\n",
    "from prepearing_data.concatenate_featues_price import concatenate_features_prices_df\n",
    "from prepearing_data.model import model"
   ]
  },
  {
   "cell_type": "code",
   "execution_count": null,
   "metadata": {},
   "outputs": [],
   "source": [
    "app = FastAPI()\n",
    "\n",
    "# Allowing all middleware is optional, but good practice for dev purposes\n",
    "app.add_middleware(\n",
    "    CORSMiddleware,\n",
    "    allow_origins=[\"*\"],  # Allows all origins\n",
    "    allow_credentials=True,\n",
    "    allow_methods=[\"*\"],  # Allows all methods\n",
    "    allow_headers=[\"*\"],  # Allows all headers"
   ]
  },
  {
   "cell_type": "code",
   "execution_count": null,
   "metadata": {},
   "outputs": [],
   "source": [
    "# This is to check our api is working\n",
    "@app.get(\"/\")\n",
    "def root():\n",
    "    return { 'greeting': 'Hello' }"
   ]
  },
  {
   "cell_type": "code",
   "execution_count": null,
   "metadata": {},
   "outputs": [],
   "source": [
    "# This is to predict our model\n",
    "@app.get(\"/predict\")\n",
    "def predict(\n",
    "            manufacturor_name: str, #which car company\n",
    "            car_model_name: str,  #which car model we want to predict\n",
    "            car_model_year: int, #in wchich year it was manufactured\n",
    "            ):\n",
    "    input_data={\n",
    "                'car_manufacturer':manufacturor_name,\n",
    "                'car_model':car_model_name,\n",
    "                'car_model_year':car_model_year\n",
    "                }\n",
    "\n",
    "    '''\n",
    "    Here we need to define a function (user_imput_model) which will check manufacturor and car model name\n",
    "    in our unique car models databasedatabase and give us carcode.\n",
    "    Then we can proceed with data cleaning and preprocessing\n",
    "    '''\n",
    "    car_code=user_imput_model(input_data)\n",
    "    req_df=knn_model(car_code)\n",
    "    result=model(req_df)\n",
    "\n",
    "    return { 'Value of the car' : result}\n",
    "\n",
    "#This is to give car suggestions\n",
    "@app.get(\"/suggest_models\")\n",
    "def suggest_models(car_code:int):\n",
    "    car_code=car_code #it will give the car_code\n",
    "    car_code_list=knn_model_list(car_code) #from car code we get 5 car model names\n",
    "    image_data=car_images_model(car_code_list) #here we get images of 5 car suggestted from model\n",
    "\n",
    "    return image_data"
   ]
  }
 ],
 "metadata": {
  "language_info": {
   "name": "python"
  }
 },
 "nbformat": 4,
 "nbformat_minor": 2
}
