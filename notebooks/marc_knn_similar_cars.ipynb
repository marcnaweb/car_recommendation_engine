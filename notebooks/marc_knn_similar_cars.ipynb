{
 "cells": [
  {
   "cell_type": "markdown",
   "metadata": {},
   "source": [
    "# Testing code"
   ]
  },
  {
   "cell_type": "code",
   "execution_count": 1,
   "metadata": {},
   "outputs": [],
   "source": [
    "import pandas as pd\n",
    "from sklearn.neighbors import NearestNeighbors\n",
    "import os\n",
    "\n",
    "\n",
    "\n",
    "\n",
    "\n",
    "\n",
    "\n",
    "\n",
    "# file_path = '/home/nika/code/marcnaweb/car_recommendation_engine/raw_data/unique_car_models_df.csv'\n",
    "# df = pd.read_csv(file_path)\n",
    "# df.set_index('car_code')\n",
    "# features_df = df.drop(columns=['car_model'])\n",
    "\n",
    "# knn = NearestNeighbors(n_neighbors=6)\n",
    "\n",
    "# knn.fit(features_df)\n",
    "\n",
    "\n",
    "\n",
    "# # Use a car's features as our query point\n",
    "# query = features_df.iloc[123].values.reshape(1, -1)\n",
    "\n",
    "# # Find the 5 nearest neighbors to the first car (excluding itself)\n",
    "# distances, indices = knn.kneighbors(query)\n",
    "\n",
    "# # Get the car codes of the 6 closest matches (including the query point itself)\n",
    "# closest_cars_indices = indices.flatten()\n",
    "# closest_cars = df.iloc[closest_cars_indices][['car_code', 'car_model']]\n",
    "\n",
    "# print(closest_cars)\n",
    "\n",
    "\n",
    "\n",
    "\n",
    "def show_similar_cars(car_code):\n",
    "    '''\n",
    "\n",
    "    '''\n",
    "    current_directory =  \"\" #os.path.dirname(os.path.dirname(os.path.realpath(__file__)))\n",
    "\n",
    "    # Define the relative paths to the CSV files\n",
    "    features_relative_path =  \"/home/marcnaweb/code/marcnaweb/car_recommendation_engine/raw_data/unique_car_models_df.csv\" #os.path.join(current_directory, 'raw_data', 'unique_car_models_df.csv')\n",
    "    car_price_relative_path =  \"/home/marcnaweb/code/marcnaweb/car_recommendation_engine/raw_data/car_prices_enriched_v2.csv\" #os.path.join(current_directory, 'raw_data', 'car_prices_enriched_v2.csv')\n",
    "\n",
    "    # Read the CSV files using the relative paths\n",
    "    df = pd.read_csv(features_relative_path)\n",
    "\n",
    "    #delte this if working\n",
    "    # file_path = '/home/nika/code/marcnaweb/car_recommendation_engine/raw_data/unique_car_models_df.csv'\n",
    "    # df = pd.read_csv(file_path)\n",
    "\n",
    "    features_df = df\n",
    "\n",
    "    features_df.set_index('car_code', inplace=True)\n",
    "\n",
    "    features_df = df.drop(columns=['car_model'])\n",
    "\n",
    "    knn = NearestNeighbors(n_neighbors=12) #cahnge back to original = 6\n",
    "\n",
    "    knn.fit(features_df)\n",
    "\n",
    "    # Use a car's features as our query point\n",
    "    query = features_df.loc[car_code].values.reshape(1, -1)\n",
    "\n",
    "    # Find the 5 nearest neighbors to the first car (excluding itself)\n",
    "    distances, indices = knn.kneighbors(query)\n",
    "\n",
    "    # Get the car codes of the 6 closest matches (including the query point itself)\n",
    "    closest_cars_indices = indices.flatten()\n",
    "    #return this (closest_cars) if we need to return only car models\n",
    "    closest_cars = df.iloc[closest_cars_indices][['car_model']]\n",
    "\n",
    "    #NEW\n",
    "    # now also returning manufacturer name with car model.\n",
    "    car_code_list = closest_cars.index.tolist()\n",
    "    # Take first raw dataframe where we have manufacturer names.\n",
    "    with_manufacturer_df = pd.read_csv(car_price_relative_path)\n",
    "    with_manufacturer_df.set_index('car_code', inplace=True)\n",
    "    #return this if we need to return car model and car manufacturer names\n",
    "    closest_cars_with_manufacturer = with_manufacturer_df.loc[car_code_list][['car_manufacturer','car_model']]\n",
    "\n",
    "    return closest_cars_with_manufacturer\n"
   ]
  },
  {
   "cell_type": "code",
   "execution_count": 2,
   "metadata": {},
   "outputs": [
    {
     "name": "stderr",
     "output_type": "stream",
     "text": [
      "/home/marcnaweb/.pyenv/versions/3.10.6/envs/car_recommendation_engine/lib/python3.10/site-packages/sklearn/base.py:493: UserWarning: X does not have valid feature names, but NearestNeighbors was fitted with feature names\n",
      "  warnings.warn(\n"
     ]
    },
    {
     "data": {
      "text/html": [
       "<div>\n",
       "<style scoped>\n",
       "    .dataframe tbody tr th:only-of-type {\n",
       "        vertical-align: middle;\n",
       "    }\n",
       "\n",
       "    .dataframe tbody tr th {\n",
       "        vertical-align: top;\n",
       "    }\n",
       "\n",
       "    .dataframe thead th {\n",
       "        text-align: right;\n",
       "    }\n",
       "</style>\n",
       "<table border=\"1\" class=\"dataframe\">\n",
       "  <thead>\n",
       "    <tr style=\"text-align: right;\">\n",
       "      <th></th>\n",
       "      <th>car_manufacturer</th>\n",
       "      <th>car_model</th>\n",
       "    </tr>\n",
       "    <tr>\n",
       "      <th>car_code</th>\n",
       "      <th></th>\n",
       "      <th></th>\n",
       "    </tr>\n",
       "  </thead>\n",
       "  <tbody>\n",
       "    <tr>\n",
       "      <th>6870</th>\n",
       "      <td>Jeep</td>\n",
       "      <td>Renegade Limited 1.8 AT</td>\n",
       "    </tr>\n",
       "    <tr>\n",
       "      <th>8087</th>\n",
       "      <td>Jeep</td>\n",
       "      <td>Renegade Night Eagle 1.8 AT</td>\n",
       "    </tr>\n",
       "    <tr>\n",
       "      <th>2605</th>\n",
       "      <td>Jeep</td>\n",
       "      <td>Renegade Longitude 1.8 AT</td>\n",
       "    </tr>\n",
       "    <tr>\n",
       "      <th>4425</th>\n",
       "      <td>Jeep</td>\n",
       "      <td>Renegade Limited Edition 1.8 AT</td>\n",
       "    </tr>\n",
       "    <tr>\n",
       "      <th>2603</th>\n",
       "      <td>Jeep</td>\n",
       "      <td>Renegade Sport 1.8 AT</td>\n",
       "    </tr>\n",
       "    <tr>\n",
       "      <th>6299</th>\n",
       "      <td>Jeep</td>\n",
       "      <td>Renegade 75 Anos 1.8 AT</td>\n",
       "    </tr>\n",
       "    <tr>\n",
       "      <th>12111</th>\n",
       "      <td>Jeep</td>\n",
       "      <td>Renegade WSL 1.8 AT</td>\n",
       "    </tr>\n",
       "    <tr>\n",
       "      <th>1860</th>\n",
       "      <td>Renault</td>\n",
       "      <td>Duster Tech Road 2.0 AT</td>\n",
       "    </tr>\n",
       "    <tr>\n",
       "      <th>1271</th>\n",
       "      <td>Renault</td>\n",
       "      <td>Duster Dynamique 2.0 AT</td>\n",
       "    </tr>\n",
       "    <tr>\n",
       "      <th>18006</th>\n",
       "      <td>Jeep</td>\n",
       "      <td>Renegade 80 Anos 1.8 AT</td>\n",
       "    </tr>\n",
       "    <tr>\n",
       "      <th>7057</th>\n",
       "      <td>Hyundai</td>\n",
       "      <td>Creta Pulse 2.0 AT</td>\n",
       "    </tr>\n",
       "    <tr>\n",
       "      <th>7058</th>\n",
       "      <td>Hyundai</td>\n",
       "      <td>Creta Prestige 2.0 AT</td>\n",
       "    </tr>\n",
       "  </tbody>\n",
       "</table>\n",
       "</div>"
      ],
      "text/plain": [
       "         car_manufacturer                        car_model\n",
       "car_code                                                  \n",
       "6870                 Jeep          Renegade Limited 1.8 AT\n",
       "8087                 Jeep      Renegade Night Eagle 1.8 AT\n",
       "2605                 Jeep        Renegade Longitude 1.8 AT\n",
       "4425                 Jeep  Renegade Limited Edition 1.8 AT\n",
       "2603                 Jeep            Renegade Sport 1.8 AT\n",
       "6299                 Jeep          Renegade 75 Anos 1.8 AT\n",
       "12111                Jeep              Renegade WSL 1.8 AT\n",
       "1860              Renault          Duster Tech Road 2.0 AT\n",
       "1271              Renault          Duster Dynamique 2.0 AT\n",
       "18006                Jeep          Renegade 80 Anos 1.8 AT\n",
       "7057              Hyundai               Creta Pulse 2.0 AT\n",
       "7058              Hyundai            Creta Prestige 2.0 AT"
      ]
     },
     "execution_count": 2,
     "metadata": {},
     "output_type": "execute_result"
    }
   ],
   "source": [
    "show_similar_cars(6870)"
   ]
  },
  {
   "cell_type": "code",
   "execution_count": 5,
   "metadata": {},
   "outputs": [],
   "source": [
    "car_features_pr_pred_df = pd.read_csv('/home/marcnaweb/code/marcnaweb/car_recommendation_engine/raw_data/car_features_pr_pred_v2.csv')\n",
    "unique_car_models_df = pd.read_csv('/home/marcnaweb/code/marcnaweb/car_recommendation_engine/raw_data/unique_car_models_df.csv')"
   ]
  },
  {
   "cell_type": "code",
   "execution_count": 15,
   "metadata": {},
   "outputs": [
    {
     "data": {
      "text/plain": [
       "'Jeep'"
      ]
     },
     "execution_count": 15,
     "metadata": {},
     "output_type": "execute_result"
    }
   ],
   "source": [
    "car_features_pr_pred_df[car_features_pr_pred_df['car_code'] == 6870]['car_manufacturer'].values[0]"
   ]
  },
  {
   "cell_type": "code",
   "execution_count": 7,
   "metadata": {},
   "outputs": [
    {
     "data": {
      "text/plain": [
       "Index(['car_code', 'Propulsion_Combustion', 'Propulsion_Electric',\n",
       "       'Propulsion_Hybrid', 'Propulsion_Light Hybrid',\n",
       "       'Propulsion_Plug-in hybrid', 'Car gearbox_Automated',\n",
       "       'Car gearbox_Automatic', 'Car gearbox_CVT', 'Car gearbox_Manual',\n",
       "       ...\n",
       "       'Unit displacement', 'Trunk', 'USB connection',\n",
       "       'Gear speed transmissions', 'Urban', 'Year', 'Radio',\n",
       "       'Folding rear seat', 'Perimeter anti theft alarm', 'car_model'],\n",
       "      dtype='object', length=102)"
      ]
     },
     "execution_count": 7,
     "metadata": {},
     "output_type": "execute_result"
    }
   ],
   "source": [
    "unique_car_models_df.columns"
   ]
  },
  {
   "cell_type": "code",
   "execution_count": 10,
   "metadata": {},
   "outputs": [],
   "source": [
    "mylist = [20770, 21619, 23107, 23876, 23877, 20131, 20132, 17947, 17946, 8251, 14940, 14941, 8250, 12868, 12869, 12871, 3358, 3360, 20593, 23279, 18155, 18156, 20134, 17669, 13760, 19584, 15625, 15624, 12334, 11745]"
   ]
  },
  {
   "cell_type": "code",
   "execution_count": null,
   "metadata": {},
   "outputs": [],
   "source": []
  },
  {
   "cell_type": "code",
   "execution_count": 11,
   "metadata": {},
   "outputs": [],
   "source": [
    "mylist.insert(0, mylist.pop(mylist.index(23876)))"
   ]
  },
  {
   "cell_type": "code",
   "execution_count": 12,
   "metadata": {},
   "outputs": [
    {
     "data": {
      "text/plain": [
       "[23876,\n",
       " 20770,\n",
       " 21619,\n",
       " 23107,\n",
       " 23877,\n",
       " 20131,\n",
       " 20132,\n",
       " 17947,\n",
       " 17946,\n",
       " 8251,\n",
       " 14940,\n",
       " 14941,\n",
       " 8250,\n",
       " 12868,\n",
       " 12869,\n",
       " 12871,\n",
       " 3358,\n",
       " 3360,\n",
       " 20593,\n",
       " 23279,\n",
       " 18155,\n",
       " 18156,\n",
       " 20134,\n",
       " 17669,\n",
       " 13760,\n",
       " 19584,\n",
       " 15625,\n",
       " 15624,\n",
       " 12334,\n",
       " 11745]"
      ]
     },
     "execution_count": 12,
     "metadata": {},
     "output_type": "execute_result"
    }
   ],
   "source": [
    "mylist"
   ]
  },
  {
   "cell_type": "code",
   "execution_count": null,
   "metadata": {},
   "outputs": [],
   "source": []
  }
 ],
 "metadata": {
  "kernelspec": {
   "display_name": "car_recommendation_engine",
   "language": "python",
   "name": "python3"
  },
  "language_info": {
   "codemirror_mode": {
    "name": "ipython",
    "version": 3
   },
   "file_extension": ".py",
   "mimetype": "text/x-python",
   "name": "python",
   "nbconvert_exporter": "python",
   "pygments_lexer": "ipython3",
   "version": "3.10.6"
  }
 },
 "nbformat": 4,
 "nbformat_minor": 2
}
